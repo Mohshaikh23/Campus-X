{
  "nbformat": 4,
  "nbformat_minor": 0,
  "metadata": {
    "colab": {
      "provenance": []
    },
    "kernelspec": {
      "name": "python3",
      "display_name": "Python 3"
    },
    "language_info": {
      "name": "python"
    }
  },
  "cells": [
    {
      "cell_type": "markdown",
      "source": [
        "# Task : Session 1\n",
        "Solve these questions own your own and try to test yourself what you have learned in the session.\n",
        "\n",
        "Happy Learning!"
      ],
      "metadata": {
        "id": "A05OG15VqOPF"
      }
    },
    {
      "cell_type": "markdown",
      "source": [
        "### Q1 :- Print the given strings as per stated format.\n",
        "\n",
        "**Given strings**:\n",
        "```\n",
        "\"Data\" \"Science\" \"Mentorship\" \"Program\"\n",
        "\"By\" \"CampusX\"\n",
        "```\n",
        "**Output**:\n",
        "```\n",
        "Data-Science-Mentorship-Program-started-By-CampusX\n",
        "```\n",
        "\n",
        "Concept- [Seperator and End]"
      ],
      "metadata": {
        "id": "2doIXf8bqe9_"
      }
    },
    {
      "cell_type": "code",
      "source": [
        "# Write your code here\n",
        "text_1 = \"Data\"\n",
        "text_2 = \"Science\"\n",
        "text_3 = \"Mentorship\"\n",
        "text_4 = \"Program\"\n",
        "text_5 = \"By\"\n",
        "text_6 = \"CampusX\"\n",
        "\n",
        "print(text_1, text_2, text_3, text_4, \"started\", text_5,text_6,sep='-')"
      ],
      "metadata": {
        "id": "-em6d3KErDtp",
        "outputId": "95873e6d-5a85-4759-c101-470fe6229236",
        "colab": {
          "base_uri": "https://localhost:8080/"
        }
      },
      "execution_count": 23,
      "outputs": [
        {
          "output_type": "stream",
          "name": "stdout",
          "text": [
            "Data-Science-Mentorship-Program-started-By-CampusX\n"
          ]
        }
      ]
    },
    {
      "cell_type": "markdown",
      "source": [
        "### Q2:- Write a program that will convert celsius value to fahrenheit."
      ],
      "metadata": {
        "id": "1KUpN7ZTrC3_"
      }
    },
    {
      "cell_type": "code",
      "source": [
        "# Write your code here\n",
        "celsius_temp = int(input(\"Enter the temperature in Celsius - \"))\n",
        "print(\"The temperature to be converted - \", celsius_temp, \"°C\")\n",
        "\n",
        "Fahrenheit_temp = (celsius_temp * 1.8) + 32\n",
        "print(\"The converted temperature is \", Fahrenheit_temp, \"°F\")"
      ],
      "metadata": {
        "id": "yxKYhYQiqWfj",
        "outputId": "508644d8-7448-4f68-c4ce-a59aa5c4d652",
        "colab": {
          "base_uri": "https://localhost:8080/"
        }
      },
      "execution_count": 24,
      "outputs": [
        {
          "output_type": "stream",
          "name": "stdout",
          "text": [
            "Enter the temperature in Celsius - 10\n",
            "The temperature to be converted -  10 °C\n",
            "The converted temperature is  50.0 °F\n"
          ]
        }
      ]
    },
    {
      "cell_type": "markdown",
      "source": [
        "### Q3:- Take 2 numbers as input from the user.Write a program to swap the numbers without using any special python syntax."
      ],
      "metadata": {
        "id": "RLrOBBJurLB2"
      }
    },
    {
      "cell_type": "code",
      "source": [
        "# Write your code here\n",
        "a, b = 10,20\n",
        "print(\"Value of a = \", a, \"Value of b = \", b)\n",
        "\n",
        "b,a = 10,20\n",
        "print(\"Value of a = \", a, \"Value of b = \", b)"
      ],
      "metadata": {
        "id": "yPn7if0TrJ4F",
        "outputId": "8c757ba3-4152-4464-b329-959cc9ae0cb2",
        "colab": {
          "base_uri": "https://localhost:8080/"
        }
      },
      "execution_count": 25,
      "outputs": [
        {
          "output_type": "stream",
          "name": "stdout",
          "text": [
            "Value of a =  10 Value of b =  20\n",
            "Value of a =  20 Value of b =  10\n"
          ]
        }
      ]
    },
    {
      "cell_type": "markdown",
      "source": [
        "### Q4:- Write a program to find the euclidean distance between two coordinates.Take both the coordinates from the user as input."
      ],
      "metadata": {
        "id": "waLCP1bjr7ML"
      }
    },
    {
      "cell_type": "code",
      "source": [
        "# Write your code here\n",
        "import math\n",
        "p = [int(input(\"Enter the first point - \"))]\n",
        "q = [int(input(\"Enter the second point - \"))]\n",
        "\n",
        "print(\"The Eucledian distance between {} and {} is {} units\".format(p, q, math.dist(p, q)))"
      ],
      "metadata": {
        "id": "Pl1Sv-xnrxnH",
        "outputId": "f371ee2f-33ca-415e-c6c8-8553bb5e8bc4",
        "colab": {
          "base_uri": "https://localhost:8080/"
        }
      },
      "execution_count": 26,
      "outputs": [
        {
          "output_type": "stream",
          "name": "stdout",
          "text": [
            "Enter the first point - 10\n",
            "Enter the second point - 20\n",
            "The Eucledian distance between [10] and [20] is 10.0 units\n"
          ]
        }
      ]
    },
    {
      "cell_type": "code",
      "source": [
        "# Write your code here\n",
        "import math\n",
        "p = [int(input())]\n",
        "q = [int(input())]\n",
        "\n",
        "eucledian_distance = math.sqrt(sum((px - qx) ** 2.0 for px, qx in zip(p, q)))\n",
        "\n",
        "print(\"The Eucledian distance between {} and {} is {} units\".format(p, q, eucledian_distance))"
      ],
      "metadata": {
        "id": "0XWtByU5pCgq",
        "outputId": "30907596-cc5a-43d1-ed15-142a87659b13",
        "colab": {
          "base_uri": "https://localhost:8080/"
        }
      },
      "execution_count": 27,
      "outputs": [
        {
          "output_type": "stream",
          "name": "stdout",
          "text": [
            "10\n",
            "20\n",
            "The Eucledian distance between [10] and [20] is 10.0 units\n"
          ]
        }
      ]
    },
    {
      "cell_type": "code",
      "source": [
        "from IPython.display import IFrame\n",
        "\n",
        "IFrame(src='https://pythontutor.com/render.html#code=import%20math%20%0Ap%20%3D%20%5Bint%28input%28%29%29%5D%0Aq%20%3D%20%5Bint%28input%28%29%29%5D%0A%0Aeucledian_distance%20%3D%20math.sqrt%28sum%28%28px%20-%20qx%29%20**%202.0%20for%20px,%20qx%20in%20zip%28p,%20q%29%29%29%0A%0Aprint%28%22The%20Eucledian%20distance%20between%20%7B%7D%20and%20%7B%7D%20is%20%7B%7D%20units%22.format%28p,%20q,%20eucledian_distance%29%29&cumulative=false&curInstr=7&heapPrimitives=nevernest&mode=display&origin=opt-frontend.js&py=311&rawInputLstJSON=%5B%2210%22,%2220%22%5D&textReferences=false',\n",
        "       width=1000,\n",
        "       height=600)"
      ],
      "metadata": {
        "id": "fIw2KwTZqAAS",
        "outputId": "1cc1779f-43e0-4b27-975b-fcdcaf528d96",
        "colab": {
          "base_uri": "https://localhost:8080/",
          "height": 642
        }
      },
      "execution_count": 28,
      "outputs": [
        {
          "output_type": "execute_result",
          "data": {
            "text/plain": [
              "<IPython.lib.display.IFrame at 0x7dbb0f80d180>"
            ],
            "text/html": [
              "\n",
              "        <iframe\n",
              "            width=\"1000\"\n",
              "            height=\"600\"\n",
              "            src=\"https://pythontutor.com/render.html#code=import%20math%20%0Ap%20%3D%20%5Bint%28input%28%29%29%5D%0Aq%20%3D%20%5Bint%28input%28%29%29%5D%0A%0Aeucledian_distance%20%3D%20math.sqrt%28sum%28%28px%20-%20qx%29%20**%202.0%20for%20px,%20qx%20in%20zip%28p,%20q%29%29%29%0A%0Aprint%28%22The%20Eucledian%20distance%20between%20%7B%7D%20and%20%7B%7D%20is%20%7B%7D%20units%22.format%28p,%20q,%20eucledian_distance%29%29&cumulative=false&curInstr=7&heapPrimitives=nevernest&mode=display&origin=opt-frontend.js&py=311&rawInputLstJSON=%5B%2210%22,%2220%22%5D&textReferences=false\"\n",
              "            frameborder=\"0\"\n",
              "            allowfullscreen\n",
              "            \n",
              "        ></iframe>\n",
              "        "
            ]
          },
          "metadata": {},
          "execution_count": 28
        }
      ]
    },
    {
      "cell_type": "markdown",
      "source": [
        "### Q5:- Write a program to find the simple interest when the value of principle,rate of interest and time period is provided by the user."
      ],
      "metadata": {
        "id": "VLrhg-FRsHjR"
      }
    },
    {
      "cell_type": "code",
      "source": [
        "# Write your code here\n",
        "principle_amount = float(input(\"Enter the Principle Amount - \"))\n",
        "period = float(input(\"Enter the Period/tenure (in months)- \"))\n",
        "rate_of_interest = float(input(\"Enter the rate of Interest - \"))\n",
        "print(\"\\n\")\n",
        "print('The principal is', principle_amount,\"INR\")\n",
        "print('The time period is', period, \"months\")\n",
        "print('The rate of interest is',rate_of_interest,\"% p.a.\")\n",
        "print(\"\\n\")\n",
        "simple_interest = (principle_amount * period * rate_of_interest)/100\n",
        "print('The Simple Interest is', simple_interest, \"INR\")"
      ],
      "metadata": {
        "id": "s40DlReZsTmY",
        "outputId": "1d8677e2-25c8-4dc2-e35a-58067f52cfd6",
        "colab": {
          "base_uri": "https://localhost:8080/"
        }
      },
      "execution_count": 29,
      "outputs": [
        {
          "output_type": "stream",
          "name": "stdout",
          "text": [
            "Enter the Principle Amount - 10000\n",
            "Enter the Period/tenure (in months)- 5\n",
            "Enter the rate of Interest - 5\n",
            "\n",
            "\n",
            "The principal is 10000.0 INR\n",
            "The time period is 5.0 months\n",
            "The rate of interest is 5.0 % p.a.\n",
            "\n",
            "\n",
            "The Simple Interest is 2500.0 INR\n"
          ]
        }
      ]
    },
    {
      "cell_type": "markdown",
      "source": [
        "### Q6:- Write a program that will tell the number of dogs and chicken are there when the user will provide the value of total heads and legs.\n",
        "\n",
        "For example:\n",
        "Input:\n",
        "heads -> 4\n",
        "legs -> 12\n",
        "<br>\n",
        "Output:\n",
        "dogs -> 2\n",
        "chicken -> 2\n",
        "\n",
        "\n",
        "\n"
      ],
      "metadata": {
        "id": "LMy0BTUktYKa"
      }
    },
    {
      "cell_type": "code",
      "source": [
        "# Write your code here\n",
        "heads = int(input(\"Enter the number of heads - \"))\n",
        "legs = int(input(\"Enter the number of legs - \"))\n",
        "\n",
        " # Calculate the number of chickens (assuming all are chickens initially)\n",
        "chickens = heads\n",
        "\n",
        "# Calculate the number of dogs\n",
        "dogs = 0\n",
        "while chickens * 2 + dogs * 4 != legs:\n",
        "    chickens -= 1\n",
        "    dogs += 1\n",
        "\n",
        "# Check if the solution is valid\n",
        "if chickens >= 0 and dogs >= 0 and chickens * 2 + dogs * 4 == legs:\n",
        "    print(f'dogs -> {dogs}\\nchickens -> {chickens}')\n",
        "else:\n",
        "    print('Invalid input! No solution found.')"
      ],
      "metadata": {
        "id": "XSBvJoA4tXaG",
        "outputId": "730cfad6-2777-4bed-e6a9-e49a01f667d5",
        "colab": {
          "base_uri": "https://localhost:8080/"
        }
      },
      "execution_count": 30,
      "outputs": [
        {
          "output_type": "stream",
          "name": "stdout",
          "text": [
            "Enter the number of heads - 4\n",
            "Enter the number of legs - 12\n",
            "dogs -> 2\n",
            "chickens -> 2\n"
          ]
        }
      ]
    },
    {
      "cell_type": "markdown",
      "source": [
        "### Q7:- Write a program to find the sum of squares of first n natural numbers where n will be provided by the user."
      ],
      "metadata": {
        "id": "gJ7C5kZYt4BP"
      }
    },
    {
      "cell_type": "code",
      "source": [
        "# Write your code here\n",
        "n = int(input(\"Enter the number till which you require sum of squares - \"))\n",
        "\n",
        "sum_squares = sum(i**2 for i in range(1, n + 1))\n",
        "print(f\"The sum of squares of natural numbers till {n} is {sum_squares}\")"
      ],
      "metadata": {
        "id": "_tHsmEHzt2nX",
        "outputId": "ac7bd070-9ac9-4bcc-b839-b25ad499c0b4",
        "colab": {
          "base_uri": "https://localhost:8080/"
        }
      },
      "execution_count": 31,
      "outputs": [
        {
          "output_type": "stream",
          "name": "stdout",
          "text": [
            "Enter the number till which you require sum of squares - 10\n",
            "The sum of squares of natural numbers till 10 is 385\n"
          ]
        }
      ]
    },
    {
      "cell_type": "markdown",
      "source": [
        "### Q8:- Given the first 2 terms of an Arithmetic Series.Find the Nth term of the series. Assume all inputs are provided by the user."
      ],
      "metadata": {
        "id": "FHrMM7g-yG1h"
      }
    },
    {
      "cell_type": "code",
      "source": [
        "# Write your code here\n",
        "first_num = int(input(\"Enter first term - \"))\n",
        "second_num = int(input(\"Enter second term- \"))\n",
        "\n",
        "# Calculate the common difference\n",
        "d = second_num - first_num\n",
        "print(f\"The distance between {first_num} and {second_num} is {d} units\")\n",
        "\n",
        "# Calculate the nth term\n",
        "nth_term = first_num + (n - 1) * d\n",
        "\n",
        "print(f\"The {d}th term of this series is {nth_term}\")"
      ],
      "metadata": {
        "id": "go4_kmZmyVSx",
        "colab": {
          "base_uri": "https://localhost:8080/"
        },
        "outputId": "31c3709d-117e-40ae-b7c0-b12a5f07bd2b"
      },
      "execution_count": 32,
      "outputs": [
        {
          "output_type": "stream",
          "name": "stdout",
          "text": [
            "Enter first term - 2\n",
            "Enter second term- 12\n",
            "The distance between 2 and 12 is 10 units\n",
            "The 10th term of this series is 92\n"
          ]
        }
      ]
    },
    {
      "cell_type": "markdown",
      "source": [
        "### Q9:- Given 2 fractions, find the sum of those 2 fractions.Take the numerator and denominator values of the fractions from the user."
      ],
      "metadata": {
        "id": "QgyRX_es1oum"
      }
    },
    {
      "cell_type": "code",
      "source": [
        "# Write your code here\n",
        "num1 = int(input(\"Enter the first fraction's numerator - \"))\n",
        "den1 = int(input(\"Enter the first fraction's denominator - \"))\n",
        "\n",
        "num2 = int(input(\"Enter the second fraction's numerator - \"))\n",
        "den2 = int(input(\"Enter the second fraction's denominator - \"))\n",
        "\n",
        "sum_of_fraction = num1/den1 + num2/den2\n",
        "print(f\"The sum of the Fractions of {num1}/{den1} and {num2}/{den2} is {sum_of_fraction}\")"
      ],
      "metadata": {
        "id": "X05xqFS1yW16",
        "outputId": "cbaf71f9-eb31-4826-e5be-e6cc5e8da78f",
        "colab": {
          "base_uri": "https://localhost:8080/"
        }
      },
      "execution_count": 33,
      "outputs": [
        {
          "output_type": "stream",
          "name": "stdout",
          "text": [
            "Enter the first fraction's numerator - 1\n",
            "Enter the first fraction's denominator - 2\n",
            "Enter the second fraction's numerator - 1\n",
            "Enter the second fraction's denominator - 2\n",
            "The sum of the Fractions of 1/2 and 1/2 is 1.0\n"
          ]
        }
      ]
    },
    {
      "cell_type": "markdown",
      "source": [
        "### Q10:- Given the height, width and breadth of a milk tank, you have to find out how many glasses of milk can be obtained? Assume all the inputs are provided by the user.\n",
        "\n",
        "\n",
        "\n",
        "Input:<br>\n",
        "Dimensions of the milk tank<br>\n",
        "H = 20cm, L = 20cm, B = 20cm\n",
        "<br><br>\n",
        "Dimensions of the glass<br>\n",
        "h = 3cm, r = 1cm"
      ],
      "metadata": {
        "id": "eaql38ln13u7"
      }
    },
    {
      "cell_type": "code",
      "source": [
        "# Write your code here\n",
        "# Get user input for the dimensions of the milk tank and the glass\n",
        "h_tank = float(input(\"Enter the height of the milk tank (in cm): \"))\n",
        "l_tank = float(input(\"Enter the length of the milk tank (in cm): \"))\n",
        "b_tank = float(input(\"Enter the breadth of the milk tank (in cm): \"))\n",
        "\n",
        "h_glass = float(input(\"Enter the height of the glass (in cm): \"))\n",
        "r_glass = float(input(\"Enter the radius of the glass (in cm): \"))\n",
        "\n",
        "\n",
        "# Calculate the volume of the milk tank\n",
        "volume_tank = h_tank * l_tank * b_tank\n",
        "\n",
        "# Calculate the volume of the glass (cylinder)\n",
        "volume_glass = math.pi * r_glass**2 * h_glass\n",
        "\n",
        "# Calculate the number of glasses that can be obtained\n",
        "glasses = volume_tank // volume_glass\n",
        "\n",
        "print(f\"The tank can store {glasses} glasses of milk in it\" )"
      ],
      "metadata": {
        "id": "FePZqno74eWv",
        "outputId": "9fbe676b-8575-42ba-9b79-7b31e82b1126",
        "colab": {
          "base_uri": "https://localhost:8080/"
        }
      },
      "execution_count": 35,
      "outputs": [
        {
          "output_type": "stream",
          "name": "stdout",
          "text": [
            "Enter the height of the milk tank (in cm): 20\n",
            "Enter the length of the milk tank (in cm): 20\n",
            "Enter the breadth of the milk tank (in cm): 20\n",
            "Enter the height of the glass (in cm): 3\n",
            "Enter the radius of the glass (in cm): 1\n",
            "The tank can store 848.0 glasses of milk in it\n"
          ]
        }
      ]
    }
  ]
}