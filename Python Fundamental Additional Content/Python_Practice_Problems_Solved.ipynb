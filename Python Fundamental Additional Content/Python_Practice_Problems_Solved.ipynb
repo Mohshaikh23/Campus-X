{
 "cells": [
  {
   "cell_type": "markdown",
   "id": "1f538c05-dd22-4db3-8061-c7e19275e104",
   "metadata": {},
   "source": [
    "Problem-1: Breaking the records.\n",
    "Maria plays college basketball and wants to go pro. Each season she maintains a record of her play. She tabulates the number of times she breaks her season record for most points and least points in a game. Points scored in the first game establish her record for the season, and she begins counting from there.\n",
    "Example\n",
    "scores = [12, 24, 10, 24]\n",
    "Scores are in the same order as the games played. She tabulates her results as follows:\n",
    "Game\tScore\tMinimum\tMaximum\tCount Min\tCount Max\n",
    "0\t12\t12\t12\t0\t0\n",
    "1\t24\t12\t24\t0\t1\n",
    "2\t10\t10\t24\t1\t1\n",
    "3\t24\t10\t24\t1\t1\n",
    "Given the scores for a season, determine the number of times Maria breaks her records for most and least points scored during the season.\n",
    "Function Description\n",
    "Complete the breakingRecords function in the editor below.\n",
    "breakingRecords has the following parameter(s):\n",
    "\tn: no of games\n",
    "\tint scores[n]: points scored per game\n",
    "Returns\n",
    "\tint[2]: An array with the numbers of times she broke her records. Index 0 is for breaking most points records, and index 1 is for breaking least points records.\n",
    "Input Formatm\n",
    "n, the number of games. Integers array osf scores describing the respective values of score_0,score_1,score_2,...,score_(n-1).\n",
    "Constraints\n",
    "\t1<=n<=1000\n",
    "\t0<=scores[i]<=10^8\n",
    "Sample Input 0\n",
    "10 5 20 20 4 5 2 25 1\n",
    "\n",
    "Sample Output 0\n",
    "2 4\n",
    "Explanation 0\n",
    "The diagram below depicts the number of times Maria broke her best and worst records throughout the season:\n",
    "Games\t0\t1\t2\t3\t4\t5\t6\t7\t8\n",
    "Score\t10\t5\t20\t20\t4\t5\t2\t25\t1\n",
    "Highest Score\t10\t10\t20\t20\t20\t20\t20\t25\t25\n",
    "Lowest Score\t10\t5\t5\t5\t4\t4\t2\t2\t1\n",
    "She broke her best record twice (after games 2 and 7) and her worst record four times (after games 1, 4, 6, and 8), so we print 2 4 as our answer. Note that she did not break her record for best score during game 3, as her score during that game was not strictly greater than her best record at the time.\n",
    "\n"
   ]
  },
  {
   "cell_type": "code",
   "execution_count": 27,
   "id": "3063b886-4ce1-4bd0-8de8-6c19119aa8f8",
   "metadata": {},
   "outputs": [
    {
     "data": {
      "text/plain": [
       "[2, 4]"
      ]
     },
     "execution_count": 27,
     "metadata": {},
     "output_type": "execute_result"
    }
   ],
   "source": [
    "def highscore_marking(n,li):\n",
    "    result =[0,0]\n",
    "    t= li[0]\n",
    "    a= t\n",
    "    b= t\n",
    "    for i in li:\n",
    "        if i >a:\n",
    "            result[0] = result[0]+1\n",
    "            a = i\n",
    "        if i<b:\n",
    "            result[1] = result[1]+1\n",
    "            b=i\n",
    "    return result\n",
    "\n",
    "li =[10,5,20,20,4,5,2,25,1]\n",
    "n=len(li)\n",
    "\n",
    "highscore_marking(n,li)"
   ]
  },
  {
   "cell_type": "markdown",
   "id": "3399c146-9953-4cdd-b961-ed9612026e40",
   "metadata": {},
   "source": [
    "### `Problem-2:` Student management system in Python\n",
    "\n",
    "Write a program to build a simple Student Management System using Python which can perform the following operations:\n",
    "1. **Accept -** This method takes details from the user like name, roll number, and marks for two different subjects.\n",
    "2. **Display -** This method displays the details of every student.\n",
    "3. **Search -** This method searches for a particular student from the list of students. This method will ask the user for roll number and then search according to the roll number\n",
    "4. **Delete -** This method deletes the record of a particular student with a matching roll number.\n",
    "5. **Update -**  This method updates the roll number of the student. This method will ask for the old roll number and new roll number. It will replace the old roll number with a new roll number."
   ]
  },
  {
   "cell_type": "code",
   "execution_count": null,
   "id": "64b845e4-642a-415d-851a-a5f307ba5fb9",
   "metadata": {},
   "outputs": [],
   "source": []
  }
 ],
 "metadata": {
  "kernelspec": {
   "display_name": "Python 3 (ipykernel)",
   "language": "python",
   "name": "python3"
  },
  "language_info": {
   "codemirror_mode": {
    "name": "ipython",
    "version": 3
   },
   "file_extension": ".py",
   "mimetype": "text/x-python",
   "name": "python",
   "nbconvert_exporter": "python",
   "pygments_lexer": "ipython3",
   "version": "3.10.11"
  }
 },
 "nbformat": 4,
 "nbformat_minor": 5
}
