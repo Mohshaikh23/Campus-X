{
 "cells": [
  {
   "cell_type": "code",
   "execution_count": 1,
   "metadata": {},
   "outputs": [],
   "source": [
    "import numpy as np\n",
    "import pandas as pd"
   ]
  },
  {
   "cell_type": "code",
   "execution_count": 2,
   "metadata": {
    "colab": {
     "base_uri": "https://localhost:8080/"
    },
    "id": "L1QoFCFJBd1y",
    "outputId": "7b38d924-4eaa-4387-cf7d-f145f66df8d8"
   },
   "outputs": [
    {
     "data": {
      "text/plain": [
       "array([-10.,  -9.,  -8.,  -7.,  -6.,  -5.,  -4.,  -3.,  -2.,  -1.,   0.,\n",
       "         1.,   2.,   3.,   4.,   5.,   6.,   7.,   8.,   9.])"
      ]
     },
     "execution_count": 2,
     "metadata": {},
     "output_type": "execute_result"
    }
   ],
   "source": [
    "# plotting 3D graphs\n",
    "# meshgrids\n",
    "a = np.linspace(-10,9,20)\n",
    "b = np.linspace(-10,9,20)\n",
    "b"
   ]
  },
  {
   "cell_type": "code",
   "execution_count": 3,
   "metadata": {
    "colab": {
     "base_uri": "https://localhost:8080/"
    },
    "id": "VkQ-UJtbwRqC",
    "outputId": "b8db45a4-babf-4f35-d17e-dda27f82ebea"
   },
   "outputs": [
    {
     "data": {
      "text/plain": [
       "array([[-10., -10., -10., -10., -10., -10., -10., -10., -10., -10., -10.,\n",
       "        -10., -10., -10., -10., -10., -10., -10., -10., -10.],\n",
       "       [ -9.,  -9.,  -9.,  -9.,  -9.,  -9.,  -9.,  -9.,  -9.,  -9.,  -9.,\n",
       "         -9.,  -9.,  -9.,  -9.,  -9.,  -9.,  -9.,  -9.,  -9.],\n",
       "       [ -8.,  -8.,  -8.,  -8.,  -8.,  -8.,  -8.,  -8.,  -8.,  -8.,  -8.,\n",
       "         -8.,  -8.,  -8.,  -8.,  -8.,  -8.,  -8.,  -8.,  -8.],\n",
       "       [ -7.,  -7.,  -7.,  -7.,  -7.,  -7.,  -7.,  -7.,  -7.,  -7.,  -7.,\n",
       "         -7.,  -7.,  -7.,  -7.,  -7.,  -7.,  -7.,  -7.,  -7.],\n",
       "       [ -6.,  -6.,  -6.,  -6.,  -6.,  -6.,  -6.,  -6.,  -6.,  -6.,  -6.,\n",
       "         -6.,  -6.,  -6.,  -6.,  -6.,  -6.,  -6.,  -6.,  -6.],\n",
       "       [ -5.,  -5.,  -5.,  -5.,  -5.,  -5.,  -5.,  -5.,  -5.,  -5.,  -5.,\n",
       "         -5.,  -5.,  -5.,  -5.,  -5.,  -5.,  -5.,  -5.,  -5.],\n",
       "       [ -4.,  -4.,  -4.,  -4.,  -4.,  -4.,  -4.,  -4.,  -4.,  -4.,  -4.,\n",
       "         -4.,  -4.,  -4.,  -4.,  -4.,  -4.,  -4.,  -4.,  -4.],\n",
       "       [ -3.,  -3.,  -3.,  -3.,  -3.,  -3.,  -3.,  -3.,  -3.,  -3.,  -3.,\n",
       "         -3.,  -3.,  -3.,  -3.,  -3.,  -3.,  -3.,  -3.,  -3.],\n",
       "       [ -2.,  -2.,  -2.,  -2.,  -2.,  -2.,  -2.,  -2.,  -2.,  -2.,  -2.,\n",
       "         -2.,  -2.,  -2.,  -2.,  -2.,  -2.,  -2.,  -2.,  -2.],\n",
       "       [ -1.,  -1.,  -1.,  -1.,  -1.,  -1.,  -1.,  -1.,  -1.,  -1.,  -1.,\n",
       "         -1.,  -1.,  -1.,  -1.,  -1.,  -1.,  -1.,  -1.,  -1.],\n",
       "       [  0.,   0.,   0.,   0.,   0.,   0.,   0.,   0.,   0.,   0.,   0.,\n",
       "          0.,   0.,   0.,   0.,   0.,   0.,   0.,   0.,   0.],\n",
       "       [  1.,   1.,   1.,   1.,   1.,   1.,   1.,   1.,   1.,   1.,   1.,\n",
       "          1.,   1.,   1.,   1.,   1.,   1.,   1.,   1.,   1.],\n",
       "       [  2.,   2.,   2.,   2.,   2.,   2.,   2.,   2.,   2.,   2.,   2.,\n",
       "          2.,   2.,   2.,   2.,   2.,   2.,   2.,   2.,   2.],\n",
       "       [  3.,   3.,   3.,   3.,   3.,   3.,   3.,   3.,   3.,   3.,   3.,\n",
       "          3.,   3.,   3.,   3.,   3.,   3.,   3.,   3.,   3.],\n",
       "       [  4.,   4.,   4.,   4.,   4.,   4.,   4.,   4.,   4.,   4.,   4.,\n",
       "          4.,   4.,   4.,   4.,   4.,   4.,   4.,   4.,   4.],\n",
       "       [  5.,   5.,   5.,   5.,   5.,   5.,   5.,   5.,   5.,   5.,   5.,\n",
       "          5.,   5.,   5.,   5.,   5.,   5.,   5.,   5.,   5.],\n",
       "       [  6.,   6.,   6.,   6.,   6.,   6.,   6.,   6.,   6.,   6.,   6.,\n",
       "          6.,   6.,   6.,   6.,   6.,   6.,   6.,   6.,   6.],\n",
       "       [  7.,   7.,   7.,   7.,   7.,   7.,   7.,   7.,   7.,   7.,   7.,\n",
       "          7.,   7.,   7.,   7.,   7.,   7.,   7.,   7.,   7.],\n",
       "       [  8.,   8.,   8.,   8.,   8.,   8.,   8.,   8.,   8.,   8.,   8.,\n",
       "          8.,   8.,   8.,   8.,   8.,   8.,   8.,   8.,   8.],\n",
       "       [  9.,   9.,   9.,   9.,   9.,   9.,   9.,   9.,   9.,   9.,   9.,\n",
       "          9.,   9.,   9.,   9.,   9.,   9.,   9.,   9.,   9.]])"
      ]
     },
     "execution_count": 3,
     "metadata": {},
     "output_type": "execute_result"
    }
   ],
   "source": [
    "xx,yy = np.meshgrid(a,b)\n",
    "yy"
   ]
  },
  {
   "cell_type": "code",
   "execution_count": 4,
   "metadata": {
    "colab": {
     "base_uri": "https://localhost:8080/",
     "height": 282
    },
    "id": "4Qthq7evwjT5",
    "outputId": "334a4666-a83e-40fa-f68b-d19f4effe640"
   },
   "outputs": [
    {
     "data": {
      "text/plain": [
       "<matplotlib.collections.PathCollection at 0x1bf07ced6f0>"
      ]
     },
     "execution_count": 4,
     "metadata": {},
     "output_type": "execute_result"
    },
    {
     "data": {
      "image/png": "[encoded data removed]",
      "text/plain": [
       "<Figure size 640x480 with 1 Axes>"
      ]
     },
     "metadata": {},
     "output_type": "display_data"
    }
   ],
   "source": [
    "import matplotlib.pyplot as plt\n",
    "plt.scatter(xx,yy)"
   ]
  },
  {
   "cell_type": "code",
   "execution_count": 5,
   "metadata": {
    "colab": {
     "base_uri": "https://localhost:8080/"
    },
    "id": "m2PAMP2Ew66h",
    "outputId": "bc3e9af6-238c-4fdd-9886-11fc16ef3714"
   },
   "outputs": [
    {
     "name": "stderr",
     "output_type": "stream",
     "text": [
      "C:\\Users\\mohsi\\AppData\\Local\\Temp\\ipykernel_23776\\2199161784.py:2: RuntimeWarning: divide by zero encountered in log\n",
      "  return 3*np.log(x) + 2*y\n",
      "C:\\Users\\mohsi\\AppData\\Local\\Temp\\ipykernel_23776\\2199161784.py:2: RuntimeWarning: invalid value encountered in log\n",
      "  return 3*np.log(x) + 2*y\n"
     ]
    },
    {
     "data": {
      "text/plain": [
       "array([[         nan,          nan,          nan,          nan,\n",
       "                 nan,          nan,          nan,          nan,\n",
       "                 nan,          nan,         -inf, -20.        ,\n",
       "        -17.92055846, -16.70416313, -15.84111692, -15.17168626,\n",
       "        -14.62472159, -14.16226955, -13.76167537, -13.40832627],\n",
       "       [         nan,          nan,          nan,          nan,\n",
       "                 nan,          nan,          nan,          nan,\n",
       "                 nan,          nan,         -inf, -18.        ,\n",
       "        -15.92055846, -14.70416313, -13.84111692, -13.17168626,\n",
       "        -12.62472159, -12.16226955, -11.76167537, -11.40832627],\n",
       "       [         nan,          nan,          nan,          nan,\n",
       "                 nan,          nan,          nan,          nan,\n",
       "                 nan,          nan,         -inf, -16.        ,\n",
       "        -13.92055846, -12.70416313, -11.84111692, -11.17168626,\n",
       "        -10.62472159, -10.16226955,  -9.76167537,  -9.40832627],\n",
       "       [         nan,          nan,          nan,          nan,\n",
       "                 nan,          nan,          nan,          nan,\n",
       "                 nan,          nan,         -inf, -14.        ,\n",
       "        -11.92055846, -10.70416313,  -9.84111692,  -9.17168626,\n",
       "         -8.62472159,  -8.16226955,  -7.76167537,  -7.40832627],\n",
       "       [         nan,          nan,          nan,          nan,\n",
       "                 nan,          nan,          nan,          nan,\n",
       "                 nan,          nan,         -inf, -12.        ,\n",
       "         -9.92055846,  -8.70416313,  -7.84111692,  -7.17168626,\n",
       "         -6.62472159,  -6.16226955,  -5.76167537,  -5.40832627],\n",
       "       [         nan,          nan,          nan,          nan,\n",
       "                 nan,          nan,          nan,          nan,\n",
       "                 nan,          nan,         -inf, -10.        ,\n",
       "         -7.92055846,  -6.70416313,  -5.84111692,  -5.17168626,\n",
       "         -4.62472159,  -4.16226955,  -3.76167537,  -3.40832627],\n",
       "       [         nan,          nan,          nan,          nan,\n",
       "                 nan,          nan,          nan,          nan,\n",
       "                 nan,          nan,         -inf,  -8.        ,\n",
       "         -5.92055846,  -4.70416313,  -3.84111692,  -3.17168626,\n",
       "         -2.62472159,  -2.16226955,  -1.76167537,  -1.40832627],\n",
       "       [         nan,          nan,          nan,          nan,\n",
       "                 nan,          nan,          nan,          nan,\n",
       "                 nan,          nan,         -inf,  -6.        ,\n",
       "         -3.92055846,  -2.70416313,  -1.84111692,  -1.17168626,\n",
       "         -0.62472159,  -0.16226955,   0.23832463,   0.59167373],\n",
       "       [         nan,          nan,          nan,          nan,\n",
       "                 nan,          nan,          nan,          nan,\n",
       "                 nan,          nan,         -inf,  -4.        ,\n",
       "         -1.92055846,  -0.70416313,   0.15888308,   0.82831374,\n",
       "          1.37527841,   1.83773045,   2.23832463,   2.59167373],\n",
       "       [         nan,          nan,          nan,          nan,\n",
       "                 nan,          nan,          nan,          nan,\n",
       "                 nan,          nan,         -inf,  -2.        ,\n",
       "          0.07944154,   1.29583687,   2.15888308,   2.82831374,\n",
       "          3.37527841,   3.83773045,   4.23832463,   4.59167373],\n",
       "       [         nan,          nan,          nan,          nan,\n",
       "                 nan,          nan,          nan,          nan,\n",
       "                 nan,          nan,         -inf,   0.        ,\n",
       "          2.07944154,   3.29583687,   4.15888308,   4.82831374,\n",
       "          5.37527841,   5.83773045,   6.23832463,   6.59167373],\n",
       "       [         nan,          nan,          nan,          nan,\n",
       "                 nan,          nan,          nan,          nan,\n",
       "                 nan,          nan,         -inf,   2.        ,\n",
       "          4.07944154,   5.29583687,   6.15888308,   6.82831374,\n",
       "          7.37527841,   7.83773045,   8.23832463,   8.59167373],\n",
       "       [         nan,          nan,          nan,          nan,\n",
       "                 nan,          nan,          nan,          nan,\n",
       "                 nan,          nan,         -inf,   4.        ,\n",
       "          6.07944154,   7.29583687,   8.15888308,   8.82831374,\n",
       "          9.37527841,   9.83773045,  10.23832463,  10.59167373],\n",
       "       [         nan,          nan,          nan,          nan,\n",
       "                 nan,          nan,          nan,          nan,\n",
       "                 nan,          nan,         -inf,   6.        ,\n",
       "          8.07944154,   9.29583687,  10.15888308,  10.82831374,\n",
       "         11.37527841,  11.83773045,  12.23832463,  12.59167373],\n",
       "       [         nan,          nan,          nan,          nan,\n",
       "                 nan,          nan,          nan,          nan,\n",
       "                 nan,          nan,         -inf,   8.        ,\n",
       "         10.07944154,  11.29583687,  12.15888308,  12.82831374,\n",
       "         13.37527841,  13.83773045,  14.23832463,  14.59167373],\n",
       "       [         nan,          nan,          nan,          nan,\n",
       "                 nan,          nan,          nan,          nan,\n",
       "                 nan,          nan,         -inf,  10.        ,\n",
       "         12.07944154,  13.29583687,  14.15888308,  14.82831374,\n",
       "         15.37527841,  15.83773045,  16.23832463,  16.59167373],\n",
       "       [         nan,          nan,          nan,          nan,\n",
       "                 nan,          nan,          nan,          nan,\n",
       "                 nan,          nan,         -inf,  12.        ,\n",
       "         14.07944154,  15.29583687,  16.15888308,  16.82831374,\n",
       "         17.37527841,  17.83773045,  18.23832463,  18.59167373],\n",
       "       [         nan,          nan,          nan,          nan,\n",
       "                 nan,          nan,          nan,          nan,\n",
       "                 nan,          nan,         -inf,  14.        ,\n",
       "         16.07944154,  17.29583687,  18.15888308,  18.82831374,\n",
       "         19.37527841,  19.83773045,  20.23832463,  20.59167373],\n",
       "       [         nan,          nan,          nan,          nan,\n",
       "                 nan,          nan,          nan,          nan,\n",
       "                 nan,          nan,         -inf,  16.        ,\n",
       "         18.07944154,  19.29583687,  20.15888308,  20.82831374,\n",
       "         21.37527841,  21.83773045,  22.23832463,  22.59167373],\n",
       "       [         nan,          nan,          nan,          nan,\n",
       "                 nan,          nan,          nan,          nan,\n",
       "                 nan,          nan,         -inf,  18.        ,\n",
       "         20.07944154,  21.29583687,  22.15888308,  22.82831374,\n",
       "         23.37527841,  23.83773045,  24.23832463,  24.59167373]])"
      ]
     },
     "execution_count": 5,
     "metadata": {},
     "output_type": "execute_result"
    }
   ],
   "source": [
    "def func(x,y):\n",
    "  return 3*np.log(x) + 2*y\n",
    "\n",
    "zz = func(xx,yy)\n",
    "zz"
   ]
  },
  {
   "cell_type": "code",
   "execution_count": 20,
   "metadata": {
    "colab": {
     "base_uri": "https://localhost:8080/",
     "height": 542
    },
    "id": "x1dq-M65pYid",
    "outputId": "a75c8f65-ff1d-47d1-a5f0-55d5b8fe5efc"
   },
   "outputs": [
    {
     "data": {
      "application/vnd.plotly.v1+json": {
       "config": {
        "plotlyServerURL": "https://plot.ly"
       },
       "data": [
        {
         "hovertemplate": "<extra></extra>",
         "legendgroup": "",
         "marker": {
          "color": "#636efa",
          "symbol": "circle"
         },
         "mode": "markers",
         "name": "",
         "scene": "scene",
         "showlegend": false,
         "type": "scatter3d"
        },
        {
         "type": "surface",
         "x": [
          [
           -10,
           -9,
           -8,
           -7,
           -6,
           -5,
           -4,
           -3,
           -2,
           -1,
           0,
           1,
           2,
           3,
           4,
           5,
           6,
           7,
           8,
           9
          ],
          [
           -10,
           -9,
           -8,
           -7,
           -6,
           -5,
           -4,
           -3,
           -2,
           -1,
           0,
           1,
           2,
           3,
           4,
           5,
           6,
           7,
           8,
           9
          ],
          [
           -10,
           -9,
           -8,
           -7,
           -6,
           -5,
           -4,
           -3,
           -2,
           -1,
           0,
           1,
           2,
           3,
           4,
           5,
           6,
           7,
           8,
           9
          ],
          [
           -10,
           -9,
           -8,
           -7,
           -6,
           -5,
           -4,
           -3,
           -2,
           -1,
           0,
           1,
           2,
           3,
           4,
           5,
           6,
           7,
           8,
           9
          ],
          [
           -10,
           -9,
           -8,
           -7,
           -6,
           -5,
           -4,
           -3,
           -2,
           -1,
           0,
           1,
           2,
           3,
           4,
           5,
           6,
           7,
           8,
           9
          ],
          [
           -10,
           -9,
           -8,
           -7,
           -6,
           -5,
           -4,
           -3,
           -2,
           -1,
           0,
           1,
           2,
           3,
           4,
           5,
           6,
           7,
           8,
           9
          ],
          [
           -10,
           -9,
           -8,
           -7,
           -6,
           -5,
           -4,
           -3,
           -2,
           -1,
           0,
           1,
           2,
           3,
           4,
           5,
           6,
           7,
           8,
           9
          ],
          [
           -10,
           -9,
           -8,
           -7,
           -6,
           -5,
           -4,
           -3,
           -2,
           -1,
           0,
           1,
           2,
           3,
           4,
           5,
           6,
           7,
           8,
           9
          ],
          [
           -10,
           -9,
           -8,
           -7,
           -6,
           -5,
           -4,
           -3,
           -2,
           -1,
           0,
           1,
           2,
           3,
           4,
           5,
           6,
           7,
           8,
           9
          ],
          [
           -10,
           -9,
           -8,
           -7,
           -6,
           -5,
           -4,
           -3,
           -2,
           -1,
           0,
           1,
           2,
           3,
           4,
           5,
           6,
           7,
           8,
           9
          ],
          [
           -10,
           -9,
           -8,
           -7,
           -6,
           -5,
           -4,
           -3,
           -2,
           -1,
           0,
           1,
           2,
           3,
           4,
           5,
           6,
           7,
           8,
           9
          ],
          [
           -10,
           -9,
           -8,
           -7,
           -6,
           -5,
           -4,
           -3,
           -2,
           -1,
           0,
           1,
           2,
           3,
           4,
           5,
           6,
           7,
           8,
           9
          ],
          [
           -10,
           -9,
           -8,
           -7,
           -6,
           -5,
           -4,
           -3,
           -2,
           -1,
           0,
           1,
           2,
           3,
           4,
           5,
           6,
           7,
           8,
           9
          ],
          [
           -10,
           -9,
           -8,
           -7,
           -6,
           -5,
           -4,
           -3,
           -2,
           -1,
           0,
           1,
           2,
           3,
           4,
           5,
           6,
           7,
           8,
           9
          ],
          [
           -10,
           -9,
           -8,
           -7,
           -6,
           -5,
           -4,
           -3,
           -2,
           -1,
           0,
           1,
           2,
           3,
           4,
           5,
           6,
           7,
           8,
           9
          ],
          [
           -10,
           -9,
           -8,
           -7,
           -6,
           -5,
           -4,
           -3,
           -2,
           -1,
           0,
           1,
           2,
           3,
           4,
           5,
           6,
           7,
           8,
           9
          ],
          [
           -10,
           -9,
           -8,
           -7,
           -6,
           -5,
           -4,
           -3,
           -2,
           -1,
           0,
           1,
           2,
           3,
           4,
           5,
           6,
           7,
           8,
           9
          ],
          [
           -10,
           -9,
           -8,
           -7,
           -6,
           -5,
           -4,
           -3,
           -2,
           -1,
           0,
           1,
           2,
           3,
           4,
           5,
           6,
           7,
           8,
           9
          ],
          [
           -10,
           -9,
           -8,
           -7,
           -6,
           -5,
           -4,
           -3,
           -2,
           -1,
           0,
           1,
           2,
           3,
           4,
           5,
           6,
           7,
           8,
           9
          ],
          [
           -10,
           -9,
           -8,
           -7,
           -6,
           -5,
           -4,
           -3,
           -2,
           -1,
           0,
           1,
           2,
           3,
           4,
           5,
           6,
           7,
           8,
           9
          ]
         ],
         "y": [
          [
           -10,
           -10,
           -10,
           -10,
           -10,
           -10,
           -10,
           -10,
           -10,
           -10,
           -10,
           -10,
           -10,
           -10,
           -10,
           -10,
           -10,
           -10,
           -10,
           -10
          ],
          [
           -9,
           -9,
           -9,
           -9,
           -9,
           -9,
           -9,
           -9,
           -9,
           -9,
           -9,
           -9,
           -9,
           -9,
           -9,
           -9,
           -9,
           -9,
           -9,
           -9
          ],
          [
           -8,
           -8,
           -8,
           -8,
           -8,
           -8,
           -8,
           -8,
           -8,
           -8,
           -8,
           -8,
           -8,
           -8,
           -8,
           -8,
           -8,
           -8,
           -8,
           -8
          ],
          [
           -7,
           -7,
           -7,
           -7,
           -7,
           -7,
           -7,
           -7,
           -7,
           -7,
           -7,
           -7,
           -7,
           -7,
           -7,
           -7,
           -7,
           -7,
           -7,
           -7
          ],
          [
           -6,
           -6,
           -6,
           -6,
           -6,
           -6,
           -6,
           -6,
           -6,
           -6,
           -6,
           -6,
           -6,
           -6,
           -6,
           -6,
           -6,
           -6,
           -6,
           -6
          ],
          [
           -5,
           -5,
           -5,
           -5,
           -5,
           -5,
           -5,
           -5,
           -5,
           -5,
           -5,
           -5,
           -5,
           -5,
           -5,
           -5,
           -5,
           -5,
           -5,
           -5
          ],
          [
           -4,
           -4,
           -4,
           -4,
           -4,
           -4,
           -4,
           -4,
           -4,
           -4,
           -4,
           -4,
           -4,
           -4,
           -4,
           -4,
           -4,
           -4,
           -4,
           -4
          ],
          [
           -3,
           -3,
           -3,
           -3,
           -3,
           -3,
           -3,
           -3,
           -3,
           -3,
           -3,
           -3,
           -3,
           -3,
           -3,
           -3,
           -3,
           -3,
           -3,
           -3
          ],
          [
           -2,
           -2,
           -2,
           -2,
           -2,
           -2,
           -2,
           -2,
           -2,
           -2,
           -2,
           -2,
           -2,
           -2,
           -2,
           -2,
           -2,
           -2,
           -2,
           -2
          ],
          [
           -1,
           -1,
           -1,
           -1,
           -1,
           -1,
           -1,
           -1,
           -1,
           -1,
           -1,
           -1,
           -1,
           -1,
           -1,
           -1,
           -1,
           -1,
           -1,
           -1
          ],
          [
           0,
           0,
           0,
           0,
           0,
           0,
           0,
           0,
           0,
           0,
           0,
           0,
           0,
           0,
           0,
           0,
           0,
           0,
           0,
           0
          ],
          [
           1,
           1,
           1,
           1,
           1,
           1,
           1,
           1,
           1,
           1,
           1,
           1,
           1,
           1,
           1,
           1,
           1,
           1,
           1,
           1
          ],
          [
           2,
           2,
           2,
           2,
           2,
           2,
           2,
           2,
           2,
           2,
           2,
           2,
           2,
           2,
           2,
           2,
           2,
           2,
           2,
           2
          ],
          [
           3,
           3,
           3,
           3,
           3,
           3,
           3,
           3,
           3,
           3,
           3,
           3,
           3,
           3,
           3,
           3,
           3,
           3,
           3,
           3
          ],
          [
           4,
           4,
           4,
           4,
           4,
           4,
           4,
           4,
           4,
           4,
           4,
           4,
           4,
           4,
           4,
           4,
           4,
           4,
           4,
           4
          ],
          [
           5,
           5,
           5,
           5,
           5,
           5,
           5,
           5,
           5,
           5,
           5,
           5,
           5,
           5,
           5,
           5,
           5,
           5,
           5,
           5
          ],
          [
           6,
           6,
           6,
           6,
           6,
           6,
           6,
           6,
           6,
           6,
           6,
           6,
           6,
           6,
           6,
           6,
           6,
           6,
           6,
           6
          ],
          [
           7,
           7,
           7,
           7,
           7,
           7,
           7,
           7,
           7,
           7,
           7,
           7,
           7,
           7,
           7,
           7,
           7,
           7,
           7,
           7
          ],
          [
           8,
           8,
           8,
           8,
           8,
           8,
           8,
           8,
           8,
           8,
           8,
           8,
           8,
           8,
           8,
           8,
           8,
           8,
           8,
           8
          ],
          [
           9,
           9,
           9,
           9,
           9,
           9,
           9,
           9,
           9,
           9,
           9,
           9,
           9,
           9,
           9,
           9,
           9,
           9,
           9,
           9
          ]
         ],
         "z": [
          [
           null,
           null,
           null,
           null,
           null,
           null,
           null,
           null,
           null,
           null,
           null,
           -20,
           -17.920558458320166,
           -16.70416313399567,
           -15.841116916640328,
           -15.1716862626977,
           -14.624721592315835,
           -14.162269552834061,
           -13.761675374960493,
           -13.408326267991342
          ],
          [
           null,
           null,
           null,
           null,
           null,
           null,
           null,
           null,
           null,
           null,
           null,
           -18,
           -15.920558458320164,
           -14.70416313399567,
           -13.841116916640328,
           -13.1716862626977,
           -12.624721592315835,
           -12.162269552834061,
           -11.761675374960493,
           -11.408326267991342
          ],
          [
           null,
           null,
           null,
           null,
           null,
           null,
           null,
           null,
           null,
           null,
           null,
           -16,
           -13.920558458320164,
           -12.70416313399567,
           -11.841116916640328,
           -11.1716862626977,
           -10.624721592315835,
           -10.162269552834061,
           -9.761675374960493,
           -9.408326267991342
          ],
          [
           null,
           null,
           null,
           null,
           null,
           null,
           null,
           null,
           null,
           null,
           null,
           -14,
           -11.920558458320164,
           -10.70416313399567,
           -9.841116916640328,
           -9.1716862626977,
           -8.624721592315835,
           -8.162269552834061,
           -7.761675374960493,
           -7.408326267991342
          ],
          [
           null,
           null,
           null,
           null,
           null,
           null,
           null,
           null,
           null,
           null,
           null,
           -12,
           -9.920558458320164,
           -8.70416313399567,
           -7.8411169166403285,
           -7.171686262697699,
           -6.624721592315835,
           -6.1622695528340605,
           -5.761675374960493,
           -5.408326267991342
          ],
          [
           null,
           null,
           null,
           null,
           null,
           null,
           null,
           null,
           null,
           null,
           null,
           -10,
           -7.920558458320164,
           -6.704163133995671,
           -5.8411169166403285,
           -5.171686262697699,
           -4.624721592315835,
           -4.1622695528340605,
           -3.761675374960493,
           -3.4083262679913418
          ],
          [
           null,
           null,
           null,
           null,
           null,
           null,
           null,
           null,
           null,
           null,
           null,
           -8,
           -5.920558458320164,
           -4.704163133995671,
           -3.8411169166403285,
           -3.1716862626976994,
           -2.6247215923158347,
           -2.1622695528340605,
           -1.7616753749604932,
           -1.4083262679913418
          ],
          [
           null,
           null,
           null,
           null,
           null,
           null,
           null,
           null,
           null,
           null,
           null,
           -6,
           -3.9205584583201643,
           -2.704163133995671,
           -1.8411169166403285,
           -1.1716862626976994,
           -0.6247215923158347,
           -0.16226955283406053,
           0.2383246250395068,
           0.5916737320086582
          ],
          [
           null,
           null,
           null,
           null,
           null,
           null,
           null,
           null,
           null,
           null,
           null,
           -4,
           -1.9205584583201643,
           -0.7041631339956709,
           0.1588830833596715,
           0.8283137373023006,
           1.3752784076841653,
           1.8377304471659395,
           2.238324625039507,
           2.5916737320086582
          ],
          [
           null,
           null,
           null,
           null,
           null,
           null,
           null,
           null,
           null,
           null,
           null,
           -2,
           0.07944154167983575,
           1.2958368660043291,
           2.1588830833596715,
           2.8283137373023006,
           3.3752784076841653,
           3.8377304471659395,
           4.238324625039507,
           4.591673732008658
          ],
          [
           null,
           null,
           null,
           null,
           null,
           null,
           null,
           null,
           null,
           null,
           null,
           0,
           2.0794415416798357,
           3.295836866004329,
           4.1588830833596715,
           4.828313737302301,
           5.375278407684165,
           5.8377304471659395,
           6.238324625039507,
           6.591673732008658
          ],
          [
           null,
           null,
           null,
           null,
           null,
           null,
           null,
           null,
           null,
           null,
           null,
           2,
           4.079441541679836,
           5.295836866004329,
           6.1588830833596715,
           6.828313737302301,
           7.375278407684165,
           7.8377304471659395,
           8.238324625039507,
           8.591673732008658
          ],
          [
           null,
           null,
           null,
           null,
           null,
           null,
           null,
           null,
           null,
           null,
           null,
           4,
           6.079441541679836,
           7.295836866004329,
           8.158883083359672,
           8.8283137373023,
           9.375278407684165,
           9.837730447165939,
           10.238324625039507,
           10.591673732008658
          ],
          [
           null,
           null,
           null,
           null,
           null,
           null,
           null,
           null,
           null,
           null,
           null,
           6,
           8.079441541679836,
           9.29583686600433,
           10.158883083359672,
           10.8283137373023,
           11.375278407684165,
           11.837730447165939,
           12.238324625039507,
           12.591673732008658
          ],
          [
           null,
           null,
           null,
           null,
           null,
           null,
           null,
           null,
           null,
           null,
           null,
           8,
           10.079441541679836,
           11.29583686600433,
           12.158883083359672,
           12.8283137373023,
           13.375278407684165,
           13.837730447165939,
           14.238324625039507,
           14.591673732008658
          ],
          [
           null,
           null,
           null,
           null,
           null,
           null,
           null,
           null,
           null,
           null,
           null,
           10,
           12.079441541679836,
           13.29583686600433,
           14.158883083359672,
           14.8283137373023,
           15.375278407684165,
           15.837730447165939,
           16.238324625039507,
           16.59167373200866
          ],
          [
           null,
           null,
           null,
           null,
           null,
           null,
           null,
           null,
           null,
           null,
           null,
           12,
           14.079441541679836,
           15.29583686600433,
           16.158883083359672,
           16.828313737302302,
           17.375278407684164,
           17.83773044716594,
           18.238324625039507,
           18.59167373200866
          ],
          [
           null,
           null,
           null,
           null,
           null,
           null,
           null,
           null,
           null,
           null,
           null,
           14,
           16.079441541679834,
           17.29583686600433,
           18.158883083359672,
           18.828313737302302,
           19.375278407684164,
           19.83773044716594,
           20.238324625039507,
           20.59167373200866
          ],
          [
           null,
           null,
           null,
           null,
           null,
           null,
           null,
           null,
           null,
           null,
           null,
           16,
           18.079441541679834,
           19.29583686600433,
           20.158883083359672,
           20.828313737302302,
           21.375278407684164,
           21.83773044716594,
           22.238324625039507,
           22.59167373200866
          ],
          [
           null,
           null,
           null,
           null,
           null,
           null,
           null,
           null,
           null,
           null,
           null,
           18,
           20.079441541679834,
           21.29583686600433,
           22.158883083359672,
           22.828313737302302,
           23.375278407684164,
           23.83773044716594,
           24.238324625039507,
           24.59167373200866
          ]
         ]
        }
       ],
       "layout": {
        "legend": {
         "tracegroupgap": 0
        },
        "margin": {
         "t": 60
        },
        "scene": {
         "domain": {
          "x": [
           0,
           1
          ],
          "y": [
           0,
           1
          ]
         }
        },
        "template": {
         "data": {
          "bar": [
           {
            "error_x": {
             "color": "#2a3f5f"
            },
            "error_y": {
             "color": "#2a3f5f"
            },
            "marker": {
             "line": {
              "color": "#E5ECF6",
              "width": 0.5
             },
             "pattern": {
              "fillmode": "overlay",
              "size": 10,
              "solidity": 0.2
             }
            },
            "type": "bar"
           }
          ],
          "barpolar": [
           {
            "marker": {
             "line": {
              "color": "#E5ECF6",
              "width": 0.5
             },
             "pattern": {
              "fillmode": "overlay",
              "size": 10,
              "solidity": 0.2
             }
            },
            "type": "barpolar"
           }
          ],
          "carpet": [
           {
            "aaxis": {
             "endlinecolor": "#2a3f5f",
             "gridcolor": "white",
             "linecolor": "white",
             "minorgridcolor": "white",
             "startlinecolor": "#2a3f5f"
            },
            "baxis": {
             "endlinecolor": "#2a3f5f",
             "gridcolor": "white",
             "linecolor": "white",
             "minorgridcolor": "white",
             "startlinecolor": "#2a3f5f"
            },
            "type": "carpet"
           }
          ],
          "choropleth": [
           {
            "colorbar": {
             "outlinewidth": 0,
             "ticks": ""
            },
            "type": "choropleth"
           }
          ],
          "contour": [
           {
            "colorbar": {
             "outlinewidth": 0,
             "ticks": ""
            },
            "colorscale": [
             [
              0,
              "#0d0887"
             ],
             [
              0.1111111111111111,
              "#46039f"
             ],
             [
              0.2222222222222222,
              "#7201a8"
             ],
             [
              0.3333333333333333,
              "#9c179e"
             ],
             [
              0.4444444444444444,
              "#bd3786"
             ],
             [
              0.5555555555555556,
              "#d8576b"
             ],
             [
              0.6666666666666666,
              "#ed7953"
             ],
             [
              0.7777777777777778,
              "#fb9f3a"
             ],
             [
              0.8888888888888888,
              "#fdca26"
             ],
             [
              1,
              "#f0f921"
             ]
            ],
            "type": "contour"
           }
          ],
          "contourcarpet": [
           {
            "colorbar": {
             "outlinewidth": 0,
             "ticks": ""
            },
            "type": "contourcarpet"
           }
          ],
          "heatmap": [
           {
            "colorbar": {
             "outlinewidth": 0,
             "ticks": ""
            },
            "colorscale": [
             [
              0,
              "#0d0887"
             ],
             [
              0.1111111111111111,
              "#46039f"
             ],
             [
              0.2222222222222222,
              "#7201a8"
             ],
             [
              0.3333333333333333,
              "#9c179e"
             ],
             [
              0.4444444444444444,
              "#bd3786"
             ],
             [
              0.5555555555555556,
              "#d8576b"
             ],
             [
              0.6666666666666666,
              "#ed7953"
             ],
             [
              0.7777777777777778,
              "#fb9f3a"
             ],
             [
              0.8888888888888888,
              "#fdca26"
             ],
             [
              1,
              "#f0f921"
             ]
            ],
            "type": "heatmap"
           }
          ],
          "heatmapgl": [
           {
            "colorbar": {
             "outlinewidth": 0,
             "ticks": ""
            },
            "colorscale": [
             [
              0,
              "#0d0887"
             ],
             [
              0.1111111111111111,
              "#46039f"
             ],
             [
              0.2222222222222222,
              "#7201a8"
             ],
             [
              0.3333333333333333,
              "#9c179e"
             ],
             [
              0.4444444444444444,
              "#bd3786"
             ],
             [
              0.5555555555555556,
              "#d8576b"
             ],
             [
              0.6666666666666666,
              "#ed7953"
             ],
             [
              0.7777777777777778,
              "#fb9f3a"
             ],
             [
              0.8888888888888888,
              "#fdca26"
             ],
             [
              1,
              "#f0f921"
             ]
            ],
            "type": "heatmapgl"
           }
          ],
          "histogram": [
           {
            "marker": {
             "pattern": {
              "fillmode": "overlay",
              "size": 10,
              "solidity": 0.2
             }
            },
            "type": "histogram"
           }
          ],
          "histogram2d": [
           {
            "colorbar": {
             "outlinewidth": 0,
             "ticks": ""
            },
            "colorscale": [
             [
              0,
              "#0d0887"
             ],
             [
              0.1111111111111111,
              "#46039f"
             ],
             [
              0.2222222222222222,
              "#7201a8"
             ],
             [
              0.3333333333333333,
              "#9c179e"
             ],
             [
              0.4444444444444444,
              "#bd3786"
             ],
             [
              0.5555555555555556,
              "#d8576b"
             ],
             [
              0.6666666666666666,
              "#ed7953"
             ],
             [
              0.7777777777777778,
              "#fb9f3a"
             ],
             [
              0.8888888888888888,
              "#fdca26"
             ],
             [
              1,
              "#f0f921"
             ]
            ],
            "type": "histogram2d"
           }
          ],
          "histogram2dcontour": [
           {
            "colorbar": {
             "outlinewidth": 0,
             "ticks": ""
            },
            "colorscale": [
             [
              0,
              "#0d0887"
             ],
             [
              0.1111111111111111,
              "#46039f"
             ],
             [
              0.2222222222222222,
              "#7201a8"
             ],
             [
              0.3333333333333333,
              "#9c179e"
             ],
             [
              0.4444444444444444,
              "#bd3786"
             ],
             [
              0.5555555555555556,
              "#d8576b"
             ],
             [
              0.6666666666666666,
              "#ed7953"
             ],
             [
              0.7777777777777778,
              "#fb9f3a"
             ],
             [
              0.8888888888888888,
              "#fdca26"
             ],
             [
              1,
              "#f0f921"
             ]
            ],
            "type": "histogram2dcontour"
           }
          ],
          "mesh3d": [
           {
            "colorbar": {
             "outlinewidth": 0,
             "ticks": ""
            },
            "type": "mesh3d"
           }
          ],
          "parcoords": [
           {
            "line": {
             "colorbar": {
              "outlinewidth": 0,
              "ticks": ""
             }
            },
            "type": "parcoords"
           }
          ],
          "pie": [
           {
            "automargin": true,
            "type": "pie"
           }
          ],
          "scatter": [
           {
            "fillpattern": {
             "fillmode": "overlay",
             "size": 10,
             "solidity": 0.2
            },
            "type": "scatter"
           }
          ],
          "scatter3d": [
           {
            "line": {
             "colorbar": {
              "outlinewidth": 0,
              "ticks": ""
             }
            },
            "marker": {
             "colorbar": {
              "outlinewidth": 0,
              "ticks": ""
             }
            },
            "type": "scatter3d"
           }
          ],
          "scattercarpet": [
           {
            "marker": {
             "colorbar": {
              "outlinewidth": 0,
              "ticks": ""
             }
            },
            "type": "scattercarpet"
           }
          ],
          "scattergeo": [
           {
            "marker": {
             "colorbar": {
              "outlinewidth": 0,
              "ticks": ""
             }
            },
            "type": "scattergeo"
           }
          ],
          "scattergl": [
           {
            "marker": {
             "colorbar": {
              "outlinewidth": 0,
              "ticks": ""
             }
            },
            "type": "scattergl"
           }
          ],
          "scattermapbox": [
           {
            "marker": {
             "colorbar": {
              "outlinewidth": 0,
              "ticks": ""
             }
            },
            "type": "scattermapbox"
           }
          ],
          "scatterpolar": [
           {
            "marker": {
             "colorbar": {
              "outlinewidth": 0,
              "ticks": ""
             }
            },
            "type": "scatterpolar"
           }
          ],
          "scatterpolargl": [
           {
            "marker": {
             "colorbar": {
              "outlinewidth": 0,
              "ticks": ""
             }
            },
            "type": "scatterpolargl"
           }
          ],
          "scatterternary": [
           {
            "marker": {
             "colorbar": {
              "outlinewidth": 0,
              "ticks": ""
             }
            },
            "type": "scatterternary"
           }
          ],
          "surface": [
           {
            "colorbar": {
             "outlinewidth": 0,
             "ticks": ""
            },
            "colorscale": [
             [
              0,
              "#0d0887"
             ],
             [
              0.1111111111111111,
              "#46039f"
             ],
             [
              0.2222222222222222,
              "#7201a8"
             ],
             [
              0.3333333333333333,
              "#9c179e"
             ],
             [
              0.4444444444444444,
              "#bd3786"
             ],
             [
              0.5555555555555556,
              "#d8576b"
             ],
             [
              0.6666666666666666,
              "#ed7953"
             ],
             [
              0.7777777777777778,
              "#fb9f3a"
             ],
             [
              0.8888888888888888,
              "#fdca26"
             ],
             [
              1,
              "#f0f921"
             ]
            ],
            "type": "surface"
           }
          ],
          "table": [
           {
            "cells": {
             "fill": {
              "color": "#EBF0F8"
             },
             "line": {
              "color": "white"
             }
            },
            "header": {
             "fill": {
              "color": "#C8D4E3"
             },
             "line": {
              "color": "white"
             }
            },
            "type": "table"
           }
          ]
         },
         "layout": {
          "annotationdefaults": {
           "arrowcolor": "#2a3f5f",
           "arrowhead": 0,
           "arrowwidth": 1
          },
          "autotypenumbers": "strict",
          "coloraxis": {
           "colorbar": {
            "outlinewidth": 0,
            "ticks": ""
           }
          },
          "colorscale": {
           "diverging": [
            [
             0,
             "#8e0152"
            ],
            [
             0.1,
             "#c51b7d"
            ],
            [
             0.2,
             "#de77ae"
            ],
            [
             0.3,
             "#f1b6da"
            ],
            [
             0.4,
             "#fde0ef"
            ],
            [
             0.5,
             "#f7f7f7"
            ],
            [
             0.6,
             "#e6f5d0"
            ],
            [
             0.7,
             "#b8e186"
            ],
            [
             0.8,
             "#7fbc41"
            ],
            [
             0.9,
             "#4d9221"
            ],
            [
             1,
             "#276419"
            ]
           ],
           "sequential": [
            [
             0,
             "#0d0887"
            ],
            [
             0.1111111111111111,
             "#46039f"
            ],
            [
             0.2222222222222222,
             "#7201a8"
            ],
            [
             0.3333333333333333,
             "#9c179e"
            ],
            [
             0.4444444444444444,
             "#bd3786"
            ],
            [
             0.5555555555555556,
             "#d8576b"
            ],
            [
             0.6666666666666666,
             "#ed7953"
            ],
            [
             0.7777777777777778,
             "#fb9f3a"
            ],
            [
             0.8888888888888888,
             "#fdca26"
            ],
            [
             1,
             "#f0f921"
            ]
           ],
           "sequentialminus": [
            [
             0,
             "#0d0887"
            ],
            [
             0.1111111111111111,
             "#46039f"
            ],
            [
             0.2222222222222222,
             "#7201a8"
            ],
            [
             0.3333333333333333,
             "#9c179e"
            ],
            [
             0.4444444444444444,
             "#bd3786"
            ],
            [
             0.5555555555555556,
             "#d8576b"
            ],
            [
             0.6666666666666666,
             "#ed7953"
            ],
            [
             0.7777777777777778,
             "#fb9f3a"
            ],
            [
             0.8888888888888888,
             "#fdca26"
            ],
            [
             1,
             "#f0f921"
            ]
           ]
          },
          "colorway": [
           "#636efa",
           "#EF553B",
           "#00cc96",
           "#ab63fa",
           "#FFA15A",
           "#19d3f3",
           "#FF6692",
           "#B6E880",
           "#FF97FF",
           "#FECB52"
          ],
          "font": {
           "color": "#2a3f5f"
          },
          "geo": {
           "bgcolor": "white",
           "lakecolor": "white",
           "landcolor": "#E5ECF6",
           "showlakes": true,
           "showland": true,
           "subunitcolor": "white"
          },
          "hoverlabel": {
           "align": "left"
          },
          "hovermode": "closest",
          "mapbox": {
           "style": "light"
          },
          "paper_bgcolor": "white",
          "plot_bgcolor": "#E5ECF6",
          "polar": {
           "angularaxis": {
            "gridcolor": "white",
            "linecolor": "white",
            "ticks": ""
           },
           "bgcolor": "#E5ECF6",
           "radialaxis": {
            "gridcolor": "white",
            "linecolor": "white",
            "ticks": ""
           }
          },
          "scene": {
           "xaxis": {
            "backgroundcolor": "#E5ECF6",
            "gridcolor": "white",
            "gridwidth": 2,
            "linecolor": "white",
            "showbackground": true,
            "ticks": "",
            "zerolinecolor": "white"
           },
           "yaxis": {
            "backgroundcolor": "#E5ECF6",
            "gridcolor": "white",
            "gridwidth": 2,
            "linecolor": "white",
            "showbackground": true,
            "ticks": "",
            "zerolinecolor": "white"
           },
           "zaxis": {
            "backgroundcolor": "#E5ECF6",
            "gridcolor": "white",
            "gridwidth": 2,
            "linecolor": "white",
            "showbackground": true,
            "ticks": "",
            "zerolinecolor": "white"
           }
          },
          "shapedefaults": {
           "line": {
            "color": "#2a3f5f"
           }
          },
          "ternary": {
           "aaxis": {
            "gridcolor": "white",
            "linecolor": "white",
            "ticks": ""
           },
           "baxis": {
            "gridcolor": "white",
            "linecolor": "white",
            "ticks": ""
           },
           "bgcolor": "#E5ECF6",
           "caxis": {
            "gridcolor": "white",
            "linecolor": "white",
            "ticks": ""
           }
          },
          "title": {
           "x": 0.05
          },
          "xaxis": {
           "automargin": true,
           "gridcolor": "white",
           "linecolor": "white",
           "ticks": "",
           "title": {
            "standoff": 15
           },
           "zerolinecolor": "white",
           "zerolinewidth": 2
          },
          "yaxis": {
           "automargin": true,
           "gridcolor": "white",
           "linecolor": "white",
           "ticks": "",
           "title": {
            "standoff": 15
           },
           "zerolinecolor": "white",
           "zerolinewidth": 2
          }
         }
        }
       }
      },
      "text/html": [
       "<div>                            <div id=\"0c48dbdb-d24d-4bdf-ba47-73f60bc3b318\" class=\"plotly-graph-div\" style=\"height:525px; width:100%;\"></div>            <script type=\"text/javascript\">                require([\"plotly\"], function(Plotly) {                    window.PLOTLYENV=window.PLOTLYENV || {};                                    if (document.getElementById(\"0c48dbdb-d24d-4bdf-ba47-73f60bc3b318\")) {                    Plotly.newPlot(                        \"0c48dbdb-d24d-4bdf-ba47-73f60bc3b318\",                        [{\"hovertemplate\":\"\\u003cextra\\u003e\\u003c\\u002fextra\\u003e\",\"legendgroup\":\"\",\"marker\":{\"color\":\"#636efa\",\"symbol\":\"circle\"},\"mode\":\"markers\",\"name\":\"\",\"scene\":\"scene\",\"showlegend\":false,\"type\":\"scatter3d\"},{\"x\":[[-10.0,-9.0,-8.0,-7.0,-6.0,-5.0,-4.0,-3.0,-2.0,-1.0,0.0,1.0,2.0,3.0,4.0,5.0,6.0,7.0,8.0,9.0],[-10.0,-9.0,-8.0,-7.0,-6.0,-5.0,-4.0,-3.0,-2.0,-1.0,0.0,1.0,2.0,3.0,4.0,5.0,6.0,7.0,8.0,9.0],[-10.0,-9.0,-8.0,-7.0,-6.0,-5.0,-4.0,-3.0,-2.0,-1.0,0.0,1.0,2.0,3.0,4.0,5.0,6.0,7.0,8.0,9.0],[-10.0,-9.0,-8.0,-7.0,-6.0,-5.0,-4.0,-3.0,-2.0,-1.0,0.0,1.0,2.0,3.0,4.0,5.0,6.0,7.0,8.0,9.0],[-10.0,-9.0,-8.0,-7.0,-6.0,-5.0,-4.0,-3.0,-2.0,-1.0,0.0,1.0,2.0,3.0,4.0,5.0,6.0,7.0,8.0,9.0],[-10.0,-9.0,-8.0,-7.0,-6.0,-5.0,-4.0,-3.0,-2.0,-1.0,0.0,1.0,2.0,3.0,4.0,5.0,6.0,7.0,8.0,9.0],[-10.0,-9.0,-8.0,-7.0,-6.0,-5.0,-4.0,-3.0,-2.0,-1.0,0.0,1.0,2.0,3.0,4.0,5.0,6.0,7.0,8.0,9.0],[-10.0,-9.0,-8.0,-7.0,-6.0,-5.0,-4.0,-3.0,-2.0,-1.0,0.0,1.0,2.0,3.0,4.0,5.0,6.0,7.0,8.0,9.0],[-10.0,-9.0,-8.0,-7.0,-6.0,-5.0,-4.0,-3.0,-2.0,-1.0,0.0,1.0,2.0,3.0,4.0,5.0,6.0,7.0,8.0,9.0],[-10.0,-9.0,-8.0,-7.0,-6.0,-5.0,-4.0,-3.0,-2.0,-1.0,0.0,1.0,2.0,3.0,4.0,5.0,6.0,7.0,8.0,9.0],[-10.0,-9.0,-8.0,-7.0,-6.0,-5.0,-4.0,-3.0,-2.0,-1.0,0.0,1.0,2.0,3.0,4.0,5.0,6.0,7.0,8.0,9.0],[-10.0,-9.0,-8.0,-7.0,-6.0,-5.0,-4.0,-3.0,-2.0,-1.0,0.0,1.0,2.0,3.0,4.0,5.0,6.0,7.0,8.0,9.0],[-10.0,-9.0,-8.0,-7.0,-6.0,-5.0,-4.0,-3.0,-2.0,-1.0,0.0,1.0,2.0,3.0,4.0,5.0,6.0,7.0,8.0,9.0],[-10.0,-9.0,-8.0,-7.0,-6.0,-5.0,-4.0,-3.0,-2.0,-1.0,0.0,1.0,2.0,3.0,4.0,5.0,6.0,7.0,8.0,9.0],[-10.0,-9.0,-8.0,-7.0,-6.0,-5.0,-4.0,-3.0,-2.0,-1.0,0.0,1.0,2.0,3.0,4.0,5.0,6.0,7.0,8.0,9.0],[-10.0,-9.0,-8.0,-7.0,-6.0,-5.0,-4.0,-3.0,-2.0,-1.0,0.0,1.0,2.0,3.0,4.0,5.0,6.0,7.0,8.0,9.0],[-10.0,-9.0,-8.0,-7.0,-6.0,-5.0,-4.0,-3.0,-2.0,-1.0,0.0,1.0,2.0,3.0,4.0,5.0,6.0,7.0,8.0,9.0],[-10.0,-9.0,-8.0,-7.0,-6.0,-5.0,-4.0,-3.0,-2.0,-1.0,0.0,1.0,2.0,3.0,4.0,5.0,6.0,7.0,8.0,9.0],[-10.0,-9.0,-8.0,-7.0,-6.0,-5.0,-4.0,-3.0,-2.0,-1.0,0.0,1.0,2.0,3.0,4.0,5.0,6.0,7.0,8.0,9.0],[-10.0,-9.0,-8.0,-7.0,-6.0,-5.0,-4.0,-3.0,-2.0,-1.0,0.0,1.0,2.0,3.0,4.0,5.0,6.0,7.0,8.0,9.0]],\"y\":[[-10.0,-10.0,-10.0,-10.0,-10.0,-10.0,-10.0,-10.0,-10.0,-10.0,-10.0,-10.0,-10.0,-10.0,-10.0,-10.0,-10.0,-10.0,-10.0,-10.0],[-9.0,-9.0,-9.0,-9.0,-9.0,-9.0,-9.0,-9.0,-9.0,-9.0,-9.0,-9.0,-9.0,-9.0,-9.0,-9.0,-9.0,-9.0,-9.0,-9.0],[-8.0,-8.0,-8.0,-8.0,-8.0,-8.0,-8.0,-8.0,-8.0,-8.0,-8.0,-8.0,-8.0,-8.0,-8.0,-8.0,-8.0,-8.0,-8.0,-8.0],[-7.0,-7.0,-7.0,-7.0,-7.0,-7.0,-7.0,-7.0,-7.0,-7.0,-7.0,-7.0,-7.0,-7.0,-7.0,-7.0,-7.0,-7.0,-7.0,-7.0],[-6.0,-6.0,-6.0,-6.0,-6.0,-6.0,-6.0,-6.0,-6.0,-6.0,-6.0,-6.0,-6.0,-6.0,-6.0,-6.0,-6.0,-6.0,-6.0,-6.0],[-5.0,-5.0,-5.0,-5.0,-5.0,-5.0,-5.0,-5.0,-5.0,-5.0,-5.0,-5.0,-5.0,-5.0,-5.0,-5.0,-5.0,-5.0,-5.0,-5.0],[-4.0,-4.0,-4.0,-4.0,-4.0,-4.0,-4.0,-4.0,-4.0,-4.0,-4.0,-4.0,-4.0,-4.0,-4.0,-4.0,-4.0,-4.0,-4.0,-4.0],[-3.0,-3.0,-3.0,-3.0,-3.0,-3.0,-3.0,-3.0,-3.0,-3.0,-3.0,-3.0,-3.0,-3.0,-3.0,-3.0,-3.0,-3.0,-3.0,-3.0],[-2.0,-2.0,-2.0,-2.0,-2.0,-2.0,-2.0,-2.0,-2.0,-2.0,-2.0,-2.0,-2.0,-2.0,-2.0,-2.0,-2.0,-2.0,-2.0,-2.0],[-1.0,-1.0,-1.0,-1.0,-1.0,-1.0,-1.0,-1.0,-1.0,-1.0,-1.0,-1.0,-1.0,-1.0,-1.0,-1.0,-1.0,-1.0,-1.0,-1.0],[0.0,0.0,0.0,0.0,0.0,0.0,0.0,0.0,0.0,0.0,0.0,0.0,0.0,0.0,0.0,0.0,0.0,0.0,0.0,0.0],[1.0,1.0,1.0,1.0,1.0,1.0,1.0,1.0,1.0,1.0,1.0,1.0,1.0,1.0,1.0,1.0,1.0,1.0,1.0,1.0],[2.0,2.0,2.0,2.0,2.0,2.0,2.0,2.0,2.0,2.0,2.0,2.0,2.0,2.0,2.0,2.0,2.0,2.0,2.0,2.0],[3.0,3.0,3.0,3.0,3.0,3.0,3.0,3.0,3.0,3.0,3.0,3.0,3.0,3.0,3.0,3.0,3.0,3.0,3.0,3.0],[4.0,4.0,4.0,4.0,4.0,4.0,4.0,4.0,4.0,4.0,4.0,4.0,4.0,4.0,4.0,4.0,4.0,4.0,4.0,4.0],[5.0,5.0,5.0,5.0,5.0,5.0,5.0,5.0,5.0,5.0,5.0,5.0,5.0,5.0,5.0,5.0,5.0,5.0,5.0,5.0],[6.0,6.0,6.0,6.0,6.0,6.0,6.0,6.0,6.0,6.0,6.0,6.0,6.0,6.0,6.0,6.0,6.0,6.0,6.0,6.0],[7.0,7.0,7.0,7.0,7.0,7.0,7.0,7.0,7.0,7.0,7.0,7.0,7.0,7.0,7.0,7.0,7.0,7.0,7.0,7.0],[8.0,8.0,8.0,8.0,8.0,8.0,8.0,8.0,8.0,8.0,8.0,8.0,8.0,8.0,8.0,8.0,8.0,8.0,8.0,8.0],[9.0,9.0,9.0,9.0,9.0,9.0,9.0,9.0,9.0,9.0,9.0,9.0,9.0,9.0,9.0,9.0,9.0,9.0,9.0,9.0]],\"z\":[[null,null,null,null,null,null,null,null,null,null,null,-20.0,-17.920558458320166,-16.70416313399567,-15.841116916640328,-15.1716862626977,-14.624721592315835,-14.162269552834061,-13.761675374960493,-13.408326267991342],[null,null,null,null,null,null,null,null,null,null,null,-18.0,-15.920558458320164,-14.70416313399567,-13.841116916640328,-13.1716862626977,-12.624721592315835,-12.162269552834061,-11.761675374960493,-11.408326267991342],[null,null,null,null,null,null,null,null,null,null,null,-16.0,-13.920558458320164,-12.70416313399567,-11.841116916640328,-11.1716862626977,-10.624721592315835,-10.162269552834061,-9.761675374960493,-9.408326267991342],[null,null,null,null,null,null,null,null,null,null,null,-14.0,-11.920558458320164,-10.70416313399567,-9.841116916640328,-9.1716862626977,-8.624721592315835,-8.162269552834061,-7.761675374960493,-7.408326267991342],[null,null,null,null,null,null,null,null,null,null,null,-12.0,-9.920558458320164,-8.70416313399567,-7.8411169166403285,-7.171686262697699,-6.624721592315835,-6.1622695528340605,-5.761675374960493,-5.408326267991342],[null,null,null,null,null,null,null,null,null,null,null,-10.0,-7.920558458320164,-6.704163133995671,-5.8411169166403285,-5.171686262697699,-4.624721592315835,-4.1622695528340605,-3.761675374960493,-3.4083262679913418],[null,null,null,null,null,null,null,null,null,null,null,-8.0,-5.920558458320164,-4.704163133995671,-3.8411169166403285,-3.1716862626976994,-2.6247215923158347,-2.1622695528340605,-1.7616753749604932,-1.4083262679913418],[null,null,null,null,null,null,null,null,null,null,null,-6.0,-3.9205584583201643,-2.704163133995671,-1.8411169166403285,-1.1716862626976994,-0.6247215923158347,-0.16226955283406053,0.2383246250395068,0.5916737320086582],[null,null,null,null,null,null,null,null,null,null,null,-4.0,-1.9205584583201643,-0.7041631339956709,0.1588830833596715,0.8283137373023006,1.3752784076841653,1.8377304471659395,2.238324625039507,2.5916737320086582],[null,null,null,null,null,null,null,null,null,null,null,-2.0,0.07944154167983575,1.2958368660043291,2.1588830833596715,2.8283137373023006,3.3752784076841653,3.8377304471659395,4.238324625039507,4.591673732008658],[null,null,null,null,null,null,null,null,null,null,null,0.0,2.0794415416798357,3.295836866004329,4.1588830833596715,4.828313737302301,5.375278407684165,5.8377304471659395,6.238324625039507,6.591673732008658],[null,null,null,null,null,null,null,null,null,null,null,2.0,4.079441541679836,5.295836866004329,6.1588830833596715,6.828313737302301,7.375278407684165,7.8377304471659395,8.238324625039507,8.591673732008658],[null,null,null,null,null,null,null,null,null,null,null,4.0,6.079441541679836,7.295836866004329,8.158883083359672,8.8283137373023,9.375278407684165,9.837730447165939,10.238324625039507,10.591673732008658],[null,null,null,null,null,null,null,null,null,null,null,6.0,8.079441541679836,9.29583686600433,10.158883083359672,10.8283137373023,11.375278407684165,11.837730447165939,12.238324625039507,12.591673732008658],[null,null,null,null,null,null,null,null,null,null,null,8.0,10.079441541679836,11.29583686600433,12.158883083359672,12.8283137373023,13.375278407684165,13.837730447165939,14.238324625039507,14.591673732008658],[null,null,null,null,null,null,null,null,null,null,null,10.0,12.079441541679836,13.29583686600433,14.158883083359672,14.8283137373023,15.375278407684165,15.837730447165939,16.238324625039507,16.59167373200866],[null,null,null,null,null,null,null,null,null,null,null,12.0,14.079441541679836,15.29583686600433,16.158883083359672,16.828313737302302,17.375278407684164,17.83773044716594,18.238324625039507,18.59167373200866],[null,null,null,null,null,null,null,null,null,null,null,14.0,16.079441541679834,17.29583686600433,18.158883083359672,18.828313737302302,19.375278407684164,19.83773044716594,20.238324625039507,20.59167373200866],[null,null,null,null,null,null,null,null,null,null,null,16.0,18.079441541679834,19.29583686600433,20.158883083359672,20.828313737302302,21.375278407684164,21.83773044716594,22.238324625039507,22.59167373200866],[null,null,null,null,null,null,null,null,null,null,null,18.0,20.079441541679834,21.29583686600433,22.158883083359672,22.828313737302302,23.375278407684164,23.83773044716594,24.238324625039507,24.59167373200866]],\"type\":\"surface\"}],                        {\"template\":{\"data\":{\"histogram2dcontour\":[{\"type\":\"histogram2dcontour\",\"colorbar\":{\"outlinewidth\":0,\"ticks\":\"\"},\"colorscale\":[[0.0,\"#0d0887\"],[0.1111111111111111,\"#46039f\"],[0.2222222222222222,\"#7201a8\"],[0.3333333333333333,\"#9c179e\"],[0.4444444444444444,\"#bd3786\"],[0.5555555555555556,\"#d8576b\"],[0.6666666666666666,\"#ed7953\"],[0.7777777777777778,\"#fb9f3a\"],[0.8888888888888888,\"#fdca26\"],[1.0,\"#f0f921\"]]}],\"choropleth\":[{\"type\":\"choropleth\",\"colorbar\":{\"outlinewidth\":0,\"ticks\":\"\"}}],\"histogram2d\":[{\"type\":\"histogram2d\",\"colorbar\":{\"outlinewidth\":0,\"ticks\":\"\"},\"colorscale\":[[0.0,\"#0d0887\"],[0.1111111111111111,\"#46039f\"],[0.2222222222222222,\"#7201a8\"],[0.3333333333333333,\"#9c179e\"],[0.4444444444444444,\"#bd3786\"],[0.5555555555555556,\"#d8576b\"],[0.6666666666666666,\"#ed7953\"],[0.7777777777777778,\"#fb9f3a\"],[0.8888888888888888,\"#fdca26\"],[1.0,\"#f0f921\"]]}],\"heatmap\":[{\"type\":\"heatmap\",\"colorbar\":{\"outlinewidth\":0,\"ticks\":\"\"},\"colorscale\":[[0.0,\"#0d0887\"],[0.1111111111111111,\"#46039f\"],[0.2222222222222222,\"#7201a8\"],[0.3333333333333333,\"#9c179e\"],[0.4444444444444444,\"#bd3786\"],[0.5555555555555556,\"#d8576b\"],[0.6666666666666666,\"#ed7953\"],[0.7777777777777778,\"#fb9f3a\"],[0.8888888888888888,\"#fdca26\"],[1.0,\"#f0f921\"]]}],\"heatmapgl\":[{\"type\":\"heatmapgl\",\"colorbar\":{\"outlinewidth\":0,\"ticks\":\"\"},\"colorscale\":[[0.0,\"#0d0887\"],[0.1111111111111111,\"#46039f\"],[0.2222222222222222,\"#7201a8\"],[0.3333333333333333,\"#9c179e\"],[0.4444444444444444,\"#bd3786\"],[0.5555555555555556,\"#d8576b\"],[0.6666666666666666,\"#ed7953\"],[0.7777777777777778,\"#fb9f3a\"],[0.8888888888888888,\"#fdca26\"],[1.0,\"#f0f921\"]]}],\"contourcarpet\":[{\"type\":\"contourcarpet\",\"colorbar\":{\"outlinewidth\":0,\"ticks\":\"\"}}],\"contour\":[{\"type\":\"contour\",\"colorbar\":{\"outlinewidth\":0,\"ticks\":\"\"},\"colorscale\":[[0.0,\"#0d0887\"],[0.1111111111111111,\"#46039f\"],[0.2222222222222222,\"#7201a8\"],[0.3333333333333333,\"#9c179e\"],[0.4444444444444444,\"#bd3786\"],[0.5555555555555556,\"#d8576b\"],[0.6666666666666666,\"#ed7953\"],[0.7777777777777778,\"#fb9f3a\"],[0.8888888888888888,\"#fdca26\"],[1.0,\"#f0f921\"]]}],\"surface\":[{\"type\":\"surface\",\"colorbar\":{\"outlinewidth\":0,\"ticks\":\"\"},\"colorscale\":[[0.0,\"#0d0887\"],[0.1111111111111111,\"#46039f\"],[0.2222222222222222,\"#7201a8\"],[0.3333333333333333,\"#9c179e\"],[0.4444444444444444,\"#bd3786\"],[0.5555555555555556,\"#d8576b\"],[0.6666666666666666,\"#ed7953\"],[0.7777777777777778,\"#fb9f3a\"],[0.8888888888888888,\"#fdca26\"],[1.0,\"#f0f921\"]]}],\"mesh3d\":[{\"type\":\"mesh3d\",\"colorbar\":{\"outlinewidth\":0,\"ticks\":\"\"}}],\"scatter\":[{\"fillpattern\":{\"fillmode\":\"overlay\",\"size\":10,\"solidity\":0.2},\"type\":\"scatter\"}],\"parcoords\":[{\"type\":\"parcoords\",\"line\":{\"colorbar\":{\"outlinewidth\":0,\"ticks\":\"\"}}}],\"scatterpolargl\":[{\"type\":\"scatterpolargl\",\"marker\":{\"colorbar\":{\"outlinewidth\":0,\"ticks\":\"\"}}}],\"bar\":[{\"error_x\":{\"color\":\"#2a3f5f\"},\"error_y\":{\"color\":\"#2a3f5f\"},\"marker\":{\"line\":{\"color\":\"#E5ECF6\",\"width\":0.5},\"pattern\":{\"fillmode\":\"overlay\",\"size\":10,\"solidity\":0.2}},\"type\":\"bar\"}],\"scattergeo\":[{\"type\":\"scattergeo\",\"marker\":{\"colorbar\":{\"outlinewidth\":0,\"ticks\":\"\"}}}],\"scatterpolar\":[{\"type\":\"scatterpolar\",\"marker\":{\"colorbar\":{\"outlinewidth\":0,\"ticks\":\"\"}}}],\"histogram\":[{\"marker\":{\"pattern\":{\"fillmode\":\"overlay\",\"size\":10,\"solidity\":0.2}},\"type\":\"histogram\"}],\"scattergl\":[{\"type\":\"scattergl\",\"marker\":{\"colorbar\":{\"outlinewidth\":0,\"ticks\":\"\"}}}],\"scatter3d\":[{\"type\":\"scatter3d\",\"line\":{\"colorbar\":{\"outlinewidth\":0,\"ticks\":\"\"}},\"marker\":{\"colorbar\":{\"outlinewidth\":0,\"ticks\":\"\"}}}],\"scattermapbox\":[{\"type\":\"scattermapbox\",\"marker\":{\"colorbar\":{\"outlinewidth\":0,\"ticks\":\"\"}}}],\"scatterternary\":[{\"type\":\"scatterternary\",\"marker\":{\"colorbar\":{\"outlinewidth\":0,\"ticks\":\"\"}}}],\"scattercarpet\":[{\"type\":\"scattercarpet\",\"marker\":{\"colorbar\":{\"outlinewidth\":0,\"ticks\":\"\"}}}],\"carpet\":[{\"aaxis\":{\"endlinecolor\":\"#2a3f5f\",\"gridcolor\":\"white\",\"linecolor\":\"white\",\"minorgridcolor\":\"white\",\"startlinecolor\":\"#2a3f5f\"},\"baxis\":{\"endlinecolor\":\"#2a3f5f\",\"gridcolor\":\"white\",\"linecolor\":\"white\",\"minorgridcolor\":\"white\",\"startlinecolor\":\"#2a3f5f\"},\"type\":\"carpet\"}],\"table\":[{\"cells\":{\"fill\":{\"color\":\"#EBF0F8\"},\"line\":{\"color\":\"white\"}},\"header\":{\"fill\":{\"color\":\"#C8D4E3\"},\"line\":{\"color\":\"white\"}},\"type\":\"table\"}],\"barpolar\":[{\"marker\":{\"line\":{\"color\":\"#E5ECF6\",\"width\":0.5},\"pattern\":{\"fillmode\":\"overlay\",\"size\":10,\"solidity\":0.2}},\"type\":\"barpolar\"}],\"pie\":[{\"automargin\":true,\"type\":\"pie\"}]},\"layout\":{\"autotypenumbers\":\"strict\",\"colorway\":[\"#636efa\",\"#EF553B\",\"#00cc96\",\"#ab63fa\",\"#FFA15A\",\"#19d3f3\",\"#FF6692\",\"#B6E880\",\"#FF97FF\",\"#FECB52\"],\"font\":{\"color\":\"#2a3f5f\"},\"hovermode\":\"closest\",\"hoverlabel\":{\"align\":\"left\"},\"paper_bgcolor\":\"white\",\"plot_bgcolor\":\"#E5ECF6\",\"polar\":{\"bgcolor\":\"#E5ECF6\",\"angularaxis\":{\"gridcolor\":\"white\",\"linecolor\":\"white\",\"ticks\":\"\"},\"radialaxis\":{\"gridcolor\":\"white\",\"linecolor\":\"white\",\"ticks\":\"\"}},\"ternary\":{\"bgcolor\":\"#E5ECF6\",\"aaxis\":{\"gridcolor\":\"white\",\"linecolor\":\"white\",\"ticks\":\"\"},\"baxis\":{\"gridcolor\":\"white\",\"linecolor\":\"white\",\"ticks\":\"\"},\"caxis\":{\"gridcolor\":\"white\",\"linecolor\":\"white\",\"ticks\":\"\"}},\"coloraxis\":{\"colorbar\":{\"outlinewidth\":0,\"ticks\":\"\"}},\"colorscale\":{\"sequential\":[[0.0,\"#0d0887\"],[0.1111111111111111,\"#46039f\"],[0.2222222222222222,\"#7201a8\"],[0.3333333333333333,\"#9c179e\"],[0.4444444444444444,\"#bd3786\"],[0.5555555555555556,\"#d8576b\"],[0.6666666666666666,\"#ed7953\"],[0.7777777777777778,\"#fb9f3a\"],[0.8888888888888888,\"#fdca26\"],[1.0,\"#f0f921\"]],\"sequentialminus\":[[0.0,\"#0d0887\"],[0.1111111111111111,\"#46039f\"],[0.2222222222222222,\"#7201a8\"],[0.3333333333333333,\"#9c179e\"],[0.4444444444444444,\"#bd3786\"],[0.5555555555555556,\"#d8576b\"],[0.6666666666666666,\"#ed7953\"],[0.7777777777777778,\"#fb9f3a\"],[0.8888888888888888,\"#fdca26\"],[1.0,\"#f0f921\"]],\"diverging\":[[0,\"#8e0152\"],[0.1,\"#c51b7d\"],[0.2,\"#de77ae\"],[0.3,\"#f1b6da\"],[0.4,\"#fde0ef\"],[0.5,\"#f7f7f7\"],[0.6,\"#e6f5d0\"],[0.7,\"#b8e186\"],[0.8,\"#7fbc41\"],[0.9,\"#4d9221\"],[1,\"#276419\"]]},\"xaxis\":{\"gridcolor\":\"white\",\"linecolor\":\"white\",\"ticks\":\"\",\"title\":{\"standoff\":15},\"zerolinecolor\":\"white\",\"automargin\":true,\"zerolinewidth\":2},\"yaxis\":{\"gridcolor\":\"white\",\"linecolor\":\"white\",\"ticks\":\"\",\"title\":{\"standoff\":15},\"zerolinecolor\":\"white\",\"automargin\":true,\"zerolinewidth\":2},\"scene\":{\"xaxis\":{\"backgroundcolor\":\"#E5ECF6\",\"gridcolor\":\"white\",\"linecolor\":\"white\",\"showbackground\":true,\"ticks\":\"\",\"zerolinecolor\":\"white\",\"gridwidth\":2},\"yaxis\":{\"backgroundcolor\":\"#E5ECF6\",\"gridcolor\":\"white\",\"linecolor\":\"white\",\"showbackground\":true,\"ticks\":\"\",\"zerolinecolor\":\"white\",\"gridwidth\":2},\"zaxis\":{\"backgroundcolor\":\"#E5ECF6\",\"gridcolor\":\"white\",\"linecolor\":\"white\",\"showbackground\":true,\"ticks\":\"\",\"zerolinecolor\":\"white\",\"gridwidth\":2}},\"shapedefaults\":{\"line\":{\"color\":\"#2a3f5f\"}},\"annotationdefaults\":{\"arrowcolor\":\"#2a3f5f\",\"arrowhead\":0,\"arrowwidth\":1},\"geo\":{\"bgcolor\":\"white\",\"landcolor\":\"#E5ECF6\",\"subunitcolor\":\"white\",\"showland\":true,\"showlakes\":true,\"lakecolor\":\"white\"},\"title\":{\"x\":0.05},\"mapbox\":{\"style\":\"light\"}}},\"scene\":{\"domain\":{\"x\":[0.0,1.0],\"y\":[0.0,1.0]}},\"legend\":{\"tracegroupgap\":0},\"margin\":{\"t\":60}},                        {\"responsive\": true}                    ).then(function(){\n",
       "                            \n",
       "var gd = document.getElementById('0c48dbdb-d24d-4bdf-ba47-73f60bc3b318');\n",
       "var x = new MutationObserver(function (mutations, observer) {{\n",
       "        var display = window.getComputedStyle(gd).display;\n",
       "        if (!display || display === 'none') {{\n",
       "            console.log([gd, 'removed!']);\n",
       "            Plotly.purge(gd);\n",
       "            observer.disconnect();\n",
       "        }}\n",
       "}});\n",
       "\n",
       "// Listen for the removal of the full notebook cells\n",
       "var notebookContainer = gd.closest('#notebook-container');\n",
       "if (notebookContainer) {{\n",
       "    x.observe(notebookContainer, {childList: true});\n",
       "}}\n",
       "\n",
       "// Listen for the clearing of the current output cell\n",
       "var outputEl = gd.closest('.output');\n",
       "if (outputEl) {{\n",
       "    x.observe(outputEl, {childList: true});\n",
       "}}\n",
       "\n",
       "                        })                };                });            </script>        </div>"
      ]
     },
     "metadata": {},
     "output_type": "display_data"
    }
   ],
   "source": [
    "import plotly.express as px\n",
    "import plotly.graph_objects as go\n",
    "\n",
    "fig = px.scatter_3d()\n",
    "\n",
    "fig.add_trace(go.Surface(x=xx,y=yy,z=zz))\n",
    "\n",
    "fig.show()"
   ]
  },
  {
   "cell_type": "code",
   "execution_count": null,
   "metadata": {
    "id": "CNxerQqMohWB"
   },
   "outputs": [],
   "source": []
  },
  {
   "cell_type": "code",
   "execution_count": 21,
   "metadata": {
    "id": "o3aegzmiBd8y"
   },
   "outputs": [],
   "source": [
    "# working with random\n",
    "# randint\n",
    "# seed\n",
    "# shuffle\n",
    "# choice"
   ]
  },
  {
   "cell_type": "code",
   "execution_count": 22,
   "metadata": {
    "colab": {
     "base_uri": "https://localhost:8080/"
    },
    "id": "92Q7WvTZzBUn",
    "outputId": "c3e61266-15f2-4a2a-aa9c-0859160dcd20"
   },
   "outputs": [
    {
     "data": {
      "text/plain": [
       "array([[[0.33739616, 0.64817187],\n",
       "        [0.36824154, 0.95715516],\n",
       "        [0.14035078, 0.87008726]],\n",
       "\n",
       "       [[0.47360805, 0.80091075],\n",
       "        [0.52047748, 0.67887953],\n",
       "        [0.72063265, 0.58201979]]])"
      ]
     },
     "execution_count": 22,
     "metadata": {},
     "output_type": "execute_result"
    }
   ],
   "source": [
    "np.random.random((2,3,2))"
   ]
  },
  {
   "cell_type": "code",
   "execution_count": 23,
   "metadata": {
    "colab": {
     "base_uri": "https://localhost:8080/"
    },
    "id": "mwDZ-tmxzSYz",
    "outputId": "65fee704-ef2d-4ca9-ef6f-80a8064c6f05"
   },
   "outputs": [
    {
     "data": {
      "text/plain": [
       "array([[45, 48, 65, 68],\n",
       "       [68, 10, 84, 22],\n",
       "       [37, 88, 71, 89]])"
      ]
     },
     "execution_count": 23,
     "metadata": {},
     "output_type": "execute_result"
    }
   ],
   "source": [
    "np.random.seed(0)\n",
    "np.random.randint(1,100,12).reshape(3,4)"
   ]
  },
  {
   "cell_type": "code",
   "execution_count": 24,
   "metadata": {
    "colab": {
     "base_uri": "https://localhost:8080/"
    },
    "id": "nSyGdUMGzpRZ",
    "outputId": "25e6a0bd-655f-4974-e8a5-d543d3115eaa"
   },
   "outputs": [
    {
     "data": {
      "text/plain": [
       "array([[45, 48, 65, 68],\n",
       "       [68, 10, 84, 22],\n",
       "       [37, 88, 71, 89]])"
      ]
     },
     "execution_count": 24,
     "metadata": {},
     "output_type": "execute_result"
    }
   ],
   "source": [
    "np.random.seed(0)\n",
    "np.random.randint(1,100,12).reshape(3,4)"
   ]
  },
  {
   "cell_type": "code",
   "execution_count": 25,
   "metadata": {
    "colab": {
     "base_uri": "https://localhost:8080/"
    },
    "id": "BC-wPQ2_zt2t",
    "outputId": "bd395520-6d9f-4f7c-c158-b405b27b49b2"
   },
   "outputs": [
    {
     "data": {
      "text/plain": [
       "array([[45, 48, 65, 68],\n",
       "       [68, 10, 84, 22],\n",
       "       [37, 88, 71, 89]])"
      ]
     },
     "execution_count": 25,
     "metadata": {},
     "output_type": "execute_result"
    }
   ],
   "source": [
    "np.random.seed(0)\n",
    "np.random.randint(1,100,12).reshape(3,4)"
   ]
  },
  {
   "cell_type": "code",
   "execution_count": 26,
   "metadata": {
    "colab": {
     "base_uri": "https://localhost:8080/"
    },
    "id": "z2tKH_JF0WZq",
    "outputId": "7c0fc5d3-3553-4838-c003-845554402f9f"
   },
   "outputs": [
    {
     "name": "stdout",
     "output_type": "stream",
     "text": [
      "[ 12  41  33  67  89 100]\n"
     ]
    }
   ],
   "source": [
    "a = np.array([12,41,33,67,89,100])\n",
    "print(a)"
   ]
  },
  {
   "cell_type": "code",
   "execution_count": 27,
   "metadata": {
    "id": "W3t__QNX0e_T"
   },
   "outputs": [],
   "source": [
    "np.random.shuffle(a)"
   ]
  },
  {
   "cell_type": "code",
   "execution_count": 28,
   "metadata": {
    "colab": {
     "base_uri": "https://localhost:8080/"
    },
    "id": "jNJ3ct980lCD",
    "outputId": "eb5549b8-c5ec-4acc-e63b-51d4735dd905"
   },
   "outputs": [
    {
     "data": {
      "text/plain": [
       "array([ 67, 100,  41,  33,  89,  12])"
      ]
     },
     "execution_count": 28,
     "metadata": {},
     "output_type": "execute_result"
    }
   ],
   "source": [
    "a"
   ]
  },
  {
   "cell_type": "code",
   "execution_count": 29,
   "metadata": {
    "colab": {
     "base_uri": "https://localhost:8080/"
    },
    "id": "GqB1AISH0sVW",
    "outputId": "aaefdc0e-081b-452e-d4ea-05582027818d"
   },
   "outputs": [
    {
     "data": {
      "text/plain": [
       "array([12, 41, 33])"
      ]
     },
     "execution_count": 29,
     "metadata": {},
     "output_type": "execute_result"
    }
   ],
   "source": [
    "np.random.choice(a,3,replace=False)"
   ]
  },
  {
   "cell_type": "code",
   "execution_count": 30,
   "metadata": {
    "id": "sXH-UfIaBZgs"
   },
   "outputs": [],
   "source": [
    "# working with images\n",
    "import cv2"
   ]
  },
  {
   "cell_type": "code",
   "execution_count": 31,
   "metadata": {
    "id": "2B8f3z_v8IPv"
   },
   "outputs": [],
   "source": [
    "# read the image\n",
    "img = cv2.imread('/content/screenshot1.png')"
   ]
  },
  {
   "cell_type": "code",
   "execution_count": 32,
   "metadata": {
    "colab": {
     "base_uri": "https://localhost:8080/"
    },
    "id": "DCww_z1sBeS3",
    "outputId": "1484a5a7-8294-48c2-d83a-9803557e86f1"
   },
   "outputs": [
    {
     "ename": "AttributeError",
     "evalue": "'NoneType' object has no attribute 'shape'",
     "output_type": "error",
     "traceback": [
      "\u001b[1;31m----------------------------------------------------------------------\u001b[0m",
      "\u001b[1;31mAttributeError\u001b[0m                       Traceback (most recent call last)",
      "Cell \u001b[1;32mIn[32], line 2\u001b[0m\n\u001b[0;32m      1\u001b[0m \u001b[38;5;66;03m# show array -> shape\u001b[39;00m\n\u001b[1;32m----> 2\u001b[0m \u001b[43mimg\u001b[49m\u001b[38;5;241;43m.\u001b[39;49m\u001b[43mshape\u001b[49m\n",
      "\u001b[1;31mAttributeError\u001b[0m: 'NoneType' object has no attribute 'shape'"
     ]
    }
   ],
   "source": [
    "# show array -> shape\n",
    "img.shape"
   ]
  },
  {
   "cell_type": "code",
   "execution_count": 51,
   "metadata": {
    "colab": {
     "base_uri": "https://localhost:8080/",
     "height": 257
    },
    "id": "NCBToqaxBgcj",
    "outputId": "b37f0e7f-2ee6-46e9-9c33-244af834a6f3"
   },
   "outputs": [
    {
     "ename": "AxisError",
     "evalue": "axis 1 is out of bounds for array of dimension 0",
     "output_type": "error",
     "traceback": [
      "\u001b[1;31m----------------------------------------------------------------------\u001b[0m",
      "\u001b[1;31mAxisError\u001b[0m                            Traceback (most recent call last)",
      "Cell \u001b[1;32mIn[51], line 2\u001b[0m\n\u001b[0;32m      1\u001b[0m \u001b[38;5;66;03m# show image\u001b[39;00m\n\u001b[1;32m----> 2\u001b[0m plt\u001b[38;5;241m.\u001b[39mimshow(\u001b[43mnp\u001b[49m\u001b[38;5;241;43m.\u001b[39;49m\u001b[43mflip\u001b[49m\u001b[43m(\u001b[49m\u001b[43mimg\u001b[49m\u001b[43m,\u001b[49m\u001b[43maxis\u001b[49m\u001b[38;5;241;43m=\u001b[39;49m\u001b[38;5;241;43m1\u001b[39;49m\u001b[43m)\u001b[49m)\n",
      "File \u001b[1;32mD:\\Applications\\PYTHON\\Python 3.10.11\\lib\\site-packages\\numpy\\lib\\function_base.py:340\u001b[0m, in \u001b[0;36mflip\u001b[1;34m(m, axis)\u001b[0m\n\u001b[0;32m    338\u001b[0m     indexer \u001b[38;5;241m=\u001b[39m (np\u001b[38;5;241m.\u001b[39ms_[::\u001b[38;5;241m-\u001b[39m\u001b[38;5;241m1\u001b[39m],) \u001b[38;5;241m*\u001b[39m m\u001b[38;5;241m.\u001b[39mndim\n\u001b[0;32m    339\u001b[0m \u001b[38;5;28;01melse\u001b[39;00m:\n\u001b[1;32m--> 340\u001b[0m     axis \u001b[38;5;241m=\u001b[39m \u001b[43m_nx\u001b[49m\u001b[38;5;241;43m.\u001b[39;49m\u001b[43mnormalize_axis_tuple\u001b[49m\u001b[43m(\u001b[49m\u001b[43maxis\u001b[49m\u001b[43m,\u001b[49m\u001b[43m \u001b[49m\u001b[43mm\u001b[49m\u001b[38;5;241;43m.\u001b[39;49m\u001b[43mndim\u001b[49m\u001b[43m)\u001b[49m\n\u001b[0;32m    341\u001b[0m     indexer \u001b[38;5;241m=\u001b[39m [np\u001b[38;5;241m.\u001b[39ms_[:]] \u001b[38;5;241m*\u001b[39m m\u001b[38;5;241m.\u001b[39mndim\n\u001b[0;32m    342\u001b[0m     \u001b[38;5;28;01mfor\u001b[39;00m ax \u001b[38;5;129;01min\u001b[39;00m axis:\n",
      "File \u001b[1;32mD:\\Applications\\PYTHON\\Python 3.10.11\\lib\\site-packages\\numpy\\core\\numeric.py:1380\u001b[0m, in \u001b[0;36mnormalize_axis_tuple\u001b[1;34m(axis, ndim, argname, allow_duplicate)\u001b[0m\n\u001b[0;32m   1378\u001b[0m         \u001b[38;5;28;01mpass\u001b[39;00m\n\u001b[0;32m   1379\u001b[0m \u001b[38;5;66;03m# Going via an iterator directly is slower than via list comprehension.\u001b[39;00m\n\u001b[1;32m-> 1380\u001b[0m axis \u001b[38;5;241m=\u001b[39m \u001b[38;5;28mtuple\u001b[39m([normalize_axis_index(ax, ndim, argname) \u001b[38;5;28;01mfor\u001b[39;00m ax \u001b[38;5;129;01min\u001b[39;00m axis])\n\u001b[0;32m   1381\u001b[0m \u001b[38;5;28;01mif\u001b[39;00m \u001b[38;5;129;01mnot\u001b[39;00m allow_duplicate \u001b[38;5;129;01mand\u001b[39;00m \u001b[38;5;28mlen\u001b[39m(\u001b[38;5;28mset\u001b[39m(axis)) \u001b[38;5;241m!=\u001b[39m \u001b[38;5;28mlen\u001b[39m(axis):\n\u001b[0;32m   1382\u001b[0m     \u001b[38;5;28;01mif\u001b[39;00m argname:\n",
      "File \u001b[1;32mD:\\Applications\\PYTHON\\Python 3.10.11\\lib\\site-packages\\numpy\\core\\numeric.py:1380\u001b[0m, in \u001b[0;36m<listcomp>\u001b[1;34m(.0)\u001b[0m\n\u001b[0;32m   1378\u001b[0m         \u001b[38;5;28;01mpass\u001b[39;00m\n\u001b[0;32m   1379\u001b[0m \u001b[38;5;66;03m# Going via an iterator directly is slower than via list comprehension.\u001b[39;00m\n\u001b[1;32m-> 1380\u001b[0m axis \u001b[38;5;241m=\u001b[39m \u001b[38;5;28mtuple\u001b[39m([\u001b[43mnormalize_axis_index\u001b[49m\u001b[43m(\u001b[49m\u001b[43max\u001b[49m\u001b[43m,\u001b[49m\u001b[43m \u001b[49m\u001b[43mndim\u001b[49m\u001b[43m,\u001b[49m\u001b[43m \u001b[49m\u001b[43margname\u001b[49m\u001b[43m)\u001b[49m \u001b[38;5;28;01mfor\u001b[39;00m ax \u001b[38;5;129;01min\u001b[39;00m axis])\n\u001b[0;32m   1381\u001b[0m \u001b[38;5;28;01mif\u001b[39;00m \u001b[38;5;129;01mnot\u001b[39;00m allow_duplicate \u001b[38;5;129;01mand\u001b[39;00m \u001b[38;5;28mlen\u001b[39m(\u001b[38;5;28mset\u001b[39m(axis)) \u001b[38;5;241m!=\u001b[39m \u001b[38;5;28mlen\u001b[39m(axis):\n\u001b[0;32m   1382\u001b[0m     \u001b[38;5;28;01mif\u001b[39;00m argname:\n",
      "\u001b[1;31mAxisError\u001b[0m: axis 1 is out of bounds for array of dimension 0"
     ]
    }
   ],
   "source": [
    "# show image\n",
    "plt.imshow(np.flip(img,axis=1))"
   ]
  },
  {
   "cell_type": "code",
   "execution_count": null,
   "metadata": {
    "colab": {
     "base_uri": "https://localhost:8080/"
    },
    "id": "S5MWYk1GBiL9",
    "outputId": "b94516fb-453e-4729-aae5-9445ff536603"
   },
   "outputs": [],
   "source": [
    "# flip\n",
    "a = np.arange(6).reshape(2,3)\n",
    "a"
   ]
  },
  {
   "cell_type": "code",
   "execution_count": null,
   "metadata": {
    "colab": {
     "base_uri": "https://localhost:8080/"
    },
    "id": "YabyxtzE3HEF",
    "outputId": "e80883c0-f3f8-4d07-e88c-b2f6d0afd0f4"
   },
   "outputs": [],
   "source": [
    "np.flip(a)"
   ]
  },
  {
   "cell_type": "code",
   "execution_count": null,
   "metadata": {
    "colab": {
     "base_uri": "https://localhost:8080/",
     "height": 257
    },
    "id": "4aHVoSykBjS1",
    "outputId": "4a03701c-b719-406b-f1d3-6f2b4b1af65f"
   },
   "outputs": [],
   "source": [
    "# clip -> fade\n",
    "plt.imshow(np.clip(img,0,100))"
   ]
  },
  {
   "cell_type": "code",
   "execution_count": null,
   "metadata": {
    "colab": {
     "base_uri": "https://localhost:8080/",
     "height": 257
    },
    "id": "yhoJx8l08P2K",
    "outputId": "a922fba6-e69d-4ad0-f935-c1af1dedc3f7"
   },
   "outputs": [],
   "source": [
    "# negative\n",
    "plt.imshow(255 - img)"
   ]
  },
  {
   "cell_type": "code",
   "execution_count": null,
   "metadata": {
    "colab": {
     "base_uri": "https://localhost:8080/",
     "height": 286
    },
    "id": "PT7bS1jJ8VLf",
    "outputId": "3d5b7c41-6c05-459e-da03-8b8810aa9d5c"
   },
   "outputs": [],
   "source": [
    "# trim\n",
    "plt.imshow(img[100:900,50:900,:])"
   ]
  },
  {
   "cell_type": "code",
   "execution_count": null,
   "metadata": {
    "colab": {
     "base_uri": "https://localhost:8080/",
     "height": 1000
    },
    "id": "PY7-RTAaFaE8",
    "outputId": "ec38f25e-aaf1-4276-cc4c-36520d0f7d0b"
   },
   "outputs": [],
   "source": [
    "# plot histogram\n",
    "plt.hist(img.flatten(),bins=255)"
   ]
  },
  {
   "cell_type": "code",
   "execution_count": null,
   "metadata": {
    "id": "tCwm2AkKFJjJ"
   },
   "outputs": [],
   "source": [
    "# More manipulations\n",
    "# https://www.analyticsvidhya.com/blog/2021/05/image-processing-using-numpy-with-practical-implementation-and-code/"
   ]
  },
  {
   "cell_type": "code",
   "execution_count": null,
   "metadata": {
    "colab": {
     "base_uri": "https://localhost:8080/"
    },
    "id": "jEFkZgjcBZnZ",
    "outputId": "4cc48c39-0a95-4f89-c97e-b085e0a11f19"
   },
   "outputs": [],
   "source": [
    "# structured arrays\n",
    "a = np.array([1,'hello',True,1.5])\n",
    "a"
   ]
  },
  {
   "cell_type": "code",
   "execution_count": null,
   "metadata": {
    "colab": {
     "base_uri": "https://localhost:8080/",
     "height": 167
    },
    "id": "6F3hdh6h5mr2",
    "outputId": "b7948ce2-b876-48f0-db46-19b71064670b"
   },
   "outputs": [],
   "source": [
    "a[0] / 100"
   ]
  },
  {
   "cell_type": "code",
   "execution_count": 52,
   "metadata": {
    "id": "b76yf5o20GAF"
   },
   "outputs": [],
   "source": [
    "# name,iq,cgpa,placed\n",
    "\n",
    "dt = np.dtype(\n",
    "    [\n",
    "        ('name','U20'),\n",
    "        ('iq',np.int32),\n",
    "        ('cgpa',np.float64),\n",
    "        ('placed','U20')\n",
    "    ]\n",
    ")"
   ]
  },
  {
   "cell_type": "code",
   "execution_count": 53,
   "metadata": {
    "colab": {
     "base_uri": "https://localhost:8080/"
    },
    "id": "xr3CeKE00x7S",
    "outputId": "a24665b3-d050-4c45-e847-93e13a322b91"
   },
   "outputs": [
    {
     "data": {
      "text/plain": [
       "dtype([('name', '<U20'), ('iq', '<i4'), ('cgpa', '<f8'), ('placed', '<U20')])"
      ]
     },
     "execution_count": 53,
     "metadata": {},
     "output_type": "execute_result"
    }
   ],
   "source": [
    "dt"
   ]
  },
  {
   "cell_type": "code",
   "execution_count": 54,
   "metadata": {
    "colab": {
     "base_uri": "https://localhost:8080/"
    },
    "id": "yhTsdPzo1Iy-",
    "outputId": "5f325245-598c-4a82-e01c-7c298b72e703"
   },
   "outputs": [
    {
     "data": {
      "text/plain": [
       "array([('nitish', 100, 6.66, 'Yes'), ('ankit', 120, 8.9 , 'Yes'),\n",
       "       ('rahul',  80, 7.3 , 'No')],\n",
       "      dtype=[('name', '<U20'), ('iq', '<i4'), ('cgpa', '<f8'), ('placed', '<U20')])"
      ]
     },
     "execution_count": 54,
     "metadata": {},
     "output_type": "execute_result"
    }
   ],
   "source": [
    "stu = np.array(\n",
    "    [\n",
    "        ('nitish',100,6.66,'Yes'),\n",
    "        ('ankit',120,8.9,'Yes'),\n",
    "        ('rahul',80,7.3,'No')\n",
    "    ],dtype=dt\n",
    ")\n",
    "\n",
    "stu"
   ]
  },
  {
   "cell_type": "code",
   "execution_count": 55,
   "metadata": {
    "colab": {
     "base_uri": "https://localhost:8080/"
    },
    "id": "UoV-BcN4Qdcq",
    "outputId": "ffb6cb23-877a-4977-bc0c-49aef50b2a0c"
   },
   "outputs": [
    {
     "data": {
      "text/plain": [
       "array(['Yes', 'Yes', 'No'], dtype='<U20')"
      ]
     },
     "execution_count": 55,
     "metadata": {},
     "output_type": "execute_result"
    }
   ],
   "source": [
    "stu['placed']"
   ]
  },
  {
   "cell_type": "code",
   "execution_count": 56,
   "metadata": {
    "id": "dDqGiA4aFW1N"
   },
   "outputs": [],
   "source": [
    "# save and load numpy objects\n",
    "np.save('student.npy',stu)"
   ]
  },
  {
   "cell_type": "code",
   "execution_count": 57,
   "metadata": {
    "id": "Ybf3-QxbF-cy"
   },
   "outputs": [],
   "source": [
    "# remaining functions\n",
    "# --> np.swapaxes\n",
    "# --> np.uniform\n",
    "# --> np.count_nonzero\n",
    "# --> np.tile\n",
    "# --> np.repeat\n",
    "# --> np.allclose"
   ]
  },
  {
   "cell_type": "markdown",
   "metadata": {
    "id": "uyIdcfJrUBOu"
   },
   "source": [
    "###`np.swapaxes(arr, axis1, axis2)`\n",
    "```\n",
    "Interchange two axes of an array.\n",
    "\n",
    "Syntax : numpy.swapaxes(arr, axis1, axis2)\n",
    "Parameters :\n",
    "arr : [array_like] input array.\n",
    "axis1 : [int] First axis.\n",
    "axis2 : [int] Second axis.\n",
    "Return : [ndarray]\n",
    "```"
   ]
  },
  {
   "cell_type": "code",
   "execution_count": 58,
   "metadata": {
    "colab": {
     "base_uri": "https://localhost:8080/"
    },
    "id": "sNWyZKq8PP0g",
    "outputId": "76827025-60be-42c4-f0dc-465866635589"
   },
   "outputs": [
    {
     "name": "stdout",
     "output_type": "stream",
     "text": [
      "[[1 2 3]\n",
      " [4 5 6]]\n",
      "(2, 3)\n",
      "Swapped\n",
      "[[1 4]\n",
      " [2 5]\n",
      " [3 6]]\n",
      "(3, 2)\n"
     ]
    }
   ],
   "source": [
    "#Example\n",
    "x = np.array([[1,2,3],[4,5,6]])\n",
    "print(x)\n",
    "print(x.shape)\n",
    "print(\"Swapped\")\n",
    "x_swapped = np.swapaxes(x,0,1)\n",
    "print(x_swapped)\n",
    "print(x_swapped.shape)\n"
   ]
  },
  {
   "cell_type": "markdown",
   "metadata": {
    "id": "N5QSqBiSUHao"
   },
   "source": [
    "Note: It is not same as reshaping."
   ]
  },
  {
   "cell_type": "code",
   "execution_count": 59,
   "metadata": {
    "colab": {
     "base_uri": "https://localhost:8080/"
    },
    "id": "V_yU-sGKNaxc",
    "outputId": "f0190a71-6735-4318-a16b-5b4fd1ffae44"
   },
   "outputs": [
    {
     "name": "stdout",
     "output_type": "stream",
     "text": [
      "[[1 2]\n",
      " [3 4]\n",
      " [5 6]]\n"
     ]
    }
   ],
   "source": [
    "x_reshaped = x.reshape(3,2)\n",
    "print(x_reshaped)"
   ]
  },
  {
   "cell_type": "markdown",
   "metadata": {
    "id": "TsGD3l74VcZM"
   },
   "source": [
    "###`numpy.random.uniform(low=0.0, high=1.0, size=None)`\n",
    "\n",
    "Draw samples from a uniform distribution in rangge [low - high); high not included.\n",
    "https://numpy.org/doc/stable/reference/random/generated/numpy.random.uniform.html\n",
    "```\n",
    "Syntax : numpy.random.uniform(low, high, size=None)\n",
    "            low -> lower bound of sample; default value is 0\n",
    "            high -> uper bound of sample; defalut value is 1.0\n",
    "            size -> shape of the desired sample. If the given shape is, e.g., (m, n, k), then m * n * k samples are drawn.\n",
    "\n",
    "Return : Return the random samples as numpy array.\n",
    "```\n",
    "When ever we need to test our model on uniform data and we might not get truly uniform data in real scenario, we can use this function to randomly generate data for us."
   ]
  },
  {
   "cell_type": "code",
   "execution_count": 63,
   "metadata": {
    "colab": {
     "base_uri": "https://localhost:8080/"
    },
    "id": "DDJu9SYzYAqy",
    "outputId": "d6ecbd11-e57d-4cee-8ba1-d9e53bf8d275"
   },
   "outputs": [
    {
     "name": "stdout",
     "output_type": "stream",
     "text": [
      "[ 4.95246916  3.17130609 10.13311429  4.9523008   9.67842356  0.48417999\n",
      "  5.89382112  4.98003546  3.58729462  3.30208404]\n"
     ]
    },
    {
     "data": {
      "image/png": "[encoded data removed]",
      "text/plain": [
       "<Figure size 640x480 with 1 Axes>"
      ]
     },
     "metadata": {},
     "output_type": "display_data"
    }
   ],
   "source": [
    "#Example:\n",
    "uniform = np.random.uniform(0, 11, 10)\n",
    "print(uniform)\n",
    "plt.hist(uniform, bins = 10, density = True)\n",
    "plt.show()"
   ]
  },
  {
   "cell_type": "code",
   "execution_count": 61,
   "metadata": {
    "colab": {
     "base_uri": "https://localhost:8080/",
     "height": 265
    },
    "id": "3eKH3ELMNbjh",
    "outputId": "4f112c58-b4fb-4452-869d-18515199862f"
   },
   "outputs": [
    {
     "data": {
      "image/png": "[encoded data removed]",
      "text/plain": [
       "<Figure size 640x480 with 1 Axes>"
      ]
     },
     "metadata": {},
     "output_type": "display_data"
    }
   ],
   "source": [
    "#Example:\n",
    "import matplotlib.pyplot as plt\n",
    "\n",
    "# Using uniform() method\n",
    "uniform = np.random.uniform(-5, 10, 1000)\n",
    "\n",
    "plt.hist(uniform, bins = 30, density = True)\n",
    "plt.show()"
   ]
  },
  {
   "cell_type": "code",
   "execution_count": null,
   "metadata": {
    "id": "VaPBDFXwANgK"
   },
   "outputs": [],
   "source": []
  },
  {
   "cell_type": "markdown",
   "metadata": {
    "id": "KGbOUpgnYhFX"
   },
   "source": [
    "###`np.count_nonzero(arr, axis=None)`\n",
    "This function counts the number of non-zero values in the array\n",
    "https://numpy.org/doc/stable/reference/generated/numpy.count_nonzero.html\n",
    "\n",
    "```\n",
    "Syntax : numpy.count_nonzero(arr, axis=None)\n",
    "\n",
    "Parameters :\n",
    "    arr : [array_like] The array for which to count non-zeros.\n",
    "\n",
    "    axis : [int or tuple, optional] Axis or tuple of axes along which to count non-zeros. Default is None, meaning that non-zeros will be counted along a flattened version of arr.\n",
    "\n",
    "    keepdims : [bool, optional] If this is set to True, the axes that are counted are left in the result as dimensions with size one.\n",
    "\n",
    "Return : [int or array of int] Number of non-zero values in the array along a given axis. Otherwise, the total number of non-zero values in the array is returned.\n",
    "```\n"
   ]
  },
  {
   "cell_type": "code",
   "execution_count": 64,
   "metadata": {
    "colab": {
     "base_uri": "https://localhost:8080/"
    },
    "id": "NXTR807WAe6h",
    "outputId": "83bcbefe-7bb8-4a9f-b831-b21250a6e623"
   },
   "outputs": [
    {
     "name": "stdout",
     "output_type": "stream",
     "text": [
      "5\n",
      "[1 1 2 1]\n",
      "[2 3]\n"
     ]
    }
   ],
   "source": [
    "#Example\n",
    "\n",
    "a = np.array([[0, 1, 7, 0],\n",
    "              [3, 0, 2, 19]])\n",
    "\n",
    "print(np.count_nonzero(a))\n",
    "\n",
    "print(np.count_nonzero(a, axis=0))\n",
    "\n",
    "print(np.count_nonzero(a, axis=1))\n"
   ]
  },
  {
   "cell_type": "markdown",
   "metadata": {
    "id": "qGdsqNeRaZoS"
   },
   "source": [
    "###`np.tile(A, reps)`\n",
    "Construct an array by repeating `A` the number of times given by `reps`.\n",
    "If reps has length `d`, the result will have dimension of `max(d, A.ndim)`.\n",
    "```\n",
    "Parameters:\n",
    "\n",
    "    A: array_like\n",
    "        The input array.\n",
    "\n",
    "    reps: array_like\n",
    "        The number of repetitions of A along each axis.\n",
    "\n",
    "Returns\n",
    "    c: ndarray\n",
    "        The tiled output array.\n",
    "```\n",
    "https://numpy.org/doc/stable/reference/generated/numpy.tile.html"
   ]
  },
  {
   "cell_type": "code",
   "execution_count": 66,
   "metadata": {
    "colab": {
     "base_uri": "https://localhost:8080/"
    },
    "id": "XYNFhAR2aOi1",
    "outputId": "acd955de-6702-4a0a-afdf-5b048b1e024a"
   },
   "outputs": [
    {
     "name": "stdout",
     "output_type": "stream",
     "text": [
      "[0 1 2]\n",
      "Tiled\n",
      "[0 1 2 0 1 2]\n"
     ]
    }
   ],
   "source": [
    "# np.tile - Example\n",
    "a = np.array([0, 1, 2])\n",
    "print(a)\n",
    "print(\"Tiled\")\n",
    "print(np.tile(a, 2))\n",
    "# Reps is given as 2 so whole array will get repeted 2 times\n"
   ]
  },
  {
   "cell_type": "code",
   "execution_count": 67,
   "metadata": {
    "colab": {
     "base_uri": "https://localhost:8080/"
    },
    "id": "HcQlwdhXbnnK",
    "outputId": "b427fa6c-f487-472e-e847-7af08b119bcf"
   },
   "outputs": [
    {
     "data": {
      "text/plain": [
       "array([[0, 1, 2, 0, 1, 2],\n",
       "       [0, 1, 2, 0, 1, 2]])"
      ]
     },
     "execution_count": 67,
     "metadata": {},
     "output_type": "execute_result"
    }
   ],
   "source": [
    "np.tile(a, (2, 2))\n",
    "# Reps is given as (2, 2)\n",
    "# means along axis-0, 2 time repetition and\n",
    "# along axis-1, 2 times repetition\n",
    "# Axis-0 downward along the rows\n",
    "# Axis -1 rightward along columns -> or inside each rows."
   ]
  },
  {
   "cell_type": "code",
   "execution_count": 68,
   "metadata": {
    "colab": {
     "base_uri": "https://localhost:8080/"
    },
    "id": "u_V1wzRebqly",
    "outputId": "1063069b-0fef-4fc8-d44f-07223e287150"
   },
   "outputs": [
    {
     "data": {
      "text/plain": [
       "array([[0, 1, 2, 0, 1, 2, 0, 1, 2],\n",
       "       [0, 1, 2, 0, 1, 2, 0, 1, 2]])"
      ]
     },
     "execution_count": 68,
     "metadata": {},
     "output_type": "execute_result"
    }
   ],
   "source": [
    "np.tile(a, (2, 3)) # Along axis-1 3 times repetition"
   ]
  },
  {
   "cell_type": "markdown",
   "metadata": {
    "id": "aEm7D7addAr4"
   },
   "source": [
    "###`np.repeat(a, repeats, axis=None)`\n",
    "Repeat elements of an array. `repeats` parameter says no of time to repeat\n",
    "\n",
    "```\n",
    "Parameters:\n",
    "            a: array_like\n",
    "                    Input array.\n",
    "\n",
    "            repeats: int or array of ints\n",
    "                    The number of repetitions for each element. repeats is broadcasted to fit the shape of the given axis.\n",
    "\n",
    "            axis: int, optional\n",
    "                    The axis along which to repeat values. By default, use the flattened input array, and return a flat output array.\n",
    "\n",
    "Returns:\n",
    "    repeated_array: ndarray\n",
    "                    Output array which has the same shape as a, except along the given axis.\n",
    "```\n",
    "https://numpy.org/doc/stable/reference/generated/numpy.repeat.html"
   ]
  },
  {
   "cell_type": "code",
   "execution_count": 69,
   "metadata": {
    "colab": {
     "base_uri": "https://localhost:8080/"
    },
    "id": "R0HBfguMdFrN",
    "outputId": "de268810-45aa-4e6e-bf99-8b7960accadf"
   },
   "outputs": [
    {
     "name": "stdout",
     "output_type": "stream",
     "text": [
      "[[1 2]\n",
      " [3 4]]\n",
      "[1 1 2 2 3 3 4 4]\n"
     ]
    }
   ],
   "source": [
    "x = np.array([[1,2],[3,4]])\n",
    "print(x)\n",
    "print(np.repeat(x, 2)) # Every element is getting repeted 2 times."
   ]
  },
  {
   "cell_type": "code",
   "execution_count": 70,
   "metadata": {
    "colab": {
     "base_uri": "https://localhost:8080/"
    },
    "id": "dfVGqGQ3eail",
    "outputId": "d3199c46-2a0a-45b9-e6a2-fc8b1bb52036"
   },
   "outputs": [
    {
     "name": "stdout",
     "output_type": "stream",
     "text": [
      "[[1 2]\n",
      " [3 4]]\n",
      "[[1 1 1 2 2 2]\n",
      " [3 3 3 4 4 4]]\n"
     ]
    }
   ],
   "source": [
    "print(x)\n",
    "print(np.repeat(x, 3, axis=1)) # Alog axis-1 means rightward inside rows/ along columns\n",
    "# Along axis-1 columns will increase"
   ]
  },
  {
   "cell_type": "code",
   "execution_count": 71,
   "metadata": {
    "colab": {
     "base_uri": "https://localhost:8080/"
    },
    "id": "hzhGmfkFeyDj",
    "outputId": "c171339a-009b-48ea-da54-5759b5d5832d"
   },
   "outputs": [
    {
     "name": "stdout",
     "output_type": "stream",
     "text": [
      "[[1 2]\n",
      " [1 2]\n",
      " [1 2]\n",
      " [3 4]\n",
      " [3 4]\n",
      " [3 4]]\n"
     ]
    }
   ],
   "source": [
    "print(np.repeat(x, 3, axis=0)) # Alog axis-0 means downward to rows/ along inside a column\n",
    "# Along axis-0 rows will increase\n"
   ]
  },
  {
   "cell_type": "markdown",
   "metadata": {
    "id": "TrChGLOXdDT8"
   },
   "source": [
    "### `np.allclose`\n",
    "Returns True if two arrays are element-wise equal within a tolerance.\n",
    "\n",
    "The tolerance values are positive, typically very small numbers. The relative difference `(rtol * abs(b))` and the absolute difference `atol` are added together to compare against the `absolute difference` between `a and b`.\n",
    "\n",
    "If the following equation is element-wise True, then `allclose` returns `True`.\n",
    "\n",
    "> `absolute(a - b) <= (atol + rtol * absolute(b))`\n",
    "\n",
    "```\n",
    "Syntax : numpy.allclose(arr1, arr2, rtol, atol, equal_nan=False)\n",
    "\n",
    "Parameters :\n",
    "    arr1 : [array_like] Input 1st array.\n",
    "    arr2 : [array_like] Input 2nd array.\n",
    "    rtol : [float] The relative tolerance parameter.\n",
    "    atol : [float] The absolute tolerance parameter.\n",
    "    equal_nan : [bool] Whether to compare NaN’s as equal.\n",
    "            If True, NaN’s in arr1 will be considered equal to NaN’s in arr2 in the output array.\n",
    "\n",
    "Return : [ bool] Returns True if the two arrays are equal within the given tolerance, otherwise it returns False.\n",
    "```\n",
    "https://numpy.org/doc/stable/reference/generated/numpy.allclose.html\n",
    "https://www.geeksforgeeks.org/numpy-allclose-in-python/\n"
   ]
  },
  {
   "cell_type": "code",
   "execution_count": 72,
   "metadata": {
    "colab": {
     "base_uri": "https://localhost:8080/"
    },
    "id": "WLQ2klKsbr8c",
    "outputId": "eb672b9b-78e5-4b0b-cbb7-5cb63316afd5"
   },
   "outputs": [
    {
     "name": "stdout",
     "output_type": "stream",
     "text": [
      "[1.1    1.2    1.0001]\n",
      "[1.    1.02  1.001]\n",
      "[0.1    0.18   0.0009]\n",
      "False\n",
      "True\n"
     ]
    }
   ],
   "source": [
    "#np.allclose example\n",
    "#Comparing -\n",
    "a = np.array([1.1, 1.2, 1.0001])\n",
    "b = np.array([1., 1.02, 1.001])\n",
    "print(a)\n",
    "print(b)\n",
    "print(np.abs(a-b))\n",
    "\n",
    "print(np.allclose(a,b)) # will return false\n",
    "print(np.allclose(a,b, atol=0.2)) # will return true, as i incearse the absolute tolerance value\n"
   ]
  },
  {
   "cell_type": "code",
   "execution_count": 80,
   "metadata": {
    "colab": {
     "base_uri": "https://localhost:8080/"
    },
    "id": "b1DJ1Ep_h6uW",
    "outputId": "1679f57a-dbe2-4e79-c999-0e7e76ff43c7"
   },
   "outputs": [
    {
     "name": "stdout",
     "output_type": "stream",
     "text": [
      "False\n",
      "True\n"
     ]
    }
   ],
   "source": [
    "print(np.allclose([1.0, np.nan], [1.0, np.nan])) # Nan will be taken as different\n",
    "\n",
    "print(np.allclose([1.0, np.nan], [1.0, np.nan], equal_nan=True)) # Nan will be treated as same"
   ]
  },
  {
   "cell_type": "code",
   "execution_count": null,
   "metadata": {
    "id": "fnJmLYyQiL7M"
   },
   "outputs": [],
   "source": []
  },
  {
   "cell_type": "code",
   "execution_count": 74,
   "metadata": {},
   "outputs": [],
   "source": [
    "dt = np.dtype(\n",
    "    [\n",
    "        (\"name\",'U20'),\n",
    "        (\"iq\",np.int32),\n",
    "        ('cgpa',np.float64),\n",
    "        ('placed','U20')\n",
    "    ]\n",
    ")"
   ]
  },
  {
   "cell_type": "code",
   "execution_count": 75,
   "metadata": {},
   "outputs": [
    {
     "data": {
      "text/plain": [
       "dtype([('name', '<U20'), ('iq', '<i4'), ('cgpa', '<f8'), ('placed', '<U20')])"
      ]
     },
     "execution_count": 75,
     "metadata": {},
     "output_type": "execute_result"
    }
   ],
   "source": [
    "dt"
   ]
  },
  {
   "cell_type": "code",
   "execution_count": 76,
   "metadata": {},
   "outputs": [],
   "source": [
    "student= np.array(\n",
    "    [\n",
    "        ('Mohsin',100,6.66,'yes'),\n",
    "        (\"Hamid\",120,5.5,'no')\n",
    "    ],dtype=dt\n",
    ")"
   ]
  },
  {
   "cell_type": "code",
   "execution_count": 77,
   "metadata": {},
   "outputs": [
    {
     "data": {
      "text/plain": [
       "array([('Mohsin', 100, 6.66, 'yes'), ('Hamid', 120, 5.5 , 'no')],\n",
       "      dtype=[('name', '<U20'), ('iq', '<i4'), ('cgpa', '<f8'), ('placed', '<U20')])"
      ]
     },
     "execution_count": 77,
     "metadata": {},
     "output_type": "execute_result"
    }
   ],
   "source": [
    "student"
   ]
  },
  {
   "cell_type": "code",
   "execution_count": 78,
   "metadata": {},
   "outputs": [
    {
     "data": {
      "text/plain": [
       "numpy.ndarray"
      ]
     },
     "execution_count": 78,
     "metadata": {},
     "output_type": "execute_result"
    }
   ],
   "source": [
    "type(student)"
   ]
  },
  {
   "cell_type": "code",
   "execution_count": 79,
   "metadata": {},
   "outputs": [
    {
     "name": "stdout",
     "output_type": "stream",
     "text": [
      "<class 'numpy.str_'>\n",
      "<class 'numpy.int32'>\n",
      "<class 'numpy.float64'>\n",
      "<class 'numpy.str_'>\n"
     ]
    }
   ],
   "source": [
    "for i in student[0]:\n",
    "    print(type(i))"
   ]
  },
  {
   "cell_type": "code",
   "execution_count": null,
   "metadata": {},
   "outputs": [],
   "source": []
  },
  {
   "cell_type": "code",
   "execution_count": null,
   "metadata": {},
   "outputs": [],
   "source": []
  },
  {
   "cell_type": "code",
   "execution_count": null,
   "metadata": {},
   "outputs": [],
   "source": []
  },
  {
   "cell_type": "code",
   "execution_count": null,
   "metadata": {},
   "outputs": [],
   "source": []
  },
  {
   "cell_type": "code",
   "execution_count": null,
   "metadata": {},
   "outputs": [],
   "source": []
  },
  {
   "cell_type": "code",
   "execution_count": null,
   "metadata": {},
   "outputs": [],
   "source": []
  },
  {
   "cell_type": "code",
   "execution_count": null,
   "metadata": {},
   "outputs": [],
   "source": []
  },
  {
   "cell_type": "code",
   "execution_count": null,
   "metadata": {},
   "outputs": [],
   "source": []
  },
  {
   "cell_type": "code",
   "execution_count": null,
   "metadata": {},
   "outputs": [],
   "source": []
  },
  {
   "cell_type": "code",
   "execution_count": null,
   "metadata": {},
   "outputs": [],
   "source": []
  },
  {
   "cell_type": "code",
   "execution_count": null,
   "metadata": {},
   "outputs": [],
   "source": []
  },
  {
   "cell_type": "code",
   "execution_count": null,
   "metadata": {},
   "outputs": [],
   "source": []
  },
  {
   "cell_type": "code",
   "execution_count": null,
   "metadata": {},
   "outputs": [],
   "source": []
  },
  {
   "cell_type": "code",
   "execution_count": null,
   "metadata": {},
   "outputs": [],
   "source": []
  }
 ],
 "metadata": {
  "colab": {
   "collapsed_sections": [
    "uyIdcfJrUBOu",
    "TsGD3l74VcZM",
    "KGbOUpgnYhFX",
    "qGdsqNeRaZoS",
    "aEm7D7addAr4",
    "TrChGLOXdDT8"
   ],
   "provenance": []
  },
  "kernelspec": {
   "display_name": "Python 3 (ipykernel)",
   "language": "python",
   "name": "python3"
  },
  "language_info": {
   "codemirror_mode": {
    "name": "ipython",
    "version": 3
   },
   "file_extension": ".py",
   "mimetype": "text/x-python",
   "name": "python",
   "nbconvert_exporter": "python",
   "pygments_lexer": "ipython3",
   "version": "3.10.11"
  },
  "widgets": {
   "application/vnd.jupyter.widget-state+json": {
    "state": {},
    "version_major": 2,
    "version_minor": 0
   }
  }
 },
 "nbformat": 4,
 "nbformat_minor": 4
}
