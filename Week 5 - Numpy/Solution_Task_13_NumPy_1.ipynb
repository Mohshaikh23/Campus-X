{
 "cells": [
  {
   "cell_type": "markdown",
   "metadata": {
    "id": "6WdKdPGx-tnY"
   },
   "source": [
    "**Note: In Data Science googling is a very important skill. If you find some difficulties to solve the problem, google it and try to find some clues to solve.**"
   ]
  },
  {
   "cell_type": "code",
   "execution_count": 1,
   "metadata": {
    "id": "-J4F1ysN4mLk"
   },
   "outputs": [],
   "source": [
    "import numpy as np"
   ]
  },
  {
   "cell_type": "markdown",
   "metadata": {
    "id": "a_K8IH-C6HDK"
   },
   "source": [
    "###`Q-1` Create a null vector of size 10 but the fifth value which is 1.\n",
    "\n"
   ]
  },
  {
   "cell_type": "code",
   "execution_count": 18,
   "metadata": {
    "id": "sTF03KsZ6QUI"
   },
   "outputs": [
    {
     "data": {
      "text/plain": [
       "array([nan, nan, nan, nan,  1., nan, nan, nan, nan, nan])"
      ]
     },
     "execution_count": 18,
     "metadata": {},
     "output_type": "execute_result"
    }
   ],
   "source": [
    "#Code here\n",
    "a = np.nan*np.empty(10)\n",
    "a[4]=1\n",
    "a"
   ]
  },
  {
   "cell_type": "markdown",
   "metadata": {
    "id": "TEiG25rS6S1i"
   },
   "source": [
    "###`Q-2` Ask user to input two numbers a, b. Write a program to generate a random array of shape (a, b) and print the array and avg of the array."
   ]
  },
  {
   "cell_type": "code",
   "execution_count": 21,
   "metadata": {
    "id": "ihwn4oOH6Vh7"
   },
   "outputs": [
    {
     "name": "stdin",
     "output_type": "stream",
     "text": [
      "a =  3\n",
      "b =  4\n"
     ]
    },
    {
     "name": "stdout",
     "output_type": "stream",
     "text": [
      "[[0.94105292 0.91939364 0.5374036  0.40457993]\n",
      " [0.64942867 0.07528236 0.63995116 0.67955165]\n",
      " [0.6963847  0.28129841 0.17322305 0.75713102]]\n",
      "Average =  0.5961297562279773\n"
     ]
    }
   ],
   "source": [
    "#Code here\n",
    "a= int(input('a = '))\n",
    "b= int(input('b = '))\n",
    "\n",
    "def array_create(a,b):\n",
    "    arr_ = np.random.random(a*b).reshape(a,b)\n",
    "    return arr_\n",
    "\n",
    "print(array_create(a,b))\n",
    "print(\"Average = \",arr.mean())"
   ]
  },
  {
   "cell_type": "markdown",
   "metadata": {
    "id": "2iEeybS06ZSq"
   },
   "source": [
    "###`Q-3`Write a function to create a 2d array with 1 on the border and 0 inside. Take 2-D array shape as (a,b) as parameter to function.\n",
    "\n",
    "Eg.-\n",
    "```\n",
    "[[1,1,1,1],\n",
    "[1,0,0,1],\n",
    "[1,0,0,1],\n",
    "[1,1,1,1]]\n",
    "```"
   ]
  },
  {
   "cell_type": "code",
   "execution_count": 28,
   "metadata": {
    "id": "gEKndkDU6ZSs"
   },
   "outputs": [
    {
     "name": "stdin",
     "output_type": "stream",
     "text": [
      "a =  4\n",
      "b =  5\n"
     ]
    },
    {
     "data": {
      "text/plain": [
       "array([[1, 1, 1, 1, 1],\n",
       "       [1, 0, 0, 0, 1],\n",
       "       [1, 0, 0, 0, 1],\n",
       "       [1, 1, 1, 1, 1]])"
      ]
     },
     "execution_count": 28,
     "metadata": {},
     "output_type": "execute_result"
    }
   ],
   "source": [
    "#Code here\n",
    "a= int(input('a = '))\n",
    "b= int(input('b = '))\n",
    "\n",
    "def border_array(a,b):\n",
    "    arr_ = np.ones(a*b,dtype=int).reshape(a,b)\n",
    "    arr_[1:-1,1:-1]=0\n",
    "    return arr_\n",
    "\n",
    "border_array(a,b)"
   ]
  },
  {
   "cell_type": "markdown",
   "metadata": {
    "id": "QRJicQ8j6ZlE"
   },
   "source": [
    "###`Q-4` Create a vector of size 10 with values ranging from 0 to 1, both excluded.\n"
   ]
  },
  {
   "cell_type": "code",
   "execution_count": 37,
   "metadata": {
    "id": "eC4XLhDq6ZlF"
   },
   "outputs": [
    {
     "data": {
      "text/plain": [
       "array([0.09090909, 0.18181818, 0.27272727, 0.36363636, 0.45454545,\n",
       "       0.54545455, 0.63636364, 0.72727273, 0.81818182, 0.90909091])"
      ]
     },
     "execution_count": 37,
     "metadata": {},
     "output_type": "execute_result"
    }
   ],
   "source": [
    "#Code here\n",
    "np.linspace(0,1,12)[1:-1]"
   ]
  },
  {
   "cell_type": "markdown",
   "metadata": {
    "id": "vb4jK4yQ6Zs2"
   },
   "source": [
    "###`Q-5` Can you create a identity mattrix of shape (3,4). If yes write code for it."
   ]
  },
  {
   "cell_type": "markdown",
   "metadata": {
    "id": "DTV_AbMS6Zs4"
   },
   "source": [
    "#Code here- \n",
    "No Its not possible as rows and columns should be same foridentity matrix."
   ]
  },
  {
   "cell_type": "markdown",
   "metadata": {
    "id": "QtjAFm5PEntK"
   },
   "source": [
    "###`Q-6:` Create a 5x5 matrix with row values ranging from 0 to 4."
   ]
  },
  {
   "cell_type": "code",
   "execution_count": 52,
   "metadata": {
    "id": "z2WGxRjvEuRS"
   },
   "outputs": [
    {
     "data": {
      "text/plain": [
       "array([[0., 1., 2., 3., 4.],\n",
       "       [0., 1., 2., 3., 4.],\n",
       "       [0., 1., 2., 3., 4.],\n",
       "       [0., 1., 2., 3., 4.],\n",
       "       [0., 1., 2., 3., 4.]])"
      ]
     },
     "execution_count": 52,
     "metadata": {},
     "output_type": "execute_result"
    }
   ],
   "source": [
    "#Code here\n",
    "a1 = np.zeros((5,5))\n",
    "a1+=np.arange(5)\n",
    "a1"
   ]
  },
  {
   "cell_type": "markdown",
   "metadata": {
    "id": "KPpvxKjVHnyx"
   },
   "source": [
    "###`Q-7:`  Consider a random integer (in range 1 to 100) vector with shape `(10,2)` representing coordinates, and coordinates of a point as array is given. Create an array of distance of each point in the random vectros from the given point. Distance array should be interger type.\n",
    "\n",
    "```\n",
    "point = np.array([2,3])\n",
    "```\n"
   ]
  },
  {
   "cell_type": "code",
   "execution_count": 63,
   "metadata": {
    "id": "X7KGnWLNIM6f"
   },
   "outputs": [
    {
     "data": {
      "text/plain": [
       "array([41, 24, 44, 69, 20, 70, 70, 18, 76, 54])"
      ]
     },
     "execution_count": 63,
     "metadata": {},
     "output_type": "execute_result"
    }
   ],
   "source": [
    "#code here\n",
    "arr_ = np.random.randint(1,100,(10,2))\n",
    "point = np.array([2,3])\n",
    "np.sqrt(np.sum((arr_-point)**2, axis=1)).astype(int)"
   ]
  },
  {
   "cell_type": "markdown",
   "metadata": {
    "id": "tajOFJlCDwTr"
   },
   "source": [
    "###`Q-8:` Consider a (6,7,8) shape array, what is the index (x,y,z) of the 100th element?"
   ]
  },
  {
   "cell_type": "code",
   "execution_count": 68,
   "metadata": {
    "id": "qH4oxvs0D3Ra"
   },
   "outputs": [
    {
     "data": {
      "text/plain": [
       "(1, 5, 4)"
      ]
     },
     "execution_count": 68,
     "metadata": {},
     "output_type": "execute_result"
    }
   ],
   "source": [
    "#Code here\n",
    "arr_ = np.zeros((6,7,8))\n",
    "np.unravel_index(100,(6,7,8))"
   ]
  },
  {
   "cell_type": "markdown",
   "metadata": {
    "id": "9LxBAbT2Pw33"
   },
   "source": [
    "### `Q-9:` Arrays\n",
    "\n",
    "You are given a space separated list of numbers. Your task is to print a reversed NumPy array with the element type float.\n",
    "\n"
   ]
  },
  {
   "cell_type": "markdown",
   "metadata": {
    "id": "JJpqVms2Nq7L"
   },
   "source": [
    "**Input Format:**\n",
    "\n",
    "A single line of input containing space separated numbers.\n",
    "\n",
    "**Output Format:**\n",
    "\n",
    "Print the reverse NumPy array with type float.\n",
    "\n",
    "**Example 1:**\n",
    "\n",
    "Input:\n",
    "\n",
    "```bash\n",
    "1 2 3 4 -8 -10\n",
    "```\n",
    "\n",
    "Output:\n",
    "\n",
    "```bash\n",
    "[-10.  -8.   4.   3.   2.   1.]\n",
    "```"
   ]
  },
  {
   "cell_type": "code",
   "execution_count": 77,
   "metadata": {
    "id": "7iQyg6ChNl3j"
   },
   "outputs": [
    {
     "name": "stdin",
     "output_type": "stream",
     "text": [
      " 1 2 3 4 -8 -10\n"
     ]
    },
    {
     "data": {
      "text/plain": [
       "array([-10.,  -8.,   4.,   3.,   2.,   1.])"
      ]
     },
     "execution_count": 77,
     "metadata": {},
     "output_type": "execute_result"
    }
   ],
   "source": [
    "#Code here\n",
    "a = input().strip().split()\n",
    "np.array(a[::-1],dtype=float)"
   ]
  },
  {
   "cell_type": "markdown",
   "metadata": {
    "id": "TPxD7jM8Sjz9"
   },
   "source": [
    "### `Q-10:` Elements count\n",
    "\n",
    "Count the number of elements of a numpy array.\n",
    "\n"
   ]
  },
  {
   "cell_type": "markdown",
   "metadata": {
    "id": "oHTiTz_jNkAU"
   },
   "source": [
    "**Example 1:**\n",
    "\n",
    "Input:\n",
    "```bash\n",
    "np.array([])\n",
    "```\n",
    "\n",
    "Output:\n",
    "```bash\n",
    "elements_count :  0\n",
    "```\n",
    "\n",
    "**Example 2:**\n",
    "\n",
    "Input:\n",
    "```bash\n",
    "np.array([1, 2])\n",
    "```\n",
    "\n",
    "Output:\n",
    "```bash\n",
    "elements_count :  2\n",
    "```"
   ]
  },
  {
   "cell_type": "code",
   "execution_count": 82,
   "metadata": {
    "id": "RG0H2I-TNeGN"
   },
   "outputs": [
    {
     "name": "stdout",
     "output_type": "stream",
     "text": [
      "array =  [1 2]\n",
      "eleents_count :  2\n"
     ]
    }
   ],
   "source": [
    "#Code here\n",
    "a= np.array([1,2])\n",
    "print(\"array = \",a)\n",
    "print(\"eleents_count : \",a.size)"
   ]
  },
  {
   "cell_type": "markdown",
   "metadata": {
    "id": "pwgPz-3l5ic5"
   },
   "source": [
    "### `Q-11:` Softmax function\n",
    "\n",
    "Create a Python function to calculate the Softmax of the given numpy 1D array. The function only accepts the numpy 1D array, otherwise raise error.\n",
    "\n",
    "$$\\Large \\sigma(\\vec z)_i = \\frac{e^{z_i}}{\\sum_{j=i}^{K}{e^{z_j}}}$$\n",
    "\n",
    "https://en.wikipedia.org/wiki/Softmax_function\n",
    "\n"
   ]
  },
  {
   "cell_type": "markdown",
   "metadata": {
    "id": "eZ3WJt6UM1ul"
   },
   "source": [
    "**Example 1:**\n",
    "\n",
    "Input:\n",
    "```bash\n",
    "[86.03331084 37.7285648  48.64908087 87.16563062 38.40852563 37.20006318]\n",
    "```\n",
    "\n",
    "Output:\n",
    "```bash\n",
    "[2.43733249e-01, 2.56112115e-22, 1.41628284e-17, 7.56266751e-01,\n",
    "       5.05514197e-22, 1.50974911e-22]\n",
    "```\n",
    "\n",
    "**Example 2:**\n",
    "\n",
    "Input:\n",
    "```bash\n",
    "[33.17344305 45.61961654 82.05405781 80.9647098  68.82830233 91.52064278]\n",
    "```\n",
    "\n",
    "Output:\n",
    "```bash\n",
    "[4.57181035e-26, 1.16249923e-20, 7.73872596e-05, 2.60358426e-05,\n",
    "       1.39571531e-10, 9.99896577e-01]\n",
    "```"
   ]
  },
  {
   "cell_type": "code",
   "execution_count": 106,
   "metadata": {
    "id": "VNzj05lkNaNi"
   },
   "outputs": [
    {
     "name": "stdout",
     "output_type": "stream",
     "text": [
      "[2.43733248e-01 2.56112114e-22 1.41628283e-17 7.56266752e-01\n",
      " 5.05514197e-22 1.50974911e-22]\n"
     ]
    }
   ],
   "source": [
    "#Code here\n",
    "def softmax(arr):\n",
    "    if type(arr)!=np.ndarray:\n",
    "         raise TypeError(\"Requires Numpy Array\")   \n",
    "    elif arr.ndim>1:\n",
    "        raise TypeError(\"Requires 1D Array only\")\n",
    "    else:\n",
    "        s = np.sum(np.exp(arr))\n",
    "        return np.exp(arr)/s\n",
    "arr = np.array([86.03331084,37.7285648,48.64908087,87.16563062,38.40852563,37.20006318])\n",
    "print(softmax(arr))"
   ]
  },
  {
   "cell_type": "code",
   "execution_count": 107,
   "metadata": {},
   "outputs": [
    {
     "name": "stdout",
     "output_type": "stream",
     "text": [
      "[4.57181033e-26 1.16249922e-20 7.73872594e-05 2.60358426e-05\n",
      " 1.39571531e-10 9.99896577e-01]\n"
     ]
    }
   ],
   "source": [
    "arr= np.array([33.17344305,45.61961654,82.05405781,80.9647098,68.82830233,91.52064278])\n",
    "print(softmax(arr))"
   ]
  },
  {
   "cell_type": "markdown",
   "metadata": {
    "id": "k4JWSwWu_HXg"
   },
   "source": [
    "### `Q-12:` Vertical stack\n",
    "\n",
    "Write a python function that accepts infinite number of numpy arrays and do the vertical stack to them. Then return that new array as result. The function only accepts the numpy array, otherwise raise error.\n",
    "\n"
   ]
  },
  {
   "cell_type": "markdown",
   "metadata": {
    "id": "XhhV3mraNAWr"
   },
   "source": [
    "**Example 1:**\n",
    "\n",
    "Input:\n",
    "```bash\n",
    "a= [[0 1 2 3 4]\n",
    " [5 6 7 8 9]]\n",
    "\n",
    "b= [[1 1 1 1 1]\n",
    " [1 1 1 1 1]]\n",
    "```\n",
    "\n",
    "Output:\n",
    "\n",
    "```bash\n",
    "[[0 1 2 3 4]\n",
    " [5 6 7 8 9]\n",
    " [1 1 1 1 1]\n",
    " [1 1 1 1 1]]\n",
    "```\n",
    "\n",
    "**Example 2:**\n",
    "\n",
    "Input:\n",
    "```bash\n",
    "a= [[0 1 2 3 4]\n",
    " [5 6 7 8 9]]\n",
    "\n",
    "b= [[1 1 1 1 1]\n",
    " [1 1 1 1 1]]\n",
    "\n",
    "c= [[0.10117373 0.1677244  0.73764059 0.83166097 0.48985695]\n",
    " [0.44581567 0.13502419 0.55692335 0.16479622 0.61193593]]\n",
    "```\n",
    "\n",
    "Output:\n",
    "```bash\n",
    "[[0.         1.         2.         3.         4.        ]\n",
    " [5.         6.         7.         8.         9.        ]\n",
    " [1.         1.         1.         1.         1.        ]\n",
    " [1.         1.         1.         1.         1.        ]\n",
    " [0.10117373 0.1677244  0.73764059 0.83166097 0.48985695]\n",
    " [0.44581567 0.13502419 0.55692335 0.16479622 0.61193593]]\n",
    "```"
   ]
  },
  {
   "cell_type": "code",
   "execution_count": 117,
   "metadata": {
    "id": "dhtnbSj6NP8z"
   },
   "outputs": [
    {
     "name": "stdout",
     "output_type": "stream",
     "text": [
      "a =  [[0 1 2 3 4]\n",
      " [5 6 7 8 9]] (2, 5)\n",
      "b =  [[0.07767907 0.25318565 0.32963491 0.43221188 0.94804185]\n",
      " [0.65653283 0.66878798 0.44883445 0.66896404 0.84752696]] (2, 5)\n",
      "c =  [[ 1.          2.11111111  3.22222222  4.33333333  5.44444444]\n",
      " [ 6.55555556  7.66666667  8.77777778  9.88888889 11.        ]] (2, 5)\n"
     ]
    },
    {
     "data": {
      "text/plain": [
       "array([[ 0.        ,  1.        ,  2.        ,  3.        ,  4.        ],\n",
       "       [ 5.        ,  6.        ,  7.        ,  8.        ,  9.        ],\n",
       "       [ 0.07767907,  0.25318565,  0.32963491,  0.43221188,  0.94804185],\n",
       "       [ 0.65653283,  0.66878798,  0.44883445,  0.66896404,  0.84752696],\n",
       "       [ 1.        ,  2.11111111,  3.22222222,  4.33333333,  5.44444444],\n",
       "       [ 6.55555556,  7.66666667,  8.77777778,  9.88888889, 11.        ]])"
      ]
     },
     "execution_count": 117,
     "metadata": {},
     "output_type": "execute_result"
    }
   ],
   "source": [
    "#Coder here\n",
    "def stack(*args):\n",
    "    for i in args:\n",
    "        if type(i) != np.ndarray:\n",
    "            raise TypeError(\"Input argument is not an array. Only Arrays are allowed\")\n",
    "        else:\n",
    "            return np.vstack(args)\n",
    "\n",
    "a = np.arange(10).reshape(2,-1)\n",
    "print(\"a = \",a,a.shape)\n",
    "b = np.random.random((2,5)).reshape(2,-1)\n",
    "print(\"b = \",b, b.shape)\n",
    "c = np.linspace(1,11,10).reshape(2,5)\n",
    "print(\"c = \",c, c.shape)\n",
    "stack(a,b,c)"
   ]
  },
  {
   "cell_type": "markdown",
   "metadata": {
    "id": "3mk8T6CuC2DP"
   },
   "source": [
    "### `Q-13:` Dates\n",
    "\n",
    "Create a python function named **date_array** that accepts two dates as string format and returns a numpy array of dates between those 2 dates. The function only accept 2 strings, otherwise raise error. The date format should be like this only: `2022-12-6`. The end date should be included and for simplicity, choose dates from a same year.\n",
    "\n"
   ]
  },
  {
   "cell_type": "markdown",
   "metadata": {
    "id": "E3IgjnTTNFEk"
   },
   "source": [
    "**Example 1:**\n",
    "\n",
    "Input:\n",
    "```bash\n",
    "date_array(start = '2020-09-15', end = '2020-09-25')\n",
    "```\n",
    "\n",
    "Output:\n",
    "```bash\n",
    "['2020-09-15', '2020-09-16', '2020-09-17', '2020-09-18',\n",
    " '2020-09-19', '2020-09-20', '2020-09-21', '2020-09-22',\n",
    " '2020-09-23', '2020-09-24', '2020-09-25']\n",
    "```\n",
    "\n",
    "**Example 2:**\n",
    "\n",
    "Input:\n",
    "```bash\n",
    "date_array(start = '2022-12-01', end = '2022-12-06')\n",
    "```\n",
    "\n",
    "Output:\n",
    "```bash\n",
    "['2022-12-01', '2022-12-02', '2022-12-03', '2022-12-04', '2022-12-05', '2022-12-06']\n",
    "```\n",
    "\n",
    "**Example 3:**\n",
    "\n",
    "Input:\n",
    "```bash\n",
    "date_array(start = '2020-11-25', end = '2020-11-30')\n",
    "```\n",
    "\n",
    "Output:\n",
    "```bash\n",
    "['2020-11-25', '2020-11-26', '2020-11-27', '2020-11-28',\n",
    " '2020-11-29', '2020-11-30']\n",
    "```"
   ]
  },
  {
   "cell_type": "code",
   "execution_count": 121,
   "metadata": {
    "id": "Yj5PBfQQNTnL"
   },
   "outputs": [
    {
     "data": {
      "text/plain": [
       "array(['2020-11-25', '2020-11-26', '2020-11-27', '2020-11-28',\n",
       "       '2020-11-29', '2020-11-30'], dtype='datetime64[D]')"
      ]
     },
     "execution_count": 121,
     "metadata": {},
     "output_type": "execute_result"
    }
   ],
   "source": [
    "#Code here\n",
    "\n",
    "def date_array(start: str, end: str):\n",
    "    if type(start) != str or type(end) != str:\n",
    "        raise TypeError\n",
    "        \n",
    "    total_days_of_month = {\"01\": 31, \"02\": 28, \"03\": 31, \"04\":30, \"05\": 31, \"06\":30, \n",
    "                           \"07\":31, \"08\":31, \"09\":30, \"10\": 31, \"11\":30, \"12\":31}\n",
    "\n",
    "    end = end.split(\"-\")\n",
    "    end_last = int(end[-1]) + 1\n",
    "    \n",
    "    # If the next day of end falls in the next month, account for that\n",
    "    if total_days_of_month[end[-2]] < end_last:\n",
    "        days_diff = end_last - total_days_of_month[end[-2]]\n",
    "        end[-1] = f'0{days_diff}' if days_diff< 10 else f'{days_diff}'\n",
    "        next_month = int(end[-2]) + 1\n",
    "        end[-2] = f'0{next_month}' if next_month< 10 else f'{next_month}'\n",
    "    else:\n",
    "        end[-1] = f'0{end_last}' if end_last < 10 else f'{end_last}'\n",
    "    end = \"-\".join(end)\n",
    "    return np.arange(start, end, dtype=\"datetime64[D]\")    \n",
    "    # Use arange() to generate all dates between start and end \n",
    "date_array(start = '2020-11-25', end = '2020-11-30')"
   ]
  },
  {
   "cell_type": "markdown",
   "metadata": {
    "id": "bcEp0wTWQijK"
   },
   "source": [
    "###`Q-14:` Subtract the mean of each row from a matrix."
   ]
  },
  {
   "cell_type": "code",
   "execution_count": 135,
   "metadata": {
    "id": "rpILVGcgQzMo"
   },
   "outputs": [
    {
     "data": {
      "text/plain": [
       "array([[-0.24401813,  0.1603314 , -0.13390995,  0.21759668],\n",
       "       [-0.02414681, -0.24860982,  0.25490698,  0.01784964],\n",
       "       [-0.17738599,  0.50936941, -0.33777142,  0.005788  ],\n",
       "       [ 0.35126704,  0.00999029, -0.40125994,  0.04000261],\n",
       "       [-0.25859888,  0.24366247, -0.19779608,  0.2127325 ]])"
      ]
     },
     "execution_count": 135,
     "metadata": {},
     "output_type": "execute_result"
    }
   ],
   "source": [
    "#code here\n",
    "x = np.random.random((5,4))\n",
    "x-x.mean(axis=1, keepdims=True)"
   ]
  },
  {
   "cell_type": "markdown",
   "metadata": {
    "id": "A-dMVlPPSBTT"
   },
   "source": [
    "###`Q-15:` Swap column-1 of array with column-2 in the array."
   ]
  },
  {
   "cell_type": "code",
   "execution_count": 137,
   "metadata": {
    "id": "3RtngM9-Q6S7"
   },
   "outputs": [
    {
     "data": {
      "text/plain": [
       "array([[0, 2, 1],\n",
       "       [3, 5, 4],\n",
       "       [6, 8, 7]])"
      ]
     },
     "execution_count": 137,
     "metadata": {},
     "output_type": "execute_result"
    }
   ],
   "source": [
    "#Code here\n",
    "arr= np.arange(9).reshape(3,3)\n",
    "arr[:,[0,2,1]]"
   ]
  },
  {
   "cell_type": "markdown",
   "metadata": {
    "id": "cB4VMexvS6Zi"
   },
   "source": [
    "###`Q-16:` Replace odd elements in arrays with -1."
   ]
  },
  {
   "cell_type": "code",
   "execution_count": 140,
   "metadata": {
    "id": "Bt83nXEVS5O4"
   },
   "outputs": [
    {
     "data": {
      "text/plain": [
       "array([ 0, -1,  2, -1,  4, -1,  6, -1,  8, -1])"
      ]
     },
     "execution_count": 140,
     "metadata": {},
     "output_type": "execute_result"
    }
   ],
   "source": [
    "#Code here\n",
    "arr= np.arange(10)\n",
    "arr[arr%2 == 1]=-1\n",
    "arr"
   ]
  },
  {
   "cell_type": "markdown",
   "metadata": {
    "id": "kf_qvmBxWIT_"
   },
   "source": [
    "###`Q-17:` Given two arrays of same shape make an array of max out of two arrays. (Numpy way)\n",
    "```\n",
    "a=np.array([6,3,1,5,8])\n",
    "b=np.array([3,2,1,7,2])\n",
    "\n",
    "Result-> [6 3 1 7 8]\n",
    "```"
   ]
  },
  {
   "cell_type": "code",
   "execution_count": 142,
   "metadata": {
    "id": "TB9ZvF-EZSfu"
   },
   "outputs": [
    {
     "data": {
      "text/plain": [
       "array([6, 3, 1, 7, 8])"
      ]
     },
     "execution_count": 142,
     "metadata": {},
     "output_type": "execute_result"
    }
   ],
   "source": [
    "#Code here\n",
    "a=np.array([6,3,1,5,8])\n",
    "b=np.array([3,2,1,7,2])\n",
    "a[b>a]= b[a<b]\n",
    "a"
   ]
  },
  {
   "cell_type": "markdown",
   "metadata": {
    "id": "iOQLUIeGc3zA"
   },
   "source": [
    "###`Q-18` Answer below asked questions on given array:\n",
    "1. Fetch Every alternate column of the array\n",
    "2. Normalise the given array\n",
    "\n",
    "https://en.wikipedia.org/wiki/Normalization_(statistics)\n",
    "\n",
    "There are different form of normalisation for this question use below formula.\n",
    "\n",
    "$$\\large X_{normalized} = \\frac{X - X_{min}}{X_{max} - X_{min}}$$\n",
    "\n",
    "```python\n",
    "arr1=np.random.randint(low=1, high=10000, size=40).reshape(8,5)\n",
    "```\n"
   ]
  },
  {
   "cell_type": "code",
   "execution_count": 157,
   "metadata": {
    "colab": {
     "base_uri": "https://localhost:8080/"
    },
    "id": "vjSm18k3d_1p",
    "outputId": "83d23b61-d2ae-41bc-e91e-0e0722667521"
   },
   "outputs": [
    {
     "name": "stdout",
     "output_type": "stream",
     "text": [
      "[[2954 7512 3732 1422 3803]\n",
      " [1462 3749 2337  515 9448]\n",
      " [6221 9997 9695 8980 9229]\n",
      " [3615 9199 1818 8493  977]\n",
      " [4349 8940 3548 6335 1458]\n",
      " [4770 5514 2683 5674 5880]\n",
      " [6173 8179 7265 4273 2391]\n",
      " [ 465 5408 2025  191 5923]]\n",
      "[[2954 3732 3803]\n",
      " [1462 2337 9448]\n",
      " [6221 9695 9229]\n",
      " [3615 1818  977]\n",
      " [4349 3548 1458]\n",
      " [4770 2683 5880]\n",
      " [6173 7265 2391]\n",
      " [ 465 2025 5923]]\n"
     ]
    }
   ],
   "source": [
    "# Given\n",
    "arr1=np.random.randint(low=1, high=10000, size=40).reshape(8,5)\n",
    "print(arr1)\n",
    "print(arr1[:,::2])"
   ]
  },
  {
   "cell_type": "code",
   "execution_count": 158,
   "metadata": {
    "id": "d7u8DB47eBfQ"
   },
   "outputs": [
    {
     "data": {
      "text/plain": [
       "array([[0.28176627, 0.74658372, 0.36110545, 0.12553539, 0.36834591],\n",
       "       [0.12961452, 0.36283908, 0.2188456 , 0.033041  , 0.94401387],\n",
       "       [0.61492963, 1.        , 0.96920253, 0.89628799, 0.9216806 ],\n",
       "       [0.34917398, 0.91862125, 0.16591883, 0.84662452, 0.08015501],\n",
       "       [0.42402611, 0.89220885, 0.34234142, 0.62655517, 0.12920661],\n",
       "       [0.466959  , 0.54283092, 0.25413012, 0.55914746, 0.58015501],\n",
       "       [0.61003467, 0.8146033 , 0.72139506, 0.41627575, 0.22435244],\n",
       "       [0.02794208, 0.53202121, 0.18702835, 0.        , 0.58454008]])"
      ]
     },
     "execution_count": 158,
     "metadata": {},
     "output_type": "execute_result"
    }
   ],
   "source": [
    "#Code here\n",
    "arr_norm = (arr1 - arr1.min())/(arr1.max() - arr1.min())\n",
    "arr_norm"
   ]
  },
  {
   "cell_type": "markdown",
   "metadata": {
    "id": "jCzsVEKLgGNo"
   },
   "source": [
    "###`Q-19:` Write a function which will accept 2 arguments.\n",
    "First: A 1D numpy array arr\n",
    "\n",
    "Second: An integer n {Please make sure n<=len(arr)}\n",
    "\n",
    "Output: The output should be the nth largest item out of the array\n",
    "```\n",
    "# Example1 : arr=(12,34,40,7,1,0) and n=3, the output should be 12\n",
    "# Example2 : arr=(12,34,40,7,1,0) and n=1, the output should be 40\n",
    "```"
   ]
  },
  {
   "cell_type": "code",
   "execution_count": 159,
   "metadata": {
    "id": "J4AzkDk7gXSG"
   },
   "outputs": [
    {
     "data": {
      "text/plain": [
       "12"
      ]
     },
     "execution_count": 159,
     "metadata": {},
     "output_type": "execute_result"
    }
   ],
   "source": [
    "#Code here\n",
    "def max_val(arr, n):\n",
    "    if n>len(arr):\n",
    "        raise IndexError(\"value is out of limit\")\n",
    "    arr.sort()\n",
    "    return arr[-n]\n",
    "max_val(np.array([12,34,40,7,1,0]),3)"
   ]
  },
  {
   "cell_type": "markdown",
   "metadata": {
    "id": "ja0xPCgjhBsg"
   },
   "source": [
    "###`Q-20:` Create the following pattern without hardcoding. Use only numpy functions and the below input array a.\n",
    "```\n",
    "# Input: a = np.array([1,2,3])\n",
    "# Output: array([1, 1, 1, 2, 2, 2, 3, 3, 3, 1, 2, 3, 1, 2, 3, 1, 2, 3])\n",
    "```"
   ]
  },
  {
   "cell_type": "code",
   "execution_count": 166,
   "metadata": {
    "id": "CndS8TTNhG0F"
   },
   "outputs": [
    {
     "data": {
      "text/plain": [
       "array([1, 1, 1, 2, 2, 2, 3, 3, 3, 1, 2, 3, 1, 2, 3, 1, 2, 3])"
      ]
     },
     "execution_count": 166,
     "metadata": {},
     "output_type": "execute_result"
    }
   ],
   "source": [
    "#code here\n",
    "a = np.array([1,2,3])\n",
    "np.hstack([np.repeat(a,3),np.tile(a,3)])"
   ]
  }
 ],
 "metadata": {
  "colab": {
   "provenance": []
  },
  "kernelspec": {
   "display_name": "Python 3 (ipykernel)",
   "language": "python",
   "name": "python3"
  },
  "language_info": {
   "codemirror_mode": {
    "name": "ipython",
    "version": 3
   },
   "file_extension": ".py",
   "mimetype": "text/x-python",
   "name": "python",
   "nbconvert_exporter": "python",
   "pygments_lexer": "ipython3",
   "version": "3.10.11"
  },
  "panel-cell-order": [
   "0c979ff6",
   "02c74fff",
   "3e246439",
   "1c352bf3",
   "d3e8aea2",
   "2bd53c85",
   "380bcdb7",
   "bb40e0fc",
   "8e22e3a3",
   "19a20800",
   "8bf7e750",
   "4403c6f7",
   "aacec080",
   "31d18d78",
   "e63ac55b",
   "712504d2",
   "287ce98f",
   "3bb5cbc0",
   "aae50785",
   "60168b56",
   "a63ba5b6",
   "520515b5",
   "421c7b46",
   "914c73a6",
   "4dfb7350",
   "14793ee0",
   "5b210b38"
  ],
  "widgets": {
   "application/vnd.jupyter.widget-state+json": {
    "state": {},
    "version_major": 2,
    "version_minor": 0
   }
  }
 },
 "nbformat": 4,
 "nbformat_minor": 4
}
