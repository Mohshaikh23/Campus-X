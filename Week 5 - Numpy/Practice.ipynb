{
 "cells": [
  {
   "cell_type": "code",
   "execution_count": 158,
   "id": "e4ef3d8d-c969-49c7-b932-eae6b8df0414",
   "metadata": {},
   "outputs": [],
   "source": [
    "import numpy as np"
   ]
  },
  {
   "cell_type": "code",
   "execution_count": 2,
   "id": "6bfd2c3b",
   "metadata": {},
   "outputs": [
    {
     "data": {
      "text/plain": [
       "array([1, 2, 3, 4, 5])"
      ]
     },
     "execution_count": 2,
     "metadata": {},
     "output_type": "execute_result"
    }
   ],
   "source": [
    "np.array([1,2,3,4,5])"
   ]
  },
  {
   "cell_type": "code",
   "execution_count": 3,
   "id": "9e110a64-ff4b-4b06-bcb9-860f6878949e",
   "metadata": {},
   "outputs": [
    {
     "data": {
      "text/plain": [
       "array([[1, 2, 3],\n",
       "       [4, 5, 6]])"
      ]
     },
     "execution_count": 3,
     "metadata": {},
     "output_type": "execute_result"
    }
   ],
   "source": [
    "a1 = np.array([[1,2,3],[4,5,6]])\n",
    "a1"
   ]
  },
  {
   "cell_type": "code",
   "execution_count": 4,
   "id": "3e0234d5-d450-46ff-ac51-e1944d32de88",
   "metadata": {},
   "outputs": [
    {
     "data": {
      "text/plain": [
       "array([[[1, 2, 3],\n",
       "        [4, 5, 6],\n",
       "        [7, 8, 9]]])"
      ]
     },
     "execution_count": 4,
     "metadata": {},
     "output_type": "execute_result"
    }
   ],
   "source": [
    "a2 = np.array([[[1,2,3],[4,5,6],[7,8,9]]])\n",
    "a2"
   ]
  },
  {
   "cell_type": "code",
   "execution_count": 5,
   "id": "ed7ca1cc-e10d-49b7-a8da-b0f385d7dfef",
   "metadata": {},
   "outputs": [
    {
     "name": "stdout",
     "output_type": "stream",
     "text": [
      "2\n",
      "3\n"
     ]
    }
   ],
   "source": [
    "print(a1.ndim)\n",
    "print(a2.ndim)"
   ]
  },
  {
   "cell_type": "code",
   "execution_count": 6,
   "id": "65d61ff7-1c6c-4981-a6b0-f48a556430d2",
   "metadata": {},
   "outputs": [
    {
     "data": {
      "text/plain": [
       "array([], shape=(1, 1, 1, 1, 1, 1, 0), dtype=float64)"
      ]
     },
     "execution_count": 6,
     "metadata": {},
     "output_type": "execute_result"
    }
   ],
   "source": [
    "a3 = np.array([[[[[[[]]]]]]])\n",
    "a3"
   ]
  },
  {
   "cell_type": "code",
   "execution_count": 7,
   "id": "cf4ff972-494e-4154-9abf-d22bce2c36ba",
   "metadata": {},
   "outputs": [
    {
     "data": {
      "text/plain": [
       "7"
      ]
     },
     "execution_count": 7,
     "metadata": {},
     "output_type": "execute_result"
    }
   ],
   "source": [
    "a3.ndim"
   ]
  },
  {
   "cell_type": "code",
   "execution_count": 8,
   "id": "1d2ce3ca-19e7-4e1f-87c2-77c0922c9df7",
   "metadata": {},
   "outputs": [
    {
     "data": {
      "text/plain": [
       "4"
      ]
     },
     "execution_count": 8,
     "metadata": {},
     "output_type": "execute_result"
    }
   ],
   "source": [
    "np.array([[[1,2,3]]]).itemsize"
   ]
  },
  {
   "cell_type": "code",
   "execution_count": 9,
   "id": "6af5dcd4-542b-46d4-888b-49965092063d",
   "metadata": {},
   "outputs": [
    {
     "name": "stdout",
     "output_type": "stream",
     "text": [
      "(3,)\n",
      "1\n"
     ]
    }
   ],
   "source": [
    "a = np.array([1,2,3])\n",
    "print(a.shape)\n",
    "print(a.ndim)"
   ]
  },
  {
   "cell_type": "code",
   "execution_count": 10,
   "id": "95314232-b8c0-4c9d-a080-0a85a1d04d08",
   "metadata": {},
   "outputs": [],
   "source": [
    "a.put(1,3)"
   ]
  },
  {
   "cell_type": "code",
   "execution_count": 11,
   "id": "2ee9da06-1a0d-405e-8353-e89cfa96640d",
   "metadata": {},
   "outputs": [
    {
     "data": {
      "text/plain": [
       "3"
      ]
     },
     "execution_count": 11,
     "metadata": {},
     "output_type": "execute_result"
    }
   ],
   "source": [
    "a[1]"
   ]
  },
  {
   "cell_type": "code",
   "execution_count": 12,
   "id": "8b370395-5afa-4028-9867-0e7de2aa97c8",
   "metadata": {},
   "outputs": [
    {
     "name": "stdout",
     "output_type": "stream",
     "text": [
      "[4 8 6]\n"
     ]
    }
   ],
   "source": [
    "b= np.array([4,5,6])\n",
    "b[1]= 8\n",
    "print(b)"
   ]
  },
  {
   "cell_type": "code",
   "execution_count": 13,
   "id": "e126d34d-f949-466a-8183-568cb53e576d",
   "metadata": {},
   "outputs": [],
   "source": [
    "a1 = np.arange(12).reshape(3,4)\n",
    "a2= np.arange(12,24).reshape(3,4)"
   ]
  },
  {
   "cell_type": "code",
   "execution_count": 14,
   "id": "a508b1ce-1429-4f5a-b7f4-de6f25a51573",
   "metadata": {},
   "outputs": [
    {
     "data": {
      "text/plain": [
       "array([[ 0,  1,  2,  3],\n",
       "       [ 4,  5,  6,  7],\n",
       "       [ 8,  9, 10, 11]])"
      ]
     },
     "execution_count": 14,
     "metadata": {},
     "output_type": "execute_result"
    }
   ],
   "source": [
    "a1"
   ]
  },
  {
   "cell_type": "code",
   "execution_count": 15,
   "id": "76823e56-dd57-47ab-8afb-ed51e6fa61ef",
   "metadata": {},
   "outputs": [
    {
     "data": {
      "text/plain": [
       "array([[12, 13, 14, 15],\n",
       "       [16, 17, 18, 19],\n",
       "       [20, 21, 22, 23]])"
      ]
     },
     "execution_count": 15,
     "metadata": {},
     "output_type": "execute_result"
    }
   ],
   "source": [
    "a2"
   ]
  },
  {
   "cell_type": "code",
   "execution_count": 16,
   "id": "9de57020-dc2d-4d64-a2e1-64add79be440",
   "metadata": {},
   "outputs": [
    {
     "data": {
      "text/plain": [
       "array([[  0,  13,  28,  45],\n",
       "       [ 64,  85, 108, 133],\n",
       "       [160, 189, 220, 253]])"
      ]
     },
     "execution_count": 16,
     "metadata": {},
     "output_type": "execute_result"
    }
   ],
   "source": [
    "a1*a2"
   ]
  },
  {
   "cell_type": "code",
   "execution_count": 17,
   "id": "f3c8f24d-f42f-47f4-934b-51b3873f6d77",
   "metadata": {},
   "outputs": [
    {
     "data": {
      "text/plain": [
       "array([[0.        , 0.07692308, 0.14285714, 0.2       ],\n",
       "       [0.25      , 0.29411765, 0.33333333, 0.36842105],\n",
       "       [0.4       , 0.42857143, 0.45454545, 0.47826087]])"
      ]
     },
     "execution_count": 17,
     "metadata": {},
     "output_type": "execute_result"
    }
   ],
   "source": [
    "a1/a2"
   ]
  },
  {
   "cell_type": "code",
   "execution_count": 18,
   "id": "29bd1819-ff27-482c-b302-05254ae2f266",
   "metadata": {},
   "outputs": [
    {
     "data": {
      "text/plain": [
       "array([[0, 0, 0, 0],\n",
       "       [0, 0, 0, 0],\n",
       "       [0, 0, 0, 0]])"
      ]
     },
     "execution_count": 18,
     "metadata": {},
     "output_type": "execute_result"
    }
   ],
   "source": [
    "a1//a2"
   ]
  },
  {
   "cell_type": "code",
   "execution_count": 19,
   "id": "46613aaf-2d43-476e-832d-474144f4b362",
   "metadata": {},
   "outputs": [
    {
     "data": {
      "text/plain": [
       "array([[          0,           1,       16384,    14348907],\n",
       "       [          0, -1564725563,  1159987200,   442181591],\n",
       "       [          0,  1914644777, -1304428544,  -122979837]])"
      ]
     },
     "execution_count": 19,
     "metadata": {},
     "output_type": "execute_result"
    }
   ],
   "source": [
    "a1**a2"
   ]
  },
  {
   "cell_type": "code",
   "execution_count": 20,
   "id": "957813be-cbb8-47e0-8189-2a3c8a66e234",
   "metadata": {},
   "outputs": [
    {
     "data": {
      "text/plain": [
       "array([[False, False, False, False],\n",
       "       [False, False, False, False],\n",
       "       [False, False, False, False]])"
      ]
     },
     "execution_count": 20,
     "metadata": {},
     "output_type": "execute_result"
    }
   ],
   "source": [
    "a1>a2"
   ]
  },
  {
   "cell_type": "code",
   "execution_count": 21,
   "id": "d5bd143b-d597-4ade-8980-630f0430babc",
   "metadata": {},
   "outputs": [
    {
     "data": {
      "text/plain": [
       "array([[ True,  True,  True,  True],\n",
       "       [ True,  True,  True,  True],\n",
       "       [ True,  True,  True,  True]])"
      ]
     },
     "execution_count": 21,
     "metadata": {},
     "output_type": "execute_result"
    }
   ],
   "source": [
    "a1<a2"
   ]
  },
  {
   "cell_type": "code",
   "execution_count": 22,
   "id": "641a4ac4-d3db-4628-a3df-dcac624a876e",
   "metadata": {},
   "outputs": [
    {
     "data": {
      "text/plain": [
       "array([[ True, False, False, False],\n",
       "       [False, False, False, False],\n",
       "       [False, False, False, False]])"
      ]
     },
     "execution_count": 22,
     "metadata": {},
     "output_type": "execute_result"
    }
   ],
   "source": [
    "a1 < 1"
   ]
  },
  {
   "cell_type": "code",
   "execution_count": 23,
   "id": "f20e3f23-24f3-41f1-abd1-45e957875772",
   "metadata": {},
   "outputs": [
    {
     "data": {
      "text/plain": [
       "array([[ True,  True,  True, False],\n",
       "       [False, False, False, False],\n",
       "       [False, False, False, False]])"
      ]
     },
     "execution_count": 23,
     "metadata": {},
     "output_type": "execute_result"
    }
   ],
   "source": [
    "a1<3"
   ]
  },
  {
   "cell_type": "code",
   "execution_count": 24,
   "id": "f7de2658-dadf-4e7e-bdf3-8215cbd2bae9",
   "metadata": {},
   "outputs": [
    {
     "data": {
      "text/plain": [
       "array([[ 0,  1,  2,  3],\n",
       "       [ 4,  5,  6,  7],\n",
       "       [ 8,  9, 10, 11]])"
      ]
     },
     "execution_count": 24,
     "metadata": {},
     "output_type": "execute_result"
    }
   ],
   "source": [
    "a1"
   ]
  },
  {
   "cell_type": "code",
   "execution_count": 25,
   "id": "0ef34461-6ad8-4dfe-a720-55d5e4791aeb",
   "metadata": {},
   "outputs": [
    {
     "data": {
      "text/plain": [
       "array([[12, 13, 14, 15],\n",
       "       [16, 17, 18, 19],\n",
       "       [20, 21, 22, 23]])"
      ]
     },
     "execution_count": 25,
     "metadata": {},
     "output_type": "execute_result"
    }
   ],
   "source": [
    "a2"
   ]
  },
  {
   "cell_type": "code",
   "execution_count": 26,
   "id": "13912aeb-07d1-4753-91e8-05354beed4c6",
   "metadata": {},
   "outputs": [
    {
     "data": {
      "text/plain": [
       "array([[12, 14, 16, 18],\n",
       "       [20, 22, 24, 26],\n",
       "       [28, 30, 32, 34]])"
      ]
     },
     "execution_count": 26,
     "metadata": {},
     "output_type": "execute_result"
    }
   ],
   "source": [
    "a1+a2"
   ]
  },
  {
   "cell_type": "code",
   "execution_count": 27,
   "id": "d6100153-236f-4d6e-b755-f97494462069",
   "metadata": {},
   "outputs": [
    {
     "data": {
      "text/plain": [
       "array([[  0,  13,  28,  45],\n",
       "       [ 64,  85, 108, 133],\n",
       "       [160, 189, 220, 253]])"
      ]
     },
     "execution_count": 27,
     "metadata": {},
     "output_type": "execute_result"
    }
   ],
   "source": [
    "a1*a2"
   ]
  },
  {
   "cell_type": "code",
   "execution_count": 28,
   "id": "2a965ff2-d78d-4fa7-a4fa-845947a58d2a",
   "metadata": {},
   "outputs": [
    {
     "data": {
      "text/plain": [
       "array([[0.36880352, 0.15626454, 0.14266051, 0.43851859, 0.92028371],\n",
       "       [0.31789454, 0.75330465, 0.94794681, 0.64234694, 0.41191881],\n",
       "       [0.69086272, 0.79213349, 0.00658159, 0.173893  , 0.30809898],\n",
       "       [0.65264645, 0.39493537, 0.04234135, 0.26206396, 0.84202734]])"
      ]
     },
     "execution_count": 28,
     "metadata": {},
     "output_type": "execute_result"
    }
   ],
   "source": [
    "np.random.random((4,5))"
   ]
  },
  {
   "cell_type": "code",
   "execution_count": 29,
   "id": "dd5c9c47-98d7-47db-8973-82c4f90fc826",
   "metadata": {},
   "outputs": [
    {
     "data": {
      "text/plain": [
       "'1.26.4'"
      ]
     },
     "execution_count": 29,
     "metadata": {},
     "output_type": "execute_result"
    }
   ],
   "source": [
    "np.version.full_version"
   ]
  },
  {
   "cell_type": "code",
   "execution_count": null,
   "id": "a6828fe9-5865-49d3-b239-9cda1d4f3623",
   "metadata": {},
   "outputs": [],
   "source": []
  },
  {
   "cell_type": "code",
   "execution_count": null,
   "id": "7c3f590c-4095-47ce-9274-c2fae8e881fc",
   "metadata": {},
   "outputs": [],
   "source": []
  },
  {
   "cell_type": "code",
   "execution_count": null,
   "id": "db3ec71f-e207-4280-999f-4e51b1857f9c",
   "metadata": {},
   "outputs": [],
   "source": []
  },
  {
   "cell_type": "code",
   "execution_count": null,
   "id": "1868c4a2-c5ff-4285-b090-8f87b1e94b67",
   "metadata": {},
   "outputs": [],
   "source": []
  },
  {
   "cell_type": "code",
   "execution_count": null,
   "id": "a5541fa4-65e0-4302-9262-5db3115918bc",
   "metadata": {},
   "outputs": [],
   "source": []
  },
  {
   "cell_type": "code",
   "execution_count": 30,
   "id": "0a4a8ef3-a401-4f98-9cd8-f77ab5c881b9",
   "metadata": {},
   "outputs": [
    {
     "data": {
      "text/plain": [
       "array([1, 3, 5, 7, 9])"
      ]
     },
     "execution_count": 30,
     "metadata": {},
     "output_type": "execute_result"
    }
   ],
   "source": [
    "np.arange(1,10,2)"
   ]
  },
  {
   "cell_type": "code",
   "execution_count": 31,
   "id": "5616f0f1-bafb-45a1-926a-f497bc257ff6",
   "metadata": {},
   "outputs": [
    {
     "data": {
      "text/plain": [
       "array([[1., 1., 1., 1.],\n",
       "       [1., 1., 1., 1.],\n",
       "       [1., 1., 1., 1.]])"
      ]
     },
     "execution_count": 31,
     "metadata": {},
     "output_type": "execute_result"
    }
   ],
   "source": [
    "np.ones((3,4))"
   ]
  },
  {
   "cell_type": "code",
   "execution_count": 32,
   "id": "fad16158-f083-48ef-aa3c-e035a793e72a",
   "metadata": {},
   "outputs": [
    {
     "data": {
      "text/plain": [
       "(3, 4)"
      ]
     },
     "execution_count": 32,
     "metadata": {},
     "output_type": "execute_result"
    }
   ],
   "source": [
    "a1.shape"
   ]
  },
  {
   "cell_type": "code",
   "execution_count": 33,
   "id": "4a091f4e-ca08-470d-830a-44e2cccf8f99",
   "metadata": {},
   "outputs": [
    {
     "name": "stdout",
     "output_type": "stream",
     "text": [
      "[[[[1 2 3]\n",
      "   [4 5 6]\n",
      "   [7 8 9]]]]\n"
     ]
    }
   ],
   "source": [
    "print(np.array([[[[1,2,3],[4,5,6],[7,8,9]]]]))"
   ]
  },
  {
   "cell_type": "code",
   "execution_count": 34,
   "id": "ce0c0b6a-1362-4d2b-baf3-36646e9dbd89",
   "metadata": {},
   "outputs": [
    {
     "name": "stdout",
     "output_type": "stream",
     "text": [
      "(1, 3, 3)\n"
     ]
    }
   ],
   "source": [
    "print(np.array([[[1,2,3],[4,5,6],[7,8,9]]]).shape)"
   ]
  },
  {
   "cell_type": "code",
   "execution_count": 35,
   "id": "509a23c0-45f8-4a86-8ecb-8ad6499a5d99",
   "metadata": {},
   "outputs": [
    {
     "name": "stdout",
     "output_type": "stream",
     "text": [
      "(1, 1, 2, 3)\n"
     ]
    }
   ],
   "source": [
    "print(np.array([[[[1,2,3],[4,5,6]]]]).shape)"
   ]
  },
  {
   "cell_type": "code",
   "execution_count": 36,
   "id": "44effa4d",
   "metadata": {},
   "outputs": [
    {
     "data": {
      "text/plain": [
       "array([[ 1,  2,  3,  4,  5,  6,  7,  8,  9, 10, 11, 12],\n",
       "       [13, 14, 15, 16, 17, 18, 19, 20, 21, 22, 23, 24]])"
      ]
     },
     "execution_count": 36,
     "metadata": {},
     "output_type": "execute_result"
    }
   ],
   "source": [
    "np.arange(1,25).reshape(2,12)"
   ]
  },
  {
   "cell_type": "code",
   "execution_count": 37,
   "id": "cc7dc71f",
   "metadata": {},
   "outputs": [
    {
     "data": {
      "text/plain": [
       "array([[ 1.        ,  1.64285714,  2.28571429,  2.92857143,  3.57142857],\n",
       "       [ 4.21428571,  4.85714286,  5.5       ,  6.14285714,  6.78571429],\n",
       "       [ 7.42857143,  8.07142857,  8.71428571,  9.35714286, 10.        ]])"
      ]
     },
     "execution_count": 37,
     "metadata": {},
     "output_type": "execute_result"
    }
   ],
   "source": [
    "np.linspace(1,10,15).reshape(3,5)"
   ]
  },
  {
   "cell_type": "code",
   "execution_count": 38,
   "id": "6f969986",
   "metadata": {},
   "outputs": [
    {
     "data": {
      "text/plain": [
       "array([[1., 0.],\n",
       "       [0., 0.],\n",
       "       [0., 1.],\n",
       "       [0., 0.],\n",
       "       [0., 0.],\n",
       "       [1., 0.],\n",
       "       [0., 0.],\n",
       "       [0., 1.]])"
      ]
     },
     "execution_count": 38,
     "metadata": {},
     "output_type": "execute_result"
    }
   ],
   "source": [
    "np.identity(4).reshape(8,2)"
   ]
  },
  {
   "cell_type": "code",
   "execution_count": 39,
   "id": "892ae866",
   "metadata": {},
   "outputs": [],
   "source": [
    "a= np.array([1,2,3,4,5,6])\n",
    "b= np.array([[1,2,3],[4,5,6]])\n",
    "c = np.array([[[1,2,3],[4,5,6],[7,8,9]]])"
   ]
  },
  {
   "cell_type": "code",
   "execution_count": 40,
   "id": "88a187ac",
   "metadata": {},
   "outputs": [
    {
     "name": "stdout",
     "output_type": "stream",
     "text": [
      "[1 2 3 4 5 6]\n",
      "a ndim -  1 shape-  (6,) size - 6 itemsize - 4 Dtype -  int32\n",
      "[[1 2 3]\n",
      " [4 5 6]]\n",
      "b ndim -  2 shape-  (2, 3) size - 6 itemsize -  4 Dtype -  int32\n",
      "[[[1 2 3]\n",
      "  [4 5 6]\n",
      "  [7 8 9]]]\n",
      "c ndim -  3 shape-  (1, 3, 3) size - 9 itemsize -  4 Dtype -  int32\n"
     ]
    }
   ],
   "source": [
    "print(a)\n",
    "print(\"a\", \"ndim - \",a.ndim, \"shape- \",a.shape, \"size -\",a.size, \"itemsize -\",a.itemsize, \"Dtype - \",a.dtype)\n",
    "print(b)\n",
    "print(\"b\", \"ndim - \",b.ndim, \"shape- \",b.shape, \"size -\",b.size, \"itemsize - \",b.itemsize, \"Dtype - \",b.dtype)\n",
    "print(c)\n",
    "print(\"c\", \"ndim - \",c.ndim, \"shape- \",c.shape, \"size -\",c.size, \"itemsize - \",c.itemsize, \"Dtype - \",c.dtype)"
   ]
  },
  {
   "cell_type": "code",
   "execution_count": 41,
   "id": "460aa2e9",
   "metadata": {},
   "outputs": [
    {
     "data": {
      "text/plain": [
       "array([1, 2, 3, 4, 5, 6], dtype=int16)"
      ]
     },
     "execution_count": 41,
     "metadata": {},
     "output_type": "execute_result"
    }
   ],
   "source": [
    "a.astype(np.int16)"
   ]
  },
  {
   "cell_type": "code",
   "execution_count": 42,
   "id": "d60b2343",
   "metadata": {},
   "outputs": [
    {
     "data": {
      "text/plain": [
       "array([ 0.        ,  1.11111111,  2.22222222,  3.33333333,  4.44444444,\n",
       "        5.55555556,  6.66666667,  7.77777778,  8.88888889, 10.        ])"
      ]
     },
     "execution_count": 42,
     "metadata": {},
     "output_type": "execute_result"
    }
   ],
   "source": [
    "np.linspace(0,10,10)"
   ]
  },
  {
   "cell_type": "code",
   "execution_count": 43,
   "id": "fd1495d3",
   "metadata": {},
   "outputs": [
    {
     "data": {
      "text/plain": [
       "array([[1., 0., 0., 0.],\n",
       "       [0., 1., 0., 0.],\n",
       "       [0., 0., 1., 0.],\n",
       "       [0., 0., 0., 1.]])"
      ]
     },
     "execution_count": 43,
     "metadata": {},
     "output_type": "execute_result"
    }
   ],
   "source": [
    "np.identity(4)"
   ]
  },
  {
   "cell_type": "code",
   "execution_count": 44,
   "id": "1a1bc8fa",
   "metadata": {},
   "outputs": [
    {
     "data": {
      "text/plain": [
       "array([[1., 1., 1., 1.],\n",
       "       [1., 1., 1., 1.],\n",
       "       [1., 1., 1., 1.]])"
      ]
     },
     "execution_count": 44,
     "metadata": {},
     "output_type": "execute_result"
    }
   ],
   "source": [
    "np.ones((3,4))"
   ]
  },
  {
   "cell_type": "code",
   "execution_count": 45,
   "id": "103ea8ea",
   "metadata": {},
   "outputs": [
    {
     "data": {
      "text/plain": [
       "array([[0., 0., 0., 0.],\n",
       "       [0., 0., 0., 0.],\n",
       "       [0., 0., 0., 0.]])"
      ]
     },
     "execution_count": 45,
     "metadata": {},
     "output_type": "execute_result"
    }
   ],
   "source": [
    "np.zeros((3,4))"
   ]
  },
  {
   "cell_type": "code",
   "execution_count": 46,
   "id": "1126babd-62a9-4c09-ab3d-659d8cd2529f",
   "metadata": {},
   "outputs": [
    {
     "data": {
      "text/plain": [
       "array([0.82260412, 0.04847439, 0.6254912 , 0.91862055, 0.51360641,\n",
       "       0.70552074, 0.45864874, 0.05085391, 0.47912619, 0.10868459])"
      ]
     },
     "execution_count": 46,
     "metadata": {},
     "output_type": "execute_result"
    }
   ],
   "source": [
    "np.random.random(10)"
   ]
  },
  {
   "cell_type": "code",
   "execution_count": 47,
   "id": "ea4f9a37-381b-466d-90b6-8a2cfaaea6bd",
   "metadata": {},
   "outputs": [
    {
     "data": {
      "text/plain": [
       "array([[[8.94508320e-312, 8.94507240e-312, 0.00000000e+000,\n",
       "         0.00000000e+000, 5.02383258e+223, 1.15998412e-028],\n",
       "        [4.31603868e-080, 1.94919985e-153, 1.35717430e+131,\n",
       "         2.09164350e-076, 8.54289868e-072, 9.46065102e-096],\n",
       "        [1.51871940e-047, 2.40461221e-057, 1.18015176e-095,\n",
       "         5.34505109e-038, 1.81148490e-152, 9.37041222e-076],\n",
       "        [2.11143338e-052, 5.15721416e-062, 6.98350252e-077,\n",
       "         6.52516857e-038, 7.49691478e-067, 6.98349601e-077]],\n",
       "\n",
       "       [[7.10947180e-038, 6.01391519e-154, 1.03280385e-047,\n",
       "         8.52795903e-096, 4.18016115e-062, 1.30354289e-076],\n",
       "        [1.18014678e-095, 4.66076220e-033, 3.66914704e-062,\n",
       "         1.15386536e+141, 6.01347002e-154, 7.86783540e-067],\n",
       "        [6.98350247e-077, 5.15345680e-062, 7.48822133e-067,\n",
       "         6.98350245e-077, 3.70003361e-033, 7.49981260e-067],\n",
       "        [1.95361037e-109, 4.90900643e+252, 1.94918511e-153,\n",
       "         6.32672800e+180, 4.74483502e+170, 3.00948078e-067]]])"
      ]
     },
     "execution_count": 47,
     "metadata": {},
     "output_type": "execute_result"
    }
   ],
   "source": [
    "np.empty((2,4,6))"
   ]
  },
  {
   "cell_type": "code",
   "execution_count": 48,
   "id": "5415794f-548d-43e8-b615-cdaebbdaef71",
   "metadata": {},
   "outputs": [],
   "source": [
    "a= np.array([1,2,3])"
   ]
  },
  {
   "cell_type": "code",
   "execution_count": 49,
   "id": "f10c4476-aed3-4815-8cf1-7f123dacd47a",
   "metadata": {},
   "outputs": [
    {
     "data": {
      "text/plain": [
       "array([1, 2, 3])"
      ]
     },
     "execution_count": 49,
     "metadata": {},
     "output_type": "execute_result"
    }
   ],
   "source": [
    "a"
   ]
  },
  {
   "cell_type": "code",
   "execution_count": 50,
   "id": "e63c3b86-e30b-48a2-a985-a5326f8e4118",
   "metadata": {},
   "outputs": [
    {
     "data": {
      "text/plain": [
       "array([1, 4, 9])"
      ]
     },
     "execution_count": 50,
     "metadata": {},
     "output_type": "execute_result"
    }
   ],
   "source": [
    "a**2"
   ]
  },
  {
   "cell_type": "code",
   "execution_count": 51,
   "id": "47bd2397-9947-4b29-a244-2182989d87e0",
   "metadata": {},
   "outputs": [
    {
     "data": {
      "text/plain": [
       "array([0.5, 1. , 1.5])"
      ]
     },
     "execution_count": 51,
     "metadata": {},
     "output_type": "execute_result"
    }
   ],
   "source": [
    "a/2"
   ]
  },
  {
   "cell_type": "code",
   "execution_count": 52,
   "id": "acf20b4b-3e8b-483d-b315-dbc7ce05d69b",
   "metadata": {},
   "outputs": [
    {
     "data": {
      "text/plain": [
       "array([0, 1, 1], dtype=int32)"
      ]
     },
     "execution_count": 52,
     "metadata": {},
     "output_type": "execute_result"
    }
   ],
   "source": [
    "a//2"
   ]
  },
  {
   "cell_type": "code",
   "execution_count": 53,
   "id": "b4819b17-5838-4265-bd4f-ac4774fe4f9e",
   "metadata": {},
   "outputs": [
    {
     "data": {
      "text/plain": [
       "array([ 4,  8, 12])"
      ]
     },
     "execution_count": 53,
     "metadata": {},
     "output_type": "execute_result"
    }
   ],
   "source": [
    "a*4"
   ]
  },
  {
   "cell_type": "code",
   "execution_count": 54,
   "id": "d0dd2ddc-2069-4048-9e25-9a2a7da13a8d",
   "metadata": {},
   "outputs": [
    {
     "data": {
      "text/plain": [
       "1"
      ]
     },
     "execution_count": 54,
     "metadata": {},
     "output_type": "execute_result"
    }
   ],
   "source": [
    "a[0]"
   ]
  },
  {
   "cell_type": "code",
   "execution_count": 55,
   "id": "0d4effa2-466d-43a1-96e1-74e2928e336f",
   "metadata": {},
   "outputs": [
    {
     "data": {
      "text/plain": [
       "3"
      ]
     },
     "execution_count": 55,
     "metadata": {},
     "output_type": "execute_result"
    }
   ],
   "source": [
    "np.max(a)"
   ]
  },
  {
   "cell_type": "code",
   "execution_count": 56,
   "id": "1e0692f9-f8ca-4505-9aca-a34bf90044f0",
   "metadata": {},
   "outputs": [
    {
     "data": {
      "text/plain": [
       "array([[0.20585118, 0.79738964, 0.75524477],\n",
       "       [0.69713568, 0.84893725, 0.00226173],\n",
       "       [0.56672764, 0.63761809, 0.39715016]])"
      ]
     },
     "execution_count": 56,
     "metadata": {},
     "output_type": "execute_result"
    }
   ],
   "source": [
    "b = np.random.random((3,3))\n",
    "b"
   ]
  },
  {
   "cell_type": "code",
   "execution_count": 57,
   "id": "0217dec6-eec2-4c09-bb3b-29439ae076a7",
   "metadata": {},
   "outputs": [
    {
     "data": {
      "text/plain": [
       "array([0.69713568, 0.84893725, 0.75524477])"
      ]
     },
     "execution_count": 57,
     "metadata": {},
     "output_type": "execute_result"
    }
   ],
   "source": [
    "np.max(b,axis=0)"
   ]
  },
  {
   "cell_type": "code",
   "execution_count": 58,
   "id": "ce4077d2-06ea-4b4e-9880-65d8b7f711d3",
   "metadata": {},
   "outputs": [
    {
     "data": {
      "text/plain": [
       "dtype('int32')"
      ]
     },
     "execution_count": 58,
     "metadata": {},
     "output_type": "execute_result"
    }
   ],
   "source": [
    "a.dtype"
   ]
  },
  {
   "cell_type": "code",
   "execution_count": 59,
   "id": "6836fca5-6ce1-4874-8b1b-c9bbbaaa8cc0",
   "metadata": {},
   "outputs": [
    {
     "data": {
      "text/plain": [
       "dtype('float64')"
      ]
     },
     "execution_count": 59,
     "metadata": {},
     "output_type": "execute_result"
    }
   ],
   "source": [
    "b.dtype"
   ]
  },
  {
   "cell_type": "code",
   "execution_count": 60,
   "id": "da9471f8-b23a-4756-9283-55ab627b8c82",
   "metadata": {},
   "outputs": [
    {
     "data": {
      "text/plain": [
       "array([1, 2, 3])"
      ]
     },
     "execution_count": 60,
     "metadata": {},
     "output_type": "execute_result"
    }
   ],
   "source": [
    "a.astype(np.int32)"
   ]
  },
  {
   "cell_type": "code",
   "execution_count": 61,
   "id": "857207e2-1f13-4f27-a37f-e644eb92c54f",
   "metadata": {},
   "outputs": [],
   "source": [
    "import numpy as np"
   ]
  },
  {
   "cell_type": "code",
   "execution_count": 62,
   "id": "722645ce-4696-43a4-beb9-6cccb0b8c9ff",
   "metadata": {},
   "outputs": [],
   "source": [
    "a = np.array([1,2,3,4,5,6])\n",
    "b = np.array([[1,2,3,4,5,6],\n",
    "             [2,4,5,6,8,4]])\n",
    "c= np.array([[[1,2,3,4,5,6],\n",
    "             [1,2,3,4,5,6],\n",
    "              [1,2,3,4,5,6]]])"
   ]
  },
  {
   "cell_type": "code",
   "execution_count": 63,
   "id": "be45ae6f-e754-4bd5-a7eb-88869cbe3ece",
   "metadata": {},
   "outputs": [
    {
     "data": {
      "text/plain": [
       "1"
      ]
     },
     "execution_count": 63,
     "metadata": {},
     "output_type": "execute_result"
    }
   ],
   "source": [
    "a.ndim"
   ]
  },
  {
   "cell_type": "code",
   "execution_count": 64,
   "id": "a9922024-a933-43cd-aecf-c0a5e36b5f95",
   "metadata": {},
   "outputs": [
    {
     "data": {
      "text/plain": [
       "2"
      ]
     },
     "execution_count": 64,
     "metadata": {},
     "output_type": "execute_result"
    }
   ],
   "source": [
    "b.ndim"
   ]
  },
  {
   "cell_type": "code",
   "execution_count": 65,
   "id": "af186517-ab66-4e6b-a54c-b6f94cc416fb",
   "metadata": {},
   "outputs": [
    {
     "data": {
      "text/plain": [
       "3"
      ]
     },
     "execution_count": 65,
     "metadata": {},
     "output_type": "execute_result"
    }
   ],
   "source": [
    "c.ndim"
   ]
  },
  {
   "cell_type": "code",
   "execution_count": 66,
   "id": "223f5819-fa9b-42fb-a7d5-53cd4f3717fd",
   "metadata": {},
   "outputs": [],
   "source": [
    "a1 = np.arange(12).reshape(3,4)\n",
    "a2 = np.arange(12,24).reshape(4,3)"
   ]
  },
  {
   "cell_type": "code",
   "execution_count": 67,
   "id": "029899b6-4e57-4b57-b444-d52fe70de476",
   "metadata": {},
   "outputs": [
    {
     "data": {
      "text/plain": [
       "array([[ 0,  1,  2,  3],\n",
       "       [ 4,  5,  6,  7],\n",
       "       [ 8,  9, 10, 11]])"
      ]
     },
     "execution_count": 67,
     "metadata": {},
     "output_type": "execute_result"
    }
   ],
   "source": [
    "a1"
   ]
  },
  {
   "cell_type": "code",
   "execution_count": 68,
   "id": "94a2b5eb-30b0-4fae-b1af-213726016472",
   "metadata": {},
   "outputs": [
    {
     "data": {
      "text/plain": [
       "array([[12, 13, 14],\n",
       "       [15, 16, 17],\n",
       "       [18, 19, 20],\n",
       "       [21, 22, 23]])"
      ]
     },
     "execution_count": 68,
     "metadata": {},
     "output_type": "execute_result"
    }
   ],
   "source": [
    "a2"
   ]
  },
  {
   "cell_type": "code",
   "execution_count": 69,
   "id": "e78cf430-ef19-40c5-ad3d-f4b2cff135f6",
   "metadata": {},
   "outputs": [
    {
     "data": {
      "text/plain": [
       "array([[114, 120, 126],\n",
       "       [378, 400, 422],\n",
       "       [642, 680, 718]])"
      ]
     },
     "execution_count": 69,
     "metadata": {},
     "output_type": "execute_result"
    }
   ],
   "source": [
    "np.dot(a1,a2)"
   ]
  },
  {
   "cell_type": "code",
   "execution_count": 70,
   "id": "af377465-c62e-4a26-80d1-6759c34c925c",
   "metadata": {},
   "outputs": [
    {
     "name": "stderr",
     "output_type": "stream",
     "text": [
      "C:\\Users\\mohsi\\AppData\\Local\\Temp\\ipykernel_8064\\2387409814.py:1: RuntimeWarning: divide by zero encountered in log\n",
      "  np.log(a1)\n"
     ]
    },
    {
     "data": {
      "text/plain": [
       "array([[      -inf, 0.        , 0.69314718, 1.09861229],\n",
       "       [1.38629436, 1.60943791, 1.79175947, 1.94591015],\n",
       "       [2.07944154, 2.19722458, 2.30258509, 2.39789527]])"
      ]
     },
     "execution_count": 70,
     "metadata": {},
     "output_type": "execute_result"
    }
   ],
   "source": [
    "np.log(a1)"
   ]
  },
  {
   "cell_type": "code",
   "execution_count": 71,
   "id": "992739b9-b7fe-488a-aebb-a72b58c77779",
   "metadata": {},
   "outputs": [
    {
     "data": {
      "text/plain": [
       "array([[1.00000000e+00, 2.71828183e+00, 7.38905610e+00, 2.00855369e+01],\n",
       "       [5.45981500e+01, 1.48413159e+02, 4.03428793e+02, 1.09663316e+03],\n",
       "       [2.98095799e+03, 8.10308393e+03, 2.20264658e+04, 5.98741417e+04]])"
      ]
     },
     "execution_count": 71,
     "metadata": {},
     "output_type": "execute_result"
    }
   ],
   "source": [
    "np.exp(a1)"
   ]
  },
  {
   "cell_type": "code",
   "execution_count": 72,
   "id": "c5ce80db-194d-4d07-9488-837c1e5a54a3",
   "metadata": {},
   "outputs": [
    {
     "data": {
      "text/plain": [
       "array([[ 0,  1,  2,  3],\n",
       "       [ 4,  5,  6,  7],\n",
       "       [ 8,  9, 10, 11]])"
      ]
     },
     "execution_count": 72,
     "metadata": {},
     "output_type": "execute_result"
    }
   ],
   "source": [
    "np.round(a1)"
   ]
  },
  {
   "cell_type": "code",
   "execution_count": 73,
   "id": "b6848c87-d251-459c-a291-65289839c711",
   "metadata": {},
   "outputs": [
    {
     "data": {
      "text/plain": [
       "array([[ 0.,  1.,  2.,  3.],\n",
       "       [ 4.,  5.,  6.,  7.],\n",
       "       [ 8.,  9., 10., 11.]])"
      ]
     },
     "execution_count": 73,
     "metadata": {},
     "output_type": "execute_result"
    }
   ],
   "source": [
    "np.floor(a1)"
   ]
  },
  {
   "cell_type": "code",
   "execution_count": 74,
   "id": "0345d1d4-e77b-4a51-a9cd-1aa214863cf3",
   "metadata": {},
   "outputs": [
    {
     "data": {
      "text/plain": [
       "array([[ 0.,  1.,  2.,  3.],\n",
       "       [ 4.,  5.,  6.,  7.],\n",
       "       [ 8.,  9., 10., 11.]])"
      ]
     },
     "execution_count": 74,
     "metadata": {},
     "output_type": "execute_result"
    }
   ],
   "source": [
    "np.ceil(a1)"
   ]
  },
  {
   "cell_type": "code",
   "execution_count": 75,
   "id": "2fb4d850-28d1-4731-874c-43cb2f2ce27b",
   "metadata": {},
   "outputs": [
    {
     "data": {
      "text/plain": [
       "array([[1., 1.],\n",
       "       [1., 1.],\n",
       "       [1., 1.],\n",
       "       [1., 1.]])"
      ]
     },
     "execution_count": 75,
     "metadata": {},
     "output_type": "execute_result"
    }
   ],
   "source": [
    "np.ceil(np.random.random([4,2]))"
   ]
  },
  {
   "cell_type": "code",
   "execution_count": 76,
   "id": "c30dfd06-f031-4e1c-8322-415ae91ac48f",
   "metadata": {},
   "outputs": [
    {
     "data": {
      "text/plain": [
       "array([[ 0,  1,  2],\n",
       "       [ 3,  4,  5],\n",
       "       [ 6,  7,  8],\n",
       "       [ 9, 10, 11]])"
      ]
     },
     "execution_count": 76,
     "metadata": {},
     "output_type": "execute_result"
    }
   ],
   "source": [
    "np.arange(12).reshape(4,3)"
   ]
  },
  {
   "cell_type": "code",
   "execution_count": 77,
   "id": "b3dceea9-c4df-4723-b480-cbee4aa5d27c",
   "metadata": {},
   "outputs": [
    {
     "data": {
      "text/plain": [
       "array([[0.99710943, 0.19458758, 0.57953727, 0.51061277],\n",
       "       [0.18274767, 0.97867695, 0.11254296, 0.79527217],\n",
       "       [0.72808179, 0.98503325, 0.89834797, 0.58932316],\n",
       "       [0.56131105, 0.02089291, 0.63179824, 0.54899632],\n",
       "       [0.4857263 , 0.13625139, 0.71870233, 0.63079648]])"
      ]
     },
     "execution_count": 77,
     "metadata": {},
     "output_type": "execute_result"
    }
   ],
   "source": [
    "a3 = np.random.random(20).reshape(5,4)\n",
    "a3"
   ]
  },
  {
   "cell_type": "code",
   "execution_count": 78,
   "id": "22fced09-14e9-41a7-a9f8-aa357004d5bc",
   "metadata": {},
   "outputs": [
    {
     "data": {
      "text/plain": [
       "array([ 0,  1,  2,  3,  4,  5,  6,  7,  8,  9, 10, 11, 12, 13, 14, 15, 16,\n",
       "       17, 18, 19])"
      ]
     },
     "execution_count": 78,
     "metadata": {},
     "output_type": "execute_result"
    }
   ],
   "source": [
    "a1 = np.arange(20)\n",
    "a1"
   ]
  },
  {
   "cell_type": "code",
   "execution_count": 79,
   "id": "eecc2184-e52c-4348-9f47-267855552ca3",
   "metadata": {},
   "outputs": [
    {
     "data": {
      "text/plain": [
       "array([[20, 21, 22, 23, 24],\n",
       "       [25, 26, 27, 28, 29],\n",
       "       [30, 31, 32, 33, 34],\n",
       "       [35, 36, 37, 38, 39]])"
      ]
     },
     "execution_count": 79,
     "metadata": {},
     "output_type": "execute_result"
    }
   ],
   "source": [
    "a2 = np.arange(20,40).reshape(4,5)\n",
    "a2"
   ]
  },
  {
   "cell_type": "code",
   "execution_count": 80,
   "id": "1a4fd1e6-d035-4214-af59-48c7033220ad",
   "metadata": {},
   "outputs": [
    {
     "data": {
      "text/plain": [
       "0"
      ]
     },
     "execution_count": 80,
     "metadata": {},
     "output_type": "execute_result"
    }
   ],
   "source": [
    "a1[0]"
   ]
  },
  {
   "cell_type": "code",
   "execution_count": 81,
   "id": "4c4da3f7-5e98-48f9-a196-416e5ea0f496",
   "metadata": {},
   "outputs": [
    {
     "data": {
      "text/plain": [
       "array([20, 21, 22, 23, 24])"
      ]
     },
     "execution_count": 81,
     "metadata": {},
     "output_type": "execute_result"
    }
   ],
   "source": [
    "a2[0]"
   ]
  },
  {
   "cell_type": "code",
   "execution_count": 82,
   "id": "c6edc070-ea7f-4259-b488-85688e5404f7",
   "metadata": {},
   "outputs": [
    {
     "data": {
      "text/plain": [
       "23"
      ]
     },
     "execution_count": 82,
     "metadata": {},
     "output_type": "execute_result"
    }
   ],
   "source": [
    "a2[0][3]"
   ]
  },
  {
   "cell_type": "code",
   "execution_count": 83,
   "id": "a42268bb-c519-46ed-a073-a91b6003d236",
   "metadata": {},
   "outputs": [
    {
     "data": {
      "text/plain": [
       "array([[[20, 21],\n",
       "        [22, 23],\n",
       "        [24, 25],\n",
       "        [26, 27],\n",
       "        [28, 29]],\n",
       "\n",
       "       [[30, 31],\n",
       "        [32, 33],\n",
       "        [34, 35],\n",
       "        [36, 37],\n",
       "        [38, 39]]])"
      ]
     },
     "execution_count": 83,
     "metadata": {},
     "output_type": "execute_result"
    }
   ],
   "source": [
    "a4 = np.arange(20,40).reshape(2,5,2)\n",
    "a4"
   ]
  },
  {
   "cell_type": "code",
   "execution_count": 84,
   "id": "f01e9d7c-38ea-4c55-bd9f-a29ecf128c25",
   "metadata": {},
   "outputs": [
    {
     "data": {
      "text/plain": [
       "array([[20, 21],\n",
       "       [22, 23],\n",
       "       [24, 25],\n",
       "       [26, 27],\n",
       "       [28, 29]])"
      ]
     },
     "execution_count": 84,
     "metadata": {},
     "output_type": "execute_result"
    }
   ],
   "source": [
    "a4[0]"
   ]
  },
  {
   "cell_type": "code",
   "execution_count": 85,
   "id": "19e5caa6-d0fd-4d2c-92f4-4eaaa4bd96a2",
   "metadata": {},
   "outputs": [
    {
     "data": {
      "text/plain": [
       "array([20, 21])"
      ]
     },
     "execution_count": 85,
     "metadata": {},
     "output_type": "execute_result"
    }
   ],
   "source": [
    "a4[0][0]"
   ]
  },
  {
   "cell_type": "code",
   "execution_count": 86,
   "id": "581fca90-e611-4f83-bc4d-48e6b1c909ca",
   "metadata": {},
   "outputs": [
    {
     "data": {
      "text/plain": [
       "20"
      ]
     },
     "execution_count": 86,
     "metadata": {},
     "output_type": "execute_result"
    }
   ],
   "source": [
    "a4[0][0][0]"
   ]
  },
  {
   "cell_type": "code",
   "execution_count": 87,
   "id": "4bfd1203-6803-41b9-8e1b-be3748d17241",
   "metadata": {},
   "outputs": [
    {
     "data": {
      "text/plain": [
       "27"
      ]
     },
     "execution_count": 87,
     "metadata": {},
     "output_type": "execute_result"
    }
   ],
   "source": [
    "a4[0,3,1]"
   ]
  },
  {
   "cell_type": "code",
   "execution_count": 88,
   "id": "21854ea5-4ab8-428b-a477-0d76b09d230a",
   "metadata": {},
   "outputs": [
    {
     "data": {
      "text/plain": [
       "31"
      ]
     },
     "execution_count": 88,
     "metadata": {},
     "output_type": "execute_result"
    }
   ],
   "source": [
    "a4[-1,0,1]"
   ]
  },
  {
   "cell_type": "code",
   "execution_count": 89,
   "id": "21d161c8-6f08-41ef-9074-553b46c6f3b5",
   "metadata": {},
   "outputs": [
    {
     "data": {
      "text/plain": [
       "array([[[[ 0,  1,  2,  3,  4],\n",
       "         [ 5,  6,  7,  8,  9],\n",
       "         [10, 11, 12, 13, 14],\n",
       "         [15, 16, 17, 18, 19]],\n",
       "\n",
       "        [[20, 21, 22, 23, 24],\n",
       "         [25, 26, 27, 28, 29],\n",
       "         [30, 31, 32, 33, 34],\n",
       "         [35, 36, 37, 38, 39]]],\n",
       "\n",
       "\n",
       "       [[[40, 41, 42, 43, 44],\n",
       "         [45, 46, 47, 48, 49],\n",
       "         [50, 51, 52, 53, 54],\n",
       "         [55, 56, 57, 58, 59]],\n",
       "\n",
       "        [[60, 61, 62, 63, 64],\n",
       "         [65, 66, 67, 68, 69],\n",
       "         [70, 71, 72, 73, 74],\n",
       "         [75, 76, 77, 78, 79]]]])"
      ]
     },
     "execution_count": 89,
     "metadata": {},
     "output_type": "execute_result"
    }
   ],
   "source": [
    "a5 = np.arange(80).reshape(2,2,4,5)\n",
    "a5"
   ]
  },
  {
   "cell_type": "code",
   "execution_count": 90,
   "id": "f654f36f-c59b-4c8d-a386-37909ff04515",
   "metadata": {},
   "outputs": [
    {
     "data": {
      "text/plain": [
       "array([[[[25, 26, 27, 28, 29],\n",
       "         [30, 31, 32, 33, 34],\n",
       "         [35, 36, 37, 38, 39]]]])"
      ]
     },
     "execution_count": 90,
     "metadata": {},
     "output_type": "execute_result"
    }
   ],
   "source": [
    "a5[0:1,1:4,1:5]"
   ]
  },
  {
   "cell_type": "code",
   "execution_count": 91,
   "id": "b7cb1ab9-5dcb-4004-84fe-4132e8ccbfcf",
   "metadata": {},
   "outputs": [
    {
     "data": {
      "text/plain": [
       "array([[[[10, 11, 12, 13, 14],\n",
       "         [15, 16, 17, 18, 19]],\n",
       "\n",
       "        [[30, 31, 32, 33, 34],\n",
       "         [35, 36, 37, 38, 39]]]])"
      ]
     },
     "execution_count": 91,
     "metadata": {},
     "output_type": "execute_result"
    }
   ],
   "source": [
    "a5[0:1,0:2,2:4,0:5]"
   ]
  },
  {
   "cell_type": "code",
   "execution_count": 92,
   "id": "50c4daa6-03a7-4cb4-bbe2-2ee9ca907348",
   "metadata": {},
   "outputs": [
    {
     "data": {
      "text/plain": [
       "array([[[[ 0,  4],\n",
       "         [ 5,  9],\n",
       "         [10, 14],\n",
       "         [15, 19]],\n",
       "\n",
       "        [[20, 24],\n",
       "         [25, 29],\n",
       "         [30, 34],\n",
       "         [35, 39]]]])"
      ]
     },
     "execution_count": 92,
     "metadata": {},
     "output_type": "execute_result"
    }
   ],
   "source": [
    "a5[0:1,0:2,:,::4]"
   ]
  },
  {
   "cell_type": "code",
   "execution_count": 93,
   "id": "1d69d434-5c1f-4caf-bde4-bb291c24facc",
   "metadata": {},
   "outputs": [
    {
     "data": {
      "text/plain": [
       "array([[[[ 0,  1,  2,  3,  4],\n",
       "         [ 5,  6,  7,  8,  9],\n",
       "         [10, 11, 12, 13, 14],\n",
       "         [15, 16, 17, 18, 19]],\n",
       "\n",
       "        [[20, 21, 22, 23, 24],\n",
       "         [25, 26, 27, 28, 29],\n",
       "         [30, 31, 32, 33, 34],\n",
       "         [35, 36, 37, 38, 39]]],\n",
       "\n",
       "\n",
       "       [[[40, 41, 42, 43, 44],\n",
       "         [45, 46, 47, 48, 49],\n",
       "         [50, 51, 52, 53, 54],\n",
       "         [55, 56, 57, 58, 59]],\n",
       "\n",
       "        [[60, 61, 62, 63, 64],\n",
       "         [65, 66, 67, 68, 69],\n",
       "         [70, 71, 72, 73, 74],\n",
       "         [75, 76, 77, 78, 79]]]])"
      ]
     },
     "execution_count": 93,
     "metadata": {},
     "output_type": "execute_result"
    }
   ],
   "source": [
    "a5"
   ]
  },
  {
   "cell_type": "code",
   "execution_count": 97,
   "id": "bede9a1b-fb2a-47d4-88a7-dff90304390c",
   "metadata": {},
   "outputs": [
    {
     "data": {
      "text/plain": [
       "array([[[[ 1,  3],\n",
       "         [11, 13]],\n",
       "\n",
       "        [[21, 23],\n",
       "         [31, 33]]],\n",
       "\n",
       "\n",
       "       [[[41, 43],\n",
       "         [51, 53]],\n",
       "\n",
       "        [[61, 63],\n",
       "         [71, 73]]]])"
      ]
     },
     "execution_count": 97,
     "metadata": {},
     "output_type": "execute_result"
    }
   ],
   "source": [
    "a5[:,:,::2,1:4:2]"
   ]
  },
  {
   "cell_type": "code",
   "execution_count": 100,
   "id": "c657e8c7-b7d6-4fa9-9917-bcffb12f1524",
   "metadata": {},
   "outputs": [
    {
     "data": {
      "text/plain": [
       "array([[[ 2,  7, 12, 17],\n",
       "        [22, 27, 32, 37]],\n",
       "\n",
       "       [[42, 47, 52, 57],\n",
       "        [62, 67, 72, 77]]])"
      ]
     },
     "execution_count": 100,
     "metadata": {},
     "output_type": "execute_result"
    }
   ],
   "source": [
    "a5[:,:,:,2]"
   ]
  },
  {
   "cell_type": "code",
   "execution_count": 101,
   "id": "f102f5c8-fb5a-4515-9f7b-1a666421cc0b",
   "metadata": {},
   "outputs": [
    {
     "data": {
      "text/plain": [
       "array([[[[ 0,  1,  2,  3,  4],\n",
       "         [ 5,  6,  7,  8,  9],\n",
       "         [10, 11, 12, 13, 14],\n",
       "         [15, 16, 17, 18, 19]],\n",
       "\n",
       "        [[20, 21, 22, 23, 24],\n",
       "         [25, 26, 27, 28, 29],\n",
       "         [30, 31, 32, 33, 34],\n",
       "         [35, 36, 37, 38, 39]]],\n",
       "\n",
       "\n",
       "       [[[40, 41, 42, 43, 44],\n",
       "         [45, 46, 47, 48, 49],\n",
       "         [50, 51, 52, 53, 54],\n",
       "         [55, 56, 57, 58, 59]],\n",
       "\n",
       "        [[60, 61, 62, 63, 64],\n",
       "         [65, 66, 67, 68, 69],\n",
       "         [70, 71, 72, 73, 74],\n",
       "         [75, 76, 77, 78, 79]]]])"
      ]
     },
     "execution_count": 101,
     "metadata": {},
     "output_type": "execute_result"
    }
   ],
   "source": [
    "a5"
   ]
  },
  {
   "cell_type": "code",
   "execution_count": 114,
   "id": "9a6bf46d-eb2a-4ee4-9536-083a59ed0fb8",
   "metadata": {},
   "outputs": [
    {
     "data": {
      "text/plain": [
       "array([[[ 0,  1,  2,  3,  4],\n",
       "        [ 5,  6,  7,  8,  9],\n",
       "        [10, 11, 12, 13, 14],\n",
       "        [15, 16, 17, 18, 19]],\n",
       "\n",
       "       [[20, 21, 22, 23, 24],\n",
       "        [25, 26, 27, 28, 29],\n",
       "        [30, 31, 32, 33, 34],\n",
       "        [35, 36, 37, 38, 39]]])"
      ]
     },
     "execution_count": 114,
     "metadata": {},
     "output_type": "execute_result"
    }
   ],
   "source": [
    "a5[0]"
   ]
  },
  {
   "cell_type": "code",
   "execution_count": 115,
   "id": "2c043e4c-9408-4cce-84d1-bcd8074dd4e6",
   "metadata": {},
   "outputs": [
    {
     "data": {
      "text/plain": [
       "array([[[40, 41, 42, 43, 44],\n",
       "        [45, 46, 47, 48, 49],\n",
       "        [50, 51, 52, 53, 54],\n",
       "        [55, 56, 57, 58, 59]],\n",
       "\n",
       "       [[60, 61, 62, 63, 64],\n",
       "        [65, 66, 67, 68, 69],\n",
       "        [70, 71, 72, 73, 74],\n",
       "        [75, 76, 77, 78, 79]]])"
      ]
     },
     "execution_count": 115,
     "metadata": {},
     "output_type": "execute_result"
    }
   ],
   "source": [
    "a5[1]"
   ]
  },
  {
   "cell_type": "code",
   "execution_count": 129,
   "id": "ca51893c-5730-477c-8d7e-60e4a2157339",
   "metadata": {},
   "outputs": [
    {
     "data": {
      "text/plain": [
       "array([[[[ 0,  1,  2,  3,  4]]],\n",
       "\n",
       "\n",
       "       [[[40, 41, 42, 43, 44]]]])"
      ]
     },
     "execution_count": 129,
     "metadata": {},
     "output_type": "execute_result"
    }
   ],
   "source": [
    "a5[:,:,::4,::4]"
   ]
  },
  {
   "cell_type": "code",
   "execution_count": null,
   "id": "81de06f6-c073-4cc6-ab8b-8798735619d7",
   "metadata": {},
   "outputs": [],
   "source": []
  },
  {
   "cell_type": "code",
   "execution_count": 113,
   "id": "189dd1f3-3599-4c7c-8806-c61dc9726741",
   "metadata": {},
   "outputs": [
    {
     "data": {
      "text/plain": [
       "(2, 2, 4, 5)"
      ]
     },
     "execution_count": 113,
     "metadata": {},
     "output_type": "execute_result"
    }
   ],
   "source": [
    "a5.shape"
   ]
  },
  {
   "cell_type": "code",
   "execution_count": 130,
   "id": "e7b6ab58-c62d-44b7-9e43-341465a635be",
   "metadata": {},
   "outputs": [
    {
     "data": {
      "text/plain": [
       "array([ 0,  1,  2,  3,  4,  5,  6,  7,  8,  9, 10, 11, 12, 13, 14, 15, 16,\n",
       "       17, 18, 19])"
      ]
     },
     "execution_count": 130,
     "metadata": {},
     "output_type": "execute_result"
    }
   ],
   "source": [
    "a1"
   ]
  },
  {
   "cell_type": "code",
   "execution_count": 132,
   "id": "6ebe8e70-9780-4d9b-b756-fdb644b0e48a",
   "metadata": {},
   "outputs": [
    {
     "name": "stdout",
     "output_type": "stream",
     "text": [
      "0\n",
      "1\n",
      "2\n",
      "3\n",
      "4\n",
      "5\n",
      "6\n",
      "7\n",
      "8\n",
      "9\n",
      "10\n",
      "11\n",
      "12\n",
      "13\n",
      "14\n",
      "15\n",
      "16\n",
      "17\n",
      "18\n",
      "19\n"
     ]
    }
   ],
   "source": [
    "for i in a1:\n",
    "    print(i)"
   ]
  },
  {
   "cell_type": "code",
   "execution_count": 134,
   "id": "8d2af525-a836-4fa5-8483-f05d00c66a5c",
   "metadata": {},
   "outputs": [
    {
     "data": {
      "text/plain": [
       "array([[20, 21, 22, 23, 24],\n",
       "       [25, 26, 27, 28, 29],\n",
       "       [30, 31, 32, 33, 34],\n",
       "       [35, 36, 37, 38, 39]])"
      ]
     },
     "execution_count": 134,
     "metadata": {},
     "output_type": "execute_result"
    }
   ],
   "source": [
    "a2"
   ]
  },
  {
   "cell_type": "code",
   "execution_count": 135,
   "id": "b3f5f1bf-3c26-409c-af65-60083a32bbed",
   "metadata": {},
   "outputs": [
    {
     "name": "stdout",
     "output_type": "stream",
     "text": [
      "[20 21 22 23 24]\n",
      "[25 26 27 28 29]\n",
      "[30 31 32 33 34]\n",
      "[35 36 37 38 39]\n"
     ]
    }
   ],
   "source": [
    "for i in a2:\n",
    "    print(i)"
   ]
  },
  {
   "cell_type": "code",
   "execution_count": 136,
   "id": "6adb7257-0c8b-4c82-955f-18bc913acdfa",
   "metadata": {},
   "outputs": [
    {
     "name": "stdout",
     "output_type": "stream",
     "text": [
      "[0.99710943 0.19458758 0.57953727 0.51061277]\n",
      "[0.18274767 0.97867695 0.11254296 0.79527217]\n",
      "[0.72808179 0.98503325 0.89834797 0.58932316]\n",
      "[0.56131105 0.02089291 0.63179824 0.54899632]\n",
      "[0.4857263  0.13625139 0.71870233 0.63079648]\n"
     ]
    }
   ],
   "source": [
    "for i in a3:\n",
    "    print(i)"
   ]
  },
  {
   "cell_type": "code",
   "execution_count": 139,
   "id": "8450aa09-8010-4660-a02d-aba4b034aff5",
   "metadata": {},
   "outputs": [
    {
     "data": {
      "text/plain": [
       "array([[[ 0,  1,  2,  3,  4,  5],\n",
       "        [ 6,  7,  8,  9, 10, 11]],\n",
       "\n",
       "       [[12, 13, 14, 15, 16, 17],\n",
       "        [18, 19, 20, 21, 22, 23]]])"
      ]
     },
     "execution_count": 139,
     "metadata": {},
     "output_type": "execute_result"
    }
   ],
   "source": [
    "a3 = np.arange(24).reshape(2,2,6)\n",
    "a3"
   ]
  },
  {
   "cell_type": "code",
   "execution_count": 141,
   "id": "63e84947-538c-4138-b510-3fae182f0404",
   "metadata": {},
   "outputs": [
    {
     "name": "stdout",
     "output_type": "stream",
     "text": [
      "[[ 0  1  2  3  4  5]\n",
      " [ 6  7  8  9 10 11]]\n",
      "********************\n",
      "[[12 13 14 15 16 17]\n",
      " [18 19 20 21 22 23]]\n",
      "********************\n"
     ]
    }
   ],
   "source": [
    "for i in a3:\n",
    "    print(i)\n",
    "    print(\"*\"*20)"
   ]
  },
  {
   "cell_type": "code",
   "execution_count": 144,
   "id": "226d0dcb-9236-48e6-93a2-4f93c986888e",
   "metadata": {},
   "outputs": [
    {
     "name": "stdout",
     "output_type": "stream",
     "text": [
      "0\n",
      "1\n",
      "2\n",
      "3\n",
      "4\n",
      "5\n",
      "6\n",
      "7\n",
      "8\n",
      "9\n",
      "10\n",
      "11\n",
      "12\n",
      "13\n",
      "14\n",
      "15\n",
      "16\n",
      "17\n",
      "18\n",
      "19\n"
     ]
    }
   ],
   "source": [
    "for i in np.nditer(a1):\n",
    "    print(i)"
   ]
  },
  {
   "cell_type": "code",
   "execution_count": 147,
   "id": "cfdefe0c-140b-47e8-9a50-ee94d52dad17",
   "metadata": {},
   "outputs": [
    {
     "data": {
      "text/plain": [
       "(5, 4, 2, 2)"
      ]
     },
     "execution_count": 147,
     "metadata": {},
     "output_type": "execute_result"
    }
   ],
   "source": [
    "a5.T"
   ]
  },
  {
   "cell_type": "code",
   "execution_count": 149,
   "id": "1bf3e503-fadf-4a25-ac1e-56a7b331e564",
   "metadata": {},
   "outputs": [
    {
     "data": {
      "text/plain": [
       "(5, 4, 2, 2)"
      ]
     },
     "execution_count": 149,
     "metadata": {},
     "output_type": "execute_result"
    }
   ],
   "source": [
    "np.transpose(a5).shape"
   ]
  },
  {
   "cell_type": "code",
   "execution_count": 153,
   "id": "2ae3c20f-9434-4fd6-a104-a13a03f6c5a9",
   "metadata": {},
   "outputs": [
    {
     "data": {
      "text/plain": [
       "80"
      ]
     },
     "execution_count": 153,
     "metadata": {},
     "output_type": "execute_result"
    }
   ],
   "source": [
    "np.ravel(a5).size"
   ]
  },
  {
   "cell_type": "code",
   "execution_count": 154,
   "id": "39812286-6512-45fa-bcdb-1cdf1015801e",
   "metadata": {},
   "outputs": [
    {
     "data": {
      "text/plain": [
       "80"
      ]
     },
     "execution_count": 154,
     "metadata": {},
     "output_type": "execute_result"
    }
   ],
   "source": [
    "a5.size"
   ]
  },
  {
   "cell_type": "code",
   "execution_count": 156,
   "id": "b81ea696-db75-4834-919d-a1d6fbe28244",
   "metadata": {},
   "outputs": [],
   "source": [
    "a1 = np.arange(10).reshape(2,5)\n",
    "a2 = np.arange(10,20).reshape(2,5)\n"
   ]
  },
  {
   "cell_type": "code",
   "execution_count": 157,
   "id": "370d7755-3e5b-4e91-9f84-026550e559ac",
   "metadata": {},
   "outputs": [
    {
     "data": {
      "text/plain": [
       "array([[0, 1, 2, 3, 4],\n",
       "       [5, 6, 7, 8, 9]])"
      ]
     },
     "execution_count": 157,
     "metadata": {},
     "output_type": "execute_result"
    }
   ],
   "source": [
    "a1"
   ]
  },
  {
   "cell_type": "code",
   "execution_count": 158,
   "id": "d7f31bfa-7571-4818-ac66-e940cfefa72d",
   "metadata": {},
   "outputs": [
    {
     "data": {
      "text/plain": [
       "array([[10, 11, 12, 13, 14],\n",
       "       [15, 16, 17, 18, 19]])"
      ]
     },
     "execution_count": 158,
     "metadata": {},
     "output_type": "execute_result"
    }
   ],
   "source": [
    "a2"
   ]
  },
  {
   "cell_type": "code",
   "execution_count": 161,
   "id": "d97d855d-7189-4464-bee4-7e0ce2e7a47c",
   "metadata": {},
   "outputs": [
    {
     "data": {
      "text/plain": [
       "(2, 10)"
      ]
     },
     "execution_count": 161,
     "metadata": {},
     "output_type": "execute_result"
    }
   ],
   "source": [
    "np.hstack((a1,a2)).shape"
   ]
  },
  {
   "cell_type": "code",
   "execution_count": 163,
   "id": "51857b5c-b9c7-4e84-96c8-2c29738fcc74",
   "metadata": {},
   "outputs": [
    {
     "data": {
      "text/plain": [
       "(4, 5)"
      ]
     },
     "execution_count": 163,
     "metadata": {},
     "output_type": "execute_result"
    }
   ],
   "source": [
    "np.vstack((a1,a2)).shape"
   ]
  },
  {
   "cell_type": "code",
   "execution_count": 166,
   "id": "34f35275-a11b-4d91-ab93-b66a8e9f827b",
   "metadata": {},
   "outputs": [
    {
     "data": {
      "text/plain": [
       "array([[0, 1, 2, 3, 4],\n",
       "       [5, 6, 7, 8, 9]])"
      ]
     },
     "execution_count": 166,
     "metadata": {},
     "output_type": "execute_result"
    }
   ],
   "source": [
    "a1"
   ]
  },
  {
   "cell_type": "code",
   "execution_count": 181,
   "id": "cd4c0a60-b209-42cb-8c27-8c866ea214e8",
   "metadata": {},
   "outputs": [
    {
     "data": {
      "text/plain": [
       "array([[ 0,  1,  2,  3,  4,  5,  6,  7,  8,  9, 10, 11, 12, 13, 14, 15,\n",
       "        16, 17, 18, 19, 20, 21, 22, 23, 24, 25, 26, 27, 28, 29, 30, 31,\n",
       "        32, 33, 34, 35, 36, 37, 38, 39],\n",
       "       [40, 41, 42, 43, 44, 45, 46, 47, 48, 49, 50, 51, 52, 53, 54, 55,\n",
       "        56, 57, 58, 59, 60, 61, 62, 63, 64, 65, 66, 67, 68, 69, 70, 71,\n",
       "        72, 73, 74, 75, 76, 77, 78, 79]])"
      ]
     },
     "execution_count": 181,
     "metadata": {},
     "output_type": "execute_result"
    }
   ],
   "source": [
    "np.ravel(a5).reshape(2,40)"
   ]
  },
  {
   "cell_type": "code",
   "execution_count": null,
   "id": "50dc53a9-58d3-44a9-93b0-b3f8e4c76d01",
   "metadata": {},
   "outputs": [],
   "source": [
    "0,  1,  2,  3,  4,  5,  6,  7,  8,  9, 10, 11, 12, 13, 14, 15, 16, 17, 18, 19, 20, 21, 22, 23, 24, 25, 26, 27, 28, 29, 30, 31,32, 33, 34, 35, 36, 37, 38, 39\n",
    "40, 41, 42, 43, 44, 45, 46, 47, 48, 49, 50, 51, 52, 53, 54, 55, 56, 57, 58, 59, 60, 61, 62, 63, 64, 65, 66, 67, 68, 69, 70, 71,72, 73, 74, 75, 76, 77, 78, 79"
   ]
  },
  {
   "cell_type": "code",
   "execution_count": 179,
   "id": "3a192d4b-7048-4721-99b8-d2086efde7e1",
   "metadata": {
    "scrolled": true
   },
   "outputs": [
    {
     "data": {
      "text/plain": [
       "[array([[ 0,  1,  2,  3,  4,  5,  6,  7,  8,  9, 10, 11, 12, 13, 14, 15,\n",
       "         16, 17, 18, 19],\n",
       "        [40, 41, 42, 43, 44, 45, 46, 47, 48, 49, 50, 51, 52, 53, 54, 55,\n",
       "         56, 57, 58, 59]]),\n",
       " array([[20, 21, 22, 23, 24, 25, 26, 27, 28, 29, 30, 31, 32, 33, 34, 35,\n",
       "         36, 37, 38, 39],\n",
       "        [60, 61, 62, 63, 64, 65, 66, 67, 68, 69, 70, 71, 72, 73, 74, 75,\n",
       "         76, 77, 78, 79]])]"
      ]
     },
     "execution_count": 179,
     "metadata": {},
     "output_type": "execute_result"
    }
   ],
   "source": [
    "np.hsplit(np.ravel(a5).reshape(2,40),2)"
   ]
  },
  {
   "cell_type": "code",
   "execution_count": 180,
   "id": "b547ed12-799a-48e4-8508-5ab0c92df1b8",
   "metadata": {},
   "outputs": [
    {
     "data": {
      "text/plain": [
       "[array([[ 0,  1,  2,  3,  4,  5,  6,  7,  8,  9, 10, 11, 12, 13, 14, 15,\n",
       "         16, 17, 18, 19, 20, 21, 22, 23, 24, 25, 26, 27, 28, 29, 30, 31,\n",
       "         32, 33, 34, 35, 36, 37, 38, 39]]),\n",
       " array([[40, 41, 42, 43, 44, 45, 46, 47, 48, 49, 50, 51, 52, 53, 54, 55,\n",
       "         56, 57, 58, 59, 60, 61, 62, 63, 64, 65, 66, 67, 68, 69, 70, 71,\n",
       "         72, 73, 74, 75, 76, 77, 78, 79]])]"
      ]
     },
     "execution_count": 180,
     "metadata": {},
     "output_type": "execute_result"
    }
   ],
   "source": [
    "np.vsplit(np.ravel(a5).reshape(2,40),2)"
   ]
  },
  {
   "cell_type": "code",
   "execution_count": 173,
   "id": "1c8c08ac-4a5d-41ec-8dc5-9e7618690c8c",
   "metadata": {
    "scrolled": true
   },
   "outputs": [
    {
     "data": {
      "text/plain": [
       "[array([ 0,  1,  2,  3,  4,  5,  6,  7,  8,  9, 10, 11, 12, 13, 14, 15, 16,\n",
       "        17, 18, 19, 20, 21, 22, 23, 24, 25, 26, 27, 28, 29, 30, 31, 32, 33,\n",
       "        34, 35, 36, 37, 38, 39]),\n",
       " array([40, 41, 42, 43, 44, 45, 46, 47, 48, 49, 50, 51, 52, 53, 54, 55, 56,\n",
       "        57, 58, 59, 60, 61, 62, 63, 64, 65, 66, 67, 68, 69, 70, 71, 72, 73,\n",
       "        74, 75, 76, 77, 78, 79])]"
      ]
     },
     "execution_count": 173,
     "metadata": {},
     "output_type": "execute_result"
    }
   ],
   "source": [
    "np.hsplit(np.ravel(a5),2)"
   ]
  },
  {
   "cell_type": "code",
   "execution_count": 169,
   "id": "f3e6dde6-d7ea-491c-8df9-1ba9f6e327bf",
   "metadata": {},
   "outputs": [
    {
     "data": {
      "text/plain": [
       "[array([[[[ 0,  1,  2,  3,  4],\n",
       "          [ 5,  6,  7,  8,  9],\n",
       "          [10, 11, 12, 13, 14],\n",
       "          [15, 16, 17, 18, 19]]],\n",
       " \n",
       " \n",
       "        [[[40, 41, 42, 43, 44],\n",
       "          [45, 46, 47, 48, 49],\n",
       "          [50, 51, 52, 53, 54],\n",
       "          [55, 56, 57, 58, 59]]]]),\n",
       " array([[[[20, 21, 22, 23, 24],\n",
       "          [25, 26, 27, 28, 29],\n",
       "          [30, 31, 32, 33, 34],\n",
       "          [35, 36, 37, 38, 39]]],\n",
       " \n",
       " \n",
       "        [[[60, 61, 62, 63, 64],\n",
       "          [65, 66, 67, 68, 69],\n",
       "          [70, 71, 72, 73, 74],\n",
       "          [75, 76, 77, 78, 79]]]])]"
      ]
     },
     "execution_count": 169,
     "metadata": {},
     "output_type": "execute_result"
    }
   ],
   "source": [
    "np.hsplit(a5,2)"
   ]
  },
  {
   "cell_type": "code",
   "execution_count": 170,
   "id": "9d7b935a-438e-4579-b770-e9a65ce85a91",
   "metadata": {},
   "outputs": [
    {
     "data": {
      "text/plain": [
       "[array([[[[ 0,  1,  2,  3,  4],\n",
       "          [ 5,  6,  7,  8,  9],\n",
       "          [10, 11, 12, 13, 14],\n",
       "          [15, 16, 17, 18, 19]],\n",
       " \n",
       "         [[20, 21, 22, 23, 24],\n",
       "          [25, 26, 27, 28, 29],\n",
       "          [30, 31, 32, 33, 34],\n",
       "          [35, 36, 37, 38, 39]]]]),\n",
       " array([[[[40, 41, 42, 43, 44],\n",
       "          [45, 46, 47, 48, 49],\n",
       "          [50, 51, 52, 53, 54],\n",
       "          [55, 56, 57, 58, 59]],\n",
       " \n",
       "         [[60, 61, 62, 63, 64],\n",
       "          [65, 66, 67, 68, 69],\n",
       "          [70, 71, 72, 73, 74],\n",
       "          [75, 76, 77, 78, 79]]]])]"
      ]
     },
     "execution_count": 170,
     "metadata": {},
     "output_type": "execute_result"
    }
   ],
   "source": [
    "np.vsplit(a5,2)"
   ]
  },
  {
   "cell_type": "code",
   "execution_count": 187,
   "id": "f1b37445-b63a-4ee4-8f65-6d65075a55c9",
   "metadata": {},
   "outputs": [
    {
     "data": {
      "text/plain": [
       "array([1, 2, 3, 4, 5, 6, 7, 8, 9])"
      ]
     },
     "execution_count": 187,
     "metadata": {},
     "output_type": "execute_result"
    }
   ],
   "source": [
    "np.arange(1,10)"
   ]
  },
  {
   "cell_type": "code",
   "execution_count": 193,
   "id": "e629d55c-e56c-4c0b-853e-54ce8e0be0c4",
   "metadata": {},
   "outputs": [
    {
     "data": {
      "text/plain": [
       "array([[0.17103268, 0.61108231, 0.79813131, 0.12218239],\n",
       "       [0.72892574, 0.3572893 , 0.07603805, 0.5536942 ],\n",
       "       [0.21327683, 0.09538885, 0.85041475, 0.23495543],\n",
       "       [0.95752989, 0.79902103, 0.15578526, 0.51882417],\n",
       "       [0.89677374, 0.76845246, 0.64649291, 0.9416952 ],\n",
       "       [0.10723351, 0.09482987, 0.72654855, 0.91359306],\n",
       "       [0.98606551, 0.08766123, 0.1272952 , 0.82714816],\n",
       "       [0.25771426, 0.36396362, 0.18187736, 0.4688365 ],\n",
       "       [0.74513036, 0.61997805, 0.60504843, 0.03961364],\n",
       "       [0.51954742, 0.84503909, 0.97977861, 0.9074117 ]])"
      ]
     },
     "execution_count": 193,
     "metadata": {},
     "output_type": "execute_result"
    }
   ],
   "source": [
    "np.random.random([10,4])"
   ]
  },
  {
   "cell_type": "code",
   "execution_count": 194,
   "id": "303ce131-6ae3-4981-bde9-7bd268eeab58",
   "metadata": {},
   "outputs": [],
   "source": [
    "import time"
   ]
  },
  {
   "cell_type": "code",
   "execution_count": 195,
   "id": "b981433c-b3fb-4c47-a607-9f1e5d60a7fe",
   "metadata": {},
   "outputs": [
    {
     "name": "stdout",
     "output_type": "stream",
     "text": [
      "2.4572930335998535\n"
     ]
    }
   ],
   "source": [
    "a = [i for i in range(10000000)]\n",
    "b = [i for i in range(10000000,20000000)]\n",
    "c = []\n",
    "start= time.time()\n",
    "for i in range(len(a)):\n",
    "    c.append(a[i] + b[i])\n",
    "print(time.time()-start)"
   ]
  },
  {
   "cell_type": "code",
   "execution_count": 196,
   "id": "76c0abef-7db2-4621-a729-a92314f6fa73",
   "metadata": {},
   "outputs": [
    {
     "name": "stdout",
     "output_type": "stream",
     "text": [
      "0.4372372627258301\n"
     ]
    }
   ],
   "source": [
    "a= np.arange(10000000)\n",
    "b = np.arange(10000000,20000000)\n",
    "start= time.time()\n",
    "c= a+b\n",
    "print(time.time()-start)"
   ]
  },
  {
   "cell_type": "code",
   "execution_count": 197,
   "id": "58728dd9-9989-4ac1-b0ae-afe5b978faa1",
   "metadata": {},
   "outputs": [
    {
     "data": {
      "text/plain": [
       "835128600"
      ]
     },
     "execution_count": 197,
     "metadata": {},
     "output_type": "execute_result"
    }
   ],
   "source": [
    "a = [i for i in range(100000000)]\n",
    "import sys\n",
    "\n",
    "sys.getsizeof(a)"
   ]
  },
  {
   "cell_type": "code",
   "execution_count": 202,
   "id": "3a9eae7f-6c23-4da3-b697-e539c90f0da5",
   "metadata": {},
   "outputs": [
    {
     "data": {
      "text/plain": [
       "100000112"
      ]
     },
     "execution_count": 202,
     "metadata": {},
     "output_type": "execute_result"
    }
   ],
   "source": [
    "b = np.arange(100000000,dtype=np.int8)\n",
    "sys.getsizeof(b)"
   ]
  },
  {
   "cell_type": "code",
   "execution_count": 210,
   "id": "82dd928c-54f2-4cfe-85e7-628046601cf4",
   "metadata": {},
   "outputs": [
    {
     "data": {
      "text/plain": [
       "array([[ 0,  1,  2,  3],\n",
       "       [ 4,  5,  6,  7],\n",
       "       [ 8,  9, 10, 11],\n",
       "       [12, 13, 14, 15],\n",
       "       [16, 17, 18, 19]])"
      ]
     },
     "execution_count": 210,
     "metadata": {},
     "output_type": "execute_result"
    }
   ],
   "source": [
    "a= np.arange(20).reshape(5,4)\n",
    "a"
   ]
  },
  {
   "cell_type": "code",
   "execution_count": 213,
   "id": "052f1cb6-88a2-4102-a8e1-bdccdd04de37",
   "metadata": {},
   "outputs": [
    {
     "data": {
      "text/plain": [
       "array([[ 0,  1,  2,  3],\n",
       "       [ 4,  5,  6,  7],\n",
       "       [12, 13, 14, 15],\n",
       "       [16, 17, 18, 19]])"
      ]
     },
     "execution_count": 213,
     "metadata": {},
     "output_type": "execute_result"
    }
   ],
   "source": [
    "a[[0,1,3,4]]"
   ]
  },
  {
   "cell_type": "code",
   "execution_count": 214,
   "id": "4efeb620-4348-426b-a70d-fa27033a8a7f",
   "metadata": {},
   "outputs": [
    {
     "data": {
      "text/plain": [
       "array([[ 0,  2,  3],\n",
       "       [ 4,  6,  7],\n",
       "       [ 8, 10, 11],\n",
       "       [12, 14, 15],\n",
       "       [16, 18, 19]])"
      ]
     },
     "execution_count": 214,
     "metadata": {},
     "output_type": "execute_result"
    }
   ],
   "source": [
    "a[:,[0,2,3]]"
   ]
  },
  {
   "cell_type": "code",
   "execution_count": 217,
   "id": "1e21296e-8c03-4480-b70e-f414c14f79aa",
   "metadata": {},
   "outputs": [
    {
     "data": {
      "text/plain": [
       "array([[20, 91, 81, 72],\n",
       "       [25, 87, 16, 95],\n",
       "       [66, 98, 79, 94],\n",
       "       [ 9, 45, 71, 88],\n",
       "       [61, 34, 47, 54],\n",
       "       [20, 75, 37, 67]])"
      ]
     },
     "execution_count": 217,
     "metadata": {},
     "output_type": "execute_result"
    }
   ],
   "source": [
    "a = np.random.randint(1,100,24).reshape(6,4)\n",
    "a"
   ]
  },
  {
   "cell_type": "code",
   "execution_count": 218,
   "id": "4b83bc12-9944-4ef8-8d07-097a00bd9f38",
   "metadata": {},
   "outputs": [
    {
     "data": {
      "text/plain": [
       "array([20, 72, 16, 66, 98, 94, 88, 34, 54, 20])"
      ]
     },
     "execution_count": 218,
     "metadata": {},
     "output_type": "execute_result"
    }
   ],
   "source": [
    "a[a%2 ==0]"
   ]
  },
  {
   "cell_type": "code",
   "execution_count": 224,
   "id": "aaada2b1-b1c4-4655-912d-e959e04c4f78",
   "metadata": {},
   "outputs": [
    {
     "data": {
      "text/plain": [
       "128"
      ]
     },
     "execution_count": 224,
     "metadata": {},
     "output_type": "execute_result"
    }
   ],
   "source": [
    "sys.getsizeof(np.random.randint(1,200,25).reshape(5,5))"
   ]
  },
  {
   "cell_type": "code",
   "execution_count": 232,
   "id": "5e4afb89-0cdc-4438-a365-3fcae5b13081",
   "metadata": {},
   "outputs": [
    {
     "data": {
      "text/plain": [
       "128"
      ]
     },
     "execution_count": 232,
     "metadata": {},
     "output_type": "execute_result"
    }
   ],
   "source": [
    "sys.getsizeof(np.arange(1,200,8).reshape(5,5))"
   ]
  },
  {
   "cell_type": "code",
   "execution_count": 239,
   "id": "568b5c80-f6c3-4be1-8f2f-6ac05617cefc",
   "metadata": {},
   "outputs": [
    {
     "data": {
      "text/plain": [
       "128"
      ]
     },
     "execution_count": 239,
     "metadata": {},
     "output_type": "execute_result"
    }
   ],
   "source": [
    "sys.getsizeof(np.linspace(1,200,25).reshape(5,5))"
   ]
  },
  {
   "cell_type": "code",
   "execution_count": 245,
   "id": "6df89762-5cc2-4ea8-bf71-d95a47d4ab97",
   "metadata": {},
   "outputs": [
    {
     "data": {
      "text/plain": [
       "array([60, 78, 94, 88, 52, 74, 84, 96, 56, 68])"
      ]
     },
     "execution_count": 245,
     "metadata": {},
     "output_type": "execute_result"
    }
   ],
   "source": [
    "a = np.random.randint(1,100,24).reshape(6,4)\n",
    "a[(a>50) & (a%2 == 0)]"
   ]
  },
  {
   "cell_type": "code",
   "execution_count": 248,
   "id": "9e2926cd-d610-472c-8eb6-a5b0e36fe766",
   "metadata": {},
   "outputs": [
    {
     "data": {
      "text/plain": [
       "array([[ 0,  2,  4,  6],\n",
       "       [ 8, 10, 12, 14],\n",
       "       [16, 18, 20, 22]])"
      ]
     },
     "execution_count": 248,
     "metadata": {},
     "output_type": "execute_result"
    }
   ],
   "source": [
    "a = np.arange(12).reshape(3,4)\n",
    "b = np.arange(12).reshape(3,4)\n",
    "\n",
    "a+b"
   ]
  },
  {
   "cell_type": "code",
   "execution_count": 252,
   "id": "7abe2281-8067-4c3b-a959-62c76f22323f",
   "metadata": {},
   "outputs": [
    {
     "name": "stdout",
     "output_type": "stream",
     "text": [
      "[[ 0  1]\n",
      " [ 2  3]\n",
      " [ 4  5]\n",
      " [ 6  7]\n",
      " [ 8  9]\n",
      " [10 11]]\n",
      "[[0]\n",
      " [1]\n",
      " [2]\n",
      " [3]\n",
      " [4]\n",
      " [5]]\n"
     ]
    },
    {
     "data": {
      "text/plain": [
       "array([[ 0,  1],\n",
       "       [ 3,  4],\n",
       "       [ 6,  7],\n",
       "       [ 9, 10],\n",
       "       [12, 13],\n",
       "       [15, 16]])"
      ]
     },
     "execution_count": 252,
     "metadata": {},
     "output_type": "execute_result"
    }
   ],
   "source": [
    "a = np.arange(12).reshape(6,2)\n",
    "b = np.arange(6).reshape(6,1)\n",
    "\n",
    "print(a)\n",
    "print(b)\n",
    "a+b"
   ]
  },
  {
   "cell_type": "code",
   "execution_count": 254,
   "id": "b10029d4-30b1-468d-b516-5efd620f83cc",
   "metadata": {},
   "outputs": [
    {
     "ename": "ValueError",
     "evalue": "operands could not be broadcast together with shapes (3,4) (4,3) ",
     "output_type": "error",
     "traceback": [
      "\u001b[1;31m---------------------------------------------------------------------------\u001b[0m",
      "\u001b[1;31mValueError\u001b[0m                                Traceback (most recent call last)",
      "Cell \u001b[1;32mIn[254], line 4\u001b[0m\n\u001b[0;32m      1\u001b[0m a \u001b[38;5;241m=\u001b[39m np\u001b[38;5;241m.\u001b[39marange(\u001b[38;5;241m12\u001b[39m)\u001b[38;5;241m.\u001b[39mreshape(\u001b[38;5;241m3\u001b[39m,\u001b[38;5;241m4\u001b[39m)\n\u001b[0;32m      2\u001b[0m b \u001b[38;5;241m=\u001b[39m np\u001b[38;5;241m.\u001b[39marange(\u001b[38;5;241m12\u001b[39m)\u001b[38;5;241m.\u001b[39mreshape(\u001b[38;5;241m4\u001b[39m,\u001b[38;5;241m3\u001b[39m)\n\u001b[1;32m----> 4\u001b[0m \u001b[43ma\u001b[49m\u001b[38;5;241;43m+\u001b[39;49m\u001b[43mb\u001b[49m\n",
      "\u001b[1;31mValueError\u001b[0m: operands could not be broadcast together with shapes (3,4) (4,3) "
     ]
    }
   ],
   "source": [
    "a = np.arange(12).reshape(3,4)\n",
    "b = np.arange(12).reshape(4,3)\n",
    "\n",
    "a+b"
   ]
  },
  {
   "cell_type": "code",
   "execution_count": 260,
   "id": "901ffddc-37d9-4fa3-b341-ca6f71486af2",
   "metadata": {},
   "outputs": [
    {
     "data": {
      "text/plain": [
       "array([ 0.        ,  0.84147098,  0.90929743,  0.14112001, -0.7568025 ,\n",
       "       -0.95892427, -0.2794155 ,  0.6569866 ,  0.98935825,  0.41211849])"
      ]
     },
     "execution_count": 260,
     "metadata": {},
     "output_type": "execute_result"
    }
   ],
   "source": [
    "a= np.arange(10)\n",
    "np.sum(a)\n",
    "np.sin(a)"
   ]
  },
  {
   "cell_type": "code",
   "execution_count": 261,
   "id": "68e10f2d-fa1b-450c-9d74-31c51ffb7650",
   "metadata": {},
   "outputs": [
    {
     "data": {
      "text/plain": [
       "array([0, 1, 2, 3, 4, 5, 6, 7, 8, 9])"
      ]
     },
     "execution_count": 261,
     "metadata": {},
     "output_type": "execute_result"
    }
   ],
   "source": [
    "a"
   ]
  },
  {
   "cell_type": "code",
   "execution_count": 266,
   "id": "dd88af3b-21c9-46ed-b6d2-4bf9d43099cf",
   "metadata": {},
   "outputs": [
    {
     "data": {
      "text/plain": [
       "array([0.5       , 0.73105858, 0.88079708, 0.95257413, 0.98201379,\n",
       "       0.99330715, 0.99752738, 0.99908895, 0.99966465, 0.99987661])"
      ]
     },
     "execution_count": 266,
     "metadata": {},
     "output_type": "execute_result"
    }
   ],
   "source": [
    "1/(1+np.exp(-(a)))"
   ]
  },
  {
   "cell_type": "code",
   "execution_count": 267,
   "id": "b5638b10-9785-428a-a268-2f072a70e6c3",
   "metadata": {},
   "outputs": [
    {
     "data": {
      "text/plain": [
       "array([0.5       , 0.73105858, 0.88079708, 0.95257413, 0.98201379,\n",
       "       0.99330715, 0.99752738, 0.99908895, 0.99966465, 0.99987661])"
      ]
     },
     "execution_count": 267,
     "metadata": {},
     "output_type": "execute_result"
    }
   ],
   "source": [
    "def sigmoid(arr):\n",
    "    return 1/(1+np.exp(-(arr)))\n",
    "\n",
    "a = np.arange(10)\n",
    "sigmoid(a)"
   ]
  },
  {
   "cell_type": "code",
   "execution_count": 269,
   "id": "9469d0e7-f33e-43e2-b2b3-204e672d7ef5",
   "metadata": {},
   "outputs": [
    {
     "name": "stdout",
     "output_type": "stream",
     "text": [
      "[38 36  9  2 14 26  6 19 13 20 10 38 18 12 33 49 43  4 25 11 28 30 24 42\n",
      " 25] [ 5 27  4 26 19 12  8 22 15 31 24 19 26 35 12 35 33 15 13 26 37 49 32 39\n",
      " 47]\n"
     ]
    }
   ],
   "source": [
    "# Mean Squared Error\n",
    "actual = np.random.randint(1,50,25)\n",
    "predicted = np.random.randint(1,50,25)\n",
    "print(actual, predicted)"
   ]
  },
  {
   "cell_type": "code",
   "execution_count": 270,
   "id": "acaf996d-cc11-43e0-9cbb-e8017f29f0be",
   "metadata": {},
   "outputs": [],
   "source": [
    "def MSE(actual,predicted):\n",
    "    return np.mean(actual-predicted)**2"
   ]
  },
  {
   "cell_type": "code",
   "execution_count": 271,
   "id": "38507202-ca5f-4e31-a4fe-e6352caa7c9c",
   "metadata": {},
   "outputs": [
    {
     "data": {
      "text/plain": [
       "2.0736"
      ]
     },
     "execution_count": 271,
     "metadata": {},
     "output_type": "execute_result"
    }
   ],
   "source": [
    "MSE(actual,predicted)"
   ]
  },
  {
   "cell_type": "code",
   "execution_count": 273,
   "id": "e03eec3f-2ed2-4d9f-ad8b-c19a6100339f",
   "metadata": {},
   "outputs": [
    {
     "data": {
      "text/plain": [
       "array([ 1.,  2.,  3., nan,  6.])"
      ]
     },
     "execution_count": 273,
     "metadata": {},
     "output_type": "execute_result"
    }
   ],
   "source": [
    "a= np.array([1,2,3,np.nan,6])\n",
    "a"
   ]
  },
  {
   "cell_type": "code",
   "execution_count": 274,
   "id": "aaf9932b-6000-4626-b1a4-0466a5cfae6e",
   "metadata": {},
   "outputs": [
    {
     "data": {
      "text/plain": [
       "array([False, False, False,  True, False])"
      ]
     },
     "execution_count": 274,
     "metadata": {},
     "output_type": "execute_result"
    }
   ],
   "source": [
    "np.isnan(a)"
   ]
  },
  {
   "cell_type": "code",
   "execution_count": 277,
   "id": "98578c0b-2b39-450e-ad0f-50eca31e1f23",
   "metadata": {},
   "outputs": [],
   "source": [
    "x= np.linspace(-10,10,100)\n",
    "y = x"
   ]
  },
  {
   "cell_type": "code",
   "execution_count": 281,
   "id": "953425b0-75ee-4e1d-997d-b18891a8ef04",
   "metadata": {},
   "outputs": [],
   "source": [
    "import matplotlib.pyplot as plt"
   ]
  },
  {
   "cell_type": "code",
   "execution_count": 283,
   "id": "f0e2cf2b-0c3a-45c1-a1b2-83f26d3eb884",
   "metadata": {},
   "outputs": [
    {
     "data": {
      "image/png": "[encoded data removed]",
      "text/plain": [
       "<Figure size 640x480 with 1 Axes>"
      ]
     },
     "metadata": {},
     "output_type": "display_data"
    }
   ],
   "source": [
    "plt.plot(x,y)\n",
    "plt.show()"
   ]
  },
  {
   "cell_type": "code",
   "execution_count": 284,
   "id": "4713f4f1-db45-40c3-9627-67e67f8b7ff3",
   "metadata": {},
   "outputs": [
    {
     "data": {
      "image/png": "[encoded data removed]",
      "text/plain": [
       "<Figure size 640x480 with 1 Axes>"
      ]
     },
     "metadata": {},
     "output_type": "display_data"
    }
   ],
   "source": [
    "y= x**2\n",
    "plt.plot(x,y)\n",
    "plt.show()"
   ]
  },
  {
   "cell_type": "code",
   "execution_count": 286,
   "id": "50f4b01a-8a34-4b47-8cf6-c9648f01de19",
   "metadata": {},
   "outputs": [
    {
     "data": {
      "image/png": "[encoded data removed]",
      "text/plain": [
       "<Figure size 640x480 with 1 Axes>"
      ]
     },
     "metadata": {},
     "output_type": "display_data"
    }
   ],
   "source": [
    "y = np.sin(x)\n",
    "plt.plot(x,y)\n",
    "plt.show()"
   ]
  },
  {
   "cell_type": "code",
   "execution_count": 287,
   "id": "bad13a99-fb33-4035-84c5-68924c99abaa",
   "metadata": {},
   "outputs": [
    {
     "data": {
      "image/png": "[encoded data removed]",
      "text/plain": [
       "<Figure size 640x480 with 1 Axes>"
      ]
     },
     "metadata": {},
     "output_type": "display_data"
    }
   ],
   "source": [
    "y = np.cos(x)\n",
    "plt.plot(x,y)\n",
    "plt.show()"
   ]
  },
  {
   "cell_type": "code",
   "execution_count": 290,
   "id": "9c57f1d7-d11b-4640-aac9-0bbc9edd00da",
   "metadata": {},
   "outputs": [
    {
     "name": "stderr",
     "output_type": "stream",
     "text": [
      "C:\\Users\\mohsi\\AppData\\Local\\Temp\\ipykernel_8064\\4204063267.py:1: RuntimeWarning: invalid value encountered in log\n",
      "  y = x * np.log(x)\n"
     ]
    },
    {
     "data": {
      "image/png": "[encoded data removed]",
      "text/plain": [
       "<Figure size 640x480 with 1 Axes>"
      ]
     },
     "metadata": {},
     "output_type": "display_data"
    }
   ],
   "source": [
    "y = x * np.log(x)\n",
    "plt.plot(x,y)\n",
    "plt.show()"
   ]
  },
  {
   "cell_type": "code",
   "execution_count": 293,
   "id": "0a93bd5f-a1ee-495e-9261-e14aa7176ae8",
   "metadata": {},
   "outputs": [
    {
     "data": {
      "image/png": "[encoded data removed]",
      "text/plain": [
       "<Figure size 640x480 with 1 Axes>"
      ]
     },
     "metadata": {},
     "output_type": "display_data"
    }
   ],
   "source": [
    "sig = 1/(1+np.exp(-x))\n",
    "plt.plot(sig)\n",
    "plt.show()"
   ]
  },
  {
   "cell_type": "code",
   "execution_count": 305,
   "id": "292da9fa-0ab2-4e37-ac4b-3454b4be6f3c",
   "metadata": {},
   "outputs": [
    {
     "data": {
      "text/plain": [
       "array([[[[89, 63, 74, 91, 35],\n",
       "         [75, 70, 31, 91, 40],\n",
       "         [65, 90, 10, 89,  6],\n",
       "         [61, 63, 53,  2, 88],\n",
       "         [72, 33, 58, 23, 20]],\n",
       "\n",
       "        [[69, 42, 65, 51, 30],\n",
       "         [22, 73, 93, 87, 21],\n",
       "         [98, 54, 10, 97, 25],\n",
       "         [97, 53,  6, 34, 23],\n",
       "         [73, 19, 88, 96, 43]]],\n",
       "\n",
       "\n",
       "       [[[66, 75, 79, 20, 70],\n",
       "         [37,  7, 87, 25, 97],\n",
       "         [55, 68, 45, 13, 51],\n",
       "         [63, 46, 81, 73, 28],\n",
       "         [46, 72, 55, 84, 21]],\n",
       "\n",
       "        [[69, 79, 79, 71, 99],\n",
       "         [42, 42, 16, 11, 26],\n",
       "         [42, 88, 74, 86, 18],\n",
       "         [95, 51, 58,  2, 27],\n",
       "         [46, 64, 94, 58, 28]]]])"
      ]
     },
     "execution_count": 305,
     "metadata": {},
     "output_type": "execute_result"
    }
   ],
   "source": [
    "a= np.random.randint(1,101,100).reshape(2,2,5,5)\n",
    "a"
   ]
  },
  {
   "cell_type": "code",
   "execution_count": 307,
   "id": "7de22aa1-9331-4097-a821-abc54dad04d3",
   "metadata": {},
   "outputs": [
    {
     "data": {
      "text/plain": [
       "array([[[[69, 42, 65, 51, 30],\n",
       "         [22, 70, 31, 87, 21],\n",
       "         [65, 54, 10, 89,  6],\n",
       "         [61, 53,  6,  2, 23],\n",
       "         [72, 19, 58, 23, 20]],\n",
       "\n",
       "        [[89, 63, 74, 91, 35],\n",
       "         [75, 73, 93, 91, 40],\n",
       "         [98, 90, 10, 97, 25],\n",
       "         [97, 63, 53, 34, 88],\n",
       "         [73, 33, 88, 96, 43]]],\n",
       "\n",
       "\n",
       "       [[[66, 75, 79, 20, 70],\n",
       "         [37,  7, 16, 11, 26],\n",
       "         [42, 68, 45, 13, 18],\n",
       "         [63, 46, 58,  2, 27],\n",
       "         [46, 64, 55, 58, 21]],\n",
       "\n",
       "        [[69, 79, 79, 71, 99],\n",
       "         [42, 42, 87, 25, 97],\n",
       "         [55, 88, 74, 86, 51],\n",
       "         [95, 51, 81, 73, 28],\n",
       "         [46, 72, 94, 84, 28]]]])"
      ]
     },
     "execution_count": 307,
     "metadata": {},
     "output_type": "execute_result"
    }
   ],
   "source": [
    "np.sort(a,axis=1)"
   ]
  },
  {
   "cell_type": "code",
   "execution_count": 369,
   "id": "ac9ed082-a7f7-4334-9b2c-a4979f4f4a1b",
   "metadata": {},
   "outputs": [],
   "source": [
    "a = np.random.randint(1,100,25).reshape(5,5)\n",
    "b = np.random.randint(1,100,25).reshape(5,5)"
   ]
  },
  {
   "cell_type": "code",
   "execution_count": 370,
   "id": "a28e757d-2101-4b3f-8a0b-79714e47ba65",
   "metadata": {},
   "outputs": [
    {
     "data": {
      "text/plain": [
       "array([[80, 95, 52, 81, 96],\n",
       "       [35, 66, 70, 29, 35],\n",
       "       [87, 15, 99, 55, 99],\n",
       "       [21, 38, 78, 40, 82],\n",
       "       [29, 24, 58, 26, 62]])"
      ]
     },
     "execution_count": 370,
     "metadata": {},
     "output_type": "execute_result"
    }
   ],
   "source": [
    "a"
   ]
  },
  {
   "cell_type": "code",
   "execution_count": 371,
   "id": "81611cdf-bef5-4e60-8d0d-e5ada4cff771",
   "metadata": {},
   "outputs": [
    {
     "data": {
      "text/plain": [
       "array([[97, 62, 76, 32, 96],\n",
       "       [54, 66, 39, 50, 91],\n",
       "       [72, 55,  8, 77,  4],\n",
       "       [94, 46, 90, 32, 48],\n",
       "       [46, 55, 82, 43, 93]])"
      ]
     },
     "execution_count": 371,
     "metadata": {},
     "output_type": "execute_result"
    }
   ],
   "source": [
    "b"
   ]
  },
  {
   "cell_type": "code",
   "execution_count": 372,
   "id": "5bf71b08-050d-45b2-8860-09671f61eaf2",
   "metadata": {},
   "outputs": [
    {
     "data": {
      "text/plain": [
       "array([80, 95, 52, 81, 96, 35, 66, 70, 29, 35, 87, 15, 99, 55, 99, 21, 38,\n",
       "       78, 40, 82, 29, 24, 58, 26, 62, 97, 62, 76, 32, 96, 54, 66, 39, 50,\n",
       "       91, 72, 55,  8, 77,  4, 94, 46, 90, 32, 48, 46, 55, 82, 43, 93])"
      ]
     },
     "execution_count": 372,
     "metadata": {},
     "output_type": "execute_result"
    }
   ],
   "source": [
    "np.append(a,b)"
   ]
  },
  {
   "cell_type": "code",
   "execution_count": 373,
   "id": "5cb8ea81-0e22-4d36-bf84-f7180148601b",
   "metadata": {},
   "outputs": [
    {
     "data": {
      "text/plain": [
       "array([[80, 95, 52, 81, 96, 97, 62, 76, 32, 96],\n",
       "       [35, 66, 70, 29, 35, 54, 66, 39, 50, 91],\n",
       "       [87, 15, 99, 55, 99, 72, 55,  8, 77,  4],\n",
       "       [21, 38, 78, 40, 82, 94, 46, 90, 32, 48],\n",
       "       [29, 24, 58, 26, 62, 46, 55, 82, 43, 93]])"
      ]
     },
     "execution_count": 373,
     "metadata": {},
     "output_type": "execute_result"
    }
   ],
   "source": [
    "np.append(a,b, axis=1)"
   ]
  },
  {
   "cell_type": "code",
   "execution_count": 374,
   "id": "bc251fef-da85-4c4f-a847-430f4b8e9d09",
   "metadata": {},
   "outputs": [
    {
     "data": {
      "text/plain": [
       "array([[97., 62., 76., 32., 96.,  1.],\n",
       "       [54., 66., 39., 50., 91.,  1.],\n",
       "       [72., 55.,  8., 77.,  4.,  1.],\n",
       "       [94., 46., 90., 32., 48.,  1.],\n",
       "       [46., 55., 82., 43., 93.,  1.]])"
      ]
     },
     "execution_count": 374,
     "metadata": {},
     "output_type": "execute_result"
    }
   ],
   "source": [
    "np.append(b,np.ones((b.shape[0],1)), axis=1)"
   ]
  },
  {
   "cell_type": "code",
   "execution_count": 375,
   "id": "88b17f4f-15b5-4eeb-af7d-f41af1fcc16d",
   "metadata": {},
   "outputs": [
    {
     "data": {
      "text/plain": [
       "array([[80, 95, 52, 81, 96],\n",
       "       [35, 66, 70, 29, 35],\n",
       "       [87, 15, 99, 55, 99],\n",
       "       [21, 38, 78, 40, 82],\n",
       "       [29, 24, 58, 26, 62],\n",
       "       [97, 62, 76, 32, 96],\n",
       "       [54, 66, 39, 50, 91],\n",
       "       [72, 55,  8, 77,  4],\n",
       "       [94, 46, 90, 32, 48],\n",
       "       [46, 55, 82, 43, 93]])"
      ]
     },
     "execution_count": 375,
     "metadata": {},
     "output_type": "execute_result"
    }
   ],
   "source": [
    "np.concatenate((a,b))"
   ]
  },
  {
   "cell_type": "code",
   "execution_count": 376,
   "id": "942f562c-938e-4165-a5a2-7e4755afd048",
   "metadata": {},
   "outputs": [
    {
     "data": {
      "text/plain": [
       "array([[80, 95, 52, 81, 96, 97, 62, 76, 32, 96],\n",
       "       [35, 66, 70, 29, 35, 54, 66, 39, 50, 91],\n",
       "       [87, 15, 99, 55, 99, 72, 55,  8, 77,  4],\n",
       "       [21, 38, 78, 40, 82, 94, 46, 90, 32, 48],\n",
       "       [29, 24, 58, 26, 62, 46, 55, 82, 43, 93]])"
      ]
     },
     "execution_count": 376,
     "metadata": {},
     "output_type": "execute_result"
    }
   ],
   "source": [
    "np.concatenate((a,b),axis=1)"
   ]
  },
  {
   "cell_type": "code",
   "execution_count": 377,
   "id": "b7a79e0d-bbd0-4d74-9d51-33cc09089a5d",
   "metadata": {},
   "outputs": [],
   "source": [
    "import time"
   ]
  },
  {
   "cell_type": "code",
   "execution_count": 378,
   "id": "1d916235-8ac8-4797-8651-a32f477c6245",
   "metadata": {},
   "outputs": [
    {
     "name": "stdout",
     "output_type": "stream",
     "text": [
      "[[80 95 52 81 96 97 62 76 32 96]\n",
      " [35 66 70 29 35 54 66 39 50 91]\n",
      " [87 15 99 55 99 72 55  8 77  4]\n",
      " [21 38 78 40 82 94 46 90 32 48]\n",
      " [29 24 58 26 62 46 55 82 43 93]]\n",
      "[[80 95 52 81 96 97 62 76 32 96]\n",
      " [35 66 70 29 35 54 66 39 50 91]\n",
      " [87 15 99 55 99 72 55  8 77  4]\n",
      " [21 38 78 40 82 94 46 90 32 48]\n",
      " [29 24 58 26 62 46 55 82 43 93]]\n"
     ]
    }
   ],
   "source": [
    "print(np.append(a,b, axis=1))\n",
    "print(np.concatenate((a,b),axis=1))"
   ]
  },
  {
   "cell_type": "code",
   "execution_count": 379,
   "id": "b34455f0-10a1-49e9-8c88-55c27486b887",
   "metadata": {},
   "outputs": [
    {
     "name": "stdout",
     "output_type": "stream",
     "text": [
      "[[80 95 52 81 96]\n",
      " [35 66 70 29 35]\n",
      " [87 15 99 55 99]\n",
      " [21 38 78 40 82]\n",
      " [29 24 58 26 62]\n",
      " [97 62 76 32 96]\n",
      " [54 66 39 50 91]\n",
      " [72 55  8 77  4]\n",
      " [94 46 90 32 48]\n",
      " [46 55 82 43 93]]\n",
      "[[80 95 52 81 96]\n",
      " [35 66 70 29 35]\n",
      " [87 15 99 55 99]\n",
      " [21 38 78 40 82]\n",
      " [29 24 58 26 62]\n",
      " [97 62 76 32 96]\n",
      " [54 66 39 50 91]\n",
      " [72 55  8 77  4]\n",
      " [94 46 90 32 48]\n",
      " [46 55 82 43 93]]\n"
     ]
    }
   ],
   "source": [
    "print(np.append(a,b, axis=0))\n",
    "print(np.concatenate((a,b),axis=0))"
   ]
  },
  {
   "cell_type": "code",
   "execution_count": 380,
   "id": "b69b887e-46a9-4562-a839-9b0cd2724130",
   "metadata": {},
   "outputs": [
    {
     "name": "stdout",
     "output_type": "stream",
     "text": [
      "[[80 95 52 81 96]\n",
      " [35 66 70 29 35]\n",
      " [87 15 99 55 99]\n",
      " [21 38 78 40 82]\n",
      " [29 24 58 26 62]]\n",
      "[[97 62 76 32 96]\n",
      " [54 66 39 50 91]\n",
      " [72 55  8 77  4]\n",
      " [94 46 90 32 48]\n",
      " [46 55 82 43 93]]\n"
     ]
    }
   ],
   "source": [
    "x = np.append(a,b, axis=1)\n",
    "y = np.concatenate((a,b),axis=1)\n",
    "print(a)\n",
    "print(b)"
   ]
  },
  {
   "cell_type": "code",
   "execution_count": 381,
   "id": "c3f20eca-3d55-4157-beab-4012030be516",
   "metadata": {},
   "outputs": [
    {
     "name": "stdout",
     "output_type": "stream",
     "text": [
      "328\n",
      "328\n"
     ]
    }
   ],
   "source": [
    "import sys\n",
    "print(sys.getsizeof(x))\n",
    "print(sys.getsizeof(y))"
   ]
  },
  {
   "cell_type": "code",
   "execution_count": 382,
   "id": "d9ddb0fc-24b4-4c2a-9a1a-3ef6d4e97644",
   "metadata": {},
   "outputs": [
    {
     "data": {
      "text/plain": [
       "array([[80, 95, 52, 81, 96],\n",
       "       [35, 66, 70, 29, 35],\n",
       "       [87, 15, 99, 55, 99],\n",
       "       [21, 38, 78, 40, 82],\n",
       "       [29, 24, 58, 26, 62]])"
      ]
     },
     "execution_count": 382,
     "metadata": {},
     "output_type": "execute_result"
    }
   ],
   "source": [
    "a"
   ]
  },
  {
   "cell_type": "code",
   "execution_count": 383,
   "id": "c36637f1-f6a1-4b95-9609-179383656ff4",
   "metadata": {},
   "outputs": [
    {
     "data": {
      "text/plain": [
       "(5, 10)"
      ]
     },
     "execution_count": 383,
     "metadata": {},
     "output_type": "execute_result"
    }
   ],
   "source": [
    "x.shape"
   ]
  },
  {
   "cell_type": "code",
   "execution_count": 384,
   "id": "211d71ba-a190-48eb-8644-84b4ab9eef53",
   "metadata": {},
   "outputs": [
    {
     "data": {
      "text/plain": [
       "(5, 10)"
      ]
     },
     "execution_count": 384,
     "metadata": {},
     "output_type": "execute_result"
    }
   ],
   "source": [
    "y.shape"
   ]
  },
  {
   "cell_type": "code",
   "execution_count": 385,
   "id": "bd4627e7-86f9-4106-8357-e29fa552d178",
   "metadata": {},
   "outputs": [
    {
     "data": {
      "text/plain": [
       "array([[ True,  True,  True,  True,  True,  True,  True,  True,  True,\n",
       "         True],\n",
       "       [ True,  True,  True,  True,  True,  True,  True,  True,  True,\n",
       "         True],\n",
       "       [ True,  True,  True,  True,  True,  True,  True,  True,  True,\n",
       "         True],\n",
       "       [ True,  True,  True,  True,  True,  True,  True,  True,  True,\n",
       "         True],\n",
       "       [ True,  True,  True,  True,  True,  True,  True,  True,  True,\n",
       "         True]])"
      ]
     },
     "execution_count": 385,
     "metadata": {},
     "output_type": "execute_result"
    }
   ],
   "source": [
    "x==y"
   ]
  },
  {
   "cell_type": "code",
   "execution_count": 22,
   "id": "00ec709b-7d3c-49f8-befd-4796f68f8f62",
   "metadata": {},
   "outputs": [
    {
     "name": "stdout",
     "output_type": "stream",
     "text": [
      "[0.65863956 0.44127591 0.26952839 0.61566488 0.4032606  0.90132317\n",
      " 0.68367109 0.25922326 0.70079394 0.38982399 0.59263749 0.4861583 ]\n",
      "[[0.38002666 0.76149408 0.06391164 0.81955052]\n",
      " [0.37597415 0.32985656 0.59046584 0.00798757]\n",
      " [0.98105098 0.07716681 0.42739778 0.85323433]\n",
      " [0.28260482 0.71115776 0.72439186 0.00697525]\n",
      " [0.49727019 0.93309535 0.45759307 0.85690054]\n",
      " [0.56302476 0.74538891 0.04659172 0.10682258]]\n"
     ]
    }
   ],
   "source": [
    "a= np.random.random((1,12)).reshape(12,)\n",
    "b= np.random.random((6,4)).reshape(6,4)\n",
    "print(a)\n",
    "print(b)"
   ]
  },
  {
   "cell_type": "code",
   "execution_count": 23,
   "id": "cf95724d-3e46-4037-9b72-bb2d671c8af1",
   "metadata": {},
   "outputs": [
    {
     "name": "stdout",
     "output_type": "stream",
     "text": [
      "1 (12,)\n",
      "2 (6, 4)\n"
     ]
    }
   ],
   "source": [
    "print(a.ndim, a.shape)\n",
    "print(b.ndim, b.shape)"
   ]
  },
  {
   "cell_type": "code",
   "execution_count": 8,
   "id": "319f683f-921c-4b9b-9e28-4d920c1803e3",
   "metadata": {},
   "outputs": [
    {
     "data": {
      "text/plain": [
       "array([ 0,  1,  2,  3,  4,  5,  6,  7,  8,  9, 10, 11])"
      ]
     },
     "execution_count": 8,
     "metadata": {},
     "output_type": "execute_result"
    }
   ],
   "source": [
    "np.sort(a)"
   ]
  },
  {
   "cell_type": "code",
   "execution_count": 24,
   "id": "a7942fe3-2264-4a5f-b1ab-3904fa7e158d",
   "metadata": {},
   "outputs": [
    {
     "data": {
      "text/plain": [
       "array([  0.65863956,   0.44127591,   0.26952839,   0.61566488,\n",
       "         0.4032606 ,   0.90132317,   0.68367109,   0.25922326,\n",
       "         0.70079394,   0.38982399,   0.59263749,   0.4861583 ,\n",
       "       200.        ])"
      ]
     },
     "execution_count": 24,
     "metadata": {},
     "output_type": "execute_result"
    }
   ],
   "source": [
    "np.append(a,200)"
   ]
  },
  {
   "cell_type": "code",
   "execution_count": 32,
   "id": "b9d7e534-080c-4f74-8417-10074b062838",
   "metadata": {},
   "outputs": [
    {
     "name": "stdout",
     "output_type": "stream",
     "text": [
      "(12,) (6, 4)\n"
     ]
    },
    {
     "data": {
      "text/plain": [
       "array([0.65863956, 0.44127591, 0.26952839, 0.61566488, 0.4032606 ,\n",
       "       0.90132317, 0.68367109, 0.25922326, 0.70079394, 0.38982399,\n",
       "       0.59263749, 0.4861583 , 0.38002666, 0.76149408, 0.06391164,\n",
       "       0.81955052, 0.37597415, 0.32985656, 0.59046584, 0.00798757,\n",
       "       0.98105098, 0.07716681, 0.42739778, 0.85323433, 0.28260482,\n",
       "       0.71115776, 0.72439186, 0.00697525, 0.49727019, 0.93309535,\n",
       "       0.45759307, 0.85690054, 0.56302476, 0.74538891, 0.04659172,\n",
       "       0.10682258])"
      ]
     },
     "execution_count": 32,
     "metadata": {},
     "output_type": "execute_result"
    }
   ],
   "source": [
    "print(a.shape,b.shape)\n",
    "np.append(a,b)"
   ]
  },
  {
   "cell_type": "code",
   "execution_count": 41,
   "id": "e3daadd5-90a0-4f43-9b86-5e8953a6847c",
   "metadata": {},
   "outputs": [
    {
     "name": "stdout",
     "output_type": "stream",
     "text": [
      "[[ 0  1  2  3  4  5]\n",
      " [ 6  7  8  9 10 11]\n",
      " [12 13 14 15 16 17]\n",
      " [18 19 20 21 22 23]]\n",
      "[[ 0  1  2  3  4  5 12 13 14 15 16 17]\n",
      " [ 6  7  8  9 10 11 18 19 20 21 22 23]]\n"
     ]
    }
   ],
   "source": [
    "a = np.arange(12).reshape(2,6)\n",
    "b = np.arange(12,24).reshape(2,6)\n",
    "print(np.concatenate((a,b),axis=0))\n",
    "print(np.concatenate((a,b),axis=1))"
   ]
  },
  {
   "cell_type": "code",
   "execution_count": 48,
   "id": "8d9c2d9e-d0f2-47f3-9111-b22ae1b2dab5",
   "metadata": {},
   "outputs": [
    {
     "data": {
      "text/plain": [
       "array([1, 2, 3, 4, 5])"
      ]
     },
     "execution_count": 48,
     "metadata": {},
     "output_type": "execute_result"
    }
   ],
   "source": [
    "c = np.repeat([1,2,3,4,5],4)\n",
    "np.unique(c)"
   ]
  },
  {
   "cell_type": "code",
   "execution_count": 52,
   "id": "1f5a2879-3a42-4706-9c74-0c132c433436",
   "metadata": {},
   "outputs": [
    {
     "data": {
      "text/plain": [
       "array([ 0,  1,  2,  3,  4,  5,  6,  7,  8,  9, 10, 11])"
      ]
     },
     "execution_count": 52,
     "metadata": {},
     "output_type": "execute_result"
    }
   ],
   "source": [
    "a= np.arange(12)\n",
    "a"
   ]
  },
  {
   "cell_type": "code",
   "execution_count": 61,
   "id": "fc098c4d-d411-4441-abbf-095061932bf3",
   "metadata": {},
   "outputs": [
    {
     "data": {
      "text/plain": [
       "array([[ 0],\n",
       "       [ 1],\n",
       "       [ 2],\n",
       "       [ 3],\n",
       "       [ 4],\n",
       "       [ 5],\n",
       "       [ 6],\n",
       "       [ 7],\n",
       "       [ 8],\n",
       "       [ 9],\n",
       "       [10],\n",
       "       [11]])"
      ]
     },
     "execution_count": 61,
     "metadata": {},
     "output_type": "execute_result"
    }
   ],
   "source": [
    "np.expand_dims(a, axis=1)"
   ]
  },
  {
   "cell_type": "code",
   "execution_count": 63,
   "id": "5eae6d69-755b-44d2-b297-aa54b1f2950a",
   "metadata": {},
   "outputs": [
    {
     "name": "stdout",
     "output_type": "stream",
     "text": [
      "(12,)\n",
      "(12, 1)\n"
     ]
    }
   ],
   "source": [
    "print(a.shape)\n",
    "print(np.expand_dims(a, axis=1).shape)"
   ]
  },
  {
   "cell_type": "code",
   "execution_count": 58,
   "id": "3b3ffd1f-d4ec-4dd7-a367-50aa8f4430a3",
   "metadata": {},
   "outputs": [
    {
     "name": "stdout",
     "output_type": "stream",
     "text": [
      "[ 0  1  2  3  4  5  6  7  8  9 10 11]\n"
     ]
    }
   ],
   "source": [
    "print(a)"
   ]
  },
  {
   "cell_type": "code",
   "execution_count": 60,
   "id": "750b49d7-d54d-4c3b-8f69-90f53f5367ef",
   "metadata": {},
   "outputs": [
    {
     "data": {
      "text/plain": [
       "4"
      ]
     },
     "execution_count": 60,
     "metadata": {},
     "output_type": "execute_result"
    }
   ],
   "source": [
    "a[]"
   ]
  },
  {
   "cell_type": "code",
   "execution_count": 68,
   "id": "2cd6d9e3-d8f8-4fec-aeff-bc41c55589d8",
   "metadata": {},
   "outputs": [
    {
     "data": {
      "text/plain": [
       "(array([ 6,  7,  8,  9, 10, 11], dtype=int64),)"
      ]
     },
     "execution_count": 68,
     "metadata": {},
     "output_type": "execute_result"
    }
   ],
   "source": [
    "np.where(a>5)"
   ]
  },
  {
   "cell_type": "code",
   "execution_count": 69,
   "id": "f406357c-57aa-40fd-b512-523373260803",
   "metadata": {},
   "outputs": [
    {
     "data": {
      "text/plain": [
       "array([False, False, False, False, False, False,  True,  True,  True,\n",
       "        True,  True,  True])"
      ]
     },
     "execution_count": 69,
     "metadata": {},
     "output_type": "execute_result"
    }
   ],
   "source": [
    "np.where(a>5,True,False)"
   ]
  },
  {
   "cell_type": "code",
   "execution_count": 70,
   "id": "026eb2ec-d9b6-429d-951f-0c24caa5b290",
   "metadata": {},
   "outputs": [
    {
     "data": {
      "text/plain": [
       "array([ 0,  1,  2,  3,  4,  5,  6,  7,  8,  9, 10, 11])"
      ]
     },
     "execution_count": 70,
     "metadata": {},
     "output_type": "execute_result"
    }
   ],
   "source": [
    "a"
   ]
  },
  {
   "cell_type": "code",
   "execution_count": 71,
   "id": "fc75c46e-2065-442d-9eac-316b76079f6d",
   "metadata": {},
   "outputs": [
    {
     "data": {
      "text/plain": [
       "11"
      ]
     },
     "execution_count": 71,
     "metadata": {},
     "output_type": "execute_result"
    }
   ],
   "source": [
    "np.argmax(a)"
   ]
  },
  {
   "cell_type": "code",
   "execution_count": 72,
   "id": "dc49826c-90af-480a-8a7b-0bb6f0facef5",
   "metadata": {},
   "outputs": [
    {
     "data": {
      "text/plain": [
       "array([[ 0,  1,  2],\n",
       "       [ 3,  4,  5],\n",
       "       [ 6,  7,  8],\n",
       "       [ 9, 10, 11]])"
      ]
     },
     "execution_count": 72,
     "metadata": {},
     "output_type": "execute_result"
    }
   ],
   "source": [
    "a = np.arange(12).reshape(4,3)\n",
    "a"
   ]
  },
  {
   "cell_type": "code",
   "execution_count": 76,
   "id": "e05cd864-bb2c-40f9-94fd-4720bbfcca04",
   "metadata": {},
   "outputs": [
    {
     "data": {
      "text/plain": [
       "array([3, 3, 3], dtype=int64)"
      ]
     },
     "execution_count": 76,
     "metadata": {},
     "output_type": "execute_result"
    }
   ],
   "source": [
    "np.argmax(a, axis=0)"
   ]
  },
  {
   "cell_type": "code",
   "execution_count": 79,
   "id": "24a5dfe0-cb2d-4a50-9d45-1d25805d3dd9",
   "metadata": {},
   "outputs": [
    {
     "data": {
      "text/plain": [
       "array([[[ 9, 10, 11],\n",
       "        [ 9, 10, 11],\n",
       "        [ 9, 10, 11]]])"
      ]
     },
     "execution_count": 79,
     "metadata": {},
     "output_type": "execute_result"
    }
   ],
   "source": [
    "a[[np.argmax(a, axis=0)],:]"
   ]
  },
  {
   "cell_type": "code",
   "execution_count": 80,
   "id": "329a915c-8216-43fc-a3b3-6877f148dd78",
   "metadata": {},
   "outputs": [
    {
     "data": {
      "text/plain": [
       "array([ 9, 10, 11])"
      ]
     },
     "execution_count": 80,
     "metadata": {},
     "output_type": "execute_result"
    }
   ],
   "source": [
    "a[3]"
   ]
  },
  {
   "cell_type": "code",
   "execution_count": 81,
   "id": "e4946d88-b98a-4ad8-af94-fc72591c0686",
   "metadata": {},
   "outputs": [
    {
     "data": {
      "text/plain": [
       "0"
      ]
     },
     "execution_count": 81,
     "metadata": {},
     "output_type": "execute_result"
    }
   ],
   "source": [
    "np.argmin(a)"
   ]
  },
  {
   "cell_type": "code",
   "execution_count": 82,
   "id": "f38a1cf6-393f-4c49-88f7-ba3f9fc98dd1",
   "metadata": {},
   "outputs": [
    {
     "data": {
      "text/plain": [
       "array([[ 0,  1,  2],\n",
       "       [ 3,  4,  5],\n",
       "       [ 6,  7,  8],\n",
       "       [ 9, 10, 11]])"
      ]
     },
     "execution_count": 82,
     "metadata": {},
     "output_type": "execute_result"
    }
   ],
   "source": [
    "a"
   ]
  },
  {
   "cell_type": "code",
   "execution_count": 92,
   "id": "f52f6db7-0a75-4287-8243-f79d9779e032",
   "metadata": {},
   "outputs": [
    {
     "data": {
      "text/plain": [
       "array([2, 2, 2, 2], dtype=int64)"
      ]
     },
     "execution_count": 92,
     "metadata": {},
     "output_type": "execute_result"
    }
   ],
   "source": [
    "np.argmax(a,axis=1)"
   ]
  },
  {
   "cell_type": "code",
   "execution_count": 93,
   "id": "6f794784-19b2-45d2-9e06-0ea34ba4289d",
   "metadata": {},
   "outputs": [
    {
     "data": {
      "text/plain": [
       "array([ 0,  1,  3,  6, 10, 15, 21, 28, 36, 45, 55, 66])"
      ]
     },
     "execution_count": 93,
     "metadata": {},
     "output_type": "execute_result"
    }
   ],
   "source": [
    "np.cumsum(a)"
   ]
  },
  {
   "cell_type": "code",
   "execution_count": 97,
   "id": "01367442-0387-4233-a620-d25e19e26af1",
   "metadata": {},
   "outputs": [
    {
     "data": {
      "text/plain": [
       "array([[ 0,  1,  3],\n",
       "       [ 3,  7, 12],\n",
       "       [ 6, 13, 21],\n",
       "       [ 9, 19, 30]])"
      ]
     },
     "execution_count": 97,
     "metadata": {},
     "output_type": "execute_result"
    }
   ],
   "source": [
    "np.cumsum(a,axis=1)"
   ]
  },
  {
   "cell_type": "code",
   "execution_count": 98,
   "id": "f57b4e7b-0d90-41aa-a257-02ad77fdd651",
   "metadata": {},
   "outputs": [
    {
     "data": {
      "text/plain": [
       "array([[ 0,  1,  2],\n",
       "       [ 3,  5,  7],\n",
       "       [ 9, 12, 15],\n",
       "       [18, 22, 26]])"
      ]
     },
     "execution_count": 98,
     "metadata": {},
     "output_type": "execute_result"
    }
   ],
   "source": [
    "np.cumsum(a,axis=0)"
   ]
  },
  {
   "cell_type": "code",
   "execution_count": 100,
   "id": "8b239f1f-fbdc-4c2d-bded-b0dc5802abe3",
   "metadata": {},
   "outputs": [
    {
     "data": {
      "text/plain": [
       "array([[  0,   1,   2],\n",
       "       [  0,   4,  10],\n",
       "       [  0,  28,  80],\n",
       "       [  0, 280, 880]])"
      ]
     },
     "execution_count": 100,
     "metadata": {},
     "output_type": "execute_result"
    }
   ],
   "source": [
    "np.cumprod(a,axis=0)"
   ]
  },
  {
   "cell_type": "code",
   "execution_count": 101,
   "id": "666e94d8-df88-4b2c-80c3-e5d14dcedb86",
   "metadata": {},
   "outputs": [
    {
     "data": {
      "text/plain": [
       "array([[  0,   0,   0],\n",
       "       [  3,  12,  60],\n",
       "       [  6,  42, 336],\n",
       "       [  9,  90, 990]])"
      ]
     },
     "execution_count": 101,
     "metadata": {},
     "output_type": "execute_result"
    }
   ],
   "source": [
    "np.cumprod(a,axis=1)"
   ]
  },
  {
   "cell_type": "code",
   "execution_count": 103,
   "id": "f0fa5431-a726-4077-912d-10c0b798dbd3",
   "metadata": {},
   "outputs": [
    {
     "data": {
      "text/plain": [
       "array([[  0,   0,   0],\n",
       "       [  3,  12,  60],\n",
       "       [  6,  42, 336],\n",
       "       [  9,  90, 990]])"
      ]
     },
     "execution_count": 103,
     "metadata": {},
     "output_type": "execute_result"
    }
   ],
   "source": [
    "np.cumproduct(a, axis=1)"
   ]
  },
  {
   "cell_type": "code",
   "execution_count": 107,
   "id": "4dcbac98-8809-4867-a31d-323957bbb1f1",
   "metadata": {},
   "outputs": [
    {
     "data": {
      "text/plain": [
       "11.0"
      ]
     },
     "execution_count": 107,
     "metadata": {},
     "output_type": "execute_result"
    }
   ],
   "source": [
    "np.percentile(a,100)"
   ]
  },
  {
   "cell_type": "code",
   "execution_count": 105,
   "id": "eed00223-6cdb-47bd-9227-c1b91090e918",
   "metadata": {},
   "outputs": [
    {
     "data": {
      "text/plain": [
       "array([[ 0,  1,  2],\n",
       "       [ 3,  4,  5],\n",
       "       [ 6,  7,  8],\n",
       "       [ 9, 10, 11]])"
      ]
     },
     "execution_count": 105,
     "metadata": {},
     "output_type": "execute_result"
    }
   ],
   "source": [
    "a"
   ]
  },
  {
   "cell_type": "code",
   "execution_count": 116,
   "id": "5dc50960-cd2b-4b62-abcf-7141bb1d969b",
   "metadata": {},
   "outputs": [
    {
     "data": {
      "text/plain": [
       "(array([6, 2, 4], dtype=int64), array([ 0,  6,  8, 11]))"
      ]
     },
     "execution_count": 116,
     "metadata": {},
     "output_type": "execute_result"
    }
   ],
   "source": [
    "np.histogram(a,bins=[0,6,8,11])"
   ]
  },
  {
   "cell_type": "code",
   "execution_count": 117,
   "id": "54e60a18-cb7b-48d3-b2f7-18326fbf0979",
   "metadata": {},
   "outputs": [],
   "source": [
    "salary = np.array([10000,20000,30000,50000,100000])\n",
    "exp= np.array([1,2,3,4,8])"
   ]
  },
  {
   "cell_type": "code",
   "execution_count": 118,
   "id": "74cd4fa7-1cbf-4e59-b21a-5d139b967eec",
   "metadata": {},
   "outputs": [
    {
     "data": {
      "text/plain": [
       "array([[1.        , 0.99702935],\n",
       "       [0.99702935, 1.        ]])"
      ]
     },
     "execution_count": 118,
     "metadata": {},
     "output_type": "execute_result"
    }
   ],
   "source": [
    "np.corrcoef(salary, exp)"
   ]
  },
  {
   "cell_type": "code",
   "execution_count": 119,
   "id": "6b1afaaf-0efa-43a4-8eb3-96714ee42281",
   "metadata": {},
   "outputs": [],
   "source": [
    "items= np.array([10,30,40,60,80,40,30,40,20,30,40,70,80])\n",
    "a=np.arange(10,100)\n"
   ]
  },
  {
   "cell_type": "code",
   "execution_count": 121,
   "id": "de6dc186-ab42-4b8a-a61b-265373375c86",
   "metadata": {},
   "outputs": [
    {
     "data": {
      "text/plain": [
       "array([10, 20, 30, 40, 60, 70, 80])"
      ]
     },
     "execution_count": 121,
     "metadata": {},
     "output_type": "execute_result"
    }
   ],
   "source": [
    "a[np.isin(a,items)]"
   ]
  },
  {
   "cell_type": "code",
   "execution_count": 123,
   "id": "f70a44a1-1e31-43b6-8036-46604691707a",
   "metadata": {},
   "outputs": [
    {
     "name": "stdout",
     "output_type": "stream",
     "text": [
      "[[ 0  1  2  3]\n",
      " [ 4  5  6  7]\n",
      " [ 8  9 10 11]]\n",
      "[[ 8  9 10 11]\n",
      " [ 4  5  6  7]\n",
      " [ 0  1  2  3]]\n"
     ]
    }
   ],
   "source": [
    "a= np.arange(12).reshape(3,4)\n",
    "print(a)\n",
    "print(np.flip(a, axis=0))"
   ]
  },
  {
   "cell_type": "code",
   "execution_count": 124,
   "id": "4a6810d8-7a5d-409c-aed3-40f87d41ffae",
   "metadata": {},
   "outputs": [],
   "source": [
    "np.put(a, 0,110)"
   ]
  },
  {
   "cell_type": "code",
   "execution_count": 125,
   "id": "72eaed0b-afa2-403d-9090-fc687c12418e",
   "metadata": {},
   "outputs": [
    {
     "data": {
      "text/plain": [
       "array([[110,   1,   2,   3],\n",
       "       [  4,   5,   6,   7],\n",
       "       [  8,   9,  10,  11]])"
      ]
     },
     "execution_count": 125,
     "metadata": {},
     "output_type": "execute_result"
    }
   ],
   "source": [
    "a"
   ]
  },
  {
   "cell_type": "code",
   "execution_count": 129,
   "id": "a08bd9d0-2d28-435d-9f88-0167981185d4",
   "metadata": {},
   "outputs": [
    {
     "data": {
      "text/plain": [
       "array([ 3,  4,  5,  6,  7,  8,  9, 10, 11])"
      ]
     },
     "execution_count": 129,
     "metadata": {},
     "output_type": "execute_result"
    }
   ],
   "source": [
    "np.delete(a,[0,1,2])"
   ]
  },
  {
   "cell_type": "code",
   "execution_count": 128,
   "id": "4b0b073e-3c73-4ecd-b482-a5f424570358",
   "metadata": {},
   "outputs": [
    {
     "data": {
      "text/plain": [
       "array([[110,   1,   2,   3],\n",
       "       [  4,   5,   6,   7],\n",
       "       [  8,   9,  10,  11]])"
      ]
     },
     "execution_count": 128,
     "metadata": {},
     "output_type": "execute_result"
    }
   ],
   "source": [
    "a"
   ]
  },
  {
   "cell_type": "code",
   "execution_count": 131,
   "id": "89df1f8f-74d2-4032-9061-23dafb7e1dcf",
   "metadata": {},
   "outputs": [],
   "source": [
    "a = np.arange(1,11)\n",
    "b = np.arange(11,21)"
   ]
  },
  {
   "cell_type": "code",
   "execution_count": 132,
   "id": "52fdba69-2670-4952-b480-bf25bb6cb4ad",
   "metadata": {},
   "outputs": [
    {
     "data": {
      "text/plain": [
       "array([ 1,  2,  3,  4,  5,  6,  7,  8,  9, 10])"
      ]
     },
     "execution_count": 132,
     "metadata": {},
     "output_type": "execute_result"
    }
   ],
   "source": [
    "a"
   ]
  },
  {
   "cell_type": "code",
   "execution_count": 133,
   "id": "6f3bfedb-abd8-4465-a10d-b6d303d7875d",
   "metadata": {},
   "outputs": [
    {
     "data": {
      "text/plain": [
       "array([11, 12, 13, 14, 15, 16, 17, 18, 19, 20])"
      ]
     },
     "execution_count": 133,
     "metadata": {},
     "output_type": "execute_result"
    }
   ],
   "source": [
    "b"
   ]
  },
  {
   "cell_type": "code",
   "execution_count": 134,
   "id": "e0417410-ab50-40e1-a7bb-4c8b93bd0ffe",
   "metadata": {},
   "outputs": [
    {
     "data": {
      "text/plain": [
       "array([ 1,  2,  3,  4,  5,  6,  7,  8,  9, 10, 11, 12, 13, 14, 15, 16, 17,\n",
       "       18, 19, 20])"
      ]
     },
     "execution_count": 134,
     "metadata": {},
     "output_type": "execute_result"
    }
   ],
   "source": [
    "np.union1d(a,b)"
   ]
  },
  {
   "cell_type": "code",
   "execution_count": 135,
   "id": "d2075581-9f41-4f75-adbf-bd4d09c5c500",
   "metadata": {},
   "outputs": [
    {
     "data": {
      "text/plain": [
       "array([], dtype=int32)"
      ]
     },
     "execution_count": 135,
     "metadata": {},
     "output_type": "execute_result"
    }
   ],
   "source": [
    "np.intersect1d(a,b)"
   ]
  },
  {
   "cell_type": "code",
   "execution_count": 136,
   "id": "4c8cb857-8008-4061-bd4a-2e25574a3b79",
   "metadata": {},
   "outputs": [
    {
     "data": {
      "text/plain": [
       "array([ 1,  2,  3,  4,  5,  6,  7,  8,  9, 10])"
      ]
     },
     "execution_count": 136,
     "metadata": {},
     "output_type": "execute_result"
    }
   ],
   "source": [
    "np.setdiff1d(a,b)"
   ]
  },
  {
   "cell_type": "code",
   "execution_count": 137,
   "id": "0e3fae71-9623-4177-89e9-9ddcd4a7b6b1",
   "metadata": {},
   "outputs": [
    {
     "data": {
      "text/plain": [
       "array([11, 12, 13, 14, 15, 16, 17, 18, 19, 20])"
      ]
     },
     "execution_count": 137,
     "metadata": {},
     "output_type": "execute_result"
    }
   ],
   "source": [
    "np.setdiff1d(b,a)"
   ]
  },
  {
   "cell_type": "code",
   "execution_count": 138,
   "id": "e7e4e655-fe82-42fa-a54d-65b17a138df1",
   "metadata": {},
   "outputs": [
    {
     "data": {
      "text/plain": [
       "array([ 1,  2,  3,  4,  5,  6,  7,  8,  9, 10, 11, 12, 13, 14, 15, 16, 17,\n",
       "       18, 19, 20])"
      ]
     },
     "execution_count": 138,
     "metadata": {},
     "output_type": "execute_result"
    }
   ],
   "source": [
    "np.setxor1d(a,b)"
   ]
  },
  {
   "cell_type": "code",
   "execution_count": 145,
   "id": "ce59dd92-4640-4437-b666-a5cc78463ff1",
   "metadata": {},
   "outputs": [
    {
     "data": {
      "text/plain": [
       "array([4])"
      ]
     },
     "execution_count": 145,
     "metadata": {},
     "output_type": "execute_result"
    }
   ],
   "source": [
    "a[np.in1d(a,4)]"
   ]
  },
  {
   "cell_type": "code",
   "execution_count": 147,
   "id": "9c3fb242-2d86-4deb-b9fc-ecf6cb36620f",
   "metadata": {},
   "outputs": [],
   "source": [
    "a =np.arange(1,10000)"
   ]
  },
  {
   "cell_type": "code",
   "execution_count": 148,
   "id": "8a034407-768b-4796-9f3e-fd4edfbc8aad",
   "metadata": {},
   "outputs": [
    {
     "data": {
      "text/plain": [
       "array([   1,    2,    3, ..., 9997, 9998, 9999])"
      ]
     },
     "execution_count": 148,
     "metadata": {},
     "output_type": "execute_result"
    }
   ],
   "source": [
    "a"
   ]
  },
  {
   "cell_type": "code",
   "execution_count": 157,
   "id": "aa2b5f22-9cf0-4e01-825c-7abcd506a53c",
   "metadata": {},
   "outputs": [
    {
     "data": {
      "text/plain": [
       "array([ 1,  2,  3, ..., 75, 75, 75])"
      ]
     },
     "execution_count": 157,
     "metadata": {},
     "output_type": "execute_result"
    }
   ],
   "source": [
    "np.clip(a,a_min=0,a_max=75)"
   ]
  },
  {
   "cell_type": "code",
   "execution_count": 159,
   "id": "a1ac12ac-720f-4ce5-b46a-2ef0733817c0",
   "metadata": {},
   "outputs": [
    {
     "name": "stdout",
     "output_type": "stream",
     "text": [
      "[10 20 30]\n"
     ]
    }
   ],
   "source": [
    "dt = np.dtype([('age',np.int8)])\n",
    "\n",
    "a = np.array([(10,),(20,),(30)],dtype=dt)\n",
    "\n",
    "print(a['age'])"
   ]
  },
  {
   "cell_type": "code",
   "execution_count": 161,
   "id": "bd008de3-d562-4a00-9eb9-77df4d2e6806",
   "metadata": {},
   "outputs": [
    {
     "data": {
      "text/plain": [
       "array([[1., 0., 0., 0., 0., 0.],\n",
       "       [0., 1., 0., 0., 0., 0.],\n",
       "       [0., 0., 1., 0., 0., 0.],\n",
       "       [0., 0., 0., 1., 0., 0.],\n",
       "       [0., 0., 0., 0., 1., 0.],\n",
       "       [0., 0., 0., 0., 0., 1.]])"
      ]
     },
     "execution_count": 161,
     "metadata": {},
     "output_type": "execute_result"
    }
   ],
   "source": [
    "np.eye(6)"
   ]
  },
  {
   "cell_type": "code",
   "execution_count": 162,
   "id": "704b69c1-eb57-4e8d-8b97-fa880a24978f",
   "metadata": {},
   "outputs": [
    {
     "data": {
      "text/plain": [
       "8.5"
      ]
     },
     "execution_count": 162,
     "metadata": {},
     "output_type": "execute_result"
    }
   ],
   "source": [
    "a =np.array([7,10,2,4,13,16])\n",
    "np.percentile(a,50)"
   ]
  },
  {
   "cell_type": "code",
   "execution_count": 177,
   "id": "104598dc-30e8-4834-a27d-61061e9d81ac",
   "metadata": {},
   "outputs": [
    {
     "name": "stdout",
     "output_type": "stream",
     "text": [
      "132\n"
     ]
    }
   ],
   "source": [
    "a= np.arange(11*12).reshape(11,12)\n",
    "np.where(a==100)\n",
    "print(a.size)"
   ]
  },
  {
   "cell_type": "code",
   "execution_count": 167,
   "id": "210b4a72-0c31-4c4e-ad8f-79ab8ab165e6",
   "metadata": {},
   "outputs": [
    {
     "data": {
      "text/plain": [
       "(100,)"
      ]
     },
     "execution_count": 167,
     "metadata": {},
     "output_type": "execute_result"
    }
   ],
   "source": [
    "np.arange(0,100).shape"
   ]
  },
  {
   "cell_type": "code",
   "execution_count": 169,
   "id": "fbe37b4e-dff7-402b-b6ef-d3a5b904964f",
   "metadata": {},
   "outputs": [
    {
     "data": {
      "text/plain": [
       "2"
      ]
     },
     "execution_count": 169,
     "metadata": {},
     "output_type": "execute_result"
    }
   ],
   "source": [
    "a.ndim"
   ]
  },
  {
   "cell_type": "code",
   "execution_count": 170,
   "id": "2ca18b7b-cafc-450c-9151-30b836f99b74",
   "metadata": {},
   "outputs": [
    {
     "data": {
      "text/plain": [
       "array([[ 1,  2,  3,  4,  5],\n",
       "       [ 6,  7,  8,  9, 10]])"
      ]
     },
     "execution_count": 170,
     "metadata": {},
     "output_type": "execute_result"
    }
   ],
   "source": [
    "arr = np.array( [[1,2,3,4,5], [6,7,8,9,10]] )\n",
    "arr"
   ]
  },
  {
   "cell_type": "code",
   "execution_count": 172,
   "id": "a06de78b-9d0a-4bf9-b859-812d8f869db5",
   "metadata": {},
   "outputs": [
    {
     "data": {
      "text/plain": [
       "8"
      ]
     },
     "execution_count": 172,
     "metadata": {},
     "output_type": "execute_result"
    }
   ],
   "source": [
    "arr[1][2]"
   ]
  },
  {
   "cell_type": "code",
   "execution_count": 173,
   "id": "1bd8acef-ce99-4a1e-a622-90baa6f4a514",
   "metadata": {},
   "outputs": [
    {
     "data": {
      "text/plain": [
       "8"
      ]
     },
     "execution_count": 173,
     "metadata": {},
     "output_type": "execute_result"
    }
   ],
   "source": [
    "arr[1,2]"
   ]
  },
  {
   "cell_type": "code",
   "execution_count": 174,
   "id": "64ecbf02-717b-4be8-be4b-177998f9c313",
   "metadata": {},
   "outputs": [
    {
     "data": {
      "text/plain": [
       "dtype('int32')"
      ]
     },
     "execution_count": 174,
     "metadata": {},
     "output_type": "execute_result"
    }
   ],
   "source": [
    "arr.dtype"
   ]
  },
  {
   "cell_type": "code",
   "execution_count": null,
   "id": "df8f3314-1d04-4cc6-be6e-f4d3d36b761b",
   "metadata": {},
   "outputs": [],
   "source": []
  },
  {
   "cell_type": "code",
   "execution_count": null,
   "id": "e2b3dd8a-cca8-4952-8095-666f314999c9",
   "metadata": {},
   "outputs": [],
   "source": []
  },
  {
   "cell_type": "code",
   "execution_count": null,
   "id": "edc16731-374b-4212-a0d9-e8c0fadf101f",
   "metadata": {},
   "outputs": [],
   "source": []
  },
  {
   "cell_type": "code",
   "execution_count": null,
   "id": "9540ead6-5c0a-4598-8e74-1071278d4e54",
   "metadata": {},
   "outputs": [],
   "source": []
  },
  {
   "cell_type": "code",
   "execution_count": null,
   "id": "1d28beae-5ff1-48eb-a872-e418f4f8c5f7",
   "metadata": {},
   "outputs": [],
   "source": []
  },
  {
   "cell_type": "code",
   "execution_count": null,
   "id": "d69fda2a-696f-4695-9343-4fe54e6df111",
   "metadata": {},
   "outputs": [],
   "source": []
  },
  {
   "cell_type": "code",
   "execution_count": null,
   "id": "4b12464a-4038-4314-b68e-34d7b19f4d7f",
   "metadata": {},
   "outputs": [],
   "source": []
  },
  {
   "cell_type": "code",
   "execution_count": null,
   "id": "cbfe0a6a-7ffc-4b54-8a99-2ae09e15314f",
   "metadata": {},
   "outputs": [],
   "source": []
  },
  {
   "cell_type": "code",
   "execution_count": null,
   "id": "c1fffa35-e79a-4872-9376-9eff82a38aa6",
   "metadata": {},
   "outputs": [],
   "source": []
  },
  {
   "cell_type": "code",
   "execution_count": null,
   "id": "c5f17b8a-0f39-4765-b665-d3cf5b78ff52",
   "metadata": {},
   "outputs": [],
   "source": []
  },
  {
   "cell_type": "code",
   "execution_count": null,
   "id": "db68c74f-1997-43f4-91eb-39ddf7fd9468",
   "metadata": {},
   "outputs": [],
   "source": []
  },
  {
   "cell_type": "code",
   "execution_count": null,
   "id": "bd4c8a69-cbfd-445d-a95b-dcd86935df5e",
   "metadata": {},
   "outputs": [],
   "source": []
  },
  {
   "cell_type": "code",
   "execution_count": null,
   "id": "49fb7d65-f980-4e3a-a808-57a0e8167123",
   "metadata": {},
   "outputs": [],
   "source": []
  },
  {
   "cell_type": "code",
   "execution_count": null,
   "id": "1d9f9718-e7a2-44f0-a395-fe50fa0ecb47",
   "metadata": {},
   "outputs": [],
   "source": []
  },
  {
   "cell_type": "code",
   "execution_count": null,
   "id": "9c30da52-e246-4647-badb-f7aac992bb53",
   "metadata": {},
   "outputs": [],
   "source": []
  },
  {
   "cell_type": "code",
   "execution_count": null,
   "id": "8aacfbd5-67cd-42fa-863d-ec7c81e90596",
   "metadata": {},
   "outputs": [],
   "source": []
  },
  {
   "cell_type": "code",
   "execution_count": null,
   "id": "fbdb7e3b-b9d4-4fda-812d-df6752aba114",
   "metadata": {},
   "outputs": [],
   "source": []
  },
  {
   "cell_type": "code",
   "execution_count": null,
   "id": "9c57f11d-7619-4bd9-974a-5effd5f14beb",
   "metadata": {},
   "outputs": [],
   "source": []
  },
  {
   "cell_type": "code",
   "execution_count": null,
   "id": "19a96b3c-bb1e-4292-9e54-1a6740870e9e",
   "metadata": {},
   "outputs": [],
   "source": []
  },
  {
   "cell_type": "code",
   "execution_count": null,
   "id": "0054d31e-e9f8-490d-bc79-1a38ee428931",
   "metadata": {},
   "outputs": [],
   "source": []
  },
  {
   "cell_type": "code",
   "execution_count": null,
   "id": "0febeae2-3b96-48a2-bdfe-90a727d10f73",
   "metadata": {},
   "outputs": [],
   "source": []
  },
  {
   "cell_type": "code",
   "execution_count": null,
   "id": "66bb6816-7bb3-45a7-ad2d-ce88c5d8399e",
   "metadata": {},
   "outputs": [],
   "source": []
  },
  {
   "cell_type": "code",
   "execution_count": null,
   "id": "ed50ec63-9929-4c95-9304-f3002e59b237",
   "metadata": {},
   "outputs": [],
   "source": []
  },
  {
   "cell_type": "code",
   "execution_count": null,
   "id": "31e08ffc-9343-40f7-a0d1-c710bfb8a78a",
   "metadata": {},
   "outputs": [],
   "source": []
  },
  {
   "cell_type": "code",
   "execution_count": null,
   "id": "131a2916-47d6-487d-8d32-59f918e0b457",
   "metadata": {},
   "outputs": [],
   "source": []
  },
  {
   "cell_type": "code",
   "execution_count": null,
   "id": "dd9decd0-5229-4ba8-8385-dfdae9945a49",
   "metadata": {},
   "outputs": [],
   "source": []
  }
 ],
 "metadata": {
  "kernelspec": {
   "display_name": "Python 3 (ipykernel)",
   "language": "python",
   "name": "python3"
  },
  "language_info": {
   "codemirror_mode": {
    "name": "ipython",
    "version": 3
   },
   "file_extension": ".py",
   "mimetype": "text/x-python",
   "name": "python",
   "nbconvert_exporter": "python",
   "pygments_lexer": "ipython3",
   "version": "3.10.11"
  },
  "widgets": {
   "application/vnd.jupyter.widget-state+json": {
    "state": {},
    "version_major": 2,
    "version_minor": 0
   }
  }
 },
 "nbformat": 4,
 "nbformat_minor": 5
}
