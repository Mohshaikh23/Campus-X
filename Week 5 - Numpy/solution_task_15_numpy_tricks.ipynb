{
 "cells": [
  {
   "cell_type": "code",
   "execution_count": 1,
   "metadata": {},
   "outputs": [],
   "source": [
    "import numpy as np"
   ]
  },
  {
   "cell_type": "markdown",
   "metadata": {
    "id": "J88qfqQEk_sT"
   },
   "source": [
    "###`Q-1:` Create a random 3x4 matrix with value between 0-100. And perform below tasks\n",
    "\n",
    "    i. Sort this matrix. np.sort()\n",
    "    ii. Sort this matrix based on values in 2nd column.\n",
    "    iii. Sort this matrix based on max value in each row.\n",
    "    iv. Sort based on elements value.\n"
   ]
  },
  {
   "cell_type": "markdown",
   "metadata": {
    "id": "xpOwOdhqlE9R"
   },
   "source": [
    "See examples:\n",
    "```\n",
    "arr =\n",
    "    [[92 90 74]\n",
    "    [ 6 63 93]\n",
    "    [15 93 96]\n",
    "    [70 60 48]]\n",
    "```\n",
    "```\n",
    "i. np.sort\n",
    "[[74 90 92]\n",
    " [ 6 63 93]\n",
    " [15 93 96]\n",
    " [48 60 70]]\n",
    "\n",
    "ii. based on 2nd column\n",
    "[[70 60 48]\n",
    " [ 6 63 93]\n",
    " [92 90 74]\n",
    " [15 93 96]]\n",
    "\n",
    "iii. based on row max- ascending\n",
    "[[15 93 96]\n",
    " [ 6 63 93]\n",
    " [92 90 74]\n",
    " [70 60 48]]\n",
    "\n",
    "iv. based on elements value\n",
    "[[ 6 15 48]\n",
    " [60 63 70]\n",
    " [74 90 92]\n",
    " [93 93 96]]\n",
    "\n",
    "```"
   ]
  },
  {
   "cell_type": "code",
   "execution_count": 27,
   "metadata": {
    "id": "Auy-guUwlALv"
   },
   "outputs": [
    {
     "name": "stdout",
     "output_type": "stream",
     "text": [
      "a\n",
      "[[43 57 40]\n",
      " [43 50 16]\n",
      " [27 85 62]\n",
      " [18 31 41]]\n",
      "i. Sort this matrix. np.sort()\n",
      "[[40 43 57]\n",
      " [16 43 50]\n",
      " [27 62 85]\n",
      " [18 31 41]]\n",
      "ii. Sort this matrix based on values in 2nd column.\n",
      "[[18 31 41]\n",
      " [43 50 16]\n",
      " [43 57 40]\n",
      " [27 85 62]]\n",
      "iii. Sort this matrix based on max value in each row.\n",
      "[[18 31 41]\n",
      " [43 50 16]\n",
      " [43 57 40]\n",
      " [27 85 62]]\n",
      "iv. Sort based on elements value.\n",
      "[[16 18 27]\n",
      " [31 40 41]\n",
      " [43 43 50]\n",
      " [57 62 85]]\n"
     ]
    }
   ],
   "source": [
    "# code here\n",
    "a = np.random.randint(0,100,12).reshape(4,3)\n",
    "print(\"a\")\n",
    "print(a)\n",
    "print(\"i. Sort this matrix. np.sort()\")\n",
    "print(np.sort(a))\n",
    "print(\"ii. Sort this matrix based on values in 2nd column.\")\n",
    "print(a[a[:,1].argsort()])\n",
    "print(\"iii. Sort this matrix based on max value in each row.\")\n",
    "print(np.array(sorted(a,key=lambda x: max(x))))\n",
    "print(\"iv. Sort based on elements value.\")\n",
    "print(np.sort(a,axis=None).reshape(4,3))"
   ]
  },
  {
   "cell_type": "markdown",
   "metadata": {
    "id": "Jx_I3gx9lBay"
   },
   "source": [
    "###`Q-2:` There is an array of marks of 5 students in 4 subjects. Further you are asked to perform below task.<br>\n",
    "    i. Add marks every student of an extra subject in the same array.<br>\n",
    "    ii. Add two new students marks in respective 5 subjects.(one subject added in above task)<br>\n",
    "    iii. Add extra column with sum of all subjects(5-subjects) marks<br>\n",
    "    iv. Sort the array(non-ascending order) on total marks column--one added in above task. Show top 2 rows.<br>\n",
    "\n",
    "Note: Change dimension of arrays during concatenation or appending if required."
   ]
  },
  {
   "cell_type": "markdown",
   "metadata": {
    "id": "lXF-CE6ylNIw"
   },
   "source": [
    "Given Array-\n",
    "```\n",
    "marks = [[13, 10,  9, 33],\n",
    "       [63, 46, 90, 42],\n",
    "       [39, 76, 13, 29],\n",
    "       [82,  9, 29, 78],\n",
    "       [67, 61, 59, 36]]\n",
    "\n",
    "extra_subject = [41, 87, 72, 36, 92]\n",
    "#Two extra students record-\n",
    "rec1 = [77, 83, 98, 95, 89]\n",
    "rec2 = [92, 71, 52, 61, 53]\n",
    "```"
   ]
  },
  {
   "cell_type": "code",
   "execution_count": 71,
   "metadata": {
    "id": "7YKsWO2olMkq"
   },
   "outputs": [
    {
     "name": "stdout",
     "output_type": "stream",
     "text": [
      "i. Add marks every student of an extra subject in the same array.\n",
      "[[13 10  9 33 41]\n",
      " [63 46 90 42 87]\n",
      " [39 76 13 29 72]\n",
      " [82  9 29 78 36]\n",
      " [67 61 59 36 92]]\n",
      "ii. Add two new students marks in respective 5 subjects.(one subject added in above task)\n",
      "[[13 10  9 33 41]\n",
      " [63 46 90 42 87]\n",
      " [39 76 13 29 72]\n",
      " [82  9 29 78 36]\n",
      " [67 61 59 36 92]\n",
      " [77 83 98 95 89]\n",
      " [92 71 52 61 53]]\n",
      "iii. Add extra column with sum of all subjects(5-subjects) marks\n",
      "[[ 13  10   9  33  41 106]\n",
      " [ 63  46  90  42  87 328]\n",
      " [ 39  76  13  29  72 229]\n",
      " [ 82   9  29  78  36 234]\n",
      " [ 67  61  59  36  92 315]\n",
      " [ 77  83  98  95  89 442]\n",
      " [ 92  71  52  61  53 329]]\n",
      "iv. Sort the array(non-ascending order) on total marks column--one added in above task. \n",
      "Show top 2 rows\n",
      "[[ 77  83  98  95  89 442]\n",
      " [ 92  71  52  61  53 329]\n",
      " [ 63  46  90  42  87 328]\n",
      " [ 67  61  59  36  92 315]\n",
      " [ 82   9  29  78  36 234]\n",
      " [ 39  76  13  29  72 229]\n",
      " [ 13  10   9  33  41 106]]\n"
     ]
    }
   ],
   "source": [
    "# code here\n",
    "marks = np.array([[13, 10,  9, 33],\n",
    "       [63, 46, 90, 42],\n",
    "       [39, 76, 13, 29],\n",
    "       [82,  9, 29, 78],\n",
    "       [67, 61, 59, 36]])\n",
    "marks\n",
    "print(\"i. Add marks every student of an extra subject in the same array.\")\n",
    "extra_subject = np.array([41, 87, 72, 36, 92]).reshape(-1,1)\n",
    "marks = np.concatenate([marks, extra_subject],axis=1)\n",
    "print(marks)\n",
    "\n",
    "print(\"ii. Add two new students marks in respective 5 subjects.(one subject added in above task)\")\n",
    "rec1 = np.array([77, 83, 98, 95, 89]).reshape(1,-1)\n",
    "rec2 = np.array([92, 71, 52, 61, 53]).reshape(1,-1)\n",
    "marks= np.concatenate([marks,rec1,rec2],axis=0)\n",
    "print(marks)\n",
    "\n",
    "print(\"iii. Add extra column with sum of all subjects(5-subjects) marks\")\n",
    "marks= np.concatenate([marks,np.sum(marks, axis=1).reshape(-1,1)],axis=1)\n",
    "print(marks)\n",
    "\n",
    "print(\"\"\"iv. Sort the array(non-ascending order) on total marks column--one added in above task. \n",
    "Show top 2 rows\"\"\")\n",
    "marks= np.array(sorted(marks, key=lambda x:x[-1],reverse=True))\n",
    "print(marks)"
   ]
  },
  {
   "cell_type": "markdown",
   "metadata": {
    "id": "VmOyK_8klRqR"
   },
   "source": [
    "###`Q-3:` Find unique arrays from a 2D array column wise and row wise.\n",
    "```\n",
    "arr = np.array([[1,2,3,3,1,1],\n",
    "                [0,9,1,2,8,8],\n",
    "                [1,2,3,8,8,8],\n",
    "                [1,2,3,3,1,1]])\n",
    "```\n",
    "Expected Result-\n",
    "```\n",
    "Row Wise\n",
    "[[0 9 1 2 8 8]\n",
    " [1 2 3 3 1 1]\n",
    " [1 2 3 8 8 8]]\n",
    "\n",
    "Col Wise\n",
    "[[1 1 2 3 3]\n",
    " [0 8 9 1 2]\n",
    " [1 8 2 3 8]\n",
    " [1 1 2 3 3]]\n",
    "```"
   ]
  },
  {
   "cell_type": "code",
   "execution_count": 76,
   "metadata": {
    "id": "LJl10VQrlU5q"
   },
   "outputs": [
    {
     "name": "stdout",
     "output_type": "stream",
     "text": [
      "Array\n",
      "[[1 2 3 3 1 1]\n",
      " [0 9 1 2 8 8]\n",
      " [1 2 3 8 8 8]\n",
      " [1 2 3 3 1 1]]\n",
      "Row Wise\n",
      "[[0 9 1 2 8 8]\n",
      " [1 2 3 3 1 1]\n",
      " [1 2 3 8 8 8]]\n",
      "Col Wise\n",
      "[[1 1 2 3 3]\n",
      " [0 8 9 1 2]\n",
      " [1 8 2 3 8]\n",
      " [1 1 2 3 3]]\n"
     ]
    }
   ],
   "source": [
    "# code here\n",
    "arr = np.array([[1,2,3,3,1,1],\n",
    "                [0,9,1,2,8,8],\n",
    "                [1,2,3,8,8,8],\n",
    "                [1,2,3,3,1,1]])\n",
    "print(\"Array\")\n",
    "print(arr)\n",
    "print(\"Row Wise\")\n",
    "print(np.unique(arr,axis=0))\n",
    "print(\"Col Wise\")\n",
    "print(np.unique(arr,axis=1))"
   ]
  },
  {
   "cell_type": "markdown",
   "metadata": {
    "id": "RaXwVkywlWY2"
   },
   "source": [
    "###`Q-4:` Flip given 2-D array along both axes at the same time."
   ]
  },
  {
   "cell_type": "code",
   "execution_count": 80,
   "metadata": {
    "id": "mN7-4G8Kleeq"
   },
   "outputs": [
    {
     "name": "stdout",
     "output_type": "stream",
     "text": [
      "[[ 0  1  2  3]\n",
      " [ 4  5  6  7]\n",
      " [ 8  9 10 11]]\n",
      "[[11 10  9  8]\n",
      " [ 7  6  5  4]\n",
      " [ 3  2  1  0]]\n"
     ]
    }
   ],
   "source": [
    "# code here\n",
    "a = np.arange(12).reshape(3,4)\n",
    "print(a)\n",
    "print(np.flip(a,axis=[0,1]))"
   ]
  },
  {
   "cell_type": "markdown",
   "metadata": {
    "id": "X0S7BUNTlfoq"
   },
   "source": [
    "### `Q-5:` Get row numbers of NumPy array having element larger than X.\n",
    "```\n",
    "arr = [[1,2,3,4,5],\n",
    "      [10,-3,30,4,5],\n",
    "      [3,2,5,-4,5],\n",
    "      [9,7,3,6,5]]\n",
    "\n",
    "X = 6\n",
    "```"
   ]
  },
  {
   "cell_type": "code",
   "execution_count": 90,
   "metadata": {
    "id": "bi8jRmWhlkBU"
   },
   "outputs": [
    {
     "name": "stdout",
     "output_type": "stream",
     "text": [
      "[1 3]\n"
     ]
    }
   ],
   "source": [
    "# code here\n",
    "arr = np.array([[1,2,3,4,5],\n",
    "      [10,-3,30,4,5],\n",
    "      [3,2,5,-4,5],\n",
    "      [9,7,3,6,5]])\n",
    "arr\n",
    "X=6\n",
    "print(np.unique(np.where(arr>X)[0]))"
   ]
  },
  {
   "cell_type": "markdown",
   "metadata": {
    "id": "DSCQMo4mlnDG"
   },
   "source": [
    "### `Q-6:` How to convert an array of arrays into a flat 1d array?\n"
   ]
  },
  {
   "cell_type": "code",
   "execution_count": 87,
   "metadata": {
    "id": "QZhSkUT2lsJW"
   },
   "outputs": [],
   "source": [
    "# These arrays are given.\n",
    "arr1 = np.arange(3)\n",
    "arr2 = np.arange(3,7)\n",
    "arr3 = np.arange(7,10)"
   ]
  },
  {
   "cell_type": "code",
   "execution_count": 91,
   "metadata": {
    "id": "f42OXNrFls0I"
   },
   "outputs": [],
   "source": [
    "# code here\n",
    "arr =np.concatenate([arr1,arr2,arr3])"
   ]
  },
  {
   "cell_type": "markdown",
   "metadata": {
    "id": "A1J4oOVCluqO"
   },
   "source": [
    "### `Q-7:` You are given a array. You have to find the minimum and maximum array element and remove that from the array.\n",
    "\n",
    "```python\n",
    "import numpy as np\n",
    "\n",
    "np.random.seed(400)\n",
    "arr = np.random.randint(100, 1000, 200).reshape((1, 200))\n",
    "```"
   ]
  },
  {
   "cell_type": "code",
   "execution_count": 103,
   "metadata": {
    "id": "c6kmgtUJlybZ"
   },
   "outputs": [
    {
     "name": "stdout",
     "output_type": "stream",
     "text": [
      "[[448 563 418 240 507 362 345 236 719 291 298 639 458 387 262 613 267 882\n",
      "  181 425 790 635 889 818 872 967 277 470 336 920 917 295 557 830 506 385\n",
      "  353 975 592 997 137 340 222 215 472 459 617 649 935 956 914 932 645 952\n",
      "  921 490 527 972 278 307 840 958 246 449 251 957 103 627 920 824 356 825\n",
      "  173 323 372 960 710 464 244 782 763 635 436 774 171 469 178 458 624 211\n",
      "  771 270 308 231 952 514 699 702 433 900 373 318 998 265 503 320 230 324\n",
      "  922 967 620 743 527 117 566 804 123 946 587 227 853 757 944 328 855 930\n",
      "  325 729 426 514 296 879 575 936 705 209 191 743 510 513 628 559 658 528\n",
      "  395 525 922 136 496 225 895 975 263 908 420 711 800 976 786 235 930 859\n",
      "  618 226 695 460 218 483 490 803 621 453 193 607 677 637 728 724 534 748\n",
      "  291 194 761 875 687 569 228 482 781 554 654 739 885 197 266 228 892 207\n",
      "  883 588]]\n",
      "Minimum Element -  103 Maximum Element-  998\n",
      "After Deletion\n",
      "[[448 563 418 240 507 362 345 236 719 291 298 639 458 387 262 613 267 882\n",
      "  181 425 790 635 889 818 872 967 277 470 336 920 917 295 557 830 506 385\n",
      "  353 975 592 997 137 340 222 215 472 459 617 649 935 956 914 932 645 952\n",
      "  921 490 527 972 278 307 840 958 246 449 251 957 627 920 824 356 825 173\n",
      "  323 372 960 710 464 244 782 763 635 436 774 171 469 178 458 624 211 771\n",
      "  270 308 231 952 514 699 702 433 900 373 318 265 503 320 230 324 922 967\n",
      "  620 743 527 117 566 804 123 946 587 227 853 757 944 328 855 930 325 729\n",
      "  426 514 296 879 575 936 705 209 191 743 510 513 628 559 658 528 395 525\n",
      "  922 136 496 225 895 975 263 908 420 711 800 976 786 235 930 859 618 226\n",
      "  695 460 218 483 490 803 621 453 193 607 677 637 728 724 534 748 291 194\n",
      "  761 875 687 569 228 482 781 554 654 739 885 197 266 228 892 207 883 588]]\n",
      "Minimum Element -  117 Maximum Element-  997\n"
     ]
    }
   ],
   "source": [
    "# code here\n",
    "np.random.seed(400)\n",
    "arr = np.random.randint(100, 1000, 200).reshape((1, 200))\n",
    "\n",
    "print(arr)\n",
    "print(\"Minimum Element - \",np.min(arr),\"Maximum Element- \",np.max(arr))\n",
    "arr = np.delete(arr,arr.argmax(),axis=1)\n",
    "arr = np.delete(arr,arr.argmin(),axis=1)\n",
    "print(\"After Deletion\")\n",
    "print(arr)\n",
    "print(\"Minimum Element - \",np.min(arr),\"Maximum Element- \",np.max(arr))"
   ]
  },
  {
   "cell_type": "markdown",
   "metadata": {
    "id": "0dHN1sdnl0Jy"
   },
   "source": [
    "### `Q-8:` You are given an arrays. You have to limit this array's elements between 100 to 200. $arr ∈ [100, 700]$. So replace those values accordingly with the minimum and maximum value. Then sort the array and perform the cumulative sum of that array."
   ]
  },
  {
   "cell_type": "code",
   "execution_count": 104,
   "metadata": {
    "id": "a3YF_E-Hlza7"
   },
   "outputs": [
    {
     "data": {
      "text/plain": [
       "array([   21,    46,   123,   194,   269,   358,   376,   381,   419,\n",
       "         464,   503,   593,   625,   646,   682,   688,   786,   826,\n",
       "         880,   900,   920,   992,  1026,  1083,  1104,  1194,  1251,\n",
       "        1306,  1339,  1385,  1436,  1513,  1550,  1626,  1646,  1660,\n",
       "        1720,  1800,  1852,  1915,  1961,  2018,  2038,  2084,  2115,\n",
       "        2175,  2179,  2233,  2295,  2343,  2385,  2434,  2437,  2437,\n",
       "        2529,  2591,  2644,  2690,  2723,  2780,  2783,  2882,  2980,\n",
       "        2991,  3001,  3093,  3190,  3200,  3249,  3329,  3402,  3441,\n",
       "        3530,  3537,  3560,  3588,  3597,  3660,  3730,  3742,  3770,\n",
       "        3848,  3902,  3960,  3990,  4087,  4090,  4100,  4106,  4149,\n",
       "        4178,  4265,  4305,  4314,  4374,  4471,  4498,  4537,  4587,\n",
       "        4674,  4699,  4793,  4818,  4889,  4891,  4969,  4990,  5075,\n",
       "        5121,  5177,  5237,  5258,  5286,  5323,  5403,  5410,  5429,\n",
       "        5476,  5527,  5591,  5618,  5631,  5653,  5728,  5797,  5849,\n",
       "        5864,  5879,  5883,  5980,  6019,  6097,  6128,  6136,  6223,\n",
       "        6245,  6310,  6343,  6386,  6391,  6415,  6492,  6492,  6530,\n",
       "        6581,  6585,  6610,  6698,  6758,  6811,  6859,  6921,  6947,\n",
       "        6955,  6990,  7089,  7133,  7206,  7251,  7257,  7300,  7339,\n",
       "        7363,  7407,  7458,  7543,  7614,  7686,  7729,  7765,  7827,\n",
       "        7916,  8005,  8084,  8113,  8172,  8235,  8251,  8293,  8385,\n",
       "        8478,  8568,  8654,  8747,  8749,  8802,  8900,  8935,  9019,\n",
       "        9027,  9052,  9071,  9128,  9210,  9304,  9355,  9402,  9460,\n",
       "        9483,  9514,  9529,  9553,  9554,  9638,  9660,  9742,  9818,\n",
       "        9838,  9911,  9962, 10005, 10033, 10091, 10117, 10167, 10255,\n",
       "       10305, 10404, 10419, 10490, 10527, 10580, 10671, 10706, 10777,\n",
       "       10787, 10835, 10875, 10966, 11047, 11109, 11127, 11175, 11217,\n",
       "       11304, 11354, 11378, 11471, 11488, 11572, 11665, 11678, 11704,\n",
       "       11755, 11828, 11907, 11964, 12063, 12141, 12186, 12186, 12224,\n",
       "       12295, 12311, 12318, 12387, 12415, 12421, 12451, 12503, 12559,\n",
       "       12601, 12610, 12617, 12620, 12665, 12724, 12754, 12810, 12904,\n",
       "       12912, 13007, 13094, 13163, 13249, 13302, 13358, 13445, 13475,\n",
       "       13513, 13594, 13669, 13735, 13786, 13800, 13841, 13931, 14003,\n",
       "       14090, 14165, 14191, 14206, 14248, 14248, 14310, 14350, 14445,\n",
       "       14449, 14462, 14551, 14579, 14608, 14639, 14699, 14783, 14802,\n",
       "       14825, 14912, 14994, 15092, 15158, 15222, 15307, 15392, 15393,\n",
       "       15491, 15556, 15561, 15617, 15696, 15721, 15768, 15791, 15871,\n",
       "       15877, 15974, 16054, 16140, 16149, 16209, 16233, 16332, 16357,\n",
       "       16389, 16478, 16547, 16620, 16666, 16666, 16690, 16771, 16858,\n",
       "       16891, 16963, 17025, 17094, 17180, 17186, 17211, 17308, 17319,\n",
       "       17350, 17366, 17406, 17491, 17566, 17580, 17640, 17652, 17750,\n",
       "       17780, 17798, 17841, 17886, 17915, 17990, 18059, 18109, 18178,\n",
       "       18253, 18325, 18421, 18465, 18472, 18522, 18620, 18658, 18689,\n",
       "       18707, 18707, 18722, 18784, 18872, 18927, 18950, 18953, 19048,\n",
       "       19081, 19105, 19130, 19164, 19205, 19273, 19371, 19391, 19411,\n",
       "       19420, 19421, 19509, 19567, 19614, 19694, 19718, 19790, 19848,\n",
       "       19885, 19984, 20022, 20087, 20171, 20265, 20354, 20412, 20475,\n",
       "       20499, 20505, 20568, 20615, 20662, 20748, 20798, 20870, 20920,\n",
       "       20983, 21055, 21076, 21133, 21225, 21252, 21282, 21359, 21452,\n",
       "       21504, 21578, 21599, 21696, 21768, 21796, 21878, 21944, 21944,\n",
       "       22014, 22088, 22094, 22112, 22188, 22281, 22348, 22371, 22385,\n",
       "       22397, 22495, 22542, 22579, 22677, 22725, 22821, 22838, 22898,\n",
       "       22971, 22999, 23051, 23121, 23136, 23194, 23265, 23348, 23426,\n",
       "       23493, 23513, 23554, 23617, 23670, 23701, 23770, 23845, 23865,\n",
       "       23924, 23946, 23954, 23972, 24004, 24051, 24147, 24229, 24288,\n",
       "       24303, 24335, 24351, 24403, 24437, 24452, 24483, 24530, 24584,\n",
       "       24642, 24716, 24801, 24893, 24911])"
      ]
     },
     "execution_count": 104,
     "metadata": {},
     "output_type": "execute_result"
    }
   ],
   "source": [
    "# code here\n",
    "a =np.random.randint(0,100,500)\n",
    "np.clip(a,a_min=100,a_max=200)\n",
    "np.sort(a)\n",
    "np.cumsum(a)"
   ]
  },
  {
   "cell_type": "markdown",
   "metadata": {
    "id": "cXj90Susl4-I"
   },
   "source": [
    "### `Q-9:` You are given a array ($arr ∈ [0, 1]$). First you have round off the elements upto 3 decimal places and compare that\n",
    "- 0th percentile == minimum value of the array\n",
    "- 100th percentile == maximum value of the array\n",
    "- also find the difference betwen 51th percenile and 50th percentile values"
   ]
  },
  {
   "cell_type": "code",
   "execution_count": 113,
   "metadata": {
    "id": "SgBEHodgl7Lo"
   },
   "outputs": [
    {
     "name": "stdout",
     "output_type": "stream",
     "text": [
      "[0.483 0.628 0.934 0.982 0.084 0.135 0.466 0.363 0.427 0.731 0.967 0.665\n",
      " 0.115 0.637 0.189 0.99  0.689 0.959 0.517 0.63  0.563 0.193 0.107 0.226\n",
      " 0.445 0.633 0.234 0.76  0.426 0.376 0.036 0.207 0.752 0.187 0.545 0.823\n",
      " 0.334 0.749 0.184 0.134 0.217 0.285 0.395 0.492 0.967 0.771 0.141 0.706\n",
      " 0.348 0.005 0.462 0.231 0.129 0.321 0.411 0.212 0.216 0.925 0.34  0.006\n",
      " 0.07  0.351 0.337 0.769 0.163 0.238 0.175 0.265 0.588 0.327 0.617 0.044\n",
      " 0.379 0.281 0.997 0.474 0.806 0.827 0.044 0.796 0.636 0.123 0.459 0.199\n",
      " 0.346 0.575 0.171 0.131 0.019 0.581 0.244 0.759 0.274 0.64  0.418 0.362\n",
      " 0.433 0.66  0.944 0.191]\n",
      "0th percentile == minimum value of the array\n",
      "True\n",
      "100th percentile == maximum value of the array\n",
      "True\n",
      "also find the difference betwen 51th percenile and 50th percentile values\n",
      "0.01584000000000002\n"
     ]
    }
   ],
   "source": [
    "# code here\n",
    "a= np.random.random(100)\n",
    "a = np.around(a,decimals=3)\n",
    "print(a)\n",
    "print(\"0th percentile == minimum value of the array\")\n",
    "print(np.percentile(a, 0) == a.min())\n",
    "print(\"100th percentile == maximum value of the array\")\n",
    "print(np.percentile(a, 100) == a.max())\n",
    "print(\"also find the difference betwen 51th percenile and 50th percentile values\")\n",
    "print(np.percentile(a, 51)- np.percentile(a, 50))\n"
   ]
  },
  {
   "cell_type": "code",
   "execution_count": null,
   "metadata": {},
   "outputs": [],
   "source": []
  },
  {
   "cell_type": "code",
   "execution_count": null,
   "metadata": {},
   "outputs": [],
   "source": []
  }
 ],
 "metadata": {
  "colab": {
   "provenance": []
  },
  "kernelspec": {
   "display_name": "Python 3 (ipykernel)",
   "language": "python",
   "name": "python3"
  },
  "language_info": {
   "codemirror_mode": {
    "name": "ipython",
    "version": 3
   },
   "file_extension": ".py",
   "mimetype": "text/x-python",
   "name": "python",
   "nbconvert_exporter": "python",
   "pygments_lexer": "ipython3",
   "version": "3.10.11"
  },
  "widgets": {
   "application/vnd.jupyter.widget-state+json": {
    "state": {},
    "version_major": 2,
    "version_minor": 0
   }
  }
 },
 "nbformat": 4,
 "nbformat_minor": 4
}
