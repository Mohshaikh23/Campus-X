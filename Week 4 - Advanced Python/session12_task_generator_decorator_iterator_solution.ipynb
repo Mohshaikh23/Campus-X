{
  "nbformat": 4,
  "nbformat_minor": 0,
  "metadata": {
    "colab": {
      "provenance": []
    },
    "kernelspec": {
      "name": "python3",
      "display_name": "Python 3"
    },
    "language_info": {
      "name": "python"
    }
  },
  "cells": [
    {
      "cell_type": "markdown",
      "source": [
        "## Namespace and Scope"
      ],
      "metadata": {
        "id": "hM8V4LxHKV6x"
      }
    },
    {
      "cell_type": "markdown",
      "source": [
        "###`Q1:` Write `Person` Class as given below and then display it's namespace.\n",
        "\n"
      ],
      "metadata": {
        "id": "Kl3s2TonKYgY"
      }
    },
    {
      "cell_type": "markdown",
      "source": [
        "```\n",
        "Class Name - Person\n",
        "\n",
        "Attributes:\n",
        "name - public\n",
        "state - public\n",
        "city - private\n",
        "age - private\n",
        "\n",
        "Methods:\n",
        "address - public\n",
        "It give address of the person as \"<name>, <city>, <state>\"\n",
        "```"
      ],
      "metadata": {
        "id": "grudG97hL83C"
      }
    },
    {
      "cell_type": "code",
      "source": [
        "#Write your code here\n",
        "class Person:\n",
        "  def __init__(self, name, state):\n",
        "    self.name = name\n",
        "    self.state = state\n",
        "    self.__city = None\n",
        "    self.__age = None\n",
        "\n",
        "  def set_city(self, city):\n",
        "    self.__city = city\n",
        "\n",
        "  def get_city(self):\n",
        "    return self.__city\n",
        "\n",
        "  def set_age(self, age):\n",
        "    self.__age = age\n",
        "\n",
        "  def get_age(self):\n",
        "    return self.__age\n",
        "\n",
        "  def address(self):\n",
        "    return f\"{self.name}, {self.__city}, {self.state}\"\n",
        "\n",
        "for i in Person.__dict__:\n",
        "  print(i)"
      ],
      "metadata": {
        "id": "BRq-I4jmKX0U",
        "colab": {
          "base_uri": "https://localhost:8080/"
        },
        "outputId": "fdf78b2a-00c0-4645-c516-1582b2641112"
      },
      "execution_count": 7,
      "outputs": [
        {
          "output_type": "stream",
          "name": "stdout",
          "text": [
            "__module__\n",
            "__init__\n",
            "set_city\n",
            "get_city\n",
            "set_age\n",
            "get_age\n",
            "address\n",
            "__dict__\n",
            "__weakref__\n",
            "__doc__\n"
          ]
        }
      ]
    },
    {
      "cell_type": "markdown",
      "source": [
        "###`Q2:` Write a program to show namespace of object/instance of above(Person) class."
      ],
      "metadata": {
        "id": "NLtOPOXDL_zB"
      }
    },
    {
      "cell_type": "code",
      "source": [
        "# Write your code here\n",
        "obj = Person(\"Mohsin\", 'Maharashtra')\n",
        "obj.set_city(\"Mumbai\")\n",
        "obj.set_age(28)\n",
        "\n",
        "print(\"Address : \", obj.address())\n"
      ],
      "metadata": {
        "id": "w3fj9tf0MJ3Z",
        "colab": {
          "base_uri": "https://localhost:8080/"
        },
        "outputId": "7c5cda33-bf31-4088-d1ac-9ab074edf1a4"
      },
      "execution_count": 8,
      "outputs": [
        {
          "output_type": "stream",
          "name": "stdout",
          "text": [
            "Address :  Mohsin, Mumbai, Maharashtra\n"
          ]
        }
      ]
    },
    {
      "cell_type": "code",
      "source": [
        "for i in obj.__dict__:\n",
        "  print(i)"
      ],
      "metadata": {
        "id": "J2C13ZiuNGP3",
        "colab": {
          "base_uri": "https://localhost:8080/"
        },
        "outputId": "80ae1783-ba4b-4f27-ba3c-613e154f4df1"
      },
      "execution_count": 9,
      "outputs": [
        {
          "output_type": "stream",
          "name": "stdout",
          "text": [
            "name\n",
            "state\n",
            "_Person__city\n",
            "_Person__age\n"
          ]
        }
      ]
    },
    {
      "cell_type": "markdown",
      "source": [
        "###`Q3:` Write a recursive program to to calculate `gcd` and print no. of function calls taken to find the solution.\n",
        "```\n",
        "gcd(5,10) -> result in 5 as gcd and function call 3\n",
        "```"
      ],
      "metadata": {
        "id": "rRnCZmlUY8sn"
      }
    },
    {
      "cell_type": "code",
      "source": [
        "#Write your code here\n",
        "counter = 0\n",
        "def gcd(a,b):\n",
        "  global counter\n",
        "  counter += 1\n",
        "  if b == 0:\n",
        "    return a\n",
        "  else:\n",
        "    return gcd(b, a%b)\n",
        "\n",
        "print(gcd(5,10), counter)"
      ],
      "metadata": {
        "id": "jYiVzxhUZRln",
        "colab": {
          "base_uri": "https://localhost:8080/"
        },
        "outputId": "ae056442-967a-4480-eacb-747c2b01eaaa"
      },
      "execution_count": 11,
      "outputs": [
        {
          "output_type": "stream",
          "name": "stdout",
          "text": [
            "5 3\n"
          ]
        }
      ]
    },
    {
      "cell_type": "markdown",
      "source": [
        "## Itterator And Generator"
      ],
      "metadata": {
        "id": "FbDepR9QNGnh"
      }
    },
    {
      "cell_type": "markdown",
      "source": [
        "###`Q4:` Create MyEnumerate class,\n",
        "Create your own `MyEnumerate` class such that someone can use it instead of enumerate. It will need to return a `tuple` with each iteration, with the first element in the tuple being the `index` (starting with 0) and the second element being the `current element` from the underlying data structure. Trying to use `MyEnumerate` with a noniterable argument will result in an error.\n",
        "\n",
        "```\n",
        "for index, letter in MyEnumerate('abc'):\n",
        "    print(f'{index} : {letter}')\n",
        "```\n",
        "\n",
        "Output:\n",
        "```\n",
        "0 : a\n",
        "1 : b\n",
        "2 : c\n",
        "```"
      ],
      "metadata": {
        "id": "Nj5WaR_4NJTu"
      }
    },
    {
      "cell_type": "code",
      "source": [
        "#Write your code here\n",
        "class MyEnumerate:\n",
        "  def __init__(self, data):\n",
        "    self.data = data\n",
        "    self.index = 0\n",
        "\n",
        "  def __iter__(self):\n",
        "    return self\n",
        "\n",
        "  def __next__(self):\n",
        "    if self.index >= len(self.data):\n",
        "      raise StopIteration\n",
        "    value = (self.index, self.data[self.index])\n",
        "    self.index += 1\n",
        "    return value"
      ],
      "metadata": {
        "id": "6zjcm2gxNbfJ"
      },
      "execution_count": 16,
      "outputs": []
    },
    {
      "cell_type": "code",
      "source": [
        "for index, letter in MyEnumerate('abc'):\n",
        "    print(f'{index} : {letter}')\n"
      ],
      "metadata": {
        "colab": {
          "base_uri": "https://localhost:8080/"
        },
        "id": "m_gdOG4ANkVN",
        "outputId": "53e51d7c-a4f3-4e73-eb87-9349d6365055"
      },
      "execution_count": 18,
      "outputs": [
        {
          "output_type": "stream",
          "name": "stdout",
          "text": [
            "0 : a\n",
            "1 : b\n",
            "2 : c\n"
          ]
        }
      ]
    },
    {
      "cell_type": "markdown",
      "source": [
        "###`Q5:` Iterate in circle\n",
        "Define a class, `Circle`, that takes two arguments when defined: a sequence and a number. The idea is that the object will then return elements the defined number of times. If the number is greater than the number of elements, then the sequence  repeats as necessary. You can define an another class used as a helper (like I call `CircleIterator`).\n",
        "\n",
        "```\n",
        "c = Circle('abc', 5)\n",
        "d = Circle('abc', 7)\n",
        "print(list(c))\n",
        "print(list(d))\n",
        "```\n",
        "\n",
        "Output\n",
        "```\n",
        "[a, b, c, a, b]\n",
        "[a, b, c, a, b, c, a]\n",
        "```"
      ],
      "metadata": {
        "id": "U2Ai7rVDOLBw"
      }
    },
    {
      "cell_type": "code",
      "source": [
        "#Write your code here\n",
        "class Circle:\n",
        "  def __init__(self, data, max_iters):\n",
        "    self.data = data\n",
        "    self.index = 0\n",
        "    self.max_iters = max_iters\n",
        "\n",
        "  def __iter__(self):\n",
        "    return self\n",
        "\n",
        "  def __next__(self):\n",
        "    if self.index >= self.max_iters:\n",
        "      raise StopIteration\n",
        "    value = self.data[self.index % len(self.data)]\n",
        "    self.index+=1\n",
        "    return value"
      ],
      "metadata": {
        "id": "iwcTy1HyO5hs"
      },
      "execution_count": 21,
      "outputs": []
    },
    {
      "cell_type": "code",
      "source": [
        "c = Circle('abc', 5)\n",
        "d = Circle('abc', 7)\n",
        "print(list(c))\n",
        "print(list(d))"
      ],
      "metadata": {
        "colab": {
          "base_uri": "https://localhost:8080/"
        },
        "id": "wZlcmTt7PHLm",
        "outputId": "52564e4c-c689-4392-9352-982acf754ea7"
      },
      "execution_count": 22,
      "outputs": [
        {
          "output_type": "stream",
          "name": "stdout",
          "text": [
            "['a', 'b', 'c', 'a', 'b']\n",
            "['a', 'b', 'c', 'a', 'b', 'c', 'a']\n"
          ]
        }
      ]
    },
    {
      "cell_type": "markdown",
      "source": [
        "###`Q6:` Generator time elapsed\n",
        "Write a generator function whose argument must be iterable. With each iteration, the generator will return a two-element tuple. The first element in the tuple will be an integer indicating how many seconds have passed since the previous iteration. The tuple’s second element will be the next item from the passed argument.\n",
        "\n",
        "Note that the timing should be relative to the previous iteration, not when the\n",
        "generator was first created or invoked. Thus the timing number in the first iteration\n",
        "will be 0\n",
        "\n",
        "```\n",
        "for t in elapsed_since('abcd'):\n",
        "    print(t)\n",
        "    time.sleep(2)\n",
        "```\n",
        "\n",
        "Output:\n",
        "```\n",
        "(0.0, 'a')\n",
        "(2.005651817999933, 'b')\n",
        "(2.0023095009998997, 'c')\n",
        "(2.001949742000079, 'd')\n",
        "```\n",
        "Note: Your output may differ because of diffrent system has different processing configuration."
      ],
      "metadata": {
        "id": "17KyhciKQnAE"
      }
    },
    {
      "cell_type": "code",
      "source": [
        "#Write yor code\n",
        "import time\n",
        "\n",
        "def elapsed_since(data):\n",
        "  last_time = time.perf_counter()\n",
        "  for item in data:\n",
        "    current_time = time.perf_counter()\n",
        "    delta = current_time - last_time\n",
        "    last_time = current_time\n",
        "    yield (delta, item)"
      ],
      "metadata": {
        "id": "UkH1tj9zQ-gc"
      },
      "execution_count": 23,
      "outputs": []
    },
    {
      "cell_type": "code",
      "source": [
        "for t in elapsed_since('abcd'):\n",
        "    print(t)\n",
        "    time.sleep(2)"
      ],
      "metadata": {
        "colab": {
          "base_uri": "https://localhost:8080/"
        },
        "id": "i0X6JreBRlYG",
        "outputId": "dd3c2e50-f13a-4d24-eb0e-18a9bea6e5a1"
      },
      "execution_count": 24,
      "outputs": [
        {
          "output_type": "stream",
          "name": "stdout",
          "text": [
            "(1.321999661740847e-06, 'a')\n",
            "(2.001079450999896, 'b')\n",
            "(2.0022215329991013, 'c')\n",
            "(2.002234664001662, 'd')\n"
          ]
        }
      ]
    },
    {
      "cell_type": "markdown",
      "source": [
        "## Decorators"
      ],
      "metadata": {
        "id": "fXr3OJxJSC1j"
      }
    },
    {
      "cell_type": "markdown",
      "source": [
        "###`Q7:` Write a Python program to make a chain of function decorators (bold, italic, underline etc.) on a given function which prints \"hello world\"\n",
        "\n",
        "```\n",
        "def hello():\n",
        "    return \"hello world\"\n",
        "```\n",
        "\n",
        "```\n",
        "bold - wrap string with <b> tag. <b>Str</b>\n",
        "italic - wrap string with <i> tag. <i>Str</i>\n",
        "underline- wrap string with <u> tag. <u>Str</u>\n",
        "```"
      ],
      "metadata": {
        "id": "xSjvwAt-SFhi"
      }
    },
    {
      "cell_type": "code",
      "source": [
        "#Write your code here\n",
        "def make_bold(func):\n",
        "  def wrapper():\n",
        "    return \"<b>\"+func() + \"</b>\"\n",
        "  return wrapper\n",
        "def make_italic(func):\n",
        "  def wrapper():\n",
        "    return \"<i>\"+func() + \"</i>\"\n",
        "  return wrapper\n",
        "def make_underline(func):\n",
        "  def wrapper():\n",
        "    return \"<u>\"+func() + \"</u>\"\n",
        "  return wrapper\n",
        "\n",
        "@make_bold\n",
        "@make_italic\n",
        "@make_underline\n",
        "def hello():\n",
        "  return \"Hello World\"\n",
        "\n",
        "hello()"
      ],
      "metadata": {
        "id": "prVeZGYlSorr",
        "colab": {
          "base_uri": "https://localhost:8080/",
          "height": 35
        },
        "outputId": "bf7799ee-92e9-4089-8824-4f860a4732cf"
      },
      "execution_count": 28,
      "outputs": [
        {
          "output_type": "execute_result",
          "data": {
            "text/plain": [
              "'<b><i><u>Hello World</u></i></b>'"
            ],
            "application/vnd.google.colaboratory.intrinsic+json": {
              "type": "string"
            }
          },
          "metadata": {},
          "execution_count": 28
        }
      ]
    },
    {
      "cell_type": "markdown",
      "source": [
        "###`Q8:` Write a decorator called `printer` which causes any decorated function to print their return values. If the return value of a given function is `None`, printer should do nothing.\n",
        "\n"
      ],
      "metadata": {
        "id": "miKBwPy4TQWa"
      }
    },
    {
      "cell_type": "code",
      "source": [
        "#Write your cod here\n",
        "from functools import wraps\n",
        "def printer(func):\n",
        "  @wraps(func)\n",
        "  def inner(*args, **kwargs):\n",
        "    return_value = func(*args, **kwargs)\n",
        "    if return_value is not None:\n",
        "      print(return_value)\n",
        "    return return_value\n",
        "  return inner\n",
        "\n",
        "@printer\n",
        "def hello(string):\n",
        "  return string\n",
        "\n",
        "hello('abc')"
      ],
      "metadata": {
        "id": "05s0poRoT9II",
        "colab": {
          "base_uri": "https://localhost:8080/",
          "height": 53
        },
        "outputId": "120d249e-4e70-45f6-88a9-4948f52c5753"
      },
      "execution_count": 33,
      "outputs": [
        {
          "output_type": "stream",
          "name": "stdout",
          "text": [
            "abc\n"
          ]
        },
        {
          "output_type": "execute_result",
          "data": {
            "text/plain": [
              "'abc'"
            ],
            "application/vnd.google.colaboratory.intrinsic+json": {
              "type": "string"
            }
          },
          "metadata": {},
          "execution_count": 33
        }
      ]
    },
    {
      "cell_type": "markdown",
      "source": [
        "###`Q9:` Make a decorator which calls a given function twice. You can assume the functions don't return anything important, but they may take arguments.\n",
        "```\n",
        "#Lets say given function\n",
        "def hello(string):\n",
        "    print(string)\n",
        "\n",
        "#on calling after specified decorator is inplaced\n",
        "hello('hello')\n",
        "```\n",
        "\n",
        "Output:\n",
        "```\n",
        "hello\n",
        "hello\n",
        "```"
      ],
      "metadata": {
        "id": "DWJLjPOnURua"
      }
    },
    {
      "cell_type": "code",
      "source": [
        "# Write your code here\n",
        "def double(func):\n",
        "  @wraps(func)\n",
        "  def inner(*args, **kwargs):\n",
        "    func(*args, **kwargs)\n",
        "    func(*args, **kwargs)\n",
        "  return inner\n",
        "\n",
        "@double\n",
        "def hello(string):\n",
        "  print(string)\n",
        "\n",
        "hello(\"hello\")"
      ],
      "metadata": {
        "id": "e38y0cz7UTdD",
        "colab": {
          "base_uri": "https://localhost:8080/"
        },
        "outputId": "1b544364-9ac8-4ec8-b16a-df4d5d1c16ed"
      },
      "execution_count": 36,
      "outputs": [
        {
          "output_type": "stream",
          "name": "stdout",
          "text": [
            "hello\n",
            "hello\n"
          ]
        }
      ]
    },
    {
      "cell_type": "markdown",
      "source": [
        "### `Q10:` Write a decorator which doubles the return value of any function. And test that decoratos is working correctly or not using `assert`.\n",
        "\n",
        "```\n",
        "add(2,3) -> result is 10. Without decorator it should be 5.\n",
        "```"
      ],
      "metadata": {
        "id": "8btcQI9pWi2w"
      }
    },
    {
      "cell_type": "code",
      "source": [
        "# Write your code here\n",
        "def double(func):\n",
        "  @wraps(func)\n",
        "  def inner(*args, **kwargs):\n",
        "    return func(*args, **kwargs) * 2\n",
        "  return inner\n",
        "\n",
        "@double\n",
        "def add_with_decorator(a,b):\n",
        "  return a+b\n",
        "\n",
        "def add(a,b):\n",
        "  return a+b\n",
        "\n",
        "a=2\n",
        "b=3\n",
        "\n",
        "assert add(a,b)*2 == add_with_decorator(a,b), \"Vaues are not Matching\"\n",
        "print(\"Values are matching\")"
      ],
      "metadata": {
        "id": "nG6S_zQ9XFb3",
        "colab": {
          "base_uri": "https://localhost:8080/"
        },
        "outputId": "90a76958-d81f-4815-dd9d-4a81d63b5fc9"
      },
      "execution_count": 43,
      "outputs": [
        {
          "output_type": "stream",
          "name": "stdout",
          "text": [
            "Values are matching\n"
          ]
        }
      ]
    }
  ]
}