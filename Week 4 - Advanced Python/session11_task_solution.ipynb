{
  "nbformat": 4,
  "nbformat_minor": 0,
  "metadata": {
    "colab": {
      "provenance": []
    },
    "kernelspec": {
      "name": "python3",
      "display_name": "Python 3"
    },
    "language_info": {
      "name": "python"
    }
  },
  "cells": [
    {
      "cell_type": "markdown",
      "source": [
        "## Exception Handling\n"
      ],
      "metadata": {
        "id": "ajVfqio_GinI"
      }
    },
    {
      "cell_type": "markdown",
      "source": [
        "###`Q-1`: You are given a function definition. There might be several issues on execution of this function. You are asked to do exception handling for diffrent errors that this function goes in to `without altering this function`. And print error text.\n",
        "\n"
      ],
      "metadata": {
        "id": "0qnQkJtnGozz"
      }
    },
    {
      "cell_type": "markdown",
      "source": [
        "Function parameters `l -> list, s -> could be anything`\n",
        "\n",
        "```\n",
        "def function(l: list, s, **args):\n",
        "    last_element = l[-1]\n",
        "    \n",
        "    l[int(s)]=10\n",
        "    any_element = l[int(s)+10]\n",
        "    l[s]=10\n",
        "    \n",
        "    res = sum(l)\n",
        "    \n",
        "    p = args['p']\n",
        "    # print(p)\n",
        "    return res/last_element * p + any_element\n",
        "\n",
        "```\n",
        "Check for different function calls:-\n",
        "\n",
        "```\n",
        "function([1,2,1], 12)\n",
        "function([1,2,1]*9, '1-2')\n",
        "function([1,'2',1]*9, 12)\n",
        "function([1,'2',1]*9, 12)\n",
        "function([1,2,0]*9, 12  )\n",
        "function([1,2,1]*9, 12, p=None)\n",
        "function([1,2,0]*9, 12, p=10)\n",
        "```"
      ],
      "metadata": {
        "id": "2no_EB2fGyGq"
      }
    },
    {
      "cell_type": "code",
      "source": [
        "# Write code here\n",
        "def function(l: list, s, **args):\n",
        "    last_element = l[-1]\n",
        "\n",
        "    l[int(s)]=10\n",
        "    any_element = l[int(s)+10]\n",
        "    l[s]=10\n",
        "\n",
        "    res = sum(l)\n",
        "\n",
        "    p = args['p']\n",
        "    # print(p)\n",
        "    return res/last_element * p + any_element\n",
        "try:\n",
        "    res = function([1,2,1]*9, 12, p=10)\n",
        "except IndexError as i:\n",
        "    print(type(i))\n",
        "    print(i)\n",
        "except ValueError as v:\n",
        "    print(type(v))\n",
        "    print(v)\n",
        "except TypeError as t:\n",
        "    print(type(t))\n",
        "    print(t)\n",
        "except KeyError as k:\n",
        "    print(type(k))\n",
        "    print(k)\n",
        "except ZeroDivisionError as z:\n",
        "    print(type(z))\n",
        "    print(z)\n",
        "else:\n",
        "    print(\"Result:\", res)\n",
        "finally:\n",
        "    print(\"Thank you\")"
      ],
      "metadata": {
        "id": "VoaL4_9eGjFU",
        "outputId": "08c63db4-e41d-4996-acf2-4ae71f75ba33",
        "colab": {
          "base_uri": "https://localhost:8080/"
        }
      },
      "execution_count": 24,
      "outputs": [
        {
          "output_type": "stream",
          "name": "stdout",
          "text": [
            "Result: 452.0\n",
            "Thank you\n"
          ]
        }
      ]
    },
    {
      "cell_type": "markdown",
      "source": [
        "###`Q-2:` You are given a code snippet. There might be several issues on execution of this code. You are asked to do exception handling for diffrent errors, condition is what ever happens we need to execute last line printing correct result of `sum of elements`.\n",
        "\n",
        "List have elemnts as any no of  `key-pair dict with key as list index and value as any integer`, `integers` and `numeric-strings`. There is always only one element in the dict.\n",
        "\n",
        "\n",
        "```\n",
        "l = [{0:2},2,3,4,'5', {5:10}]\n",
        "# For calculating sum of above list\n",
        "s=0\n",
        "for i in range(len(l)):\n",
        "    #You can Edit code from here\n",
        "    s += l[i].get(i)\n",
        "    s += l[i]\n",
        "    s += int(l[i])\n",
        "\n",
        "\n",
        "print(s)\n",
        "```"
      ],
      "metadata": {
        "id": "HuLMy2fVG9sL"
      }
    },
    {
      "cell_type": "code",
      "source": [
        "# Write code here\n",
        "l = [{0:2},2,3,4,'5', {5:10}]\n",
        "# For calculating sum of above list\n",
        "s=0\n",
        "for i in range(len(l)):\n",
        "  #You can Edit code from here\n",
        "  try:\n",
        "    s += l[i]\n",
        "  except TypeError:\n",
        "    try:\n",
        "      s =+l[i].get(i)\n",
        "    except AttributeError:\n",
        "      s += int(l[i])\n",
        "\n",
        "print(s)"
      ],
      "metadata": {
        "id": "pEP8JU0qHAf8",
        "colab": {
          "base_uri": "https://localhost:8080/"
        },
        "outputId": "d96cde95-93d7-45f3-8d67-30de0f90491e"
      },
      "execution_count": 25,
      "outputs": [
        {
          "output_type": "stream",
          "name": "stdout",
          "text": [
            "10\n"
          ]
        }
      ]
    },
    {
      "cell_type": "markdown",
      "source": [
        "### `Q-3:`: File Handling with Exception handling\n",
        "\n",
        "Write a program that opens a text file and write data to it as \"Hello, Good Morning!!!\". Handle exceptions that can be generated during the I/O operations. Do not show the success message on the main exception handling block (write inside the else block)."
      ],
      "metadata": {
        "id": "ohE2fDTXHIan"
      }
    },
    {
      "cell_type": "code",
      "source": [
        "# write code here\n",
        "try:\n",
        "  with open('sample.txt','w') as f:\n",
        "    f.write(\"Hello, Good Morning!!!\")\n",
        "except IOError:\n",
        "  print(\"Error occured when running file\")\n",
        "else:\n",
        "  print('File Written Successfully')"
      ],
      "metadata": {
        "id": "iOeiWrcIHPlY",
        "colab": {
          "base_uri": "https://localhost:8080/"
        },
        "outputId": "682f3f06-9a5d-4597-a73c-50267a3ae8b2"
      },
      "execution_count": 26,
      "outputs": [
        {
          "output_type": "stream",
          "name": "stdout",
          "text": [
            "File Written Successfully\n"
          ]
        }
      ]
    },
    {
      "cell_type": "markdown",
      "source": [
        "### `Q-4`: Number game program.\n",
        "\n",
        "Write a number game program. Ask the user to enter a number. If the number is greater than number to be guessed, raise a **ValueTooLarge** exception. If the value is smaller the number to be guessed the, raise a **ValueTooSmall** exception and prompt the user to enter again. Quit the program only when the user enters the correct number. Also raise **GuessError** if user guess a number less than 1."
      ],
      "metadata": {
        "id": "ru8g8-_bHTUf"
      }
    },
    {
      "cell_type": "code",
      "source": [
        "# Write code here\n",
        "class ValueTooLarge(Exception):\n",
        "  def display(self):\n",
        "    print(\"Input value too large\")\n",
        "\n",
        "class ValueTooSmall(Exception):\n",
        "  def display(self):\n",
        "    print(\"Input value too Small\")\n",
        "\n",
        "class GuessError(Exception):\n",
        "  def display(self):\n",
        "    print(\"Guess number greater than 1\")\n",
        "\n",
        "import random\n",
        "\n",
        "num = random.randint(1,100)\n",
        "while 1:\n",
        "  try:\n",
        "    guess = int(input(\"Enter a number - \"))\n",
        "\n",
        "    if guess < 1:\n",
        "      raise GuessError\n",
        "\n",
        "    elif guess > num:\n",
        "      raise ValueTooLarge\n",
        "\n",
        "    elif guess < num:\n",
        "      raise ValueTooSmall\n",
        "\n",
        "    else:\n",
        "      print(\"You guessed it right\")\n",
        "      break\n",
        "\n",
        "  except ValueTooLarge as vl:\n",
        "    vl.display()\n",
        "  except ValueTooSmall as vs:\n",
        "    vs.display()\n",
        "  except GuessError as ge:\n",
        "    ge.display()"
      ],
      "metadata": {
        "id": "QftlN5LJHZSX",
        "colab": {
          "base_uri": "https://localhost:8080/"
        },
        "outputId": "ec14d619-0c10-4870-a2a0-c5c947ae706b"
      },
      "execution_count": 27,
      "outputs": [
        {
          "output_type": "stream",
          "name": "stdout",
          "text": [
            "Enter a number - 50\n",
            "Input value too Small\n",
            "Enter a number - 100\n",
            "Input value too large\n",
            "Enter a number - 90\n",
            "Input value too large\n",
            "Enter a number - 70\n",
            "Input value too Small\n",
            "Enter a number - 80\n",
            "Input value too large\n",
            "Enter a number - 75\n",
            "Input value too Small\n",
            "Enter a number - 78\n",
            "Input value too large\n",
            "Enter a number - 77\n",
            "Input value too large\n",
            "Enter a number - 76\n",
            "You guessed it right\n"
          ]
        }
      ]
    },
    {
      "cell_type": "markdown",
      "source": [
        "### `Q-5:` Cast vote\n",
        "\n",
        "Write a program that validate name and age as entered by the user to determine whether the person can cast vote or not. To handle the age, create **InvalidAge** exception and for name, create **InvalidName** exception. The name will be invalid when the string will be empty or name has only one word.\n",
        "\n",
        "Example 1:\n",
        "\n",
        "Input:\n",
        "\n",
        "```bash\n",
        "Enter the name:               goransh singh\n",
        "Enter the age: 25\n",
        "```\n",
        "\n",
        "Output:\n",
        "\n",
        "```bash\n",
        "Goransh Singh  Congratulation !!! You can vote.\n",
        "```"
      ],
      "metadata": {
        "id": "ZsGI_40fHcsd"
      }
    },
    {
      "cell_type": "code",
      "source": [
        "# Write code here\n",
        "class InvalidAge(Exception):\n",
        "  def display(self):\n",
        "    print(\"Invalid Age\")\n",
        "\n",
        "class InvalidName(Exception):\n",
        "  def display(self):\n",
        "    print(\"Invalid Name\")\n",
        "\n",
        "def Voter_check():\n",
        "  name = input(\"Enter the Name - \")\n",
        "  age = int(input(\"Enter the Age - \"))\n",
        "  try:\n",
        "    if len(name) <= 1:\n",
        "      raise InvalidName\n",
        "    elif  age<18:\n",
        "      raise InvalidAge\n",
        "    else:\n",
        "      print(f\"{name} Congratulations!!! You can vote\")\n",
        "\n",
        "  except InvalidName as invN:\n",
        "    invN.display()\n",
        "  except InvalidAge as invA:\n",
        "    invA.display()\n",
        "\n",
        "Voter_check()"
      ],
      "metadata": {
        "id": "OHL3UiS4Hi3U",
        "colab": {
          "base_uri": "https://localhost:8080/"
        },
        "outputId": "dc7cbf15-49b4-4d5d-8900-60bdcc8dc79a"
      },
      "execution_count": 28,
      "outputs": [
        {
          "output_type": "stream",
          "name": "stdout",
          "text": [
            "Enter the Name - Mohsin Shaikh\n",
            "Enter the Age - 25\n",
            "Mohsin Shaikh Congratulations!!! You can vote\n"
          ]
        }
      ]
    },
    {
      "cell_type": "markdown",
      "source": [
        "### `Q-6`: Write a python function which infinitely prints natural numbers in a single line. Raise the **StopIteration** exception after displaying first 20 numnbers to exit from the program."
      ],
      "metadata": {
        "id": "SCvs0QjgHlOG"
      }
    },
    {
      "cell_type": "code",
      "source": [
        "# Write code here\n",
        "def natural(n):\n",
        "  i=1\n",
        "\n",
        "  while True:\n",
        "    try:\n",
        "      n+=1\n",
        "      i+=1\n",
        "      if i==21:\n",
        "        raise StopIteration\n",
        "    except StopIteration:\n",
        "      break\n",
        "    else:\n",
        "      print(n, end=\" \")\n",
        "\n",
        "natural(1)"
      ],
      "metadata": {
        "id": "Lc5ilNgNHoSx",
        "colab": {
          "base_uri": "https://localhost:8080/"
        },
        "outputId": "0f6fdc68-3cf6-410c-d99f-1b3cabd22c36"
      },
      "execution_count": 29,
      "outputs": [
        {
          "output_type": "stream",
          "name": "stdout",
          "text": [
            "2 3 4 5 6 7 8 9 10 11 12 13 14 15 16 17 18 19 20 "
          ]
        }
      ]
    },
    {
      "cell_type": "code",
      "source": [],
      "metadata": {
        "id": "s1NF60LWPBQa"
      },
      "execution_count": 29,
      "outputs": []
    }
  ]
}