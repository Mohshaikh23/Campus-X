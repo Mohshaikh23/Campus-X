{
  "nbformat": 4,
  "nbformat_minor": 0,
  "metadata": {
    "colab": {
      "provenance": []
    },
    "kernelspec": {
      "name": "python3",
      "display_name": "Python 3"
    },
    "language_info": {
      "name": "python"
    }
  },
  "cells": [
    {
      "cell_type": "markdown",
      "source": [
        "### `Problem 1`: Write a program that will give you in hand monthly salary after deduction on CTC - HRA(10%), DA(5%), PF(3%) and taxes deduction as below:\n",
        "\n",
        "> Salary(Lakhs) : Tax(%)\n",
        "\n",
        "*   Below 5 : 0%\n",
        "*   5-10 : 10%\n",
        "*   10-20 : 20%\n",
        "*   aboove 20 : 30%"
      ],
      "metadata": {
        "id": "w6RlOAXV2PWh"
      }
    },
    {
      "cell_type": "code",
      "source": [
        "# Write code here\n",
        "\n",
        "sal = int(input(\"Enter the Salary CTC - \"))\n",
        "\n",
        "HRA = sal*0.1\n",
        "DA = sal*0.05\n",
        "PF = sal*0.03\n",
        "\n",
        "if sal>=500000 and sal<999999:\n",
        "  tax = sal*0.1\n",
        "elif sal>= 100000 and sal<19999999:\n",
        "  tax = sal*0.2\n",
        "elif sal>=2000000:\n",
        "  tax = sal*0.3\n",
        "else:\n",
        "  tax = 0\n",
        "\n",
        "total_taxes = HRA+DA+PF+tax\n",
        "\n",
        "inhand_sal = sal-total_taxes\n",
        "monthly_sal = inhand_sal/12\n",
        "\n",
        "print(\"The monthly salary would be - \", round(monthly_sal,2), \"INR\")"
      ],
      "metadata": {
        "id": "7tMHvKYO2etI",
        "colab": {
          "base_uri": "https://localhost:8080/"
        },
        "outputId": "d9fd9f85-8ddf-42a4-82c8-e289c596daa2"
      },
      "execution_count": 1,
      "outputs": [
        {
          "output_type": "stream",
          "name": "stdout",
          "text": [
            "Enter the Salary CTC - 1000000\n",
            "The monthly salary would be -  51666.67 INR\n"
          ]
        }
      ]
    },
    {
      "cell_type": "markdown",
      "source": [
        "### `Problem 2`: Write a program that take a user input of three angles and will find out whether it can form a triangle or not."
      ],
      "metadata": {
        "id": "tYzCGqwl2hfN"
      }
    },
    {
      "cell_type": "code",
      "source": [
        "# Write code here\n",
        "angle1 = int(input(\"Enter the 1st angle - \"))\n",
        "angle2 = int(input(\"Enter the 2nd angle - \"))\n",
        "angle3 = int(input(\"Enter the 3rd angle - \"))\n",
        "\n",
        "if angle1+angle2+angle3 == 180:\n",
        "  print(\"Its a Triangle\")\n",
        "else:\n",
        "  print(\"Its not a Triangle\")"
      ],
      "metadata": {
        "id": "FYEqln-I2kxV",
        "colab": {
          "base_uri": "https://localhost:8080/"
        },
        "outputId": "f89adfc2-8394-44bd-9846-81d6197ea0f8"
      },
      "execution_count": 2,
      "outputs": [
        {
          "output_type": "stream",
          "name": "stdout",
          "text": [
            "Enter the 1st angle - 30\n",
            "Enter the 2nd angle - 60\n",
            "Enter the 3rd angle - 90\n",
            "Its a Triangle\n"
          ]
        }
      ]
    },
    {
      "cell_type": "markdown",
      "source": [
        "### `Problem 3`: Write a program that will take user input of cost price and selling price and determines whether its a loss or a profit."
      ],
      "metadata": {
        "id": "5vEpPh8C2pE4"
      }
    },
    {
      "cell_type": "code",
      "source": [
        "# Write code here\n",
        "CP = float(input(\"Enter the Cost Price - \"))\n",
        "SP = float(input(\"Enter the Selling Price - \"))\n",
        "\n",
        "if CP>SP:\n",
        "  print(f'Its a loss of {CP-SP}')\n",
        "elif CP<SP:\n",
        "  print(f\"Its a Profit of {SP-CP}\")\n",
        "else:\n",
        "  print(\"Its not a Profit nor loss\")"
      ],
      "metadata": {
        "id": "jDwBXlkO2sfl",
        "colab": {
          "base_uri": "https://localhost:8080/"
        },
        "outputId": "fe9dad9a-3807-48cd-e055-0184993711e8"
      },
      "execution_count": 3,
      "outputs": [
        {
          "output_type": "stream",
          "name": "stdout",
          "text": [
            "Enter the Cost Price - 2000\n",
            "Enter the Selling Price - 5000\n",
            "Its a Profit of 3000.0\n"
          ]
        }
      ]
    },
    {
      "cell_type": "markdown",
      "source": [
        "### `Problem 4`: Write a menu-driven program -\n",
        "1. cm to ft\n",
        "2. km to miles\n",
        "3. USD to INR\n",
        "4. exit"
      ],
      "metadata": {
        "id": "J_FG_cJW2ugT"
      }
    },
    {
      "cell_type": "code",
      "source": [
        "# Write code here\n",
        "while True:\n",
        "    print(\"\\nMenu:\")\n",
        "    print(\"1. cm to ft\")\n",
        "    print(\"2. km to miles\")\n",
        "    print(\"3. USD to INR\")\n",
        "    print(\"4. Exit\")\n",
        "\n",
        "    choice = input(\"Enter your choice (1-4): \")\n",
        "\n",
        "    if choice == '1':\n",
        "        cm = float(input(\"Enter length in centimeters: \"))\n",
        "        print(f\"{cm} cm is equal to {cm / 30.48} feet.\")\n",
        "\n",
        "    elif choice == '2':\n",
        "        km = float(input(\"Enter distance in kilometers: \"))\n",
        "        print(f\"{km} km is equal to {km / 1.60934} miles.\")\n",
        "\n",
        "    elif choice == '3':\n",
        "        usd = float(input(\"Enter amount in USD: \"))\n",
        "        print(f\"{usd} USD is equal to {usd * 83.08} INR.\")\n",
        "\n",
        "    elif choice == '4':\n",
        "        print(\"Exiting the program.\")\n",
        "        break\n",
        "\n",
        "    else:\n",
        "        print(\"Invalid choice. Please enter a number between 1 and 4.\")\n"
      ],
      "metadata": {
        "id": "yBHhaCGQ2zpD",
        "colab": {
          "base_uri": "https://localhost:8080/"
        },
        "outputId": "f7e50363-e623-4ec1-acbd-b9bc6e473e04"
      },
      "execution_count": 4,
      "outputs": [
        {
          "output_type": "stream",
          "name": "stdout",
          "text": [
            "\n",
            "Menu:\n",
            "1. cm to ft\n",
            "2. km to miles\n",
            "3. USD to INR\n",
            "4. Exit\n",
            "Enter your choice (1-4): 1\n",
            "Enter length in centimeters: 10\n",
            "10.0 cm is equal to 0.32808398950131235 feet.\n",
            "\n",
            "Menu:\n",
            "1. cm to ft\n",
            "2. km to miles\n",
            "3. USD to INR\n",
            "4. Exit\n",
            "Enter your choice (1-4): 2\n",
            "Enter distance in kilometers: 10\n",
            "10.0 km is equal to 6.213727366498068 miles.\n",
            "\n",
            "Menu:\n",
            "1. cm to ft\n",
            "2. km to miles\n",
            "3. USD to INR\n",
            "4. Exit\n",
            "Enter your choice (1-4): 3\n",
            "Enter amount in USD: 10\n",
            "10.0 USD is equal to 830.8 INR.\n",
            "\n",
            "Menu:\n",
            "1. cm to ft\n",
            "2. km to miles\n",
            "3. USD to INR\n",
            "4. Exit\n",
            "Enter your choice (1-4): 4\n",
            "Exiting the program.\n"
          ]
        }
      ]
    },
    {
      "cell_type": "markdown",
      "source": [
        "### `Problem 5` - Exercise 12: Display Fibonacci series up to 10 terms.\n",
        "\n",
        "*Note: The Fibonacci Sequence is a series of numbers. The next number is found by adding up the two numbers before it. The first two numbers are 0 and 1. For example, 0, 1, 1, 2, 3, 5, 8, 13, 21. The next number in this series above is 13+21 = 34*"
      ],
      "metadata": {
        "id": "LJJ30_Yw27ZU"
      }
    },
    {
      "cell_type": "code",
      "source": [
        "# Write code here\n",
        "# Initialize the first two terms of the Fibonacci series\n",
        "a, b = 0, 1\n",
        "\n",
        "# Display the first two terms\n",
        "print(a, b, end=\" \")\n",
        "\n",
        "# Display the next 8 terms\n",
        "for i in range(10):\n",
        "    c = a + b                 # Calculate the next term\n",
        "    print(c, end=\" \")\n",
        "    a, b = b, c               # Update a and b for the next iteration"
      ],
      "metadata": {
        "id": "ae_1rpe52-5R",
        "colab": {
          "base_uri": "https://localhost:8080/"
        },
        "outputId": "cd058561-e7c5-40c1-fcad-a8546e95c14c"
      },
      "execution_count": 5,
      "outputs": [
        {
          "output_type": "stream",
          "name": "stdout",
          "text": [
            "0 1 1 2 3 5 8 13 21 34 55 89 "
          ]
        }
      ]
    },
    {
      "cell_type": "markdown",
      "source": [
        "### `Problem 6` - Find the factorial of a given number.\n",
        "\n",
        "Write a program to use the loop to find the factorial of a given number.\n",
        "\n",
        "The factorial (symbol: `!`) means to multiply all whole numbers from the chosen number down to 1.\n",
        "\n",
        "For example: calculate the factorial of 5\n",
        "\n",
        "```bash\n",
        "5! = 5 × 4 × 3 × 2 × 1 = 120\n",
        "```\n",
        "\n",
        "Output:\n",
        "\n",
        "```bash\n",
        "120\n",
        "```"
      ],
      "metadata": {
        "id": "pk_I_S4m3PT5"
      }
    },
    {
      "cell_type": "code",
      "source": [
        "# Write code here\n",
        "n = int(input(\"Enter the Number - \"))\n",
        "fact = 1\n",
        "for i in range(1, n+1):\n",
        "  fact *= i\n",
        "print(fact)"
      ],
      "metadata": {
        "id": "lzXxHegx3Rkc",
        "colab": {
          "base_uri": "https://localhost:8080/"
        },
        "outputId": "f1f9110c-ff67-472a-9b36-e5e9c813c4d8"
      },
      "execution_count": 6,
      "outputs": [
        {
          "output_type": "stream",
          "name": "stdout",
          "text": [
            "Enter the Number - 15\n",
            "1307674368000\n"
          ]
        }
      ]
    },
    {
      "cell_type": "markdown",
      "source": [
        "### `Problem 7` - Reverse a given integer number.\n",
        "\n",
        "Example:\n",
        "\n",
        "`Input:`\n",
        "\n",
        "```bash\n",
        "76542\n",
        "```\n",
        "\n",
        "`Output:`\n",
        "\n",
        "```bash\n",
        "24567\n",
        "```"
      ],
      "metadata": {
        "id": "-17IOi-g3UpU"
      }
    },
    {
      "cell_type": "code",
      "source": [
        "# Write code here\n",
        "a = int(input(\"Enter the Number - \"))\n",
        "b = 0\n",
        "while a>0:\n",
        "  c = a%10\n",
        "  b = b*10 + c\n",
        "  a = a//10\n",
        "\n",
        "print(f'The Reverse of the number is {b}')"
      ],
      "metadata": {
        "id": "wJwLpKCr3aVA",
        "colab": {
          "base_uri": "https://localhost:8080/"
        },
        "outputId": "6dc3bee3-2239-4b58-dfaf-d6ff3b851e75"
      },
      "execution_count": 7,
      "outputs": [
        {
          "output_type": "stream",
          "name": "stdout",
          "text": [
            "Enter the Number - 123456789\n",
            "The Reverse of the number is 987654321\n"
          ]
        }
      ]
    },
    {
      "cell_type": "markdown",
      "source": [
        "### `Problem 8`: Take a user input as integer N. Find out the sum from 1 to N. If any number if divisible by 5, then skip that number. And if the sum is greater than 300, don't need to calculate the sum further more. Print the final result. And don't use for loop to solve this problem.\n",
        "\n",
        "**Example 1:**\n",
        "\n",
        "`Input:`\n",
        "\n",
        "```bash\n",
        "30\n",
        "```\n",
        "\n",
        "`Output:`\n",
        "\n",
        "```bash\n",
        "276\n",
        "```"
      ],
      "metadata": {
        "id": "-t8PJQaY3sHf"
      }
    },
    {
      "cell_type": "code",
      "source": [
        "# Write code here\n",
        "N = int(input(\"Enter the Number - \"))\n",
        "sum = 0\n",
        "i=1\n",
        "\n",
        "while i < N+1:\n",
        "  if i%5==0:\n",
        "    i+=1\n",
        "    continue\n",
        "\n",
        "  sum+=i\n",
        "\n",
        "  if sum>300:\n",
        "    sum = sum - i\n",
        "    break\n",
        "\n",
        "  i+=1\n",
        "print(sum)"
      ],
      "metadata": {
        "id": "GZB6mGMP3ujT",
        "colab": {
          "base_uri": "https://localhost:8080/"
        },
        "outputId": "ee46bd70-f651-4a73-a5c3-f4a772d6f359"
      },
      "execution_count": 8,
      "outputs": [
        {
          "output_type": "stream",
          "name": "stdout",
          "text": [
            "Enter the Number - 300\n",
            "276\n"
          ]
        }
      ]
    },
    {
      "cell_type": "markdown",
      "source": [
        "### `Problem 9`: Write a program that keeps on accepting a number from the user until the user enters Zero. Display the sum and average of all the numbers."
      ],
      "metadata": {
        "id": "Q7ggImeA3xm4"
      }
    },
    {
      "cell_type": "code",
      "source": [
        "# Write code here\n",
        "sum = 0\n",
        "count = 0\n",
        "while True:\n",
        "  num = int(input('Enter the Number - '))\n",
        "  if num ==0:\n",
        "    break\n",
        "  sum = sum + num\n",
        "\n",
        "  count = count+1\n",
        "print(\"SUM - \", sum, \"AVERAGE = \", sum/count)"
      ],
      "metadata": {
        "id": "t_YDSZDe4Kdo",
        "colab": {
          "base_uri": "https://localhost:8080/"
        },
        "outputId": "68625c07-02f0-4f74-fe6a-b0d5ba7aa233"
      },
      "execution_count": 9,
      "outputs": [
        {
          "output_type": "stream",
          "name": "stdout",
          "text": [
            "Enter the Number - 1\n",
            "Enter the Number - 2\n",
            "Enter the Number - 3\n",
            "Enter the Number - 9\n",
            "Enter the Number - 8\n",
            "Enter the Number - 7\n",
            "Enter the Number - 6\n",
            "Enter the Number - 5\n",
            "Enter the Number - 4\n",
            "Enter the Number - 0\n",
            "SUM -  45 AVERAGE =  5.0\n"
          ]
        }
      ]
    },
    {
      "cell_type": "markdown",
      "source": [
        "###`Problem 9`: Write a program which will find all such numbers which are divisible by 7 but are not a multiple of 5, between 2000 and 3200 (both included). The numbers obtained should be printed in a comma-separated sequence on a single line."
      ],
      "metadata": {
        "id": "6EhvEMvm4R7s"
      }
    },
    {
      "cell_type": "code",
      "source": [
        "# Write code here\n",
        "L=[]\n",
        "for i in range(2000,3201):\n",
        "  if i % 7 == 0 and i % 5 !=0:\n",
        "    L.append(str(i))\n",
        "\n",
        "print(\",\".join(L))"
      ],
      "metadata": {
        "id": "d6RgP1B34T6c",
        "colab": {
          "base_uri": "https://localhost:8080/"
        },
        "outputId": "f0c94b25-4926-4b82-f3a7-d099414cea61"
      },
      "execution_count": 10,
      "outputs": [
        {
          "output_type": "stream",
          "name": "stdout",
          "text": [
            "2002,2009,2016,2023,2037,2044,2051,2058,2072,2079,2086,2093,2107,2114,2121,2128,2142,2149,2156,2163,2177,2184,2191,2198,2212,2219,2226,2233,2247,2254,2261,2268,2282,2289,2296,2303,2317,2324,2331,2338,2352,2359,2366,2373,2387,2394,2401,2408,2422,2429,2436,2443,2457,2464,2471,2478,2492,2499,2506,2513,2527,2534,2541,2548,2562,2569,2576,2583,2597,2604,2611,2618,2632,2639,2646,2653,2667,2674,2681,2688,2702,2709,2716,2723,2737,2744,2751,2758,2772,2779,2786,2793,2807,2814,2821,2828,2842,2849,2856,2863,2877,2884,2891,2898,2912,2919,2926,2933,2947,2954,2961,2968,2982,2989,2996,3003,3017,3024,3031,3038,3052,3059,3066,3073,3087,3094,3101,3108,3122,3129,3136,3143,3157,3164,3171,3178,3192,3199\n"
          ]
        }
      ]
    },
    {
      "cell_type": "markdown",
      "source": [
        "###`Problem 10`: Write a program, which will find all such numbers between 1000 and 3000 (both included) such that each digit of the number is an even number. The numbers obtained should be printed in a space-separated sequence on a single line.\n",
        "\n"
      ],
      "metadata": {
        "id": "tYvmRR-G4Vp4"
      }
    },
    {
      "cell_type": "code",
      "source": [
        "# Write code here\n",
        "L = []\n",
        "\n",
        "for i in range(1000, 3001):\n",
        "  flag = True\n",
        "\n",
        "  curr = i\n",
        "\n",
        "  while curr>0:\n",
        "    last = curr % 10\n",
        "    if last % 2 != 0:\n",
        "      flag = False\n",
        "      break\n",
        "    curr = curr//10\n",
        "\n",
        "  if flag:\n",
        "      L.append(str(i))\n",
        "\n",
        "print(\",\".join(L))"
      ],
      "metadata": {
        "id": "k6Gs1kIf4k19",
        "colab": {
          "base_uri": "https://localhost:8080/"
        },
        "outputId": "8d916266-4f72-4d8b-ee41-e10bf9d7b24c"
      },
      "execution_count": 11,
      "outputs": [
        {
          "output_type": "stream",
          "name": "stdout",
          "text": [
            "2000,2002,2004,2006,2008,2020,2022,2024,2026,2028,2040,2042,2044,2046,2048,2060,2062,2064,2066,2068,2080,2082,2084,2086,2088,2200,2202,2204,2206,2208,2220,2222,2224,2226,2228,2240,2242,2244,2246,2248,2260,2262,2264,2266,2268,2280,2282,2284,2286,2288,2400,2402,2404,2406,2408,2420,2422,2424,2426,2428,2440,2442,2444,2446,2448,2460,2462,2464,2466,2468,2480,2482,2484,2486,2488,2600,2602,2604,2606,2608,2620,2622,2624,2626,2628,2640,2642,2644,2646,2648,2660,2662,2664,2666,2668,2680,2682,2684,2686,2688,2800,2802,2804,2806,2808,2820,2822,2824,2826,2828,2840,2842,2844,2846,2848,2860,2862,2864,2866,2868,2880,2882,2884,2886,2888\n"
          ]
        }
      ]
    },
    {
      "cell_type": "markdown",
      "source": [
        "###`Problem 11`: A robot moves in a plane starting from the original point (0,0). The robot can move toward UP, DOWN, LEFT and RIGHT with a given steps.\n",
        "The trace of robot movement is shown as the following:\n",
        "```\n",
        "UP 5\n",
        "DOWN 3\n",
        "LEFT 3\n",
        "RIGHT 2\n",
        "!\n",
        "```\n",
        "> The numbers after the direction are steps.\n",
        "\n",
        "> `!` means robot stop there.\n",
        "\n",
        "**Please write a program to compute the distance from current position after a sequence of movement and original point.**\n",
        "\n",
        "*If the distance is a float, then just print the nearest integer.*\n",
        "\n",
        "Example:\n",
        "\n",
        "`Input`:\n",
        "```\n",
        "UP 5\n",
        "DOWN 3\n",
        "LEFT 3\n",
        "RIGHT 2\n",
        "!\n",
        "```\n",
        "`Output`:\n",
        "```\n",
        "2\n",
        "```"
      ],
      "metadata": {
        "id": "GV18IINT4mf5"
      }
    },
    {
      "cell_type": "code",
      "source": [
        "# Write code here\n",
        "pos = [0,0]\n",
        "while True:\n",
        "  s = input(\"Enter the robot Path - \")\n",
        "  if s == \"!\":\n",
        "    break\n",
        "\n",
        "  dir = s.split()[0].lower()\n",
        "  steps = int(s.split()[1])\n",
        "\n",
        "  if dir == \"up\":\n",
        "    pos[1] = pos[1] + steps\n",
        "  elif dir == \"down\":\n",
        "    pos[1] = pos[1] - steps\n",
        "  if dir == \"right\":\n",
        "    pos[0] = pos[0] + steps\n",
        "  if dir == \"left\":\n",
        "    pos[0] = pos[0] - steps\n",
        "  else:\n",
        "    pass\n",
        "\n",
        "dist = (pos[0]**2 + pos[1]**2)**0.5\n",
        "print(f\"The robot moved {round(dist,2)} units from the original position\")"
      ],
      "metadata": {
        "id": "6UNMC2aR4w5x",
        "colab": {
          "base_uri": "https://localhost:8080/"
        },
        "outputId": "e11b1e06-09ce-4b53-ac25-be03223445ff"
      },
      "execution_count": 12,
      "outputs": [
        {
          "output_type": "stream",
          "name": "stdout",
          "text": [
            "Enter the robot Path - up 4\n",
            "Enter the robot Path - DOWN 6\n",
            "Enter the robot Path - Left 5\n",
            "Enter the robot Path - riGHT 7\n",
            "Enter the robot Path - uP 6\n",
            "Enter the robot Path - dOwn 8\n",
            "Enter the robot Path - rIGHt 8\n",
            "Enter the robot Path - !\n",
            "The robot moved 10.77 units from the original position\n"
          ]
        }
      ]
    },
    {
      "cell_type": "markdown",
      "source": [
        "###`Problem 12`:Write a program to print whether a given number is a prime number or not"
      ],
      "metadata": {
        "id": "3fsAIAhK5GYY"
      }
    },
    {
      "cell_type": "code",
      "source": [
        "# Write code here\n",
        "num = int(input(\"Enter the Number - \"))\n",
        "flag = True\n",
        "for i in range(2, num):\n",
        "  if num %i ==0:\n",
        "    flag =False\n",
        "    break\n",
        "\n",
        "if flag == True:\n",
        "  print(\"Its a Prime Number\")\n",
        "else:\n",
        "  print(\"Not a Prime Number\")"
      ],
      "metadata": {
        "id": "j6y91lxy5LZs",
        "colab": {
          "base_uri": "https://localhost:8080/"
        },
        "outputId": "758fefde-d199-45cd-e22f-6aad163b224f"
      },
      "execution_count": 13,
      "outputs": [
        {
          "output_type": "stream",
          "name": "stdout",
          "text": [
            "Enter the Number - 2\n",
            "Its a Prime Number\n"
          ]
        }
      ]
    },
    {
      "cell_type": "markdown",
      "source": [
        "###`Problem 13`:Print all the Armstrong numbers in a given range.\n",
        "Range will be provided by the user<br>\n",
        "Armstrong number is a number that is equal to the sum of cubes of its digits. For example 0, 1, 153, 370, 371 and 407 are the Armstrong numbers."
      ],
      "metadata": {
        "id": "asAbmbK-5NHv"
      }
    },
    {
      "cell_type": "code",
      "source": [
        "# Write code here\n",
        "# Get the range from the user\n",
        "start_range = int(input(\"Enter the start of the range: \"))\n",
        "end_range = int(input(\"Enter the end of the range: \"))\n",
        "\n",
        "Armstrong_num_list = []\n",
        "for num in range(start_range, end_range):\n",
        "  i = num\n",
        "  b=[]\n",
        "  while i>0:\n",
        "    b.append(i % 10)\n",
        "    i = i // 10\n",
        "\n",
        "  c = [j**3 for j in b]\n",
        "\n",
        "  sum_of_cubes = sum(c)\n",
        "\n",
        "  if sum_of_cubes  == num:\n",
        "    Armstrong_num_list.append(num)\n",
        "  else:\n",
        "    continue\n",
        "\n",
        "print(f\"Armstrong numbers in the range {start_range} to {end_range} : {Armstrong_num_list}\")"
      ],
      "metadata": {
        "id": "PZuI67pm5jCT",
        "colab": {
          "base_uri": "https://localhost:8080/"
        },
        "outputId": "c77e5d8b-f15b-46f3-c8e8-00fad1b6bbc4"
      },
      "execution_count": 1,
      "outputs": [
        {
          "output_type": "stream",
          "name": "stdout",
          "text": [
            "Enter the start of the range: 1\n",
            "Enter the end of the range: 500\n",
            "Armstrong numbers in the range 1 to 500 : [1, 153, 370, 371, 407]\n"
          ]
        }
      ]
    },
    {
      "cell_type": "markdown",
      "source": [
        "5###`Problem 14`:Calculate the angle between the hour hand and minute hand.\n",
        "\n",
        "Note: There can be two angles between hands; we need to print a minimum of two. Also, we need to print the floor of the final result angle. For example, if the final angle is 10.61, we need to print 10.\n",
        "\n",
        "Input:<br>\n",
        "H = 9 , M = 0<br>\n",
        "Output:<br>\n",
        "90<br>\n",
        "Explanation:<br>\n",
        "The minimum angle between hour and minute\n",
        "hand when the time is 9 is 90 degress."
      ],
      "metadata": {
        "id": "ClCQZMqT7gK0"
      }
    },
    {
      "cell_type": "code",
      "source": [
        "# Write code here\n",
        "# Get input from the user\n",
        "hour = int(input(\"Enter the hour (0-12): \"))\n",
        "minute = int(input(\"Enter the minute (0-59): \"))\n",
        "\n",
        "if hour < 0 or hour > 12 or minute < 0 or minute > 59:\n",
        "  print(\"Invalid input\")\n",
        "\n",
        "# Calculate angles\n",
        "minute_angle = 6 * minute\n",
        "# There are 360 degrees on a clock face, and the hour hand completes a full circle in 12 hours,\n",
        "# so each hour represents 30 degrees (360 degrees / 12 hours).\n",
        "\n",
        "hour_angle = 30 * hour + 0.5 * minute\n",
        "# The minute hand completes a full circle in 60 minutes,\n",
        "# so each minute represents 6 degrees (360 degrees / 60 minutes).\n",
        "\n",
        "# Calculate the absolute angle between hour and minute hands\n",
        "angle = abs(hour_angle - minute_angle)\n",
        "# The program calculates the angle made by the minute hand from the 12 o'clock position\n",
        "# and the angle made by the hour hand from the 12 o'clock position.\n",
        "# It then finds the absolute difference between these two angles.\n",
        "\n",
        "# Calculate the smaller angle (minimum of two possible angles)\n",
        "angle = int(min(angle, 360 - angle))\n",
        "# There are two possible angles between the hour and minute hands,\n",
        "# and we need the smaller of the two.\n",
        "\n",
        "print(f\"The minimum angle between hour and minute hands is: {angle} degrees\")"
      ],
      "metadata": {
        "id": "tNBTCZML7jy_",
        "colab": {
          "base_uri": "https://localhost:8080/"
        },
        "outputId": "2725e7fb-046b-44ba-c74f-e751b51af0f9"
      },
      "execution_count": 2,
      "outputs": [
        {
          "output_type": "stream",
          "name": "stdout",
          "text": [
            "Enter the hour (0-12): 9\n",
            "Enter the minute (0-59): 0\n",
            "The minimum angle between hour and minute hands is: 90 degrees\n"
          ]
        }
      ]
    },
    {
      "cell_type": "markdown",
      "source": [
        "###`Problem 15`:Given two rectangles, find if the given two rectangles overlap or not. A rectangle is denoted by providing the x and y coordinates of two points: the left top corner and the right bottom corner of the rectangle. Two rectangles sharing a side are considered overlapping. (L1 and R1 are the extreme points of the first rectangle and L2 and R2 are the extreme points of the second rectangle).\n",
        "\n",
        "Note: It may be assumed that the rectangles are parallel to the coordinate axis.\n",
        "\n",
        "<img src='https://www.geeksforgeeks.org/wp-content/uploads/rectanglesOverlap.png' width='300' height='200'>"
      ],
      "metadata": {
        "id": "GwacF9Co72Qc"
      }
    },
    {
      "cell_type": "code",
      "source": [
        "# Write code here\n",
        "# Get input for the coordinates of the rectangles\n",
        "L1 = tuple(map(int, input(\"Enter co-ord of the left top corner of the first rectangle (x y): \").split()))\n",
        "R1 = tuple(map(int, input(\"Enter co-ord of the right bottom corner of the first rectangle (x y): \").split()))\n",
        "L2 = tuple(map(int, input(\"Enter co-ord of the left top corner of the second rectangle (x y): \").split()))\n",
        "R2 = tuple(map(int, input(\"Enter co-ord of the right bottom corner of the second rectangle (x y): \").split()))\n",
        "\n",
        "# Check if one rectangle is to the left of the other\n",
        "if R1[0] < L2[0] or R2[0] < L1[0]:\n",
        "  print(\"Overlapping by Left Side\")\n",
        "\n",
        "# Check if one rectangle is above the other\n",
        "elif R1[1] > L2[1] or R2[1] > L1[1]:\n",
        "  print(\"Overlap one over another\")\n",
        "\n",
        "else:\n",
        "  print(\"Do Not Overlap\")"
      ],
      "metadata": {
        "id": "6rrw_lpH78Rs",
        "colab": {
          "base_uri": "https://localhost:8080/"
        },
        "outputId": "d5a7921f-bf24-45ea-d953-a68c22476ebd"
      },
      "execution_count": 3,
      "outputs": [
        {
          "output_type": "stream",
          "name": "stdout",
          "text": [
            "Enter co-ord of the left top corner of the first rectangle (x y): 1 2\n",
            "Enter co-ord of the right bottom corner of the first rectangle (x y): 2 4\n",
            "Enter co-ord of the left top corner of the second rectangle (x y): 1 2\n",
            "Enter co-ord of the right bottom corner of the second rectangle (x y): 2 4\n",
            "Overlap one over another\n"
          ]
        }
      ]
    },
    {
      "cell_type": "code",
      "source": [],
      "metadata": {
        "id": "z4KCTSjzTgdG"
      },
      "execution_count": null,
      "outputs": []
    }
  ]
}