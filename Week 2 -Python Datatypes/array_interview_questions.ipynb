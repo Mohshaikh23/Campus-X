{
  "nbformat": 4,
  "nbformat_minor": 0,
  "metadata": {
    "colab": {
      "provenance": []
    },
    "kernelspec": {
      "name": "python3",
      "display_name": "Python 3"
    },
    "language_info": {
      "name": "python"
    }
  },
  "cells": [
    {
      "cell_type": "markdown",
      "source": [
        "## Points to remember\n",
        "\n",
        "- Codes asked are relatively easier in comparison to SDE roles\n",
        "- Pythonic syntax is preferred in most companies\n",
        "- Focus is on optimized code\n",
        "- Start with the simplest solution and then improve\n",
        "- A lot of questions are repeated so mugging up the approaches help\n",
        "- Build intuition using Python Tutor"
      ],
      "metadata": {
        "id": "lymMOnZVdJ_B"
      }
    },
    {
      "cell_type": "code",
      "source": [
        "# 1. Find the kth largest/smallest item from a list\n",
        "\n",
        "L = [12,23,1,4,56,34,22,3]\n",
        "k=3\n",
        "\n",
        "L.sort(reverse=True)\n",
        "print(L[k-1])\n"
      ],
      "metadata": {
        "id": "ztJVsbJ-dK3x",
        "colab": {
          "base_uri": "https://localhost:8080/"
        },
        "outputId": "2d430565-96b9-408a-fa23-17c213c9d83a"
      },
      "execution_count": 1,
      "outputs": [
        {
          "output_type": "stream",
          "name": "stdout",
          "text": [
            "23\n"
          ]
        }
      ]
    },
    {
      "cell_type": "code",
      "source": [
        "# 2. Check if an array is sorted\n",
        "L = [1,2,3,4,5]\n",
        "\n",
        "flag = True\n",
        "\n",
        "for i in range(0,len(L)-1):\n",
        "  if L[i] > L[i+1]:\n",
        "    flag = False\n",
        "\n",
        "if flag:\n",
        "  print('sorted')\n",
        "else:\n",
        "  print('not sorted')\n"
      ],
      "metadata": {
        "id": "arS5n6xI3BY5",
        "colab": {
          "base_uri": "https://localhost:8080/"
        },
        "outputId": "be512b49-bd23-4b8b-c54c-eab9caa37e13"
      },
      "execution_count": 2,
      "outputs": [
        {
          "output_type": "stream",
          "name": "stdout",
          "text": [
            "sorted\n"
          ]
        }
      ]
    },
    {
      "cell_type": "code",
      "source": [
        "# 3. Find Min/Max in a given array\n",
        "\n",
        "L = [21,1,34,23,54,11,10]\n",
        "\n",
        "max_val = L[0]\n",
        "\n",
        "for i in L:\n",
        "  if i > max_val:\n",
        "    max_val = i\n",
        "\n",
        "print(max_val)"
      ],
      "metadata": {
        "id": "s4iDxzcy3Ht0",
        "colab": {
          "base_uri": "https://localhost:8080/"
        },
        "outputId": "ecc74183-f4cd-45f6-a889-501b093995f7"
      },
      "execution_count": 3,
      "outputs": [
        {
          "output_type": "stream",
          "name": "stdout",
          "text": [
            "54\n"
          ]
        }
      ]
    },
    {
      "cell_type": "code",
      "source": [
        "# 4. Find the first element to occur k times in an array\n",
        "\n",
        "L = [1,1,2,3,4,4,5,5]\n",
        "\n",
        "k = 2\n",
        "\n",
        "d = {}\n",
        "\n",
        "for i in L:\n",
        "  if i in d:\n",
        "    d[i] = d[i] + 1\n",
        "  else:\n",
        "    d[i] = 1\n",
        "\n",
        "for i in d:\n",
        "  if d[i] == k:\n",
        "    print(i)\n",
        "    break"
      ],
      "metadata": {
        "id": "2AsUw6fh3UmZ",
        "colab": {
          "base_uri": "https://localhost:8080/"
        },
        "outputId": "967427ce-0372-4702-d7db-8e809b30ab38"
      },
      "execution_count": 4,
      "outputs": [
        {
          "output_type": "stream",
          "name": "stdout",
          "text": [
            "1\n"
          ]
        }
      ]
    },
    {
      "cell_type": "code",
      "source": [
        "# 5. Find duplicates in an array\n",
        "L = [1,1,2,3,4,4,5,5]\n",
        "\n",
        "d = {}\n",
        "\n",
        "for i in L:\n",
        "  if i in d:\n",
        "    d[i] = d[i] + 1\n",
        "  else:\n",
        "    d[i] = 1\n",
        "\n",
        "for i in d:\n",
        "  if d[i] > 1:\n",
        "    print(i)\n",
        "\n",
        "\n"
      ],
      "metadata": {
        "id": "b7WwScW6SRHN",
        "colab": {
          "base_uri": "https://localhost:8080/"
        },
        "outputId": "51fed893-7721-4a46-f8b6-038d61cc0909"
      },
      "execution_count": 5,
      "outputs": [
        {
          "output_type": "stream",
          "name": "stdout",
          "text": [
            "1\n",
            "4\n",
            "5\n"
          ]
        }
      ]
    },
    {
      "cell_type": "code",
      "source": [
        "# 6. Rotate array to left d items\n",
        "\n",
        "L = [1,2,3,4,5]\n",
        "rotate = 2\n",
        "\n",
        "for i in range(rotate):\n",
        "  temp = L[0]\n",
        "  for j in range(0,len(L)-1):\n",
        "    L[j] = L[j+1]\n",
        "  L[len(L)-1] = temp\n",
        "\n",
        "print(L)"
      ],
      "metadata": {
        "id": "w7QY2t7M3rhI",
        "colab": {
          "base_uri": "https://localhost:8080/"
        },
        "outputId": "464c5dce-3020-4590-e77e-c2d90d454265"
      },
      "execution_count": 6,
      "outputs": [
        {
          "output_type": "stream",
          "name": "stdout",
          "text": [
            "[3, 4, 5, 1, 2]\n"
          ]
        }
      ]
    },
    {
      "cell_type": "code",
      "source": [
        "# 7. Find intersection of 2 sorted arrays\n",
        "\n",
        "a = [1,2,3,4,5,8]\n",
        "b = [3,6,7,8]\n",
        "\n",
        "for i in a:\n",
        "  if i in b:\n",
        "    print(i)"
      ],
      "metadata": {
        "id": "FEhak99y3wgo",
        "colab": {
          "base_uri": "https://localhost:8080/"
        },
        "outputId": "525125af-dbe8-4e02-f119-b6eb99c8c636"
      },
      "execution_count": 7,
      "outputs": [
        {
          "output_type": "stream",
          "name": "stdout",
          "text": [
            "3\n",
            "8\n"
          ]
        }
      ]
    },
    {
      "cell_type": "code",
      "source": [
        "a = [1,2,3,4,5,8]\n",
        "b = [3,6,7,8]\n",
        "\n",
        "i=j=0\n",
        "\n",
        "while i<len(a) and j<len(b):\n",
        "  if a[i] == b[j]:\n",
        "    print(a[i])\n",
        "    i+=1\n",
        "    j+=1\n",
        "  elif a[i] > b[j]:\n",
        "    j+=1\n",
        "  else:\n",
        "    i+=1"
      ],
      "metadata": {
        "colab": {
          "base_uri": "https://localhost:8080/"
        },
        "id": "0zCQuVT4-OHk",
        "outputId": "7a6986c4-1208-4041-b798-0808c8a2afd5"
      },
      "execution_count": 8,
      "outputs": [
        {
          "output_type": "stream",
          "name": "stdout",
          "text": [
            "3\n",
            "8\n"
          ]
        }
      ]
    },
    {
      "cell_type": "code",
      "source": [
        "# 8. Find continous subarray with a given sum(given non-negative numbers)\n",
        "# return the starting and ending index of the subarray\n",
        "# return 1st subarray in case of multiple\n",
        "\n",
        "L = [1,22,13,7,9,11,10]\n",
        "S = 16\n",
        "\n",
        "for i in range(0,len(L)):\n",
        "  subarray = []\n",
        "  for j in range(i,len(L)):\n",
        "    subarray.append(L[j])\n",
        "    if sum(subarray) == S:\n",
        "      print(subarray)\n"
      ],
      "metadata": {
        "id": "qamyLwBnZZxw",
        "colab": {
          "base_uri": "https://localhost:8080/"
        },
        "outputId": "f30190d9-1ac1-46b8-f2ce-d4a4eedb0d4a"
      },
      "execution_count": 9,
      "outputs": [
        {
          "output_type": "stream",
          "name": "stdout",
          "text": [
            "[7, 9]\n"
          ]
        }
      ]
    },
    {
      "cell_type": "code",
      "source": [
        "L = [1,22,13,7,9,11,10]\n",
        "\n",
        "S = 35\n",
        "\n",
        "d = {}\n",
        "curr_sum = 0\n",
        "\n",
        "for i in range(len(L)):\n",
        "  curr_sum = curr_sum + L[i]\n",
        "\n",
        "  if (curr_sum - S) in d:\n",
        "    print(d[curr_sum - S]+1,i)\n",
        "    break\n",
        "\n",
        "  d[curr_sum] = i\n",
        "\n",
        "\n",
        "\n"
      ],
      "metadata": {
        "colab": {
          "base_uri": "https://localhost:8080/"
        },
        "id": "ijwLqR6w6H0U",
        "outputId": "e4bd257c-c426-4186-931a-93d0c20f6090"
      },
      "execution_count": 10,
      "outputs": [
        {
          "output_type": "stream",
          "name": "stdout",
          "text": [
            "1 2\n"
          ]
        }
      ]
    },
    {
      "cell_type": "code",
      "source": [
        "# 9. Find element with left side smaller/right side greater in an array\n",
        "\n",
        "L = [3,1,2,5,8,7,9]\n",
        "\n",
        "for i in range(1,len(L)-1):\n",
        "  flag = True\n",
        "\n",
        "  for j in range(0,i):\n",
        "    if L[j] > L[i]:\n",
        "      flag = False\n",
        "\n",
        "  for k in range(i+1,len(L)):\n",
        "    if L[k] < L[i]:\n",
        "      flag = False\n",
        "\n",
        "  if flag:\n",
        "    print(L[i])\n",
        "\n"
      ],
      "metadata": {
        "id": "CVwCKt5U3yb8",
        "outputId": "9d6d589a-67cb-439a-f125-d1231642f348",
        "colab": {
          "base_uri": "https://localhost:8080/"
        }
      },
      "execution_count": 11,
      "outputs": [
        {
          "output_type": "stream",
          "name": "stdout",
          "text": [
            "5\n"
          ]
        }
      ]
    },
    {
      "cell_type": "code",
      "source": [
        "L = [3,1,2,5,8,7,9]\n",
        "\n",
        "for i in range(1,len(L)-1):\n",
        "  if max(L[:i]) < L[i] < min(L[i+1:]):\n",
        "    print(L[i])"
      ],
      "metadata": {
        "colab": {
          "base_uri": "https://localhost:8080/"
        },
        "id": "Mfsc-3kTxmNT",
        "outputId": "0da8aa6b-fd65-4917-82ba-a3d5dddc94a5"
      },
      "execution_count": 12,
      "outputs": [
        {
          "output_type": "stream",
          "name": "stdout",
          "text": [
            "5\n"
          ]
        }
      ]
    },
    {
      "cell_type": "code",
      "source": [
        "L = [3,1,2,5,8,7,9]\n",
        "\n",
        "max_arr = []\n",
        "min_arr = []\n",
        "\n",
        "max_val = L[0]\n",
        "min_val = L[-1]\n",
        "\n",
        "for i in L:\n",
        "  if i>max_val:\n",
        "    max_val = i\n",
        "  max_arr.append(max_val)\n",
        "\n",
        "for i in range(len(L)-1,-1,-1):\n",
        "  if L[i] < min_val:\n",
        "    min_val = L[i]\n",
        "\n",
        "  min_arr.insert(0,min_val)\n",
        "\n",
        "\n",
        "for i in range(1,len(L)-1):\n",
        "  if max_arr[i-1] < L[i] < min_arr[i+1]:\n",
        "    print(L[i])"
      ],
      "metadata": {
        "colab": {
          "base_uri": "https://localhost:8080/"
        },
        "id": "lTcOuVZ91AtQ",
        "outputId": "fdf066c2-bc7f-4fe6-df69-7e4bf0d1eb49"
      },
      "execution_count": 13,
      "outputs": [
        {
          "output_type": "stream",
          "name": "stdout",
          "text": [
            "5\n"
          ]
        }
      ]
    },
    {
      "cell_type": "code",
      "source": [
        "# 10. Maximum sum subarray\n",
        "L = [-2,4,7,-1,6,-11,14,3,-1,-6]\n",
        "\n",
        "d = {}\n",
        "\n",
        "for i in range(0,len(L)):\n",
        "  subarray = []\n",
        "  for j in range(i,len(L)):\n",
        "    subarray.append(L[j])\n",
        "    d[sum(subarray)] = subarray\n",
        "\n",
        "max_val = max(d.keys())\n",
        "\n",
        "for i in d:\n",
        "  if i == max_val:\n",
        "    print(d[i])"
      ],
      "metadata": {
        "id": "jnBIIWSf36ZW",
        "colab": {
          "base_uri": "https://localhost:8080/"
        },
        "outputId": "83ec20ac-d7b3-4300-8743-cc95a537439f"
      },
      "execution_count": 14,
      "outputs": [
        {
          "output_type": "stream",
          "name": "stdout",
          "text": [
            "[4, 7, -1, 6, -11, 14, 3, -1, -6]\n"
          ]
        }
      ]
    },
    {
      "cell_type": "code",
      "source": [
        "L = [-2,4,7,-1,6,-11,14,3,-1,-6]\n",
        "\n",
        "\n",
        "curr_sum = 0\n",
        "curr_seq = []\n",
        "best_sum = L[0]\n",
        "best_seq = []\n",
        "\n",
        "for i in L:\n",
        "  if i + curr_sum > i:\n",
        "    curr_sum = curr_sum + i\n",
        "    curr_seq.append(i)\n",
        "  else:\n",
        "    curr_sum = i\n",
        "    curr_seq.clear()\n",
        "    curr_seq.append(i)\n",
        "\n",
        "  if curr_sum > best_sum:\n",
        "    best_sum = curr_sum\n",
        "    best_seq = curr_seq\n",
        "\n",
        "print(best_sum,best_seq)\n",
        "\n",
        "\n"
      ],
      "metadata": {
        "colab": {
          "base_uri": "https://localhost:8080/"
        },
        "id": "znzMPw9xsRsk",
        "outputId": "b8fa9ebd-e06a-4f1f-8ab5-ab39bfd4f9b1"
      },
      "execution_count": 15,
      "outputs": [
        {
          "output_type": "stream",
          "name": "stdout",
          "text": [
            "22 [4, 7, -1, 6, -11, 14, 3, -1, -6]\n"
          ]
        }
      ]
    },
    {
      "cell_type": "code",
      "source": [],
      "metadata": {
        "id": "YAqi4jMGuK0V"
      },
      "execution_count": 15,
      "outputs": []
    },
    {
      "cell_type": "code",
      "source": [
        "# 11. Sort arrays with items 1 and 0"
      ],
      "metadata": {
        "id": "TEJ4_fAA38pT"
      },
      "execution_count": 16,
      "outputs": []
    },
    {
      "cell_type": "code",
      "source": [
        "# 12. Move all -ve numbers to the end"
      ],
      "metadata": {
        "id": "QwxCLiXs3-s9"
      },
      "execution_count": 17,
      "outputs": []
    },
    {
      "cell_type": "code",
      "source": [
        "# 13. Maximum Product Subarray"
      ],
      "metadata": {
        "id": "VWa9FDKr7Dyl"
      },
      "execution_count": 18,
      "outputs": []
    },
    {
      "cell_type": "code",
      "source": [
        "# 14. Find union of 2 arrays"
      ],
      "metadata": {
        "id": "czP57bDP7H04"
      },
      "execution_count": 19,
      "outputs": []
    },
    {
      "cell_type": "code",
      "source": [
        "# 15. Find Pythagorean triplets in an array"
      ],
      "metadata": {
        "id": "alYVlMK9ZKIy"
      },
      "execution_count": 20,
      "outputs": []
    }
  ]
}