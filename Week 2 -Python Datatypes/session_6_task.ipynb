{
  "nbformat": 4,
  "nbformat_minor": 0,
  "metadata": {
    "colab": {
      "provenance": []
    },
    "kernelspec": {
      "name": "python3",
      "display_name": "Python 3"
    },
    "language_info": {
      "name": "python"
    }
  },
  "cells": [
    {
      "cell_type": "markdown",
      "source": [
        "### **`Problem-1:`** Write a Python function that takes a list and returns a new list with unique elements of the first list.\n",
        "\n",
        "**Exercise 1:**\n",
        "\n",
        "Input:\n",
        "\n",
        "```bash\n",
        "[1,2,3,3,3,3,4,5]\n",
        "```\n",
        "\n",
        "Output:\n",
        "\n",
        "```bash\n",
        "[1, 2, 3, 4, 5]\n",
        "```"
      ],
      "metadata": {
        "id": "h6dDSW5XGZFi"
      }
    },
    {
      "cell_type": "code",
      "source": [
        "def unique(L):\n",
        "  \"\"\"\n",
        "  takes a list and returns a new list with unique elements of the first list.\n",
        "  \"\"\"\n",
        "  return list(set(L))\n",
        "\n",
        "L = [1,2,3,3,3,3,4,5]\n",
        "\n",
        "unique(L)"
      ],
      "metadata": {
        "id": "R5pq1C9LGe1y",
        "outputId": "f97ce5db-92a6-46dc-f1b5-bd768adc8276",
        "colab": {
          "base_uri": "https://localhost:8080/"
        }
      },
      "execution_count": 1,
      "outputs": [
        {
          "output_type": "execute_result",
          "data": {
            "text/plain": [
              "[1, 2, 3, 4, 5]"
            ]
          },
          "metadata": {},
          "execution_count": 1
        }
      ]
    },
    {
      "cell_type": "markdown",
      "source": [
        "### **`Problem-2:`** Write a Python function that accepts a hyphen-separated sequence of words as parameter and returns the words in a hyphen-separated sequence after sorting them alphabetically.\n",
        "\n",
        "**Example 1:**\n",
        "\n",
        "Input:\n",
        "```bash\n",
        "green-red-yellow-black-white\n",
        "```\n",
        "\n",
        "Output:\n",
        "```bash\n",
        "black-green-red-white-yellow\n",
        "```"
      ],
      "metadata": {
        "id": "UxQ_VoyJGwHj"
      }
    },
    {
      "cell_type": "code",
      "source": [
        "# Write code here\n",
        "def hyphen_separated(s):\n",
        "  L = s.split(\"-\")\n",
        "  L = sorted(L)\n",
        "  return \"-\".join(L)\n",
        "\n",
        "s = \"green-red-yellow-black-white\"\n",
        "\n",
        "print(hyphen_separated(s))"
      ],
      "metadata": {
        "id": "AAts2m5zGwiQ",
        "outputId": "26608b7d-57f5-493a-86f7-89256d9c089e",
        "colab": {
          "base_uri": "https://localhost:8080/"
        }
      },
      "execution_count": 3,
      "outputs": [
        {
          "output_type": "stream",
          "name": "stdout",
          "text": [
            "black-green-red-white-yellow\n"
          ]
        }
      ]
    },
    {
      "cell_type": "markdown",
      "source": [
        "### **`Problem 3:`** Write a Python function that accepts a string and calculate the number of upper case letters and lower case letters.\n",
        "\n",
        "```\n",
        "Sample String : 'CampusX is an Online Mentorship Program fOr EnginEering studentS.'\n",
        "Expected Output :\n",
        "No. of Upper case characters :  9\n",
        "No. of Lower case Characters :  47\n",
        "```"
      ],
      "metadata": {
        "id": "IRGH62S7Gx_n"
      }
    },
    {
      "cell_type": "code",
      "source": [
        "s = 'CampusX is an Online Mentorship Program fOr EnginEering studentS.'\n",
        "\n",
        "def lower_upper(s):\n",
        "  lower_count = 0\n",
        "  upper_count = 0\n",
        "\n",
        "  for i in s:\n",
        "    if i.islower():\n",
        "      lower_count += 1\n",
        "    elif i.isupper():\n",
        "      upper_count += 1\n",
        "    else:\n",
        "      pass\n",
        "\n",
        "  return lower_count,upper_count\n",
        "\n",
        "s = 'CampusX is an Online Mentorship Program fOr EnginEering studentS.'\n",
        "x,y = lower_upper(s)\n",
        "print('No. of Lower case characters:', x)\n",
        "print('No. of Upper case Characters:', y)"
      ],
      "metadata": {
        "id": "lYqARmOTCHk1",
        "outputId": "215096f3-b143-495c-d45c-c319bc038002",
        "colab": {
          "base_uri": "https://localhost:8080/"
        }
      },
      "execution_count": 7,
      "outputs": [
        {
          "output_type": "stream",
          "name": "stdout",
          "text": [
            "No. of Lower case characters: 47\n",
            "No. of Upper case Characters: 9\n"
          ]
        }
      ]
    },
    {
      "cell_type": "markdown",
      "source": [
        "### **`Problem 4:`** Write a Python program to print the even numbers from a given list.\n",
        "```\n",
        "Sample List : [1, 2, 3, 4, 5, 6, 7, 8, 9]\n",
        "Expected Result : [2, 4, 6, 8]\n",
        "```"
      ],
      "metadata": {
        "id": "V1BFFdYQG7Sn"
      }
    },
    {
      "cell_type": "code",
      "source": [
        "# Write code here\n",
        "def even(L):\n",
        "  Even_list = []\n",
        "  for i in L:\n",
        "    if i % 2 == 0:\n",
        "      Even_list.append(i)\n",
        "    else:\n",
        "      pass\n",
        "  return Even_list\n",
        "\n",
        "L = [1, 2, 3, 4, 5, 6, 7, 8, 9]\n",
        "\n",
        "print(\"Expected Result : {}\".format(even(L)))"
      ],
      "metadata": {
        "id": "VvAReLoDG_Z3",
        "outputId": "c907689f-cdd3-4374-803a-e25bd82860a5",
        "colab": {
          "base_uri": "https://localhost:8080/"
        }
      },
      "execution_count": 14,
      "outputs": [
        {
          "output_type": "stream",
          "name": "stdout",
          "text": [
            "Expected Result : [2, 4, 6, 8]\n"
          ]
        }
      ]
    },
    {
      "cell_type": "markdown",
      "source": [
        "### **`Problem 5:`** Write a Python function to check whether a number is perfect or not.\n",
        "\n",
        "A Perfect number is a number that is half the sum of all of its positive divisors (including itself).\n",
        "\n",
        "Example :\n",
        "\n",
        "```\n",
        "The first perfect number is 6, because 1, 2, and 3 are its proper positive divisors, and 1 + 2 + 3 = 6.\n",
        "Equivalently, the number 6 is equal to half the sum of all its positive divisors: ( 1 + 2 + 3 + 6 ) / 2 = 6.\n",
        "\n",
        "The next perfect number is 28 = 1 + 2 + 4 + 7 + 14. This is followed by the perfect numbers 496 and 8128.\n",
        "```\n"
      ],
      "metadata": {
        "id": "qrK39Gn-HHb4"
      }
    },
    {
      "cell_type": "code",
      "source": [
        "# Write code here\n",
        "def perfect_num(num):\n",
        "\n",
        "  sum = 0\n",
        "\n",
        "  for i in range(1,num):\n",
        "    if num % i == 0:\n",
        "      sum += i\n",
        "\n",
        "  return sum == num\n",
        "\n",
        "perfect_num(28)"
      ],
      "metadata": {
        "id": "P-OI7H78HICs",
        "outputId": "a3fe05aa-0665-45fa-de0b-061a44fbfea8",
        "colab": {
          "base_uri": "https://localhost:8080/"
        }
      },
      "execution_count": 16,
      "outputs": [
        {
          "output_type": "execute_result",
          "data": {
            "text/plain": [
              "True"
            ]
          },
          "metadata": {},
          "execution_count": 16
        }
      ]
    },
    {
      "cell_type": "markdown",
      "source": [
        "### **`Problem-6:`** Write a Python function to concatenate any no of dictionaries to create a new one.\n",
        "\n",
        "```\n",
        "Sample Dictionary :\n",
        "dic1={1:10, 2:20}\n",
        "dic2={3:30, 4:40}\n",
        "dic3={5:50,6:60}\n",
        "Expected Result : {1: 10, 2: 20, 3: 30, 4: 40, 5: 50, 6: 60}\n",
        "```"
      ],
      "metadata": {
        "id": "oZdpcG77HO-6"
      }
    },
    {
      "cell_type": "code",
      "source": [
        "# Write code here\n",
        "dic1={1:10, 2:20}\n",
        "dic2={3:30, 4:40}\n",
        "dic3={5:50,6:60}\n",
        "\n",
        "def Merge(*args):\n",
        "  result = {}\n",
        "  for i in args:\n",
        "    result = result|i\n",
        "  return result\n",
        "\n",
        "Merge(dic1,dic2,dic3)"
      ],
      "metadata": {
        "id": "LQgfAY4ZHPhj",
        "outputId": "d9e6bd7f-326f-4dc4-9006-c7f124cfe929",
        "colab": {
          "base_uri": "https://localhost:8080/"
        }
      },
      "execution_count": 28,
      "outputs": [
        {
          "output_type": "execute_result",
          "data": {
            "text/plain": [
              "{1: 10, 2: 20, 3: 30, 4: 40, 5: 50, 6: 60}"
            ]
          },
          "metadata": {},
          "execution_count": 28
        }
      ]
    },
    {
      "cell_type": "markdown",
      "source": [
        "`Problem-7` Write a python function that accepts a string as input and returns the word with most occurence.\n",
        "\n",
        "```\n",
        "Input:\n",
        "hello how are you i am fine thank you\n",
        "```\n",
        "\n",
        "```\n",
        "Output\n",
        "you -> 2\n",
        "```"
      ],
      "metadata": {
        "id": "jQ6SzbCkHRd0"
      }
    },
    {
      "cell_type": "code",
      "source": [
        "# Write code here\n",
        "def word_counter(s):\n",
        "  t = set(s.split())\n",
        "  d = {}\n",
        "  for i in t:\n",
        "    counter=0\n",
        "    for j in s.split():\n",
        "      if j==i:\n",
        "        counter+=1\n",
        "        d1 = {i: counter}\n",
        "        d.update(d1)\n",
        "\n",
        "  max_val = max(d.values())\n",
        "\n",
        "  for i in d:\n",
        "    if d[i] == max_val:\n",
        "      print(i,\" -> \",d[i])\n",
        "      break\n",
        "\n",
        "s = \"hello how are you i am fine thank you\"\n",
        "word_counter(s)"
      ],
      "metadata": {
        "id": "Lh04JHLzIW7Z",
        "outputId": "73399234-4afa-4acd-8dcb-75a6cde92fe8",
        "colab": {
          "base_uri": "https://localhost:8080/"
        }
      },
      "execution_count": 19,
      "outputs": [
        {
          "output_type": "stream",
          "name": "stdout",
          "text": [
            "you  ->  2\n"
          ]
        }
      ]
    },
    {
      "cell_type": "markdown",
      "source": [
        "`Problem-8` Write a python function that receives a list of integers and prints out a histogram of bin size 10\n",
        "\n",
        "```\n",
        "Input:\n",
        "[13,42,15,37,22,39,41,50]\n",
        "```\n",
        "\n",
        "```\n",
        "Output:\n",
        "{11-20:2,21-30:1,31-40:2,41-50:3}\n",
        "```"
      ],
      "metadata": {
        "id": "1r8SpVntI-IW"
      }
    },
    {
      "cell_type": "code",
      "source": [
        "# Write code here\n",
        "import math\n",
        "\n",
        "def histogram(L):\n",
        "\n",
        "  min_bin = math.floor(min(L)/10)*10\n",
        "  max_bin = math.ceil(max(L)/10)*10\n",
        "\n",
        "  d={}\n",
        "\n",
        "  for i in range(min_bin,max_bin,10):\n",
        "    count = 0\n",
        "    for j in L:\n",
        "      if i+1<=j<=i+10:\n",
        "        count+=1\n",
        "\n",
        "    d[str(i+1) + '-' + str(i+10)] = count\n",
        "\n",
        "  return d\n",
        "\n",
        "histogram([13,42,15,37,22,39,41,50])"
      ],
      "metadata": {
        "id": "7W0J8rUjJovg",
        "outputId": "af86ce06-33e2-4c96-c8b6-bd1fb886750f",
        "colab": {
          "base_uri": "https://localhost:8080/"
        }
      },
      "execution_count": 20,
      "outputs": [
        {
          "output_type": "execute_result",
          "data": {
            "text/plain": [
              "{'11-20': 2, '21-30': 1, '31-40': 2, '41-50': 3}"
            ]
          },
          "metadata": {},
          "execution_count": 20
        }
      ]
    },
    {
      "cell_type": "markdown",
      "source": [
        "`Problem-9` Write a python function that accepts a list of 2D co-ordinates and a query point, and then finds the the co-ordinate which is closest in terms of distance from the query point.\n",
        "\n",
        "```\n",
        "List of Coordinates\n",
        "[(1,1),(2,2),(3,3),(4,4)]\n",
        "Query Point\n",
        "(0,0)\n",
        "```\n",
        "\n",
        "```\n",
        "Output\n",
        "Nearest to (0,0) is (1,1)\n",
        "```"
      ],
      "metadata": {
        "id": "1P2-rbgXKE53"
      }
    },
    {
      "cell_type": "code",
      "source": [
        "# Write code here\n",
        "def shortest_dist(points,query):\n",
        "  temp = []\n",
        "  for i in points:\n",
        "    distance = ((i[0] - query[0])**2 + (i[1] - query[1])**2)**0.5\n",
        "    temp.append(distance)\n",
        "\n",
        "  return points[sorted(list(enumerate(temp)),key=lambda x:x[1])[0][0]]\n",
        "\n",
        "\n",
        "points = [(1,1),(2,2),(3,3),(4,4)]\n",
        "query = (0,0)\n",
        "\n",
        "shortest_dist(points,query)"
      ],
      "metadata": {
        "id": "zjn7vSTIJ81G",
        "outputId": "57177ae1-606c-4617-a29a-d54c2551e008",
        "colab": {
          "base_uri": "https://localhost:8080/"
        }
      },
      "execution_count": 22,
      "outputs": [
        {
          "output_type": "execute_result",
          "data": {
            "text/plain": [
              "(1, 1)"
            ]
          },
          "metadata": {},
          "execution_count": 22
        }
      ]
    },
    {
      "cell_type": "markdown",
      "source": [
        "`Problem-10`:Write a python program that receives a list of strings and performs bag of word operation on those strings\n",
        "\n",
        "https://en.wikipedia.org/wiki/Bag-of-words_model"
      ],
      "metadata": {
        "id": "i-B6igmyK9hB"
      }
    },
    {
      "cell_type": "code",
      "source": [
        "# Write code here\n",
        "\n",
        "def bow(L):\n",
        "\n",
        "  vocab = set()\n",
        "\n",
        "  for i in L:\n",
        "    vocab.update(i.split())\n",
        "\n",
        "  result = []\n",
        "\n",
        "  for i in L:\n",
        "    result.append([])\n",
        "    for j in vocab:\n",
        "      result[-1].append(i.count(j))\n",
        "\n",
        "  print(vocab)\n",
        "  return result\n",
        "\n",
        "\n",
        "L = [\n",
        "    'cat mat rat cat',\n",
        "     'sat bat fat cat rat',\n",
        "     'pat cat mat rat'\n",
        "]\n",
        "\n",
        "bow(L)"
      ],
      "metadata": {
        "id": "N2l1_AWULT-z",
        "outputId": "9cdcfee9-789e-4013-937e-7d962c1986de",
        "colab": {
          "base_uri": "https://localhost:8080/"
        }
      },
      "execution_count": 23,
      "outputs": [
        {
          "output_type": "stream",
          "name": "stdout",
          "text": [
            "{'pat', 'cat', 'rat', 'bat', 'sat', 'mat', 'fat'}\n"
          ]
        },
        {
          "output_type": "execute_result",
          "data": {
            "text/plain": [
              "[[0, 2, 1, 0, 0, 1, 0], [0, 1, 1, 1, 1, 0, 1], [1, 1, 1, 0, 0, 1, 0]]"
            ]
          },
          "metadata": {},
          "execution_count": 23
        }
      ]
    },
    {
      "cell_type": "markdown",
      "source": [
        "###`Problem 11:` Write a Python program to add three given lists using Python map and lambda."
      ],
      "metadata": {
        "id": "dHTRKb-DqMLw"
      }
    },
    {
      "cell_type": "code",
      "source": [
        "# Write code here\n",
        "L1 = [1,2,3]\n",
        "L2 = [4,5,6]\n",
        "L3 = [7,8,9]\n",
        "\n",
        "list(map(lambda x,y,z:x+y+z,L1,L2,L3))"
      ],
      "metadata": {
        "id": "NfJdzyNZqNW-",
        "outputId": "67aab1a2-42ba-4cce-e343-4d8a7a28472f",
        "colab": {
          "base_uri": "https://localhost:8080/"
        }
      },
      "execution_count": 28,
      "outputs": [
        {
          "output_type": "execute_result",
          "data": {
            "text/plain": [
              "[12, 15, 18]"
            ]
          },
          "metadata": {},
          "execution_count": 28
        }
      ]
    },
    {
      "cell_type": "markdown",
      "source": [
        "###`Problem-12:`Write a Python program to create a list containing the power of said number in bases raised to the corresponding number in the index using Python map.\n",
        "`Input:`\n",
        "```\n",
        "list1 = [1,2,3,4,5,6]\n",
        "```\n",
        "`Output:`\n",
        "```\n",
        "[1,2,9,64,625,-]\n",
        "```\n"
      ],
      "metadata": {
        "id": "MgHP7mbUqO8l"
      }
    },
    {
      "cell_type": "code",
      "source": [
        "# Write code here\n",
        "list1 = [1,2,3,4,5,6]\n",
        "list(map(lambda x,y:x**y,list1,range(len(list1))))"
      ],
      "metadata": {
        "id": "gG3Dc6N3qbvN",
        "outputId": "fd48fdcb-f620-400f-c784-954b7b71b5f3",
        "colab": {
          "base_uri": "https://localhost:8080/"
        }
      },
      "execution_count": 25,
      "outputs": [
        {
          "output_type": "execute_result",
          "data": {
            "text/plain": [
              "[1, 2, 9, 64, 625, 7776]"
            ]
          },
          "metadata": {},
          "execution_count": 25
        }
      ]
    },
    {
      "cell_type": "markdown",
      "source": [
        "###`Problem-13` Using filter() and list() functions and .lower() method filter all the vowels in a given string.\n",
        "\n"
      ],
      "metadata": {
        "id": "G26SYq6vqdLN"
      }
    },
    {
      "cell_type": "code",
      "source": [
        "# Write code here\n",
        "str1=\"FIFA world cup in 2022 will take place in Qatar\"\n",
        "\n",
        "list(filter(lambda x:True if x.lower() in 'aeiou' else False,str1))"
      ],
      "metadata": {
        "id": "zurga3DIqmEx",
        "outputId": "82e70330-6d50-4cf2-a75f-770cb1603803",
        "colab": {
          "base_uri": "https://localhost:8080/"
        }
      },
      "execution_count": 26,
      "outputs": [
        {
          "output_type": "execute_result",
          "data": {
            "text/plain": [
              "['I', 'A', 'o', 'u', 'i', 'i', 'a', 'e', 'a', 'e', 'i', 'a', 'a']"
            ]
          },
          "metadata": {},
          "execution_count": 26
        }
      ]
    },
    {
      "cell_type": "markdown",
      "source": [
        "`Problem-14`: Use reduce to convert a 2D list to 1D"
      ],
      "metadata": {
        "id": "uQrsunZSqoYu"
      }
    },
    {
      "cell_type": "code",
      "source": [
        "# Write code here\n",
        "ini_list = [[1, 2, 3],\n",
        "            [3, 6, 7],\n",
        "            [7, 5, 4]]\n",
        "\n",
        "import functools\n",
        "functools.reduce(lambda x,y:x+y,ini_list)"
      ],
      "metadata": {
        "id": "E1YUwnfgqnka",
        "outputId": "5974fef3-1b8f-485b-f540-83ad083b71d1",
        "colab": {
          "base_uri": "https://localhost:8080/"
        }
      },
      "execution_count": 27,
      "outputs": [
        {
          "output_type": "execute_result",
          "data": {
            "text/plain": [
              "[1, 2, 3, 3, 6, 7, 7, 5, 4]"
            ]
          },
          "metadata": {},
          "execution_count": 27
        }
      ]
    },
    {
      "cell_type": "markdown",
      "source": [
        "`Problem 15`- A dictionary contains following information about 5 employees:\n",
        "- First name\n",
        "- Last name\n",
        "- Age\n",
        "- Grade(Skilled,Semi-skilled,Highly skilled)<br>\n",
        "Write a program using map/filter/reduce to a list of employees(first name + last name) who are highly skilled"
      ],
      "metadata": {
        "id": "8-DLQEawt-_t"
      }
    },
    {
      "cell_type": "code",
      "source": [
        "# Write code here\n",
        "employees = [\n",
        "    {\n",
        "        'fname':'Nitish',\n",
        "        'lname':'Singh',\n",
        "        'age' : 33,\n",
        "        'grade':'skilled'\n",
        "    },\n",
        "    {\n",
        "        'fname':'Ankit',\n",
        "        'lname':'Verma',\n",
        "        'age' : 34,\n",
        "        'grade':'semi-skilled'\n",
        "    },\n",
        "    {\n",
        "        'fname':'Neha',\n",
        "        'lname':'Singh',\n",
        "        'age' : 35,\n",
        "        'grade':'highly-skilled'\n",
        "    },\n",
        "    {\n",
        "        'fname':'Anurag',\n",
        "        'lname':'Kumar',\n",
        "        'age' : 30,\n",
        "        'grade':'skilled'\n",
        "    },\n",
        "    {\n",
        "        'fname':'Abhinav',\n",
        "        'lname':'Sharma',\n",
        "        'age' : 37,\n",
        "        'grade':'highly-skilled'\n",
        "    }\n",
        "\n",
        "]"
      ],
      "metadata": {
        "id": "OLvptttLs6OU"
      },
      "execution_count": null,
      "outputs": []
    },
    {
      "cell_type": "code",
      "source": [
        "list(map(lambda x:x['fname'] + ' ' + x['lname'],list(filter(lambda x:True if x['grade'] == 'highly-skilled' else False,employees))))"
      ],
      "metadata": {
        "id": "vLX0FAQkui3y",
        "colab": {
          "base_uri": "https://localhost:8080/"
        },
        "outputId": "e7d50543-c30e-4a20-c793-756f5a435df7"
      },
      "execution_count": null,
      "outputs": [
        {
          "output_type": "execute_result",
          "data": {
            "text/plain": [
              "['Neha Singh', 'Abhinav Sharma']"
            ]
          },
          "metadata": {},
          "execution_count": 17
        }
      ]
    },
    {
      "cell_type": "code",
      "source": [],
      "metadata": {
        "id": "ldMjGfkgAMr9"
      },
      "execution_count": null,
      "outputs": []
    }
  ]
}