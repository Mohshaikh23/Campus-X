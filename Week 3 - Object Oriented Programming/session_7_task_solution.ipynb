{
  "nbformat": 4,
  "nbformat_minor": 0,
  "metadata": {
    "colab": {
      "provenance": []
    },
    "kernelspec": {
      "name": "python3",
      "display_name": "Python 3"
    },
    "language_info": {
      "name": "python"
    }
  },
  "cells": [
    {
      "cell_type": "markdown",
      "source": [
        "##`Q-1:` Rectangle Class\n",
        "1. Write a Rectangle class in Python language, allowing you to build a rectangle with length and width attributes.\n",
        "\n",
        "2. Create a Perimeter() method to calculate the perimeter of the rectangle and a Area() method to calculate the area of ​​the rectangle.\n",
        "\n",
        "3. Create a method display() that display the length, width, perimeter and area of an object created using an instantiation on rectangle class."
      ],
      "metadata": {
        "id": "FyUJ3PRAsPr4"
      }
    },
    {
      "cell_type": "markdown",
      "source": [
        "Eg.\n",
        "After making above classes and methods, on executing below code:-\n",
        "```\n",
        "my_rectangle = Rectangle(3 , 4)\n",
        "my_rectangle.display()\n",
        "```\n",
        "\n",
        "`Output:`\n",
        "```\n",
        "The length of rectangle is:  3\n",
        "The width of rectangle is:  4\n",
        "The perimeter of rectangle is:  14\n",
        "The area of rectangle is:  12\n",
        "```\n"
      ],
      "metadata": {
        "id": "GxUtOqJfssFK"
      }
    },
    {
      "cell_type": "code",
      "source": [
        "# write your code here\n",
        "class Rectangle():\n",
        "  def __init__(self, length, width):\n",
        "    self.length = length\n",
        "    self.width = width\n",
        "\n",
        "  def calculate_area(self):\n",
        "    self.area = self.length * self.width\n",
        "    return self.area\n",
        "\n",
        "  def calculate_perimeter(self):\n",
        "    self.perimeter = 2*(self.length + self.width)\n",
        "    return self.perimeter\n",
        "\n",
        "  def display(self):\n",
        "    area = self.calculate_area()\n",
        "    perimeter = self.calculate_perimeter()\n",
        "    print(\"The length of rectangle is : {}\".format(self.length))\n",
        "    print(\"The width of rectangle is : {}\".format(self.width))\n",
        "    print(\"The perimeter of rectangle is : {}\".format(area))\n",
        "    print(\"The area of rectangle is : {}\".format(perimeter))"
      ],
      "metadata": {
        "id": "92_QT-Uj6NBg"
      },
      "execution_count": 29,
      "outputs": []
    },
    {
      "cell_type": "code",
      "source": [
        "my_rectangle = Rectangle(3 , 4)\n",
        "my_rectangle.display()"
      ],
      "metadata": {
        "colab": {
          "base_uri": "https://localhost:8080/"
        },
        "id": "lTuK7x3TgtdZ",
        "outputId": "5dc52931-b5f0-4c8b-b1b8-6139af65b48f"
      },
      "execution_count": 30,
      "outputs": [
        {
          "output_type": "stream",
          "name": "stdout",
          "text": [
            "The length of rectangle is : 3\n",
            "The width of rectangle is : 4\n",
            "The perimeter of rectangle is : 12\n",
            "The area of rectangle is : 14\n"
          ]
        }
      ]
    },
    {
      "cell_type": "markdown",
      "source": [
        "##`Q-2: Bank Class`\n",
        "\n",
        "1. Create a Python class called `BankAccount` which represents a bank account, having as attributes: `accountNumber` (numeric type), `name` (name of the account owner as string type), `balance`.\n",
        "2. Create a constructor with parameters: `accountNumber, name, balance`.\n",
        "3. Create a `Deposit()` method which manages the deposit actions.\n",
        "4. Create a `Withdrawal()` method  which manages withdrawals actions.\n",
        "5. Create an `bankFees()` method to apply the bank fees with a percentage of 5% of the balance account.\n",
        "6. Create a `display()` method to display account details.\n",
        "Give the complete code for the  BankAccount class."
      ],
      "metadata": {
        "id": "r_GxrS0Vrdom"
      }
    },
    {
      "cell_type": "markdown",
      "source": [
        "Eg.\n",
        "After making above classes and methods, on executing below code:-\n",
        "```\n",
        "newAccount = BankAccount(2178514584, \"Mandy\" , 2800)\n",
        "\n",
        "newAccount.Withdrawal(700)\n",
        "\n",
        "newAccount.Deposit(1000)\n",
        "\n",
        "newAccount.display()\n",
        "```\n",
        "\n",
        "`Output:`\n",
        "```\n",
        "Account Number :  2178514584\n",
        "Account Name :  Mandy\n",
        "Account Balance :  3100 ₹\n",
        "```"
      ],
      "metadata": {
        "id": "qvVkOUJgvTV_"
      }
    },
    {
      "cell_type": "code",
      "source": [
        "# write your code here\n",
        "class BankAccount():\n",
        "  def __init__(self, accountnumber,name,amount):\n",
        "    self.accountnumber = accountnumber\n",
        "    self.name = name\n",
        "    self.amount = amount\n",
        "    self.bankfees = 0\n",
        "\n",
        "  def Deposit(self, deposit_amount):\n",
        "    self.amount = self.amount + deposit_amount\n",
        "    pass\n",
        "\n",
        "  def Withdrawal(self, withdrawal_amount):\n",
        "    self.amount = self.amount - withdrawal_amount\n",
        "    pass\n",
        "\n",
        "  def bankFees(self):\n",
        "    self.bankfees = self.amount*0.05\n",
        "    return self.bankfees\n",
        "\n",
        "  def display(self):\n",
        "    print(f'Account Number : {self.accountnumber}')\n",
        "    print(f'Account Name : {self.name}')\n",
        "    print(f'Account Balance : {self.amount} ₹')"
      ],
      "metadata": {
        "id": "fUQOmQyA6YDR"
      },
      "execution_count": 31,
      "outputs": []
    },
    {
      "cell_type": "code",
      "source": [
        "newAccount = BankAccount(2178514584, \"Mandy\" , 2800)\n",
        "\n",
        "newAccount.Withdrawal(700)\n",
        "\n",
        "newAccount.Deposit(1000)\n",
        "\n",
        "newAccount.display()"
      ],
      "metadata": {
        "colab": {
          "base_uri": "https://localhost:8080/"
        },
        "id": "T9v3rx9BrEj1",
        "outputId": "0bf55953-4d75-4bf8-e97a-fbf7453efb74"
      },
      "execution_count": 32,
      "outputs": [
        {
          "output_type": "stream",
          "name": "stdout",
          "text": [
            "Account Number : 2178514584\n",
            "Account Name : Mandy\n",
            "Account Balance : 3100 ₹\n"
          ]
        }
      ]
    },
    {
      "cell_type": "markdown",
      "source": [
        "##`Q-3:Computation class`\n",
        "\n",
        "1. Create a `Computation` class with a default constructor (without parameters) allowing to perform various calculations on integers numbers.\n",
        "2. Create a method called `Factorial()` which allows to calculate the factorial of an integer n. Integer n as parameter for this method\n",
        "\n",
        "3. Create a method called `naturalSum()` allowing to calculate the sum of the first n integers 1 + 2 + 3 + .. + n. Integer n as parameter for this method.\n",
        "\n",
        "4. Create a method called `testPrime()` in  the Calculation class to test the primality of a given integer n, n is Prime or Not? Integer n as parameter for this method.\n",
        "\n",
        "5. Create  a method called `testPrims()` allowing to test if two numbers are prime between them. Two integers are prime to one another if they have only `1` as their common divisor. Eg. 4 and 9 are prime to each other.\n",
        "\n",
        "5. Create a `tableMult()` method which creates and displays the multiplication table of a given integer. Then create an `allTablesMult()` method to display all the integer multiplication tables 1, 2, 3, ..., 9.\n",
        "\n",
        "6. Create a static `listDiv()` method that gets all the divisors of a given integer on new list called  Ldiv. Create another `listDivPrim()` method that gets all the prime divisors of a given integer."
      ],
      "metadata": {
        "id": "QovcQAZTrgGU"
      }
    },
    {
      "cell_type": "code",
      "source": [
        "# write your code here\n",
        "class Computation():\n",
        "  def __init__(self):\n",
        "    pass\n",
        "\n",
        "  def Factorial(self, n):\n",
        "    fact = 1\n",
        "    for i in range(n,0,-1):\n",
        "      fact = fact * i\n",
        "    return fact\n",
        "\n",
        "  def naturalsum(self,n):\n",
        "    sum = 0\n",
        "    for i in range(1,n+1):\n",
        "      sum += i\n",
        "    return sum\n",
        "\n",
        "  def testPrime(self,n):\n",
        "    prime=0\n",
        "    for i in range(1,n+1):\n",
        "      if (n % i == 0):\n",
        "        prime += 1\n",
        "\n",
        "    if (prime == 2):\n",
        "      return True\n",
        "    else:\n",
        "      return False\n",
        "\n",
        "\n",
        "  def testPrims(self, a, b):\n",
        "    div_com = 0\n",
        "    for i in range(1,a+1):\n",
        "      if (a % i == 0 and b % i ==0):\n",
        "        div_com += 1\n",
        "    if div_com == 1:\n",
        "      return f'{a} and {b} are co-prime numbers'\n",
        "    else:\n",
        "      return f'{a} and {b} are not co-prime numbers'\n",
        "\n",
        "  def tableMult(self, n):\n",
        "    for i in range(1,11):\n",
        "      print(n, \"x\", i, \" = \", i*n)\n",
        "\n",
        "  def allTables(self):\n",
        "    for nums in range(1,10):\n",
        "      print(f'Table of {nums}')\n",
        "      for i in range(1,11):\n",
        "        print(nums, \"x\", i, \" = \", i*nums)\n",
        "\n",
        "  def listDivisor(self, n):\n",
        "    lDiv = []\n",
        "    for i in range(1,n+1):\n",
        "      if (n % i ==0):\n",
        "        lDiv.append(i)\n",
        "    return lDiv\n",
        "\n",
        "  def listPrimeDivisor(self, n):\n",
        "    lDivPrim = []\n",
        "    for i in range(1,n+1):\n",
        "      if (n % i == 0 and self.testPrime(i)):\n",
        "        lDivPrim.append(i)\n",
        "    return lDivPrim\n",
        "\n",
        "obj = Computation()\n",
        "print(obj.listDivisor(30))\n",
        "print(obj.listPrimeDivisor(30))"
      ],
      "metadata": {
        "id": "YEkPH70l6Z-o",
        "colab": {
          "base_uri": "https://localhost:8080/"
        },
        "outputId": "c00b4440-f2ba-4012-a7e4-21d7e08f25d2"
      },
      "execution_count": 33,
      "outputs": [
        {
          "output_type": "stream",
          "name": "stdout",
          "text": [
            "[1, 2, 3, 5, 6, 10, 15, 30]\n",
            "[2, 3, 5]\n"
          ]
        }
      ]
    },
    {
      "cell_type": "markdown",
      "source": [
        "##`Q-4`: Build flashcard using class in Python.\n",
        "\n",
        "Build a flashcard using class in python. A flashcard is a card having information on both sides, which can be used as an aid in memoization. Flashcards usually have a question on one side and an answer on the other.\n",
        "\n",
        "**Example 1:**\n",
        "\n",
        "Approach:\n",
        "\n",
        "- Create a class named FlashCard.\n",
        "- Initialize dictionary fruits using __init__() method. Here you have to define fruit name as key and it's color as value. E.g., {\"Banana\": \"yellow\", \"Strawberries\": \"pink\"}\n",
        "- Now randomly choose a pair from fruits by using _random_ module and store the key in variable _fruit_ and _value_ in variable color.\n",
        "- Now prompt the user to answer the color of the randomly chosen fruit.\n",
        "- If correct print correct else print wrong.\n",
        "\n",
        "Output:\n",
        "```bash\n",
        "welcome to fruit quiz\n",
        "What is the color of Strawberries\n",
        "pink\n",
        "Correct answer\n",
        "Enter 0, if you want to play again: 0\n",
        "What is the color of watermelon\n",
        "green\n",
        "Correct answer\n",
        "Enter 0, if you want to play again: 1\n",
        "```"
      ],
      "metadata": {
        "id": "0yn23_oEriXa"
      }
    },
    {
      "cell_type": "code",
      "source": [
        "# write your code here\n",
        "import random\n",
        "class FlashCard():\n",
        "  def __init__(self):\n",
        "    self.fruits = {'apple':'red',\n",
        "                   'banana':'yellow',\n",
        "                   'watermelon':'green',\n",
        "                   'strawberry':'pink',\n",
        "                   'chickoo':'brown',\n",
        "                   'papaya': 'yellow'}\n",
        "\n",
        "  def quiz(self):\n",
        "    print(\"Welcome to the Fruit Quiz\")\n",
        "    while True:\n",
        "      fruit, color = random.choices(list(self.fruits.items()))[0]\n",
        "      print(f\"What is the color of {fruit}\")\n",
        "      user_answer = input()\n",
        "\n",
        "      if user_answer.lower() == color:\n",
        "        print('Correct Answer')\n",
        "      else:\n",
        "        print(\"Wrong Answer. Please try next time!\")\n",
        "\n",
        "      option = int(input(\"Enter 0 to play again or 1 to exit \"))\n",
        "\n",
        "      if option:\n",
        "        break\n",
        "\n",
        "\n",
        "fc = FlashCard()\n",
        "fc.quiz()"
      ],
      "metadata": {
        "id": "vCrUF6VU6l6w",
        "colab": {
          "base_uri": "https://localhost:8080/"
        },
        "outputId": "864ce80a-06ce-4b53-8265-a74b2e16d753"
      },
      "execution_count": 34,
      "outputs": [
        {
          "name": "stdout",
          "output_type": "stream",
          "text": [
            "Welcome to the Fruit Quiz\n",
            "What is the color of watermelon\n",
            "green\n",
            "Correct Answer\n",
            "Enter 0 to play again or 1 to exit 1\n"
          ]
        }
      ]
    },
    {
      "cell_type": "markdown",
      "source": [
        "## `Q-5:` Problem 5 based on OOP Python.\n",
        "\n",
        "TechWorld, a technology training center, wants to allocate courses for instructors. An instructor is identified by name, technology skills, experience and average feedback. An instructor is allocated a course, if he/she satisfies the below two conditions:\n",
        "- eligibility criteria:\n",
        "    - if experience is more than 3 years, average feedback should be 4.5 or more\n",
        "    - if experience is 3 years or less, average feedback should be 4 or more\n",
        "- he/she should posses the technology skill for the course\n",
        "\n",
        "Identify the class name and attributes to represent instructors. Write a Python program to implement the class chosen with its attributes and methods.\n",
        "\n",
        "**Note:**\n",
        "- Consider all instance variables to be private and methods to be public.\n",
        "- An instructor may have multiple technology skills, so consider instance variable, technology_skill to be a list.\n",
        "- *check_eligibility()*: Return true if eligibility criteria is satisfied by the instructor. Else, return false\n",
        "- *allocate_course(technology)*: Return true if the course which requires the given technology can be allocated to the instructor. Else, return false.\n",
        "\n",
        "Represent a few objects of the class, initialize instance variables using setter methods, invoke\n",
        "appropriate methods and test your program."
      ],
      "metadata": {
        "id": "GN2r0jbRewYr"
      }
    },
    {
      "cell_type": "code",
      "source": [
        "# write your code here\n",
        "class Instructor():\n",
        "\n",
        "  def __init__(self, name, technology, experience, feedback):\n",
        "    self.__name = name\n",
        "    self.__technology = technology\n",
        "    self.__experience = experience\n",
        "    self.__feedback = feedback\n",
        "\n",
        "  def check_eligibility(self):\n",
        "    if self.__experience > 3 and self.__feedback >= 4.5:\n",
        "      return True\n",
        "    elif self.__experience <= 3 and self.__feedback <=4 :\n",
        "      return True\n",
        "    else:\n",
        "      return False\n",
        "\n",
        "  def allocate_course(self, tech):\n",
        "    is_eligible = self.check_eligibility()\n",
        "\n",
        "    if is_eligible:\n",
        "      if tech in self.__technology:\n",
        "        return f'{self.__name} is eligible to instruct the {tech} course'\n",
        "      else:\n",
        "        return f'{self.__name} is not eligible to instruct the {tech} course'\n",
        "    else:\n",
        "      return f'{self.__name} is not eligible to instruct the {tech} course'"
      ],
      "metadata": {
        "id": "pdMFuVFnlvKL"
      },
      "execution_count": 35,
      "outputs": []
    },
    {
      "cell_type": "code",
      "source": [
        "ins = Instructor('Mohsin', ['Data Science', 'Web Development'],4.5,4.8)\n",
        "ins.allocate_course('Data Science')"
      ],
      "metadata": {
        "colab": {
          "base_uri": "https://localhost:8080/",
          "height": 36
        },
        "id": "voNZrVNtkQaO",
        "outputId": "dc6d0c10-9e9c-4fd7-b60b-04c25ac1552f"
      },
      "execution_count": 36,
      "outputs": [
        {
          "output_type": "execute_result",
          "data": {
            "text/plain": [
              "'Mohsin is eligible to instruct the Data Science course'"
            ],
            "application/vnd.google.colaboratory.intrinsic+json": {
              "type": "string"
            }
          },
          "metadata": {},
          "execution_count": 36
        }
      ]
    },
    {
      "cell_type": "code",
      "source": [],
      "metadata": {
        "id": "6H2boxsdkxYk"
      },
      "execution_count": 36,
      "outputs": []
    }
  ]
}