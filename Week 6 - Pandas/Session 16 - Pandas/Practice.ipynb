{
 "cells": [
  {
   "cell_type": "code",
   "execution_count": 1,
   "id": "a06be4bf-b70c-4712-8b7c-33b68f537f30",
   "metadata": {},
   "outputs": [],
   "source": [
    "import pandas as pd\n",
    "import numpy as np"
   ]
  },
  {
   "cell_type": "code",
   "execution_count": 2,
   "id": "d9185dc1-6416-40e4-ba31-dc383ee3b3c3",
   "metadata": {},
   "outputs": [
    {
     "data": {
      "text/plain": [
       "0       India\n",
       "1    Pakistan\n",
       "2       Nepal\n",
       "3         USA\n",
       "4    Srilanka\n",
       "dtype: object"
      ]
     },
     "execution_count": 2,
     "metadata": {},
     "output_type": "execute_result"
    }
   ],
   "source": [
    "country = [\"India\",\"Pakistan\",\"Nepal\",\"USA\",\"Srilanka\"]\n",
    "pd.Series(country)"
   ]
  },
  {
   "cell_type": "code",
   "execution_count": 3,
   "id": "b99da97e-2c49-4764-bced-2ed5eadde6a2",
   "metadata": {},
   "outputs": [
    {
     "data": {
      "text/plain": [
       "0    1\n",
       "1    2\n",
       "2    3\n",
       "3    4\n",
       "4    5\n",
       "dtype: int8"
      ]
     },
     "execution_count": 3,
     "metadata": {},
     "output_type": "execute_result"
    }
   ],
   "source": [
    "a= [1,2,3,4,5]\n",
    "pd.Series(a,index=None,dtype=np.int8)"
   ]
  },
  {
   "cell_type": "code",
   "execution_count": 4,
   "id": "26941f6e-db7b-43b0-8f10-9883ca3c3dcb",
   "metadata": {},
   "outputs": [
    {
     "data": {
      "text/plain": [
       "0     1\n",
       "1     2\n",
       "2     3\n",
       "3     4\n",
       "4     5\n",
       "5     6\n",
       "6     7\n",
       "7     8\n",
       "8     9\n",
       "9    10\n",
       "dtype: int64"
      ]
     },
     "execution_count": 4,
     "metadata": {},
     "output_type": "execute_result"
    }
   ],
   "source": [
    "b =(1,2,3,4,5,6,7,8,9,10)\n",
    "pd.Series(b)"
   ]
  },
  {
   "cell_type": "code",
   "execution_count": 5,
   "id": "2aec0241-2b3b-4cd9-affa-2207a32cb7c9",
   "metadata": {},
   "outputs": [
    {
     "data": {
      "text/plain": [
       "abhijeet    10\n",
       "Megha       40\n",
       "Ramesh      20\n",
       "Jane        33\n",
       "Vaibhav     28\n",
       "dtype: int64"
      ]
     },
     "execution_count": 5,
     "metadata": {},
     "output_type": "execute_result"
    }
   ],
   "source": [
    "marks = {\"abhijeet\":10,\n",
    "         \"Megha\":40,\n",
    "         \"Ramesh\":20,\n",
    "         \"Jane\":33,\n",
    "         \"Vaibhav\":28,\n",
    "        }\n",
    "marks = pd.Series(marks)\n",
    "marks"
   ]
  },
  {
   "cell_type": "code",
   "execution_count": 6,
   "id": "bfc7313b-13c5-4846-b60c-bac8623bde58",
   "metadata": {},
   "outputs": [
    {
     "data": {
      "text/plain": [
       "5"
      ]
     },
     "execution_count": 6,
     "metadata": {},
     "output_type": "execute_result"
    }
   ],
   "source": [
    " marks.size"
   ]
  },
  {
   "cell_type": "code",
   "execution_count": 7,
   "id": "2974ef27-d9e0-4768-8a32-963916d1f309",
   "metadata": {},
   "outputs": [
    {
     "data": {
      "text/plain": [
       "dtype('int64')"
      ]
     },
     "execution_count": 7,
     "metadata": {},
     "output_type": "execute_result"
    }
   ],
   "source": [
    "marks.dtype"
   ]
  },
  {
   "cell_type": "code",
   "execution_count": 8,
   "id": "07b285b3-86b1-494f-9b09-5d9e379dafa7",
   "metadata": {},
   "outputs": [],
   "source": [
    "marks.name"
   ]
  },
  {
   "cell_type": "code",
   "execution_count": 9,
   "id": "70e00e23-65b4-43a6-b510-0a7c5859920e",
   "metadata": {},
   "outputs": [
    {
     "data": {
      "text/plain": [
       "True"
      ]
     },
     "execution_count": 9,
     "metadata": {},
     "output_type": "execute_result"
    }
   ],
   "source": [
    "marks.is_unique"
   ]
  },
  {
   "cell_type": "code",
   "execution_count": 10,
   "id": "741e5866-2911-4659-80f1-d58ee08ac683",
   "metadata": {},
   "outputs": [
    {
     "data": {
      "text/plain": [
       "Index(['abhijeet', 'Megha', 'Ramesh', 'Jane', 'Vaibhav'], dtype='object')"
      ]
     },
     "execution_count": 10,
     "metadata": {},
     "output_type": "execute_result"
    }
   ],
   "source": [
    "marks.index"
   ]
  },
  {
   "cell_type": "code",
   "execution_count": 27,
   "id": "6fd70f30-5363-4b8a-bfeb-1df38eb759e9",
   "metadata": {},
   "outputs": [
    {
     "data": {
      "text/plain": [
       "0       48\n",
       "1       57\n",
       "2       40\n",
       "3       43\n",
       "4       44\n",
       "      ... \n",
       "360    231\n",
       "361    226\n",
       "362    155\n",
       "363    144\n",
       "364    172\n",
       "Name: Subscribers gained, Length: 365, dtype: int64"
      ]
     },
     "execution_count": 27,
     "metadata": {},
     "output_type": "execute_result"
    }
   ],
   "source": [
    "subs=pd.read_csv(\"subs.csv\").squeeze('columns')\n",
    "subs"
   ]
  },
  {
   "cell_type": "code",
   "execution_count": 18,
   "id": "28348892-6baa-41e7-b5f9-d60e0156d7b0",
   "metadata": {},
   "outputs": [
    {
     "data": {
      "text/plain": [
       "pandas.core.series.Series"
      ]
     },
     "execution_count": 18,
     "metadata": {},
     "output_type": "execute_result"
    }
   ],
   "source": [
    "type(a)"
   ]
  },
  {
   "cell_type": "code",
   "execution_count": 26,
   "id": "1d603710-cbab-4bc4-8e7c-f3aea0ef7175",
   "metadata": {},
   "outputs": [
    {
     "data": {
      "text/plain": [
       "match_no\n",
       "1       1\n",
       "2      23\n",
       "3      13\n",
       "4      12\n",
       "5       1\n",
       "       ..\n",
       "211     0\n",
       "212    20\n",
       "213    73\n",
       "214    25\n",
       "215     7\n",
       "Name: runs, Length: 215, dtype: int64"
      ]
     },
     "execution_count": 26,
     "metadata": {},
     "output_type": "execute_result"
    }
   ],
   "source": [
    "vk = pd.read_csv('kohli_ipl.csv',index_col=\"match_no\").squeeze('columns')\n",
    "vk"
   ]
  },
  {
   "cell_type": "code",
   "execution_count": 22,
   "id": "e92a6333-4fc7-40a2-8555-cd02a86e0ab4",
   "metadata": {},
   "outputs": [
    {
     "data": {
      "text/plain": [
       "pandas.core.series.Series"
      ]
     },
     "execution_count": 22,
     "metadata": {},
     "output_type": "execute_result"
    }
   ],
   "source": [
    "type(df)"
   ]
  },
  {
   "cell_type": "code",
   "execution_count": 25,
   "id": "30204f0c-4e41-4928-bc9f-1726595961b8",
   "metadata": {},
   "outputs": [
    {
     "data": {
      "text/plain": [
       "movie\n",
       "Uri: The Surgical Strike                   Vicky Kaushal\n",
       "Battalion 609                                Vicky Ahuja\n",
       "The Accidental Prime Minister (film)         Anupam Kher\n",
       "Why Cheat India                            Emraan Hashmi\n",
       "Evening Shadows                         Mona Ambegaonkar\n",
       "                                              ...       \n",
       "Hum Tumhare Hain Sanam                    Shah Rukh Khan\n",
       "Aankhen (2002 film)                     Amitabh Bachchan\n",
       "Saathiya (film)                             Vivek Oberoi\n",
       "Company (film)                                Ajay Devgn\n",
       "Awara Paagal Deewana                        Akshay Kumar\n",
       "Name: lead, Length: 1500, dtype: object"
      ]
     },
     "execution_count": 25,
     "metadata": {},
     "output_type": "execute_result"
    }
   ],
   "source": [
    "movies = pd.read_csv('bollywood.csv',index_col = \"movie\").squeeze('columns')\n",
    "movies"
   ]
  },
  {
   "cell_type": "code",
   "execution_count": 28,
   "id": "ffbc8ad9-4991-4f47-9666-79a768b6a498",
   "metadata": {},
   "outputs": [
    {
     "data": {
      "text/plain": [
       "a    [1, 2, 3]\n",
       "b    [4, 5, 6]\n",
       "c    [7, 8, 9]\n",
       "dtype: object"
      ]
     },
     "execution_count": 28,
     "metadata": {},
     "output_type": "execute_result"
    }
   ],
   "source": [
    "new_marks = {\"a\":[1,2,3],\n",
    "            \"b\":[4,5,6],\n",
    "            \"c\":[7,8,9]}\n",
    "pd.Series(new_marks)"
   ]
  },
  {
   "cell_type": "code",
   "execution_count": 31,
   "id": "c35cfd37-5f67-43c9-a7d2-e0dbac513b3e",
   "metadata": {},
   "outputs": [
    {
     "data": {
      "text/plain": [
       "movie\n",
       "Uri: The Surgical Strike                Vicky Kaushal\n",
       "Battalion 609                             Vicky Ahuja\n",
       "The Accidental Prime Minister (film)      Anupam Kher\n",
       "Name: lead, dtype: object"
      ]
     },
     "execution_count": 31,
     "metadata": {},
     "output_type": "execute_result"
    }
   ],
   "source": [
    "movies.head(3)"
   ]
  },
  {
   "cell_type": "code",
   "execution_count": 37,
   "id": "05a3f2eb-aa4a-4d94-be1d-0d0f92c7bdaa",
   "metadata": {},
   "outputs": [
    {
     "data": {
      "text/plain": [
       "movie\n",
       "Secret Superstar                     Zaira Wasim\n",
       "Kaagaz Ke Fools                     Vinay Pathak\n",
       "Children of War (2014 film)        Farooq Shaikh\n",
       "Chicken Curry Law               Natalia Janoszek\n",
       "Agneepath (2012 film)             Hrithik Roshan\n",
       "W (2014 film)                    Leeza Mangaldas\n",
       "Khamoshiyan                    Gurmeet Choudhary\n",
       "Border (1997 film)                   Sanjay Dutt\n",
       "Humko Deewana Kar Gaye              Akshay Kumar\n",
       "Dhoom                          Abhishek Bachchan\n",
       "Name: lead, dtype: object"
      ]
     },
     "execution_count": 37,
     "metadata": {},
     "output_type": "execute_result"
    }
   ],
   "source": [
    "movies.sample(10)"
   ]
  },
  {
   "cell_type": "code",
   "execution_count": 42,
   "id": "a567b5b1-353e-4c1c-b632-f8c45b71e4ab",
   "metadata": {},
   "outputs": [
    {
     "data": {
      "text/plain": [
       "lead\n",
       "Akshay Kumar        0.032000\n",
       "Amitabh Bachchan    0.030000\n",
       "Ajay Devgn          0.025333\n",
       "Salman Khan         0.020667\n",
       "Sanjay Dutt         0.017333\n",
       "                      ...   \n",
       "Diganth             0.000667\n",
       "Parveen Kaur        0.000667\n",
       "Seema Azmi          0.000667\n",
       "Akanksha Puri       0.000667\n",
       "Edwin Fernandes     0.000667\n",
       "Name: proportion, Length: 566, dtype: float64"
      ]
     },
     "execution_count": 42,
     "metadata": {},
     "output_type": "execute_result"
    }
   ],
   "source": [
    "movies.value_counts(normalize=True)"
   ]
  },
  {
   "cell_type": "code",
   "execution_count": 46,
   "id": "48bf8fc5-20c1-4e25-8986-b9ca21ca2132",
   "metadata": {},
   "outputs": [
    {
     "data": {
      "text/plain": [
       "(-0.114, 37.667]    143\n",
       "(37.667, 75.333]     59\n",
       "(75.333, 113.0]      13\n",
       "Name: count, dtype: int64"
      ]
     },
     "execution_count": 46,
     "metadata": {},
     "output_type": "execute_result"
    }
   ],
   "source": [
    "vk.value_counts(bins=3)"
   ]
  },
  {
   "cell_type": "code",
   "execution_count": 48,
   "id": "8ec3a789-41f9-481a-b948-6e421e0e8c7f",
   "metadata": {},
   "outputs": [
    {
     "data": {
      "text/plain": [
       "movie\n",
       "Zor Lagaa Ke...Haiya!            Meghan Jadhav\n",
       "Zokkomon                       Darsheel Safary\n",
       "Zindagi Tere Naam           Mithun Chakraborty\n",
       "Zindagi Na Milegi Dobara        Hrithik Roshan\n",
       "Zindagi 50-50                      Veena Malik\n",
       "                                   ...        \n",
       "2 States (2014 film)              Arjun Kapoor\n",
       "1971 (2007 film)                Manoj Bajpayee\n",
       "1920: The Evil Returns             Vicky Ahuja\n",
       "1920: London                     Sharman Joshi\n",
       "1920 (film)                   Rajniesh Duggall\n",
       "Name: lead, Length: 1500, dtype: object"
      ]
     },
     "execution_count": 48,
     "metadata": {},
     "output_type": "execute_result"
    }
   ],
   "source": [
    "movies.sort_index(ascending=False)"
   ]
  },
  {
   "cell_type": "code",
   "execution_count": 51,
   "id": "8e71893c-b6bc-4561-ac0b-092e85dee851",
   "metadata": {},
   "outputs": [
    {
     "data": {
      "text/plain": [
       "movie\n",
       "Uri: The Surgical Strike                False\n",
       "Battalion 609                           False\n",
       "The Accidental Prime Minister (film)    False\n",
       "Why Cheat India                         False\n",
       "Evening Shadows                         False\n",
       "                                        ...  \n",
       "Hum Tumhare Hain Sanam                  False\n",
       "Aankhen (2002 film)                     False\n",
       "Saathiya (film)                         False\n",
       "Company (film)                          False\n",
       "Awara Paagal Deewana                    False\n",
       "Name: lead, Length: 1500, dtype: bool"
      ]
     },
     "execution_count": 51,
     "metadata": {},
     "output_type": "execute_result"
    }
   ],
   "source": [
    "movies.isnull()"
   ]
  },
  {
   "cell_type": "code",
   "execution_count": 53,
   "id": "605518da-c419-429f-8501-ac9cebc1373c",
   "metadata": {},
   "outputs": [
    {
     "data": {
      "text/plain": [
       "6634"
      ]
     },
     "execution_count": 53,
     "metadata": {},
     "output_type": "execute_result"
    }
   ],
   "source": [
    "vk.sum()"
   ]
  },
  {
   "cell_type": "code",
   "execution_count": 54,
   "id": "de585aa9-bdf3-4ea4-a749-e1439ac2002e",
   "metadata": {},
   "outputs": [
    {
     "data": {
      "text/plain": [
       "30.855813953488372"
      ]
     },
     "execution_count": 54,
     "metadata": {},
     "output_type": "execute_result"
    }
   ],
   "source": [
    "vk.mean()"
   ]
  },
  {
   "cell_type": "code",
   "execution_count": 55,
   "id": "4740b511-318a-401f-89a7-0c7c632f962f",
   "metadata": {},
   "outputs": [
    {
     "data": {
      "text/plain": [
       "24.0"
      ]
     },
     "execution_count": 55,
     "metadata": {},
     "output_type": "execute_result"
    }
   ],
   "source": [
    "vk.median()"
   ]
  },
  {
   "cell_type": "code",
   "execution_count": 56,
   "id": "de80b19f-6a5d-4ba3-bc76-443129feaa15",
   "metadata": {},
   "outputs": [
    {
     "data": {
      "text/plain": [
       "0    0\n",
       "Name: runs, dtype: int64"
      ]
     },
     "execution_count": 56,
     "metadata": {},
     "output_type": "execute_result"
    }
   ],
   "source": [
    "vk.mode()"
   ]
  },
  {
   "cell_type": "code",
   "execution_count": 57,
   "id": "bfab4d99-8a5c-4052-b8fa-399d8ff9c323",
   "metadata": {},
   "outputs": [
    {
     "data": {
      "text/plain": [
       "0    Akshay Kumar\n",
       "Name: lead, dtype: object"
      ]
     },
     "execution_count": 57,
     "metadata": {},
     "output_type": "execute_result"
    }
   ],
   "source": [
    "movies.mode()"
   ]
  },
  {
   "cell_type": "code",
   "execution_count": 58,
   "id": "d184e266-8c7b-4c9d-b859-d8817f2071e1",
   "metadata": {},
   "outputs": [
    {
     "data": {
      "text/plain": [
       "count    215.000000\n",
       "mean      30.855814\n",
       "std       26.229801\n",
       "min        0.000000\n",
       "25%        9.000000\n",
       "50%       24.000000\n",
       "75%       48.000000\n",
       "max      113.000000\n",
       "Name: runs, dtype: float64"
      ]
     },
     "execution_count": 58,
     "metadata": {},
     "output_type": "execute_result"
    }
   ],
   "source": [
    "vk.describe()"
   ]
  },
  {
   "cell_type": "code",
   "execution_count": 60,
   "id": "586d941f-c201-4c23-9845-3496a62033bf",
   "metadata": {},
   "outputs": [
    {
     "data": {
      "text/plain": [
       "count    365.000000\n",
       "mean     135.643836\n",
       "std       62.675023\n",
       "min       33.000000\n",
       "25%       88.000000\n",
       "50%      123.000000\n",
       "75%      177.000000\n",
       "max      396.000000\n",
       "Name: Subscribers gained, dtype: float64"
      ]
     },
     "execution_count": 60,
     "metadata": {},
     "output_type": "execute_result"
    }
   ],
   "source": [
    "subs.describe()"
   ]
  },
  {
   "cell_type": "code",
   "execution_count": 62,
   "id": "353b555c-66ce-49da-b846-a70d5e6cb9fd",
   "metadata": {},
   "outputs": [
    {
     "data": {
      "text/plain": [
       "array([ 48,  57,  40,  43,  44,  46,  33,  40,  44,  74,  49,  56,  49,\n",
       "        42,  39,  44,  54,  51,  40,  37,  40,  45,  50,  56,  35,  49,\n",
       "        46,  88,  61,  42,  56,  50,  50,  49,  76, 123, 108, 110,  56,\n",
       "        62,  65,  66,  33,  66,  82, 126, 109,  88,  83, 108, 101, 128,\n",
       "       111,  96, 101,  99, 105,  72,  93,  76, 104,  70,  80,  99, 104,\n",
       "       136, 115, 123, 112, 145,  87,  84,  92,  80,  70,  70, 132, 123,\n",
       "        98,  96,  88,  86,  92,  92, 110, 120, 105,  72,  84,  90,  78,\n",
       "        81,  89,  89,  93,  86,  95,  83,  72,  87, 100,  72,  79,  67,\n",
       "        71,  90,  77, 100,  88,  65,  95,  78,  89,  96,  81, 105,  80,\n",
       "        66,  73,  68, 159,  90,  83,  76,  77,  66,  64,  85, 136, 135,\n",
       "        71,  79,  75,  72,  78, 109,  93,  84,  74,  87, 128, 105, 105,\n",
       "        82,  86, 100,  88, 104,  87, 119, 118,  97, 114, 117, 102, 101,\n",
       "        96,  90, 114, 118, 113, 123, 129, 140, 180, 225, 249, 265, 306,\n",
       "       261, 222, 170, 160, 114, 175, 170, 115, 152, 105, 105,  93, 110,\n",
       "       102, 136,  76, 105, 130, 146, 146, 105, 146, 150, 114, 113, 117,\n",
       "       108, 103, 108, 138, 124, 139, 117, 103, 108, 146, 131, 113, 108,\n",
       "       125,  91,  97,  98, 119, 115, 123, 119, 127, 135, 137, 156, 160,\n",
       "       122, 111, 131, 192, 224, 254, 214, 236, 261, 247, 207, 254, 301,\n",
       "       233, 168, 179, 154, 152, 153, 202, 185, 158, 173, 180, 184, 259,\n",
       "       196, 213, 210, 179, 182, 216, 183, 185, 159, 180, 160, 154, 147,\n",
       "       138, 157, 134, 184, 134, 132, 119, 153, 185, 138, 150, 134, 160,\n",
       "       170, 175, 228, 237, 276, 173, 290, 295, 245, 241, 267, 269, 211,\n",
       "       186, 206, 202, 176, 236, 222, 203, 190, 190, 170, 156, 172, 174,\n",
       "       157, 178, 189, 174, 157, 173, 162, 151, 115, 152, 150, 186, 156,\n",
       "       230, 186, 150, 153, 167, 183, 244, 158, 155, 167, 157, 196, 243,\n",
       "       227, 259, 183, 166, 154, 396, 312, 268, 229, 197, 188, 176, 221,\n",
       "       225, 221, 202, 171, 185, 184, 276, 258, 219, 212, 192, 164, 192,\n",
       "       220, 196, 197, 204, 149, 156, 177, 210, 209, 231, 226, 155, 144,\n",
       "       172], dtype=int64)"
      ]
     },
     "execution_count": 62,
     "metadata": {},
     "output_type": "execute_result"
    }
   ],
   "source": [
    "subs.values"
   ]
  },
  {
   "cell_type": "code",
   "execution_count": 72,
   "id": "5ca0f187-f42c-4ae8-a130-7e44b2312b22",
   "metadata": {},
   "outputs": [
    {
     "data": {
      "text/plain": [
       "0"
      ]
     },
     "execution_count": 72,
     "metadata": {},
     "output_type": "execute_result"
    }
   ],
   "source": [
    "subs.product()"
   ]
  },
  {
   "cell_type": "code",
   "execution_count": 65,
   "id": "2e6e7ee0-4e7a-4ca9-8ec9-f235d1206b67",
   "metadata": {},
   "outputs": [
    {
     "data": {
      "text/plain": [
       "33"
      ]
     },
     "execution_count": 65,
     "metadata": {},
     "output_type": "execute_result"
    }
   ],
   "source": [
    "subs.min()"
   ]
  },
  {
   "cell_type": "code",
   "execution_count": 73,
   "id": "501cf56b-780b-41cc-ae24-b9362d35e008",
   "metadata": {},
   "outputs": [
    {
     "data": {
      "text/plain": [
       "57"
      ]
     },
     "execution_count": 73,
     "metadata": {},
     "output_type": "execute_result"
    }
   ],
   "source": [
    "subs[1]"
   ]
  },
  {
   "cell_type": "code",
   "execution_count": 75,
   "id": "4985af87-55ed-41ca-8207-54528f2d11fd",
   "metadata": {},
   "outputs": [
    {
     "name": "stderr",
     "output_type": "stream",
     "text": [
      "C:\\Users\\mohsi\\AppData\\Local\\Temp\\ipykernel_19320\\2731571422.py:1: FutureWarning: Series.__getitem__ treating keys as positions is deprecated. In a future version, integer keys will always be treated as labels (consistent with DataFrame behavior). To access a value by position, use `ser.iloc[pos]`\n",
      "  movies[-1]\n"
     ]
    },
    {
     "data": {
      "text/plain": [
       "'Akshay Kumar'"
      ]
     },
     "execution_count": 75,
     "metadata": {},
     "output_type": "execute_result"
    }
   ],
   "source": [
    "movies[-1]"
   ]
  },
  {
   "cell_type": "code",
   "execution_count": 79,
   "id": "0a91e6be-cefd-4c6e-bbe6-90ec7da429e3",
   "metadata": {},
   "outputs": [
    {
     "data": {
      "text/plain": [
       "movie\n",
       "Hum Tumhare Hain Sanam      Shah Rukh Khan\n",
       "Aankhen (2002 film)       Amitabh Bachchan\n",
       "Saathiya (film)               Vivek Oberoi\n",
       "Company (film)                  Ajay Devgn\n",
       "Awara Paagal Deewana          Akshay Kumar\n",
       "Name: lead, dtype: object"
      ]
     },
     "execution_count": 79,
     "metadata": {},
     "output_type": "execute_result"
    }
   ],
   "source": [
    "movies[-5:]"
   ]
  },
  {
   "cell_type": "code",
   "execution_count": 85,
   "id": "64839228-02f1-4ffd-907e-a0d308b7c0e0",
   "metadata": {},
   "outputs": [
    {
     "data": {
      "text/plain": [
       "movie\n",
       "Uri: The Surgical Strike                   Vicky Kaushal\n",
       "The Accidental Prime Minister (film)         Anupam Kher\n",
       "Evening Shadows                         Mona Ambegaonkar\n",
       "Fraud Saiyaan                               Arshad Warsi\n",
       "Manikarnika: The Queen of Jhansi          Kangana Ranaut\n",
       "                                              ...       \n",
       "Raaz (2002 film)                              Dino Morea\n",
       "Waisa Bhi Hota Hai Part II                  Arshad Warsi\n",
       "Kaante                                  Amitabh Bachchan\n",
       "Aankhen (2002 film)                     Amitabh Bachchan\n",
       "Company (film)                                Ajay Devgn\n",
       "Name: lead, Length: 750, dtype: object"
      ]
     },
     "execution_count": 85,
     "metadata": {},
     "output_type": "execute_result"
    }
   ],
   "source": [
    "movies[::2]"
   ]
  },
  {
   "cell_type": "code",
   "execution_count": 86,
   "id": "e3af3d74-7d8c-4781-b2a5-65e1fcc095c2",
   "metadata": {},
   "outputs": [
    {
     "data": {
      "text/plain": [
       "match_no\n",
       "1     1\n",
       "3    13\n",
       "4    12\n",
       "5     1\n",
       "Name: runs, dtype: int64"
      ]
     },
     "execution_count": 86,
     "metadata": {},
     "output_type": "execute_result"
    }
   ],
   "source": [
    "vk[[1,3,4,5]]"
   ]
  },
  {
   "cell_type": "code",
   "execution_count": 88,
   "id": "0a3c76fa-37b4-4ff6-b83a-2db8593456f6",
   "metadata": {},
   "outputs": [
    {
     "data": {
      "text/plain": [
       "match_no\n",
       "1       1\n",
       "2      23\n",
       "3      13\n",
       "4      12\n",
       "5       1\n",
       "       ..\n",
       "211     0\n",
       "212    20\n",
       "213    73\n",
       "214    25\n",
       "215     7\n",
       "Name: runs, Length: 215, dtype: int64"
      ]
     },
     "execution_count": 88,
     "metadata": {},
     "output_type": "execute_result"
    }
   ],
   "source": [
    "vk"
   ]
  },
  {
   "cell_type": "code",
   "execution_count": 89,
   "id": "94a9b367-ac44-441f-b7cd-a822bd481830",
   "metadata": {},
   "outputs": [
    {
     "data": {
      "text/plain": [
       "match_no\n",
       "1      100\n",
       "2       23\n",
       "3       13\n",
       "4       12\n",
       "5        1\n",
       "      ... \n",
       "211      0\n",
       "212     20\n",
       "213     73\n",
       "214     25\n",
       "215      7\n",
       "Name: runs, Length: 215, dtype: int64"
      ]
     },
     "execution_count": 89,
     "metadata": {},
     "output_type": "execute_result"
    }
   ],
   "source": [
    "vk[1] =100\n",
    "vk"
   ]
  },
  {
   "cell_type": "code",
   "execution_count": 90,
   "id": "f62d64b2-bb9a-4ef1-a4e0-ba6537a78e62",
   "metadata": {},
   "outputs": [
    {
     "data": {
      "text/plain": [
       "match_no\n",
       "1      100\n",
       "2       23\n",
       "3       13\n",
       "4       12\n",
       "5        1\n",
       "      ... \n",
       "211      0\n",
       "212     20\n",
       "213     73\n",
       "214     25\n",
       "215      7\n",
       "Name: runs, Length: 215, dtype: int64"
      ]
     },
     "execution_count": 90,
     "metadata": {},
     "output_type": "execute_result"
    }
   ],
   "source": [
    "vk"
   ]
  },
  {
   "cell_type": "code",
   "execution_count": 91,
   "id": "1dfc8623-2e62-49aa-a644-d4f7f053c247",
   "metadata": {},
   "outputs": [
    {
     "data": {
      "text/plain": [
       "match_no\n",
       "1       4\n",
       "2       5\n",
       "3       6\n",
       "4      12\n",
       "5       1\n",
       "       ..\n",
       "211     0\n",
       "212    20\n",
       "213    73\n",
       "214    25\n",
       "215     7\n",
       "Name: runs, Length: 215, dtype: int64"
      ]
     },
     "execution_count": 91,
     "metadata": {},
     "output_type": "execute_result"
    }
   ],
   "source": [
    "vk[[1,2,3]]= [4,5,6]\n",
    "vk"
   ]
  },
  {
   "cell_type": "code",
   "execution_count": 92,
   "id": "36752ebb-e9c3-4c9a-88c4-3b2b363557cd",
   "metadata": {},
   "outputs": [
    {
     "data": {
      "text/plain": [
       "match_no\n",
       "1       4\n",
       "2       5\n",
       "3       6\n",
       "4      12\n",
       "5       1\n",
       "       ..\n",
       "211     0\n",
       "212    20\n",
       "213    73\n",
       "214    25\n",
       "215     7\n",
       "Name: runs, Length: 215, dtype: int64"
      ]
     },
     "execution_count": 92,
     "metadata": {},
     "output_type": "execute_result"
    }
   ],
   "source": [
    "vk.fillna(5)"
   ]
  },
  {
   "cell_type": "code",
   "execution_count": 95,
   "id": "bea644db-cd38-4b0f-899c-1cae2ba6a799",
   "metadata": {},
   "outputs": [
    {
     "data": {
      "text/plain": [
       "1500"
      ]
     },
     "execution_count": 95,
     "metadata": {},
     "output_type": "execute_result"
    }
   ],
   "source": [
    "len(movies)"
   ]
  },
  {
   "cell_type": "code",
   "execution_count": 97,
   "id": "c666a93f-3a6d-4b73-8934-3c465a256057",
   "metadata": {},
   "outputs": [
    {
     "data": {
      "text/plain": [
       "'Aadar Jain'"
      ]
     },
     "execution_count": 97,
     "metadata": {},
     "output_type": "execute_result"
    }
   ],
   "source": [
    "min(movies)"
   ]
  },
  {
   "cell_type": "code",
   "execution_count": 98,
   "id": "fb1e0d56-da1a-473a-b568-1e3ffa90969f",
   "metadata": {},
   "outputs": [
    {
     "data": {
      "text/plain": [
       "'Zulfi Sayed'"
      ]
     },
     "execution_count": 98,
     "metadata": {},
     "output_type": "execute_result"
    }
   ],
   "source": [
    "max(movies)"
   ]
  },
  {
   "cell_type": "code",
   "execution_count": 99,
   "id": "4e6c2791-c503-4305-b9bc-db551da1ac84",
   "metadata": {},
   "outputs": [
    {
     "data": {
      "text/plain": [
       "pandas.core.series.Series"
      ]
     },
     "execution_count": 99,
     "metadata": {},
     "output_type": "execute_result"
    }
   ],
   "source": [
    "type(movies)"
   ]
  },
  {
   "cell_type": "code",
   "execution_count": 100,
   "id": "44facefe-c4bf-4a73-b50c-8642c8d8bd4f",
   "metadata": {},
   "outputs": [
    {
     "data": {
      "text/plain": [
       "abhijeet    10\n",
       "Megha       40\n",
       "Ramesh      20\n",
       "Jane        33\n",
       "Vaibhav     28\n",
       "dtype: int64"
      ]
     },
     "execution_count": 100,
     "metadata": {},
     "output_type": "execute_result"
    }
   ],
   "source": [
    "marks"
   ]
  },
  {
   "cell_type": "code",
   "execution_count": 101,
   "id": "7e6bf7d1-a2f3-4f81-a60e-29994eadbccf",
   "metadata": {},
   "outputs": [
    {
     "data": {
      "text/plain": [
       "[10, 40, 20, 33, 28]"
      ]
     },
     "execution_count": 101,
     "metadata": {},
     "output_type": "execute_result"
    }
   ],
   "source": [
    "list(marks)"
   ]
  },
  {
   "cell_type": "code",
   "execution_count": 102,
   "id": "4a2ec59d-7520-451c-ae3d-58d30056e279",
   "metadata": {},
   "outputs": [
    {
     "data": {
      "text/plain": [
       "{'abhijeet': 10, 'Megha': 40, 'Ramesh': 20, 'Jane': 33, 'Vaibhav': 28}"
      ]
     },
     "execution_count": 102,
     "metadata": {},
     "output_type": "execute_result"
    }
   ],
   "source": [
    "dict(marks)"
   ]
  },
  {
   "cell_type": "code",
   "execution_count": 111,
   "id": "2f8c6353-a618-46fb-ae6e-4abf70f1d520",
   "metadata": {},
   "outputs": [
    {
     "name": "stdout",
     "output_type": "stream",
     "text": [
      "abhijeet\n",
      "Megha\n",
      "Ramesh\n",
      "Jane\n",
      "Vaibhav\n"
     ]
    }
   ],
   "source": [
    "for i in marks.index:\n",
    "    print(i)"
   ]
  },
  {
   "cell_type": "code",
   "execution_count": 112,
   "id": "c2ccc541-8fcd-4214-834a-175e85e5be04",
   "metadata": {},
   "outputs": [
    {
     "data": {
      "text/plain": [
       "abhijeet    110\n",
       "Megha       140\n",
       "Ramesh      120\n",
       "Jane        133\n",
       "Vaibhav     128\n",
       "dtype: int64"
      ]
     },
     "execution_count": 112,
     "metadata": {},
     "output_type": "execute_result"
    }
   ],
   "source": [
    "100+marks"
   ]
  },
  {
   "cell_type": "code",
   "execution_count": 120,
   "id": "155b6239-be27-41bc-8a13-329c1fa68086",
   "metadata": {},
   "outputs": [
    {
     "data": {
      "text/plain": [
       "True"
      ]
     },
     "execution_count": 120,
     "metadata": {},
     "output_type": "execute_result"
    }
   ],
   "source": [
    "20 in marks.values"
   ]
  },
  {
   "cell_type": "code",
   "execution_count": 122,
   "id": "e8b9c14b-e780-49a2-9bc5-60aa0b8a8384",
   "metadata": {},
   "outputs": [
    {
     "data": {
      "text/plain": [
       "True"
      ]
     },
     "execution_count": 122,
     "metadata": {},
     "output_type": "execute_result"
    }
   ],
   "source": [
    "\"abhijeet\" in marks"
   ]
  },
  {
   "cell_type": "code",
   "execution_count": 116,
   "id": "663605e4-a786-41dc-9b6f-0e536f21dfe7",
   "metadata": {},
   "outputs": [
    {
     "data": {
      "text/plain": [
       "Megha      40\n",
       "Ramesh     20\n",
       "Jane       33\n",
       "Vaibhav    28\n",
       "dtype: int64"
      ]
     },
     "execution_count": 116,
     "metadata": {},
     "output_type": "execute_result"
    }
   ],
   "source": [
    "marks[marks>=20]"
   ]
  },
  {
   "cell_type": "code",
   "execution_count": 125,
   "id": "11047ca0-6d41-4486-af5f-4a6a060f772f",
   "metadata": {},
   "outputs": [
    {
     "data": {
      "text/plain": [
       "50"
      ]
     },
     "execution_count": 125,
     "metadata": {},
     "output_type": "execute_result"
    }
   ],
   "source": [
    "vk[vk>=50].size"
   ]
  },
  {
   "cell_type": "code",
   "execution_count": 128,
   "id": "a525bea7-8bbb-4a6a-b3ff-4bcac68a0369",
   "metadata": {},
   "outputs": [
    {
     "data": {
      "text/plain": [
       "9"
      ]
     },
     "execution_count": 128,
     "metadata": {},
     "output_type": "execute_result"
    }
   ],
   "source": [
    "vk[vk==0].size"
   ]
  },
  {
   "cell_type": "code",
   "execution_count": 131,
   "id": "befb03dd-e5bc-406c-a5a7-4f3b2621bf3e",
   "metadata": {},
   "outputs": [
    {
     "data": {
      "text/plain": [
       "59"
      ]
     },
     "execution_count": 131,
     "metadata": {},
     "output_type": "execute_result"
    }
   ],
   "source": [
    "subs[subs>200].size"
   ]
  },
  {
   "cell_type": "code",
   "execution_count": 137,
   "id": "38445130-443a-455c-b9fa-b135619925b8",
   "metadata": {},
   "outputs": [
    {
     "data": {
      "text/plain": [
       "lead\n",
       "Akshay Kumar        48\n",
       "Amitabh Bachchan    45\n",
       "Ajay Devgn          38\n",
       "Salman Khan         31\n",
       "Sanjay Dutt         26\n",
       "Shah Rukh Khan      22\n",
       "Emraan Hashmi       21\n",
       "Name: count, dtype: int64"
      ]
     },
     "execution_count": 137,
     "metadata": {},
     "output_type": "execute_result"
    }
   ],
   "source": [
    "num_movies = movies.value_counts()\n",
    "num_movies[num_movies>20]"
   ]
  },
  {
   "cell_type": "code",
   "execution_count": 138,
   "id": "07917627-2d33-4460-bfd5-055d30d33543",
   "metadata": {},
   "outputs": [
    {
     "data": {
      "text/plain": [
       "<Axes: >"
      ]
     },
     "execution_count": 138,
     "metadata": {},
     "output_type": "execute_result"
    },
    {
     "data": {
      "image/png": "[encoded data removed]",
      "text/plain": [
       "<Figure size 640x480 with 1 Axes>"
      ]
     },
     "metadata": {},
     "output_type": "display_data"
    }
   ],
   "source": [
    "subs.plot()"
   ]
  },
  {
   "cell_type": "code",
   "execution_count": 144,
   "id": "0825f3a8-ede2-4cc3-9b38-2f3fb1d0ad9c",
   "metadata": {},
   "outputs": [
    {
     "data": {
      "text/plain": [
       "<Axes: xlabel='lead'>"
      ]
     },
     "execution_count": 144,
     "metadata": {},
     "output_type": "execute_result"
    },
    {
     "data": {
      "image/png": "[encoded data removed]",
      "text/plain": [
       "<Figure size 640x480 with 1 Axes>"
      ]
     },
     "metadata": {},
     "output_type": "display_data"
    }
   ],
   "source": [
    "movies.value_counts().head(20).plot(kind=\"bar\")"
   ]
  },
  {
   "cell_type": "code",
   "execution_count": 145,
   "id": "25cda047-b49e-454a-87de-b7304ae23b77",
   "metadata": {},
   "outputs": [],
   "source": [
    "import sys"
   ]
  },
  {
   "cell_type": "code",
   "execution_count": 147,
   "id": "4db79ea1-3c0f-4811-963d-4649fb70d1b6",
   "metadata": {},
   "outputs": [
    {
     "data": {
      "text/plain": [
       "11752"
      ]
     },
     "execution_count": 147,
     "metadata": {},
     "output_type": "execute_result"
    }
   ],
   "source": [
    "sys.getsizeof(vk)"
   ]
  },
  {
   "cell_type": "code",
   "execution_count": 149,
   "id": "89b3f13c-c5fa-4b59-acf7-d13e472c593c",
   "metadata": {},
   "outputs": [
    {
     "data": {
      "text/plain": [
       "match_no\n",
       "1       4\n",
       "2       5\n",
       "3       6\n",
       "4      12\n",
       "5       1\n",
       "       ..\n",
       "211     0\n",
       "212    20\n",
       "213    73\n",
       "214    25\n",
       "215     7\n",
       "Name: runs, Length: 215, dtype: int16"
      ]
     },
     "execution_count": 149,
     "metadata": {},
     "output_type": "execute_result"
    }
   ],
   "source": [
    "vk.astype('int16')"
   ]
  },
  {
   "cell_type": "code",
   "execution_count": 152,
   "id": "1b246c69-50e1-4728-a32d-2a2b35b9d01c",
   "metadata": {},
   "outputs": [
    {
     "data": {
      "text/plain": [
       "10247"
      ]
     },
     "execution_count": 152,
     "metadata": {},
     "output_type": "execute_result"
    }
   ],
   "source": [
    "sys.getsizeof(vk.astype('int8'))"
   ]
  },
  {
   "cell_type": "code",
   "execution_count": 153,
   "id": "be563a0c-bff7-40ac-8055-d8543d751820",
   "metadata": {},
   "outputs": [
    {
     "data": {
      "text/plain": [
       "10462"
      ]
     },
     "execution_count": 153,
     "metadata": {},
     "output_type": "execute_result"
    }
   ],
   "source": [
    "sys.getsizeof(vk.astype('int16'))"
   ]
  },
  {
   "cell_type": "code",
   "execution_count": 157,
   "id": "70c8c773-9351-4430-ba42-80427d5f01f5",
   "metadata": {},
   "outputs": [
    {
     "data": {
      "text/plain": [
       "47"
      ]
     },
     "execution_count": 157,
     "metadata": {},
     "output_type": "execute_result"
    }
   ],
   "source": [
    "vk[vk.between(50,100)].size"
   ]
  },
  {
   "cell_type": "code",
   "execution_count": 158,
   "id": "d668c3df-b39a-4dc0-8951-c1e783b5a095",
   "metadata": {},
   "outputs": [
    {
     "data": {
      "text/plain": [
       "47"
      ]
     },
     "execution_count": 158,
     "metadata": {},
     "output_type": "execute_result"
    }
   ],
   "source": [
    "len(vk[vk.between(50,100)])"
   ]
  },
  {
   "cell_type": "code",
   "execution_count": 159,
   "id": "610260f2-8f0a-40eb-aaa1-0f2152f7b30b",
   "metadata": {},
   "outputs": [],
   "source": [
    "new_vk = vk.copy()"
   ]
  },
  {
   "cell_type": "code",
   "execution_count": 160,
   "id": "11c5bef0-4af1-47c0-8875-2d7b70916130",
   "metadata": {},
   "outputs": [
    {
     "data": {
      "text/plain": [
       "match_no\n",
       "1       4\n",
       "2       5\n",
       "3       6\n",
       "4      12\n",
       "5       1\n",
       "       ..\n",
       "211     0\n",
       "212    20\n",
       "213    73\n",
       "214    25\n",
       "215     7\n",
       "Name: runs, Length: 215, dtype: int64"
      ]
     },
     "execution_count": 160,
     "metadata": {},
     "output_type": "execute_result"
    }
   ],
   "source": [
    "new_vk"
   ]
  },
  {
   "cell_type": "code",
   "execution_count": 161,
   "id": "f8e1e4d2-652c-4c07-bb12-42d943ad1d3c",
   "metadata": {},
   "outputs": [
    {
     "data": {
      "text/plain": [
       "match_no\n",
       "100    13\n",
       "100    13\n",
       "100    13\n",
       "100    13\n",
       "100    13\n",
       "       ..\n",
       "100    13\n",
       "100    13\n",
       "100    13\n",
       "100    13\n",
       "100    13\n",
       "Name: runs, Length: 215, dtype: int64"
      ]
     },
     "execution_count": 161,
     "metadata": {},
     "output_type": "execute_result"
    }
   ],
   "source": [
    "new_vk[new_vk.clip(100,200)]"
   ]
  },
  {
   "cell_type": "code",
   "execution_count": 165,
   "id": "78f09dc8-1fdb-49c4-9265-dc207276b525",
   "metadata": {},
   "outputs": [
    {
     "data": {
      "text/plain": [
       "match_no\n",
       "26      2\n",
       "37     37\n",
       "41     71\n",
       "49     15\n",
       "58     22\n",
       "       ..\n",
       "211     0\n",
       "212    20\n",
       "213    73\n",
       "214    25\n",
       "215     7\n",
       "Name: runs, Length: 78, dtype: int64"
      ]
     },
     "execution_count": 165,
     "metadata": {},
     "output_type": "execute_result"
    }
   ],
   "source": [
    "vk.drop_duplicates(keep='last')"
   ]
  },
  {
   "cell_type": "code",
   "execution_count": 164,
   "id": "c6f408cc-5ebd-4d96-a1e3-4b778e41cc73",
   "metadata": {},
   "outputs": [
    {
     "data": {
      "text/plain": [
       "match_no\n",
       "1       4\n",
       "2       5\n",
       "3       6\n",
       "4      12\n",
       "5       1\n",
       "       ..\n",
       "211     0\n",
       "212    20\n",
       "213    73\n",
       "214    25\n",
       "215     7\n",
       "Name: runs, Length: 215, dtype: int64"
      ]
     },
     "execution_count": 164,
     "metadata": {},
     "output_type": "execute_result"
    }
   ],
   "source": [
    "vk"
   ]
  },
  {
   "cell_type": "code",
   "execution_count": 171,
   "id": "fa67f62a-1b81-4de4-98d9-554d28d25a56",
   "metadata": {},
   "outputs": [
    {
     "data": {
      "text/plain": [
       "match_no\n",
       "13      3\n",
       "22     38\n",
       "23     19\n",
       "26      2\n",
       "27     16\n",
       "       ..\n",
       "211     0\n",
       "212    20\n",
       "213    73\n",
       "214    25\n",
       "215     7\n",
       "Name: runs, Length: 137, dtype: int64"
      ]
     },
     "execution_count": 171,
     "metadata": {},
     "output_type": "execute_result"
    }
   ],
   "source": [
    "vk[vk.duplicated()]"
   ]
  },
  {
   "cell_type": "code",
   "execution_count": 173,
   "id": "3dc5fdf6-ec08-4402-a3f0-11cba25b016a",
   "metadata": {},
   "outputs": [],
   "source": [
    "a = np.array([1,2,3,np.nan,5,6,np.nan,np.nan,9])\n",
    "a = pd.Series(a)"
   ]
  },
  {
   "cell_type": "code",
   "execution_count": 174,
   "id": "3d1e76a8-61cb-47d9-8071-91a6285a790f",
   "metadata": {},
   "outputs": [
    {
     "data": {
      "text/plain": [
       "0    1.0\n",
       "1    2.0\n",
       "2    3.0\n",
       "3    NaN\n",
       "4    5.0\n",
       "5    6.0\n",
       "6    NaN\n",
       "7    NaN\n",
       "8    9.0\n",
       "dtype: float64"
      ]
     },
     "execution_count": 174,
     "metadata": {},
     "output_type": "execute_result"
    }
   ],
   "source": [
    "a"
   ]
  },
  {
   "cell_type": "code",
   "execution_count": 176,
   "id": "84cdbeff-5a3c-43c1-ad48-093728c01cf3",
   "metadata": {},
   "outputs": [
    {
     "data": {
      "text/plain": [
       "3"
      ]
     },
     "execution_count": 176,
     "metadata": {},
     "output_type": "execute_result"
    }
   ],
   "source": [
    "a.isnull().sum()"
   ]
  },
  {
   "cell_type": "code",
   "execution_count": 177,
   "id": "0ebe619a-412b-479b-b3c1-c7a185236332",
   "metadata": {},
   "outputs": [
    {
     "data": {
      "text/plain": [
       "3   NaN\n",
       "6   NaN\n",
       "7   NaN\n",
       "dtype: float64"
      ]
     },
     "execution_count": 177,
     "metadata": {},
     "output_type": "execute_result"
    }
   ],
   "source": [
    "a[a.isnull()]"
   ]
  },
  {
   "cell_type": "code",
   "execution_count": 178,
   "id": "7f0fdc23-da9c-4533-be1c-46d516df330f",
   "metadata": {},
   "outputs": [
    {
     "data": {
      "text/plain": [
       "9"
      ]
     },
     "execution_count": 178,
     "metadata": {},
     "output_type": "execute_result"
    }
   ],
   "source": [
    "a.size"
   ]
  },
  {
   "cell_type": "code",
   "execution_count": 179,
   "id": "3d3df97d-3003-450d-8ccb-00519d60ce42",
   "metadata": {},
   "outputs": [
    {
     "data": {
      "text/plain": [
       "6"
      ]
     },
     "execution_count": 179,
     "metadata": {},
     "output_type": "execute_result"
    }
   ],
   "source": [
    "a.count()"
   ]
  },
  {
   "cell_type": "code",
   "execution_count": 180,
   "id": "99c4a2c0-00e2-4c61-8b1b-4438083d19d3",
   "metadata": {},
   "outputs": [
    {
     "data": {
      "text/plain": [
       "0    1.000000\n",
       "1    2.000000\n",
       "2    3.000000\n",
       "3    4.333333\n",
       "4    5.000000\n",
       "5    6.000000\n",
       "6    4.333333\n",
       "7    4.333333\n",
       "8    9.000000\n",
       "dtype: float64"
      ]
     },
     "execution_count": 180,
     "metadata": {},
     "output_type": "execute_result"
    }
   ],
   "source": [
    "a.fillna(a.mean())"
   ]
  },
  {
   "cell_type": "code",
   "execution_count": 181,
   "id": "c557faf3-1645-4ab4-935f-b6e7d78b87ea",
   "metadata": {},
   "outputs": [
    {
     "data": {
      "text/plain": [
       "0    1.0\n",
       "1    2.0\n",
       "2    3.0\n",
       "3    NaN\n",
       "4    5.0\n",
       "5    6.0\n",
       "6    NaN\n",
       "7    NaN\n",
       "8    9.0\n",
       "dtype: float64"
      ]
     },
     "execution_count": 181,
     "metadata": {},
     "output_type": "execute_result"
    }
   ],
   "source": [
    "a"
   ]
  },
  {
   "cell_type": "code",
   "execution_count": 185,
   "id": "8d9dfeab-3421-48d4-932e-ac80134d189c",
   "metadata": {},
   "outputs": [
    {
     "data": {
      "text/plain": [
       "18"
      ]
     },
     "execution_count": 185,
     "metadata": {},
     "output_type": "execute_result"
    }
   ],
   "source": [
    "vk[vk.isin([10,20,30,40,50,60,70,80,90,100])].size"
   ]
  },
  {
   "cell_type": "code",
   "execution_count": 186,
   "id": "b51bc967-2c04-4ef5-882b-9b626acfb183",
   "metadata": {},
   "outputs": [
    {
     "data": {
      "text/plain": [
       "movie\n",
       "Uri: The Surgical Strike                   Vicky Kaushal\n",
       "Battalion 609                                Vicky Ahuja\n",
       "The Accidental Prime Minister (film)         Anupam Kher\n",
       "Why Cheat India                            Emraan Hashmi\n",
       "Evening Shadows                         Mona Ambegaonkar\n",
       "                                              ...       \n",
       "Hum Tumhare Hain Sanam                    Shah Rukh Khan\n",
       "Aankhen (2002 film)                     Amitabh Bachchan\n",
       "Saathiya (film)                             Vivek Oberoi\n",
       "Company (film)                                Ajay Devgn\n",
       "Awara Paagal Deewana                        Akshay Kumar\n",
       "Name: lead, Length: 1500, dtype: object"
      ]
     },
     "execution_count": 186,
     "metadata": {},
     "output_type": "execute_result"
    }
   ],
   "source": [
    "movies"
   ]
  },
  {
   "cell_type": "code",
   "execution_count": 190,
   "id": "7979ea7b-4afd-4705-a3b2-499cf3e9daba",
   "metadata": {},
   "outputs": [
    {
     "data": {
      "text/plain": [
       "movie\n",
       "Uri: The Surgical Strike                  VICKY\n",
       "Battalion 609                             VICKY\n",
       "The Accidental Prime Minister (film)     ANUPAM\n",
       "Why Cheat India                          EMRAAN\n",
       "Evening Shadows                            MONA\n",
       "                                         ...   \n",
       "Hum Tumhare Hain Sanam                     SHAH\n",
       "Aankhen (2002 film)                     AMITABH\n",
       "Saathiya (film)                           VIVEK\n",
       "Company (film)                             AJAY\n",
       "Awara Paagal Deewana                     AKSHAY\n",
       "Name: lead, Length: 1500, dtype: object"
      ]
     },
     "execution_count": 190,
     "metadata": {},
     "output_type": "execute_result"
    }
   ],
   "source": [
    "movies.apply(lambda x: x.split()[0].upper())"
   ]
  },
  {
   "cell_type": "code",
   "execution_count": 191,
   "id": "b7b6b480-90d3-4633-82dd-0d15c72a0d6c",
   "metadata": {},
   "outputs": [
    {
     "data": {
      "text/plain": [
       "0       48\n",
       "1       57\n",
       "2       40\n",
       "3       43\n",
       "4       44\n",
       "      ... \n",
       "360    231\n",
       "361    226\n",
       "362    155\n",
       "363    144\n",
       "364    172\n",
       "Name: Subscribers gained, Length: 365, dtype: int64"
      ]
     },
     "execution_count": 191,
     "metadata": {},
     "output_type": "execute_result"
    }
   ],
   "source": [
    "subs"
   ]
  },
  {
   "cell_type": "code",
   "execution_count": 193,
   "id": "4af8c2e3-1891-41d4-b721-d15e825c0bb1",
   "metadata": {},
   "outputs": [
    {
     "data": {
      "text/plain": [
       "65     136\n",
       "69     145\n",
       "120    159\n",
       "128    136\n",
       "163    140\n",
       "      ... \n",
       "360    231\n",
       "361    226\n",
       "362    155\n",
       "363    144\n",
       "364    172\n",
       "Name: Subscribers gained, Length: 163, dtype: int64"
      ]
     },
     "execution_count": 193,
     "metadata": {},
     "output_type": "execute_result"
    }
   ],
   "source": [
    "subs[subs.apply(lambda x: x>subs.mean())]"
   ]
  },
  {
   "cell_type": "code",
   "execution_count": 195,
   "id": "27057aa2-24f7-4e0b-a964-369590f646a9",
   "metadata": {},
   "outputs": [
    {
     "data": {
      "text/plain": [
       "Subscribers gained\n",
       "bad day     202\n",
       "good day    163\n",
       "Name: count, dtype: int64"
      ]
     },
     "execution_count": 195,
     "metadata": {},
     "output_type": "execute_result"
    }
   ],
   "source": [
    "subs.apply(lambda x:'good day' if x> subs.mean() else 'bad day').value_counts()"
   ]
  },
  {
   "cell_type": "code",
   "execution_count": 196,
   "id": "2099e4ee-c04d-45f2-b689-4f4337775969",
   "metadata": {},
   "outputs": [
    {
     "data": {
      "text/plain": [
       "match_no\n",
       "1       4\n",
       "2       5\n",
       "3       6\n",
       "4      12\n",
       "5       1\n",
       "       ..\n",
       "211     0\n",
       "212    20\n",
       "213    73\n",
       "214    25\n",
       "215     7\n",
       "Name: runs, Length: 215, dtype: int64"
      ]
     },
     "execution_count": 196,
     "metadata": {},
     "output_type": "execute_result"
    }
   ],
   "source": [
    "vk"
   ]
  },
  {
   "cell_type": "code",
   "execution_count": 2,
   "id": "fe10e2c5-f224-459a-bf72-8d4b7413469a",
   "metadata": {},
   "outputs": [],
   "source": [
    "students= [\n",
    "    [100,90,10],\n",
    "    [90,70,7],\n",
    "    [120,100,14],\n",
    "    [80,50,2]\n",
    "]"
   ]
  },
  {
   "cell_type": "code",
   "execution_count": 3,
   "id": "e5897274-5b52-4936-b407-a3b5dec39627",
   "metadata": {},
   "outputs": [
    {
     "data": {
      "text/html": [
       "<div>\n",
       "<style scoped>\n",
       "    .dataframe tbody tr th:only-of-type {\n",
       "        vertical-align: middle;\n",
       "    }\n",
       "\n",
       "    .dataframe tbody tr th {\n",
       "        vertical-align: top;\n",
       "    }\n",
       "\n",
       "    .dataframe thead th {\n",
       "        text-align: right;\n",
       "    }\n",
       "</style>\n",
       "<table border=\"1\" class=\"dataframe\">\n",
       "  <thead>\n",
       "    <tr style=\"text-align: right;\">\n",
       "      <th></th>\n",
       "      <th>iq</th>\n",
       "      <th>marks</th>\n",
       "      <th>package</th>\n",
       "    </tr>\n",
       "  </thead>\n",
       "  <tbody>\n",
       "    <tr>\n",
       "      <th>0</th>\n",
       "      <td>100</td>\n",
       "      <td>90</td>\n",
       "      <td>10</td>\n",
       "    </tr>\n",
       "    <tr>\n",
       "      <th>1</th>\n",
       "      <td>90</td>\n",
       "      <td>70</td>\n",
       "      <td>7</td>\n",
       "    </tr>\n",
       "    <tr>\n",
       "      <th>2</th>\n",
       "      <td>120</td>\n",
       "      <td>100</td>\n",
       "      <td>14</td>\n",
       "    </tr>\n",
       "    <tr>\n",
       "      <th>3</th>\n",
       "      <td>80</td>\n",
       "      <td>50</td>\n",
       "      <td>2</td>\n",
       "    </tr>\n",
       "  </tbody>\n",
       "</table>\n",
       "</div>"
      ],
      "text/plain": [
       "    iq  marks  package\n",
       "0  100     90       10\n",
       "1   90     70        7\n",
       "2  120    100       14\n",
       "3   80     50        2"
      ]
     },
     "execution_count": 3,
     "metadata": {},
     "output_type": "execute_result"
    }
   ],
   "source": [
    "pd.DataFrame(students,columns=[\"iq\",\"marks\",\"package\"])"
   ]
  },
  {
   "cell_type": "code",
   "execution_count": 5,
   "id": "4fa3a2e9-7135-4eb8-8cd6-7f6275343955",
   "metadata": {},
   "outputs": [
    {
     "data": {
      "text/html": [
       "<div>\n",
       "<style scoped>\n",
       "    .dataframe tbody tr th:only-of-type {\n",
       "        vertical-align: middle;\n",
       "    }\n",
       "\n",
       "    .dataframe tbody tr th {\n",
       "        vertical-align: top;\n",
       "    }\n",
       "\n",
       "    .dataframe thead th {\n",
       "        text-align: right;\n",
       "    }\n",
       "</style>\n",
       "<table border=\"1\" class=\"dataframe\">\n",
       "  <thead>\n",
       "    <tr style=\"text-align: right;\">\n",
       "      <th></th>\n",
       "      <th>iq</th>\n",
       "      <th>marks</th>\n",
       "      <th>package</th>\n",
       "    </tr>\n",
       "  </thead>\n",
       "  <tbody>\n",
       "    <tr>\n",
       "      <th>0</th>\n",
       "      <td>100</td>\n",
       "      <td>90</td>\n",
       "      <td>10</td>\n",
       "    </tr>\n",
       "    <tr>\n",
       "      <th>1</th>\n",
       "      <td>120</td>\n",
       "      <td>60</td>\n",
       "      <td>8</td>\n",
       "    </tr>\n",
       "    <tr>\n",
       "      <th>2</th>\n",
       "      <td>90</td>\n",
       "      <td>95</td>\n",
       "      <td>6</td>\n",
       "    </tr>\n",
       "    <tr>\n",
       "      <th>3</th>\n",
       "      <td>80</td>\n",
       "      <td>80</td>\n",
       "      <td>9</td>\n",
       "    </tr>\n",
       "  </tbody>\n",
       "</table>\n",
       "</div>"
      ],
      "text/plain": [
       "    iq  marks  package\n",
       "0  100     90       10\n",
       "1  120     60        8\n",
       "2   90     95        6\n",
       "3   80     80        9"
      ]
     },
     "execution_count": 5,
     "metadata": {},
     "output_type": "execute_result"
    }
   ],
   "source": [
    "new_students= {\"iq\": [100,120,90,80],\n",
    "    \"marks\":[90,60,95,80],\n",
    "    \"package\": [10,8,6,9]\n",
    "}\n",
    "pd.DataFrame(new_students)"
   ]
  },
  {
   "cell_type": "code",
   "execution_count": null,
   "id": "f0879409-5b08-400d-897d-31c881fe723e",
   "metadata": {},
   "outputs": [],
   "source": [
    "pd.read_csv(\".c\")"
   ]
  },
  {
   "cell_type": "code",
   "execution_count": null,
   "id": "be7de7ac-f293-48d3-b368-ce554371ad60",
   "metadata": {},
   "outputs": [],
   "source": []
  },
  {
   "cell_type": "code",
   "execution_count": null,
   "id": "2f812e4e-8e26-4a1e-bdc1-800825ab036e",
   "metadata": {},
   "outputs": [],
   "source": []
  },
  {
   "cell_type": "code",
   "execution_count": null,
   "id": "5aaf7c47-faef-4b00-92b4-ce8fbf419215",
   "metadata": {},
   "outputs": [],
   "source": []
  },
  {
   "cell_type": "code",
   "execution_count": null,
   "id": "4b806637-dad8-4d20-8005-c20a9672d9e5",
   "metadata": {},
   "outputs": [],
   "source": []
  },
  {
   "cell_type": "code",
   "execution_count": null,
   "id": "8020b71c-1863-4db6-b66e-a81ea904f8a1",
   "metadata": {},
   "outputs": [],
   "source": []
  },
  {
   "cell_type": "code",
   "execution_count": null,
   "id": "fea2d854-daf4-4ce0-901b-95e68c0c54d7",
   "metadata": {},
   "outputs": [],
   "source": []
  }
 ],
 "metadata": {
  "kernelspec": {
   "display_name": "Python 3 (ipykernel)",
   "language": "python",
   "name": "python3"
  },
  "language_info": {
   "codemirror_mode": {
    "name": "ipython",
    "version": 3
   },
   "file_extension": ".py",
   "mimetype": "text/x-python",
   "name": "python",
   "nbconvert_exporter": "python",
   "pygments_lexer": "ipython3",
   "version": "3.10.11"
  },
  "widgets": {
   "application/vnd.jupyter.widget-state+json": {
    "state": {},
    "version_major": 2,
    "version_minor": 0
   }
  }
 },
 "nbformat": 4,
 "nbformat_minor": 5
}
